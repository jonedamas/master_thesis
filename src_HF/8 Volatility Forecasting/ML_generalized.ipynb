{
 "cells": [
  {
   "cell_type": "code",
   "execution_count": null,
   "metadata": {},
   "outputs": [],
   "source": [
    "import numpy as np\n",
    "import pandas as pd\n",
    "import yaml\n",
    "import matplotlib.pyplot as plt\n",
    "from sklearn.metrics import mean_squared_error, mean_absolute_error\n",
    "from tensorflow.keras.callbacks import EarlyStopping\n",
    "import os\n",
    "import sys\n",
    "from dotenv import load_dotenv\n",
    "\n",
    "load_dotenv()\n",
    "REPO_PATH = os.getenv(\"REPO_PATH\")\n",
    "sys.path.insert(0, rf'{REPO_PATH}src_HF')\n",
    "\n",
    "from utils.forecast_utils import load_prepared_data, preprocess_data, optimize_hyperparameters, build_rnn_model"
   ]
  },
  {
   "cell_type": "markdown",
   "metadata": {},
   "source": [
    "### Import data"
   ]
  },
  {
   "cell_type": "code",
   "execution_count": null,
   "metadata": {},
   "outputs": [],
   "source": [
    "# Specify data\n",
    "future = 'CLc1'\n",
    "topic = 'CEN'\n",
    "\n",
    "# Load data\n",
    "df = load_prepared_data(future, topic)\n",
    "\n",
    "display(df)"
   ]
  },
  {
   "cell_type": "code",
   "execution_count": null,
   "metadata": {},
   "outputs": [],
   "source": [
    "# load yaml file\n",
    "with open('variable_config.yaml') as file:\n",
    "    config = yaml.load(file, Loader=yaml.FullLoader)\n",
    "\n",
    "# Define feature list and target\n",
    "feature_columns = list()\n",
    "\n",
    "feature_columns += config['BASE']\n",
    "feature_columns += config['SENTIMENT']\n",
    "feature_columns += config['TEMPORAL']\n",
    "\n",
    "print(feature_columns)\n",
    "\n",
    "target_column = 'TARGET'\n",
    "\n",
    "# Define window size\n",
    "window_size = 30\n",
    "\n",
    "# Scaling and splitting into test and train data sets. Default train size = 80%\n",
    "train_generator, test_generator = preprocess_data(df, feature_columns, target_column, window_size)\n"
   ]
  },
  {
   "cell_type": "markdown",
   "metadata": {},
   "source": [
    "### Hyperparameter tuning"
   ]
  },
  {
   "cell_type": "code",
   "execution_count": null,
   "metadata": {},
   "outputs": [],
   "source": [
    "# Specify RNN model. Alternatives: BiLSTM, GRU or BiGRU\n",
    "rnn_type='LSTM'\n",
    "\n",
    "trial_params = {\n",
    "        'units_first_layer': [16, 32, 64, 128],\n",
    "        'units_second_layer': [16, 32, 64, 96],\n",
    "        'dropout_rate_first': [0.1, 0.5],\n",
    "        'dropout_rate_second': [0.1, 0.5],\n",
    "        'l2_strength': [1e-5, 1e-3],\n",
    "        'learning_rate': [1e-5, 1e-2],\n",
    "        'batch_size': [16, 32, 64],\n",
    "        'noise_std': [0.01, 0.1]\n",
    "}\n",
    "\n",
    "# Find the best hyperparameters using Optuna\n",
    "best_params = optimize_hyperparameters(\n",
    "    train_generator,\n",
    "    test_generator,\n",
    "    trial_params,\n",
    "    feature_columns, \n",
    "    rnn_type, \n",
    "    window_size, \n",
    "    n_trials=50, \n",
    "    n_jobs=-1\n",
    ")\n",
    "\n",
    "print(f'Best parameters for {rnn_type} model: ', best_params)"
   ]
  },
  {
   "cell_type": "code",
   "execution_count": null,
   "metadata": {},
   "outputs": [],
   "source": [
    "# Build the model\n",
    "model = build_rnn_model(rnn_type, best_params, (window_size, len(feature_columns)))\n",
    "\n",
    "# Configure early stopping\n",
    "early_stopping = EarlyStopping(monitor='val_loss', patience=10, restore_best_weights=True, verbose=1)\n",
    "\n",
    "# Train the model with early stopping\n",
    "history = model.fit(train_generator, epochs=150, batch_size=best_params['batch_size'], validation_split=0.2, callbacks=[early_stopping], verbose=1)"
   ]
  },
  {
   "cell_type": "code",
   "execution_count": null,
   "metadata": {},
   "outputs": [],
   "source": [
    "# Plot training history\n",
    "plt.figure(figsize=(10, 5))\n",
    "plt.plot(history.history['loss'], label='Train Loss')\n",
    "plt.plot(history.history['val_loss'], label='Validation Loss')\n",
    "plt.title('Model Training and Validation Loss')\n",
    "plt.xlabel('Epochs')\n",
    "plt.ylabel('Loss')\n",
    "plt.legend()\n",
    "plt.show()"
   ]
  },
  {
   "cell_type": "code",
   "execution_count": null,
   "metadata": {},
   "outputs": [],
   "source": [
    "# Evaluate the model\n",
    "y_pred = model.predict(X_test)\n",
    "mae = mean_absolute_error(y_test, y_pred)\n",
    "rmse = np.sqrt(mean_squared_error(y_test, y_pred))\n",
    "print(\"MAE:\", mae)\n",
    "print(\"RMSE:\", rmse)"
   ]
  },
  {
   "cell_type": "code",
   "execution_count": null,
   "metadata": {},
   "outputs": [],
   "source": [
    "# Plotting predictions vs actuals\n",
    "plt.figure(figsize=(15, 6))\n",
    "plt.plot(y_test, label='Actual Volatility', color='blue')\n",
    "plt.plot(y_pred.flatten(), label='Predicted Volatility', color='red', alpha=0.7)\n",
    "plt.title('Volatility Forecasting Performance')\n",
    "plt.xlabel('Time Steps')\n",
    "plt.ylabel('Volatility')\n",
    "plt.legend()\n",
    "plt.show()"
   ]
  },
  {
   "cell_type": "code",
   "execution_count": null,
   "metadata": {},
   "outputs": [],
   "source": [
    "plt.figure(figsize=(10, 5))\n",
    "residuals = y_test - y_pred.flatten()\n",
    "plt.plot(residuals, color='blue')\n",
    "plt.title('Residuals of Model Predictions', fontsize=16)\n",
    "plt.xlabel('Time Steps', fontsize=15)\n",
    "plt.ylabel('Residuals', fontsize=15)\n",
    "plt.show()"
   ]
  }
 ],
 "metadata": {
  "kernelspec": {
   "display_name": "master",
   "language": "python",
   "name": "python3"
  },
  "language_info": {
   "codemirror_mode": {
    "name": "ipython",
    "version": 3
   },
   "file_extension": ".py",
   "mimetype": "text/x-python",
   "name": "python",
   "nbconvert_exporter": "python",
   "pygments_lexer": "ipython3",
   "version": "3.11.4"
  }
 },
 "nbformat": 4,
 "nbformat_minor": 2
}
