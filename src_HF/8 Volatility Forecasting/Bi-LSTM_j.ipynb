{
 "cells": [
  {
   "cell_type": "code",
   "execution_count": null,
   "metadata": {},
   "outputs": [],
   "source": [
    "import pandas as pd\n",
    "import numpy as np\n",
    "import matplotlib.pyplot as plt\n",
    "from tqdm.keras import TqdmCallback\n",
    "\n",
    "from sklearn.preprocessing import MinMaxScaler\n",
    "from sklearn.model_selection import train_test_split\n",
    "from sklearn.metrics import mean_squared_error\n",
    "from tensorflow.keras.models import Sequential\n",
    "from tensorflow.keras.layers import Dense, LSTM, Dropout, GRU, Bidirectional, Embedding\n",
    "from tensorflow.keras.utils import plot_model\n",
    "\n",
    "import os\n",
    "import sys\n",
    "import warnings\n",
    "from dotenv import load_dotenv\n",
    "\n",
    "warnings.filterwarnings(\"ignore\")\n",
    "\n",
    "load_dotenv()\n",
    "REPO_PATH: str = os.getenv('REPO_PATH')\n",
    "\n",
    "sys.path.insert(0, rf'{REPO_PATH}src_HF')\n",
    "from utils import *"
   ]
  },
  {
   "cell_type": "markdown",
   "metadata": {},
   "source": [
    "### Load Data"
   ]
  },
  {
   "cell_type": "code",
   "execution_count": null,
   "metadata": {},
   "outputs": [],
   "source": [
    "df = pd.read_csv(rf'{REPO_PATH}data\\time_series\\CLc1_processed.csv').dropna()\n",
    "df.drop(columns=['Date.1'], inplace=True)\n",
    "df.head(3)"
   ]
  },
  {
   "cell_type": "markdown",
   "metadata": {},
   "source": [
    "### Train/test split"
   ]
  },
  {
   "cell_type": "code",
   "execution_count": null,
   "metadata": {},
   "outputs": [],
   "source": [
    "TEST_FRACTION: float = 0.2\n",
    "\n",
    "df['GARCH_1'] = df['GARCH'].shift(1)\n",
    "\n",
    "X_VARIABLES = ['VOLUME', 'GARCH', 'YEAR', 'MONTH', 'DAY', 'WEEKDAY', 'WEEK']\n",
    "Y_VARIABLE = ['GARCH']\n",
    "\n",
    "X = df[X_VARIABLES]\n",
    "y = df[Y_VARIABLE]\n",
    "\n",
    "X_train, X_test, y_train, y_test = train_test_split(X, y, test_size=TEST_FRACTION, shuffle=False)\n",
    "\n",
    "SCALER = MinMaxScaler()\n",
    "\n",
    "X_train_scaled = SCALER.fit_transform(X_train)\n",
    "X_test_scaled = SCALER.transform(X_test)\n",
    "\n",
    "y_train_scaled = SCALER.fit_transform(y_train)\n",
    "y_test_scaled = SCALER.transform(y_test)\n",
    "\n",
    "X_train_scaled = X_train_scaled.reshape(X_train_scaled.shape[0], 1, X_train_scaled.shape[1])\n",
    "X_test_scaled = X_test_scaled.reshape(X_test_scaled.shape[0], 1, X_test_scaled.shape[1])\n"
   ]
  },
  {
   "cell_type": "markdown",
   "metadata": {},
   "source": [
    "### Compile model"
   ]
  },
  {
   "cell_type": "code",
   "execution_count": null,
   "metadata": {},
   "outputs": [],
   "source": [
    "\n",
    "TIMESTEPS: int = 60  # Number of timesteps\n",
    "N_FEATURES: int = 1  # Number of features\n",
    "\n",
    "layers: list = [\n",
    "    Bidirectional(LSTM(64, return_sequences=True, input_shape=(TIMESTEPS, N_FEATURES))),\n",
    "    Bidirectional(LSTM(64, return_sequences=False)),\n",
    "    Dense(25),\n",
    "    Dense(1)\n",
    "]\n",
    "\n",
    "model: Sequential = Sequential(layers)\n",
    "\n",
    "# Compile the model for a regression problem\n",
    "model.compile(\n",
    "    optimizer='adam',\n",
    "    loss='mean_squared_error', \n",
    "    metrics=['mae']\n",
    ")  # Mean Absolute Error as an additional metric\n",
    "\n",
    "# Model summary\n",
    "model.build(input_shape=(None, TIMESTEPS, N_FEATURES))\n",
    "model.summary()\n",
    "\n",
    "# Compile the model\n",
    "model.compile(optimizer='adam', loss='mean_squared_error')\n",
    "\n",
    "# plot model\n",
    "fig = plot_model(model, to_file=rf'model_vizualizations\\BI_LSTM.png', show_shapes=True, show_layer_names=False, dpi=200)\n"
   ]
  },
  {
   "cell_type": "markdown",
   "metadata": {},
   "source": [
    "<!-- ### Train model -->"
   ]
  },
  {
   "cell_type": "markdown",
   "metadata": {},
   "source": [
    "### Train model"
   ]
  },
  {
   "cell_type": "code",
   "execution_count": null,
   "metadata": {},
   "outputs": [],
   "source": []
  }
 ],
 "metadata": {
  "kernelspec": {
   "display_name": "base",
   "language": "python",
   "name": "python3"
  },
  "language_info": {
   "codemirror_mode": {
    "name": "ipython",
    "version": 3
   },
   "file_extension": ".py",
   "mimetype": "text/x-python",
   "name": "python",
   "nbconvert_exporter": "python",
   "pygments_lexer": "ipython3",
   "version": "3.11.4"
  }
 },
 "nbformat": 4,
 "nbformat_minor": 2
}
