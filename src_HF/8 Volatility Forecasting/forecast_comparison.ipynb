{
 "cells": [
  {
   "cell_type": "code",
   "execution_count": null,
   "metadata": {},
   "outputs": [],
   "source": [
    "import numpy as np\n",
    "import pandas as pd\n",
    "import yaml\n",
    "import json\n",
    "import matplotlib.pyplot as plt\n",
    "from sklearn.metrics import mean_squared_error, mean_absolute_error\n",
    "from tensorflow.keras.models import model_from_json\n",
    "\n",
    "from tqdm import tqdm\n",
    "import os\n",
    "import sys\n",
    "import warnings\n",
    "from dotenv import load_dotenv\n",
    "\n",
    "warnings.filterwarnings(\"ignore\")\n",
    "load_dotenv()\n",
    "REPO_PATH = os.getenv(\"REPO_PATH\")\n",
    "sys.path.insert(0, rf'{REPO_PATH}src_HF')\n",
    "\n",
    "from utils.forecast_utils import RNNGenerator, ForecastModel"
   ]
  },
  {
   "cell_type": "markdown",
   "metadata": {},
   "source": [
    "### Load data"
   ]
  },
  {
   "cell_type": "code",
   "execution_count": null,
   "metadata": {},
   "outputs": [],
   "source": [
    "# Specify data\n",
    "gen = RNNGenerator(future='CLc1', topic='CRU')\n",
    "\n",
    "# load yaml file\n",
    "with open('variable_config.yaml') as file:\n",
    "    config = yaml.load(file, Loader=yaml.FullLoader)\n",
    "\n",
    "# Define feature list and target\n",
    "feature_columns = list()\n",
    "feature_columns += config['BASE']\n",
    "feature_columns += config['SENTIMENT']\n",
    "feature_columns += config['TEMPORAL']\n",
    "feature_columns += config['LAGS']\n",
    "\n",
    "target_column = 'TARGET'\n",
    "\n",
    "# Define window size\n",
    "window_size = 30\n"
   ]
  },
  {
   "cell_type": "markdown",
   "metadata": {},
   "source": [
    "### Load models"
   ]
  },
  {
   "cell_type": "code",
   "execution_count": null,
   "metadata": {},
   "outputs": [],
   "source": [
    "MODEL_NAMES = [\n",
    "    'CLc1_CRU_GRU_2024.05.15_12.46',\n",
    "    'CLc1_CRU_LSTM_2024.05.15_13.11',\n",
    "    'CLc1_CRU_BiLSTM_2024.05.15_13.24',\n",
    "    'CLc1_CRU_BiGRU_2024.05.15_13.27'\n",
    "]\n",
    "\n",
    "model_params = {\n",
    "    'units_first_layer': 64,\n",
    "    'units_second_layer': 64,\n",
    "    'dropout_rate_first': 0.1,\n",
    "    'dropout_rate_second': 0.1,\n",
    "    'l2_strength': 1e-05,\n",
    "    'learning_rate': 0.01,\n",
    "    'batch_size': 32,\n",
    "    'noise_std': 0.01\n",
    "}\n",
    "\n",
    "data_params = {\n",
    "    'feature_columns': feature_columns,\n",
    "    'target_column': target_column,\n",
    "    'window_size': window_size,\n",
    "    'test_size': 0.2,\n",
    "    'val_size': 0.2\n",
    "}\n",
    "\n",
    "model_dict = dict()\n",
    "for model_name in tqdm(MODEL_NAMES):\n",
    "    model_dict[model_name] = ForecastModel(model_name, model_params, data_params)\n",
    "\n"
   ]
  },
  {
   "cell_type": "code",
   "execution_count": null,
   "metadata": {},
   "outputs": [],
   "source": [
    "for model in model_dict.values():\n",
    "    model.describe()\n",
    "    print()"
   ]
  },
  {
   "cell_type": "code",
   "execution_count": null,
   "metadata": {},
   "outputs": [],
   "source": [
    "# Evaluate the model\n",
    "view = 700\n",
    "\n",
    "fig, ax = plt.subplots(figsize=(10, 5), dpi=200)\n",
    "\n",
    "for i, model in enumerate(model_dict.values()):\n",
    "    if i == 0:\n",
    "        actual = model.test_targets[-view:]\n",
    "        ax.plot(actual, label='Actual ' + model.model_name.split('_')[0], color='gray', lw=0.7)\n",
    "\n",
    "    ax.plot(model.test_predictions[-view:], label=' '.join(model.model_name.split('_')[1:3]), lw=0.7)\n",
    "    \n",
    "ax.set_title('Model Fit vs Actual')\n",
    "ax.set_xlabel('Samples')\n",
    "ax.set_ylabel('Price')\n",
    "ax.legend(frameon=False)\n",
    "ax.grid(alpha=0.3)"
   ]
  }
 ],
 "metadata": {
  "kernelspec": {
   "display_name": "base",
   "language": "python",
   "name": "python3"
  },
  "language_info": {
   "codemirror_mode": {
    "name": "ipython",
    "version": 3
   },
   "file_extension": ".py",
   "mimetype": "text/x-python",
   "name": "python",
   "nbconvert_exporter": "python",
   "pygments_lexer": "ipython3",
   "version": "3.11.4"
  }
 },
 "nbformat": 4,
 "nbformat_minor": 2
}
