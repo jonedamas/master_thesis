{
 "cells": [
  {
   "cell_type": "code",
   "execution_count": null,
   "metadata": {},
   "outputs": [],
   "source": [
    "import numpy as np\n",
    "import pandas as pd\n",
    "import yaml\n",
    "import json\n",
    "import matplotlib.pyplot as plt\n",
    "from sklearn.metrics import mean_squared_error, mean_absolute_error\n",
    "from tensorflow.keras.models import model_from_json\n",
    "\n",
    "from tqdm import tqdm\n",
    "import os\n",
    "import sys\n",
    "import warnings\n",
    "from dotenv import load_dotenv\n",
    "\n",
    "warnings.filterwarnings(\"ignore\")\n",
    "load_dotenv()\n",
    "REPO_PATH = os.getenv(\"REPO_PATH\")\n",
    "sys.path.insert(0, rf'{REPO_PATH}src_HF')\n",
    "\n",
    "from utils.forecast_utils import load_prepared_data, preprocess_data, build_rnn_model"
   ]
  },
  {
   "cell_type": "markdown",
   "metadata": {},
   "source": [
    "### Load data"
   ]
  },
  {
   "cell_type": "code",
   "execution_count": null,
   "metadata": {},
   "outputs": [],
   "source": [
    "# Specify data\n",
    "future = 'CLc1'\n",
    "topic = 'CEN'\n",
    "\n",
    "# Load data\n",
    "df = load_prepared_data(future, topic)\n",
    "\n",
    "# load yaml file\n",
    "with open('variable_config.yaml') as file:\n",
    "    config = yaml.load(file, Loader=yaml.FullLoader)\n",
    "\n",
    "# Define feature list and target\n",
    "feature_columns = list()\n",
    "\n",
    "feature_columns += config['BASE']\n",
    "feature_columns += config['SENTIMENT']\n",
    "feature_columns += config['TEMPORAL']\n",
    "\n",
    "print(feature_columns)\n",
    "\n",
    "target_column = 'TARGET'\n",
    "\n",
    "# Specify RNN model. Alternatives: BiLSTM, GRU or BiGRU\n",
    "rnn_type='LSTM'\n",
    "\n",
    "# Define window size\n",
    "window_size = 30\n",
    "\n",
    "# Scaling and splitting into test and train data sets. Default train/val size = 80%\n",
    "train_generator, val_generator, test_generator = preprocess_data(\n",
    "    df, \n",
    "    feature_columns, \n",
    "    target_column, \n",
    "    window_size,\n",
    "    test_size=0.2,\n",
    "    val_size=0.2\n",
    ")\n"
   ]
  },
  {
   "cell_type": "markdown",
   "metadata": {},
   "source": [
    "### Load models"
   ]
  },
  {
   "cell_type": "code",
   "execution_count": null,
   "metadata": {},
   "outputs": [],
   "source": [
    "MODEL_NAMES = [\n",
    "    'CLc1_CEN_LSTM_2024.05.14_17.18'\n",
    "]\n",
    "\n",
    "model_dict = dict()\n",
    "\n",
    "for model_name in tqdm(MODEL_NAMES):\n",
    "    with open(f'model_archive/{model_name}_info.json') as f:\n",
    "        model_info = json.load(f)\n",
    "    with open(f'model_archive/{model_name}_model.json') as f:\n",
    "        loaded_model_json = f.read()\n",
    "\n",
    "    model = model_from_json(loaded_model_json)\n",
    "    print(type(model)) \n",
    "\n",
    "    model.load_weights(f'model_archive/{model_name}.h5')\n",
    "\n",
    "    model_components = model_name.split('_')\n",
    "\n",
    "    test_predictions = model.predict(test_generator)\n",
    "    test_predictions = test_predictions.flatten()\n",
    "\n",
    "    test_targets = np.concatenate([y for _, y in test_generator])\n",
    "    test_targets = test_targets.flatten()\n",
    "\n",
    "    mse = mean_squared_error(test_targets, test_predictions)\n",
    "    mae = mean_absolute_error(test_targets, test_predictions)\n",
    "\n",
    "    model_dict[model_name] = {\n",
    "        'model': model,\n",
    "        'test_predictions': test_predictions,\n",
    "        'test_targets': test_targets,\n",
    "        'mse': mse,\n",
    "        'mae': mae\n",
    "    }\n",
    "\n"
   ]
  },
  {
   "cell_type": "code",
   "execution_count": null,
   "metadata": {},
   "outputs": [],
   "source": [
    "# Evaluate the model\n",
    "view = 500\n",
    "\n",
    "\n",
    "\n",
    "print(f'Mean Squared Error: {mse}')\n",
    "print(f'Mean Absolute Error: {mae}')\n",
    "\n",
    "# plot fit vs actual\n",
    "plt.figure(figsize=(10, 5))\n",
    "plt.plot(test_targets[-view:], label='Actual')\n",
    "plt.plot(test_predictions[-view:], label='Predicted')\n",
    "plt.title('Model Fit vs Actual')\n",
    "plt.xlabel('Samples')\n",
    "plt.ylabel('Price')\n",
    "plt.legend()"
   ]
  }
 ],
 "metadata": {
  "kernelspec": {
   "display_name": "base",
   "language": "python",
   "name": "python3"
  },
  "language_info": {
   "codemirror_mode": {
    "name": "ipython",
    "version": 3
   },
   "file_extension": ".py",
   "mimetype": "text/x-python",
   "name": "python",
   "nbconvert_exporter": "python",
   "pygments_lexer": "ipython3",
   "version": "3.11.4"
  }
 },
 "nbformat": 4,
 "nbformat_minor": 2
}
