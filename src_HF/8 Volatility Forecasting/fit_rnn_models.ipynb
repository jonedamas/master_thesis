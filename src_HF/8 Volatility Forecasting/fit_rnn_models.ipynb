{
 "cells": [
  {
   "cell_type": "code",
   "execution_count": null,
   "metadata": {},
   "outputs": [],
   "source": [
    "import numpy as np\n",
    "import pandas as pd\n",
    "import yaml\n",
    "import json\n",
    "import matplotlib.pyplot as plt\n",
    "from sklearn.metrics import mean_squared_error, mean_absolute_error\n",
    "from tensorflow.keras.callbacks import EarlyStopping\n",
    "import os\n",
    "import sys\n",
    "import warnings\n",
    "from dotenv import load_dotenv\n",
    "\n",
    "warnings.filterwarnings(\"ignore\")\n",
    "load_dotenv()\n",
    "REPO_PATH = os.getenv(\"REPO_PATH\")\n",
    "sys.path.insert(0, rf'{REPO_PATH}src_HF')\n",
    "\n",
    "from utils.forecast_utils import load_prepared_data, preprocess_data, build_rnn_model"
   ]
  },
  {
   "cell_type": "markdown",
   "metadata": {},
   "source": [
    "### Import data"
   ]
  },
  {
   "cell_type": "code",
   "execution_count": null,
   "metadata": {},
   "outputs": [],
   "source": [
    "# Specify data\n",
    "future = 'CLc1'\n",
    "topic = 'CRU'\n",
    "\n",
    "# Load data\n",
    "df = load_prepared_data(future, topic)\n",
    "\n",
    "display(df)"
   ]
  },
  {
   "cell_type": "markdown",
   "metadata": {},
   "source": [
    "### Process data"
   ]
  },
  {
   "cell_type": "code",
   "execution_count": null,
   "metadata": {},
   "outputs": [],
   "source": [
    "# load yaml file\n",
    "with open('variable_config.yaml') as file:\n",
    "    config = yaml.load(file, Loader=yaml.FullLoader)\n",
    "\n",
    "# Define feature list and target\n",
    "feature_columns = list()\n",
    "\n",
    "feature_columns += config['BASE']\n",
    "feature_columns += config['SENTIMENT']\n",
    "feature_columns += config['TEMPORAL']\n",
    "feature_columns += config['LAGS']\n",
    "\n",
    "print(feature_columns)\n",
    "\n",
    "target_column = 'TARGET'\n",
    "\n",
    "# Specify RNN model. Alternatives: BiLSTM, GRU or BiGRU\n",
    "rnn_type='GRU'\n",
    "\n",
    "# Define window size\n",
    "window_size = 30\n",
    "\n",
    "# Scaling and splitting into test and train data sets. Default train/val size = 80%\n",
    "train_generator, val_generator, test_generator = preprocess_data(\n",
    "    df, \n",
    "    feature_columns, \n",
    "    target_column, \n",
    "    window_size,\n",
    "    test_size=0.2,\n",
    "    val_size=0.2\n",
    ")"
   ]
  },
  {
   "cell_type": "markdown",
   "metadata": {},
   "source": [
    "### Build and fit model"
   ]
  },
  {
   "cell_type": "code",
   "execution_count": null,
   "metadata": {},
   "outputs": [],
   "source": [
    "best_params = {\n",
    "    'units_first_layer': 64,\n",
    "    'units_second_layer': 64,\n",
    "    'dropout_rate_first': 0.1,\n",
    "    'dropout_rate_second': 0.1,\n",
    "    'l2_strength': 1e-05,\n",
    "    'learning_rate': 0.01,\n",
    "    'batch_size': 32,\n",
    "    'noise_std': 0.01\n",
    "}\n",
    "\n",
    "# Build the model\n",
    "model = build_rnn_model(\n",
    "    rnn_type, \n",
    "    best_params, \n",
    "    (window_size, len(feature_columns))\n",
    ")\n",
    "\n",
    "# Configure early stopping\n",
    "early_stopping = EarlyStopping(\n",
    "    monitor='val_loss', \n",
    "    patience=10, \n",
    "    restore_best_weights=True, \n",
    "    verbose=1\n",
    ")\n",
    "\n",
    "# Train the model with early stopping\n",
    "history = model.fit(\n",
    "    train_generator, \n",
    "    epochs=3, \n",
    "    batch_size=best_params['batch_size'], \n",
    "    validation_data=val_generator, \n",
    "    callbacks=[early_stopping], \n",
    "    verbose=1\n",
    ")\n",
    "\n",
    "current_dt = pd.Timestamp.now().strftime('%Y.%m.%d_%H.%M')"
   ]
  },
  {
   "cell_type": "markdown",
   "metadata": {},
   "source": [
    "### Save model"
   ]
  },
  {
   "cell_type": "code",
   "execution_count": null,
   "metadata": {},
   "outputs": [],
   "source": [
    "# save model\n",
    "model_name = f'{future}_{topic}_{rnn_type}_{current_dt}'\n",
    "\n",
    "model_info: dict[str, any] = {\n",
    "    'model_name': model_name,\n",
    "    'model_type': rnn_type,\n",
    "    'feature_columns': feature_columns,\n",
    "    'target_column': target_column,\n",
    "    'window_size': window_size,\n",
    "    'best_params': best_params,\n",
    "    'loss': history.history['loss'],\n",
    "    'val_loss': history.history['val_loss']\n",
    "}\n",
    "\n",
    "# check if file model is not already in the folder\n",
    "if not os.path.exists(f'model_archive/{model_name}.h5'):\n",
    "    model.save(f'model_archive/{model_name}.h5')\n",
    "\n",
    "    # write model info to json\n",
    "    with open(f'model_archive/{model_name}_info.json', 'w') as f:\n",
    "        json.dump(model_info, f)\n",
    "\n",
    "    model_json = model.to_json()\n",
    "    # write model info to json\n",
    "    with open(f'model_archive/{model_name}_model.json', 'w') as f:\n",
    "        f.write(model_json)\n",
    "\n",
    "    \n"
   ]
  },
  {
   "cell_type": "code",
   "execution_count": null,
   "metadata": {},
   "outputs": [],
   "source": [
    "# Plot training history\n",
    "plt.figure(figsize=(10, 5))\n",
    "plt.plot(history.history['loss'], label='Train Loss')\n",
    "plt.plot(history.history['val_loss'], label='Validation Loss')\n",
    "plt.title('Model Training and Validation Loss')\n",
    "plt.xlabel('Epochs')\n",
    "plt.ylabel('Loss')\n",
    "plt.legend()\n",
    "plt.show()"
   ]
  },
  {
   "cell_type": "code",
   "execution_count": null,
   "metadata": {},
   "outputs": [],
   "source": [
    "# Evaluate the model\n",
    "view = 500\n",
    "\n",
    "test_predictions = model.predict(test_generator)\n",
    "test_predictions = test_predictions.flatten()\n",
    "\n",
    "test_targets = np.concatenate([y for _, y in test_generator])\n",
    "test_targets = test_targets.flatten()\n",
    "\n",
    "mse = mean_squared_error(test_targets, test_predictions)\n",
    "mae = mean_absolute_error(test_targets, test_predictions)\n",
    "\n",
    "print(f'Mean Squared Error: {mse}')\n",
    "print(f'Mean Absolute Error: {mae}')\n",
    "\n",
    "# plot fit vs actual\n",
    "plt.figure(figsize=(10, 5))\n",
    "plt.plot(test_targets[-view:], label='Actual')\n",
    "plt.plot(test_predictions[-view:], label='Predicted')\n",
    "plt.title('Model Fit vs Actual')\n",
    "plt.xlabel('Samples')\n",
    "plt.ylabel('Price')\n",
    "plt.legend()"
   ]
  },
  {
   "cell_type": "code",
   "execution_count": null,
   "metadata": {},
   "outputs": [],
   "source": [
    "plt.figure(figsize=(10, 5))\n",
    "residuals = test_targets - test_predictions\n",
    "plt.plot(residuals[-view:], color='blue')\n",
    "plt.title('Residuals of Model Predictions', fontsize=16)\n",
    "plt.xlabel('Time Steps', fontsize=15)\n",
    "plt.ylabel('Residuals', fontsize=15)\n",
    "plt.show()"
   ]
  }
 ],
 "metadata": {
  "kernelspec": {
   "display_name": "master",
   "language": "python",
   "name": "python3"
  },
  "language_info": {
   "codemirror_mode": {
    "name": "ipython",
    "version": 3
   },
   "file_extension": ".py",
   "mimetype": "text/x-python",
   "name": "python",
   "nbconvert_exporter": "python",
   "pygments_lexer": "ipython3",
   "version": "3.11.4"
  }
 },
 "nbformat": 4,
 "nbformat_minor": 2
}
