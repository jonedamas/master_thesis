{
 "cells": [
  {
   "cell_type": "code",
   "execution_count": null,
   "metadata": {},
   "outputs": [],
   "source": [
    "import numpy as np\n",
    "import pandas as pd\n",
    "import yaml\n",
    "import matplotlib.pyplot as plt\n",
    "from sklearn.metrics import mean_squared_error, mean_absolute_error\n",
    "from tensorflow.keras.callbacks import EarlyStopping\n",
    "import os\n",
    "import sys\n",
    "import warnings\n",
    "from dotenv import load_dotenv\n",
    "\n",
    "warnings.filterwarnings(\"ignore\")\n",
    "load_dotenv()\n",
    "REPO_PATH = os.getenv(\"REPO_PATH\")\n",
    "sys.path.insert(0, rf'{REPO_PATH}src_HF')\n",
    "\n",
    "from utils.forecast_utils import RNNGenerator, build_rnn_model"
   ]
  },
  {
   "cell_type": "markdown",
   "metadata": {},
   "source": [
    "### Create RNN data generator"
   ]
  },
  {
   "cell_type": "code",
   "execution_count": null,
   "metadata": {},
   "outputs": [],
   "source": [
    "\n",
    "# load yaml file\n",
    "with open('variable_config.yaml') as file:\n",
    "    config = yaml.load(file, Loader=yaml.FullLoader)\n",
    "\n",
    "# Define feature list and target\n",
    "feature_columns = list()\n",
    "feature_columns += config['BASE']\n",
    "feature_columns += config['SENTIMENT']\n",
    "feature_columns += config['TEMPORAL']\n",
    "feature_columns += config['LAGS']\n"
   ]
  },
  {
   "cell_type": "markdown",
   "metadata": {},
   "source": [
    "### Build and fit model"
   ]
  },
  {
   "cell_type": "code",
   "execution_count": null,
   "metadata": {},
   "outputs": [],
   "source": [
    "data_params = {\n",
    "    'feature_columns': feature_columns,\n",
    "    'target_column': 'TARGET',\n",
    "    'window_size': 30,\n",
    "    'test_size': 0.2,\n",
    "    'val_size': 0.2\n",
    "}\n",
    "\n",
    "model_params = {\n",
    "    'units_first_layer': 64,\n",
    "    'units_second_layer': 64,\n",
    "    'dropout_rate_first': 0.1,\n",
    "    'dropout_rate_second': 0.1,\n",
    "    'l2_strength': 1e-05,\n",
    "    'learning_rate': 0.01,\n",
    "    'batch_size': 32,\n",
    "    'noise_std': 0.01\n",
    "}\n",
    "\n",
    "rnn_type='BiGRU'\n",
    "\n",
    "# Specify data\n",
    "gen = RNNGenerator(future='CLc1', topic='CRU')\n",
    "\n",
    "gen.preprocess_data(\n",
    "    data_params['feature_columns'], \n",
    "    data_params['target_column'], \n",
    "    data_params['window_size'],\n",
    "    test_size=data_params['test_size'],\n",
    "    val_size=data_params['val_size']\n",
    ")\n",
    "\n",
    "# Build the model\n",
    "model = build_rnn_model(\n",
    "    rnn_type, \n",
    "    model_params, \n",
    "    (data_params['window_size'], len(data_params['feature_columns']))\n",
    ")\n",
    "\n",
    "# Configure early stopping\n",
    "early_stopping = EarlyStopping(\n",
    "    monitor='val_loss', \n",
    "    patience=10, \n",
    "    restore_best_weights=True, \n",
    "    verbose=1\n",
    ")\n",
    "\n",
    "# Train the model with early stopping\n",
    "history = model.fit(\n",
    "    gen.train_generator, \n",
    "    epochs=150,\n",
    "    batch_size=model_params['batch_size'], \n",
    "    validation_data=gen.val_generator, \n",
    "    callbacks=[early_stopping], \n",
    "    verbose=1\n",
    ")\n",
    "\n",
    "current_dt = pd.Timestamp.now().strftime('%Y.%m.%d_%H.%M')\n",
    "\n",
    "fig, ax = plt.subplots(figsize=(8, 5), dpi=200)\n",
    "ax.plot(history.history['loss'], label='Train Loss')\n",
    "ax.plot(history.history['val_loss'], label='Validation Loss')\n",
    "ax.set_title('Model Training and Validation Loss')\n",
    "ax.set_xlabel('Epochs')\n",
    "ax.set_ylabel('Loss')\n",
    "ax.legend()"
   ]
  },
  {
   "cell_type": "markdown",
   "metadata": {},
   "source": [
    "### Save model"
   ]
  },
  {
   "cell_type": "code",
   "execution_count": null,
   "metadata": {},
   "outputs": [],
   "source": [
    "identifier: str = '1' + '_'\n",
    "\n",
    "# save model\n",
    "model_name = f'{gen.future}_{gen.topic}_{rnn_type}_{identifier}{current_dt}'\n",
    "\n",
    "# check if file model is not already in the folder\n",
    "if not os.path.exists(f'model_archive/{model_name}.h5'):\n",
    "    model.save(f'model_archive/{model_name}.h5')\n"
   ]
  },
  {
   "cell_type": "code",
   "execution_count": null,
   "metadata": {},
   "outputs": [],
   "source": [
    "# Evaluate the model\n",
    "view = 500\n",
    "\n",
    "test_predictions = model.predict(gen.test_generator)\n",
    "test_predictions = test_predictions.flatten()\n",
    "\n",
    "test_targets = np.concatenate([y for _, y in gen.test_generator])\n",
    "test_targets = test_targets.flatten()\n",
    "\n",
    "mse = mean_squared_error(test_targets, test_predictions)\n",
    "mae = mean_absolute_error(test_targets, test_predictions)\n",
    "\n",
    "print(f'Mean Squared Error: {mse}')\n",
    "print(f'Mean Absolute Error: {mae}')\n",
    "\n",
    "# plot fit vs actual\n",
    "plt.figure(figsize=(10, 5))\n",
    "plt.plot(test_targets[-view:], label='Actual')\n",
    "plt.plot(test_predictions[-view:], label='Predicted')\n",
    "plt.title('Model Fit vs Actual')\n",
    "plt.xlabel('Samples')\n",
    "plt.ylabel('Price')\n",
    "plt.legend()"
   ]
  },
  {
   "cell_type": "code",
   "execution_count": null,
   "metadata": {},
   "outputs": [],
   "source": [
    "plt.figure(figsize=(10, 5))\n",
    "residuals = test_targets - test_predictions\n",
    "plt.plot(residuals[-view:], color='blue')\n",
    "plt.title('Residuals of Model Predictions', fontsize=16)\n",
    "plt.xlabel('Time Steps', fontsize=15)\n",
    "plt.ylabel('Residuals', fontsize=15)\n",
    "plt.show()"
   ]
  }
 ],
 "metadata": {
  "kernelspec": {
   "display_name": "master",
   "language": "python",
   "name": "python3"
  },
  "language_info": {
   "codemirror_mode": {
    "name": "ipython",
    "version": 3
   },
   "file_extension": ".py",
   "mimetype": "text/x-python",
   "name": "python",
   "nbconvert_exporter": "python",
   "pygments_lexer": "ipython3",
   "version": "3.11.4"
  }
 },
 "nbformat": 4,
 "nbformat_minor": 2
}
