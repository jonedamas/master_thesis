{
 "cells": [
  {
   "cell_type": "code",
   "execution_count": null,
   "metadata": {},
   "outputs": [],
   "source": [
    "import numpy as np\n",
    "import pandas as pd\n",
    "import yaml\n",
    "from tqdm.notebook import tqdm\n",
    "import matplotlib.pyplot as plt\n",
    "from sklearn.metrics import mean_squared_error, mean_absolute_error\n",
    "from sklearn.model_selection import train_test_split\n",
    "from arch import arch_model\n",
    "import os\n",
    "import sys\n",
    "import warnings\n",
    "from dotenv import load_dotenv\n",
    "\n",
    "warnings.filterwarnings(\"ignore\")\n",
    "load_dotenv()\n",
    "REPO_PATH = os.getenv(\"REPO_PATH\")\n",
    "sys.path.insert(0, rf'{REPO_PATH}src_HF')\n"
   ]
  },
  {
   "cell_type": "markdown",
   "metadata": {},
   "source": [
    "## GARCH"
   ]
  },
  {
   "cell_type": "markdown",
   "metadata": {},
   "source": [
    "### Import data"
   ]
  },
  {
   "cell_type": "code",
   "execution_count": null,
   "metadata": {},
   "outputs": [],
   "source": [
    "future = 'CLc1'\n",
    "topic= 'CRU'\n",
    "\n",
    "file_path = os.path.join(\n",
    "    REPO_PATH,\n",
    "    'data',\n",
    "    'prepared_data',\n",
    "    f\"{future}_{topic}_5min_resampled.csv\"\n",
    ")\n",
    "\n",
    "df = pd.read_csv(file_path, index_col='date', parse_dates=True)\n",
    "\n",
    "display(df.head())"
   ]
  },
  {
   "cell_type": "markdown",
   "metadata": {},
   "source": [
    "### Fit model"
   ]
  },
  {
   "cell_type": "code",
   "execution_count": null,
   "metadata": {},
   "outputs": [],
   "source": [
    "\n",
    "target = 'TARGET'\n",
    "\n",
    "X_train, X_test, y_train, y_test = train_test_split(df, df[target], test_size=0.20, shuffle=False)\n",
    "\n",
    "garch_model = arch_model(X_train['LOGRET'], vol='Garch', p=1, q=1, dist='Normal')\n",
    "train_fit = garch_model.fit(disp='off')\n",
    "print(train_fit.summary())"
   ]
  },
  {
   "cell_type": "code",
   "execution_count": null,
   "metadata": {},
   "outputs": [],
   "source": [
    "rolling_preds = []\n",
    "\n",
    "for i in tqdm(range(X_test.shape[0])):\n",
    "    train = X_train['LOGRET'][:-(y_test.shape[0]-i)]\n",
    "    model = arch_model(train, p=1, q=1, rescale = False)\n",
    "    model_fit = model.fit(disp='off')\n",
    "    # One step ahead predictor\n",
    "    pred = model_fit.forecast(horizon=1, reindex=True)\n",
    "    rolling_preds.append(np.sqrt(pred.variance.values[-1,:][0]))\n",
    "\n",
    "rolling_preds = pd.Series(rolling_preds, index=y_test.index)"
   ]
  },
  {
   "cell_type": "code",
   "execution_count": null,
   "metadata": {},
   "outputs": [],
   "source": [
    "view = 1000\n",
    "\n",
    "fig, ax = plt.subplots(figsize=(12, 6))\n",
    "\n",
    "ax.plot(X_test.index[-view:], X_test['TARGET'][-view:], label='Train')\n",
    "\n",
    "# plot garch results\n",
    "ax.plot(X_test.index[-view:], pd.Series(rolling_preds)[-view:] * 252, label='Garch Volatility', color='red')\n",
    "\n",
    "# caluculate mse and mae\n",
    "mse = mean_squared_error(X_test['TARGET'], rolling_preds)\n",
    "mae = mean_absolute_error(X_test['TARGET'], rolling_preds)\n",
    "\n",
    "print(f'MSE: {mse}')\n",
    "print(f'MAE: {mae}')\n"
   ]
  }
 ],
 "metadata": {
  "kernelspec": {
   "display_name": "base",
   "language": "python",
   "name": "python3"
  },
  "language_info": {
   "codemirror_mode": {
    "name": "ipython",
    "version": 3
   },
   "file_extension": ".py",
   "mimetype": "text/x-python",
   "name": "python",
   "nbconvert_exporter": "python",
   "pygments_lexer": "ipython3",
   "version": "3.11.4"
  }
 },
 "nbformat": 4,
 "nbformat_minor": 2
}
