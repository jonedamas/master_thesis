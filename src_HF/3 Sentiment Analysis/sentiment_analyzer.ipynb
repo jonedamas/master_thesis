{
 "cells": [
  {
   "cell_type": "code",
   "execution_count": null,
   "metadata": {},
   "outputs": [],
   "source": [
    "from sent_utils import * # has to be first to avoid conflict with Julia load\n",
    "\n",
    "import pandas as pd\n",
    "import numpy as np\n",
    "import seaborn as sns\n",
    "import matplotlib.pyplot as plt\n",
    "from scipy import stats\n",
    "from arch import arch_model\n",
    "import sys\n",
    "import warnings\n",
    "from textblob import TextBlob\n",
    "\n",
    "warnings.filterwarnings(\"ignore\")\n",
    "\n",
    "# Import main utility functions\n",
    "sys.path.insert(0, r'c:\\Users\\joneh\\master_thesis\\src_HF')\n",
    "\n",
    "from utils.main_utils import *"
   ]
  },
  {
   "cell_type": "markdown",
   "metadata": {},
   "source": [
    "### Sentiment Analysis Testing\n",
    "\n",
    "Sentiment analysis functions should take a panads series as input and output a pandas series of the same length with the sentiment of the input text. The sentiment should be a float between -1 and 1, where -1 is negative, 0 is neutral, and 1 is positive."
   ]
  },
  {
   "cell_type": "code",
   "execution_count": null,
   "metadata": {},
   "outputs": [],
   "source": [
    "# Load data from database\n",
    "news_df = pd.read_csv(r'C:\\Users\\joneh\\master_thesis\\data\\news\\EIKON_ALL_NEWS.csv')\n",
    "\n",
    "display(news_df)"
   ]
  },
  {
   "cell_type": "markdown",
   "metadata": {},
   "source": [
    "### Sentiment analysis with textblob\n",
    "\n",
    "Applying a sentiment analysis score to each headline. 0.0 is applied where there are none."
   ]
  },
  {
   "cell_type": "code",
   "execution_count": null,
   "metadata": {},
   "outputs": [],
   "source": [
    "sentiment = news_df['text'].apply(lambda x: pd.Series(TextBlob(x).sentiment)).rename(columns={0: 'polarity', 1: 'subjectivity'})\n",
    "sentiment_df = pd.concat([news_df, sentiment], axis=1)\n",
    "display(sentiment_df)"
   ]
  },
  {
   "cell_type": "markdown",
   "metadata": {},
   "source": [
    "### Save sentiment data"
   ]
  },
  {
   "cell_type": "code",
   "execution_count": null,
   "metadata": {},
   "outputs": [],
   "source": [
    "# Enter filename here:\n",
    "file_name = f'SENTIMENT_ALL_NEWS.csv'\n",
    "# Enter relative path for saving the file:\n",
    "relative_path = 'data/news'\n",
    "\n",
    "sentiment_df.to_csv(save_path(relative_path, file_name), index=False)"
   ]
  },
  {
   "cell_type": "markdown",
   "metadata": {},
   "source": [
    "### Aggregation and Sentiment index\n",
    "\n",
    "Calculates the daily average sentiment score.\n",
    "```python \n",
    "aggregate_score()\n",
    "``` \n",
    "$$\n",
    "SV_t = \\frac{1}{N_t}\\sum_{i=1}^{n} PV_{it}\n",
    "$$\n",
    "\n",
    "Calculates the close sentiment and applying it to the first day market is open.\n",
    "```python \n",
    "merge_sentiment()\n",
    "```\n",
    "$$\n",
    "SV_{t,new} =\\frac{\\sum_{k=0}^{K}0.9^k\\cdot SV_{t-k}}{\\sum_{k=0}^{K}0.9^k}\n",
    "$$\n",
    "\n",
    "Creates a sentiment index.\n",
    "```python \n",
    "SI_bai()\n",
    "``` \n",
    "\n",
    "$$\n",
    "SI_t = SV_t+ \\sum_{i=1}^{t-1} SV_i\\cdot e^{-\\frac{t-1}{\\beta}}\n",
    "$$\n"
   ]
  },
  {
   "cell_type": "markdown",
   "metadata": {},
   "source": [
    "### Aggregate to daily"
   ]
  },
  {
   "cell_type": "code",
   "execution_count": null,
   "metadata": {},
   "outputs": [],
   "source": [
    "# Resample data\n",
    "sample_freq = 'h'\n",
    "\n",
    "sentiment_df.index = pd.to_datetime(sentiment_df['versionCreated'])\n",
    "\n",
    "df_sent = aggregate_score(sentiment_df, ['polarity', 'subjectivity'], frequency=sample_freq)\n",
    "\n",
    "display(df_sent)"
   ]
  },
  {
   "cell_type": "code",
   "execution_count": null,
   "metadata": {},
   "outputs": [],
   "source": [
    "price_df = pd.read_csv(r'C:\\Users\\joneh\\master_thesis\\data\\time_series\\CLc1_High_Frequency.csv')\n",
    "price_df.index = pd.to_datetime(price_df['Date']).dt.tz_localize(None)\n",
    "\n",
    "df_sent.index = df_sent.index.tz_localize(None)\n",
    "\n",
    "# calculate log-returns\n",
    "price_df['LOGRET'] = np.log(price_df['CLOSE']).diff()\n",
    "\n",
    "# add GARCH(1,1) model\n",
    "garch = arch_model(price_df['LOGRET'].dropna(), vol='Garch', p=1, q=1)\n",
    "res = garch.fit(disp='off')\n",
    "price_df['GARCH'] = res.conditional_volatility\n",
    "\n",
    "combined_df = df_sent.join(\n",
    "    price_df[['GARCH', 'CLOSE', 'LOGRET', 'VOLUME']], \n",
    "    how='left'\n",
    ")\n",
    "\n",
    "combined_df = combined_df.dropna()\n",
    "\n",
    "display(combined_df)\n",
    "\n",
    "# add sentiment index\n",
    "combined_df['SI_BAI'] = SI_bai(combined_df['polarity'], beta=7)\n",
    "\n",
    "x_label = 'count'\n",
    "y_label = 'GARCH'\n",
    "\n",
    "slope, intercept, r_value, p_value, std_err = stats.linregress(combined_df[x_label], combined_df[y_label])\n",
    "print(f'p-value: {p_value:.10f}')\n",
    "print(f'R2: {r_value:.4f}')\n",
    "print(f'Slope: {slope:.4f}')\n",
    "print(f'Correlation: {combined_df[x_label].corr(combined_df[y_label]):.4f}')\n",
    "\n",
    "fig = sns.jointplot(\n",
    "    data=combined_df, \n",
    "    x=x_label, \n",
    "    y=y_label,\n",
    "    scatter_kws={'s':5},\n",
    "    kind='reg',\n",
    "    line_kws={'color':'red'},\n",
    ")"
   ]
  },
  {
   "cell_type": "markdown",
   "metadata": {},
   "source": [
    "### Save sentiment indices"
   ]
  },
  {
   "cell_type": "code",
   "execution_count": null,
   "metadata": {},
   "outputs": [],
   "source": [
    "# Enter filename here:\n",
    "file_name = 'sentiment_index.csv'\n",
    "# Enter relative path for saving the file:\n",
    "relative_path = 'data/time_series'\n",
    "\n",
    "df_sent.to_csv(save_path(relative_path, file_name), index=True)"
   ]
  },
  {
   "cell_type": "markdown",
   "metadata": {},
   "source": [
    "### Save data"
   ]
  },
  {
   "cell_type": "code",
   "execution_count": null,
   "metadata": {},
   "outputs": [],
   "source": [
    "# Enter filename here:\n",
    "file_name = 'combined_df_sentiment.csv'\n",
    "# Enter relative path for saving the file:\n",
    "relative_path = 'data/model_input'\n",
    "\n",
    "combined_df.to_csv(save_path(relative_path, file_name), index=False)"
   ]
  }
 ],
 "metadata": {
  "kernelspec": {
   "display_name": "base",
   "language": "python",
   "name": "python3"
  },
  "language_info": {
   "codemirror_mode": {
    "name": "ipython",
    "version": 3
   },
   "file_extension": ".py",
   "mimetype": "text/x-python",
   "name": "python",
   "nbconvert_exporter": "python",
   "pygments_lexer": "ipython3",
   "version": "3.11.4"
  }
 },
 "nbformat": 4,
 "nbformat_minor": 2
}
