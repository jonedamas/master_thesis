{
 "cells": [
  {
   "cell_type": "code",
   "execution_count": null,
   "metadata": {},
   "outputs": [],
   "source": [
    "import pandas as pd\n",
    "import numpy as np\n",
    "import matplotlib.pyplot as plt\n",
    "\n",
    "import sys\n",
    "\n",
    "sys.path.insert(0, r'c:\\Users\\joneh\\master_thesis\\src')\n",
    "from main_utils import *\n",
    "\n",
    "plot_info = load_json(r'c:\\Users\\joneh\\master_thesis\\src\\plot_dict.json')\n",
    "\n",
    "import statsmodels.api as sm\n",
    "from sklearn.linear_model import Lasso, Ridge, LinearRegression\n",
    "from sklearn.preprocessing import StandardScaler\n",
    "from sklearn.model_selection import train_test_split\n",
    "from sklearn.metrics import mean_squared_error"
   ]
  },
  {
   "cell_type": "markdown",
   "metadata": {},
   "source": [
    "### Data combination"
   ]
  },
  {
   "cell_type": "code",
   "execution_count": null,
   "metadata": {},
   "outputs": [],
   "source": [
    "futures_data = pd.read_csv(r'c:\\Users\\joneh\\master_thesis\\data\\time_series\\TSA_data.csv', index_col=0)\n",
    "\n",
    "sentiment_data = pd.read_csv(r'c:\\Users\\joneh\\master_thesis\\data\\time_series\\sentiment_index.csv', index_col=0)\n",
    "\n",
    "futures_data['cond_vol_tomorrow'] = futures_data['cond_vol'].shift(-1)\n",
    "\n",
    "# combine data\n",
    "data = pd.concat([futures_data, sentiment_data], axis=1).dropna()\n",
    "\n",
    "# set datetime index\n",
    "data.index = pd.to_datetime(data.index)\n",
    "\n",
    "display(data.head())"
   ]
  },
  {
   "cell_type": "markdown",
   "metadata": {},
   "source": [
    "### Lag order creation"
   ]
  },
  {
   "cell_type": "markdown",
   "metadata": {},
   "source": [
    "### Save model input data"
   ]
  },
  {
   "cell_type": "code",
   "execution_count": null,
   "metadata": {},
   "outputs": [],
   "source": [
    "# Enter filename here:\n",
    "file_name = f'model_input_1.csv'\n",
    "# Enter relative path for saving the file:\n",
    "relative_path = 'data/model_input'\n",
    "\n",
    "data.to_csv(save_path(relative_path, file_name), index=True)"
   ]
  },
  {
   "cell_type": "markdown",
   "metadata": {},
   "source": [
    "### Multiple linear regression"
   ]
  },
  {
   "cell_type": "code",
   "execution_count": null,
   "metadata": {},
   "outputs": [],
   "source": [
    "# multiple linear regression\n",
    "X = data.drop(columns='cond_vol_tomorrow')\n",
    "\n",
    "y = data['cond_vol_tomorrow']\n",
    "\n",
    "X = sm.add_constant(X)\n",
    "model = sm.OLS(y, X).fit()\n",
    "\n",
    "print(model.summary())\n"
   ]
  },
  {
   "cell_type": "markdown",
   "metadata": {},
   "source": [
    "### LASSO and Ridge regression"
   ]
  },
  {
   "cell_type": "code",
   "execution_count": null,
   "metadata": {},
   "outputs": [],
   "source": [
    "dependent_variable = 'cond_vol_tomorrow'\n",
    "\n",
    "# scale data\n",
    "X = data.drop([dependent_variable], axis=1)\n",
    "y = data[dependent_variable]\n",
    "\n",
    "# scale variables\n",
    "scaler = StandardScaler()\n",
    "X = pd.DataFrame(scaler.fit_transform(X), columns=X.columns, index=X.index)\n",
    "\n",
    "X_train, X_test, y_train, y_test = train_test_split(X, y, test_size=0.2, shuffle=False)\n",
    "\n",
    "lamdas = np.logspace(-2, 5, 500)\n",
    "\n",
    "coefs_lasso = []\n",
    "CV_MSE_lasso = []\n",
    "\n",
    "coefs_ridge = []\n",
    "CV_MSE_ridge = []\n",
    "\n",
    "for i in lamdas:\n",
    "    lasso = Lasso(alpha=i, max_iter=10000)\n",
    "    lasso.fit(X_train, y_train)\n",
    "    coefs_lasso.append(lasso.coef_)\n",
    "    CV_MSE_lasso.append(mean_squared_error(y_test, lasso.predict(X_test)))\n",
    "\n",
    "    ridge = Ridge(alpha=i)\n",
    "    ridge.fit(X_train, y_train)\n",
    "    coefs_ridge.append(ridge.coef_)\n",
    "    CV_MSE_ridge.append(mean_squared_error(y_test, ridge.predict(X_test)))\n",
    "\n",
    "\n",
    "fig, axs = plt.subplots(2, 2, figsize=(15, 12))\n",
    "\n",
    "axs[0, 0].plot(lamdas, coefs_lasso)\n",
    "axs[0, 0].set_xscale('log')\n",
    "axs[0, 0].set_xlabel('Lambda')\n",
    "axs[0, 0].set_ylabel('Coefficients')\n",
    "axs[0, 0].legend(X.columns, frameon=False)\n",
    "axs[0, 0].set_title('Lasso coefficients as a function of the regularization')\n",
    "axs[0, 0].axvline(lamdas[np.argmin(CV_MSE_lasso)], color='red', linestyle='--', label='Lambda with lowest MSE')\n",
    "\n",
    "axs[0, 1].plot(lamdas, CV_MSE_lasso)\n",
    "axs[0, 1].set_xscale('log')\n",
    "axs[0, 1].set_xlabel('Lambda')\n",
    "axs[0, 1].set_ylabel('MSE')\n",
    "axs[0, 1].set_title('MSE as a function of the regularization')\n",
    "axs[0, 1].axvline(lamdas[np.argmin(CV_MSE_lasso)], color='red', linestyle='--', label='Lambda with lowest MSE')\n",
    "\n",
    "# get coefficients for the best lambda\n",
    "lasso = Lasso(alpha=lamdas[np.argmin(CV_MSE_lasso)], max_iter=10000)\n",
    "lasso.fit(X_train, y_train)\n",
    "display(pd.DataFrame(lasso.coef_, X.columns, columns=['Coefficients']))\n",
    "print('Intercept for the best lambda:', lasso.intercept_)\n",
    "print('MSE for the best lambda:', mean_squared_error(y_test, lasso.predict(X_test)))\n",
    "\n",
    "axs[1, 0].plot(lamdas, coefs_ridge)\n",
    "axs[1, 0].set_xscale('log')\n",
    "axs[1, 0].set_xlabel('Lambda')\n",
    "axs[1, 0].set_ylabel('Coefficients')\n",
    "axs[1, 0].legend(X.columns, frameon=False)\n",
    "axs[1, 0].set_title('Ridge coefficients as a function of the regularization')\n",
    "axs[1, 0].axvline(lamdas[np.argmin(CV_MSE_ridge)], color='red', linestyle='--', label='Lambda with lowest MSE')\n",
    "\n",
    "axs[1, 1].plot(lamdas, CV_MSE_ridge)\n",
    "axs[1, 1].set_xscale('log')\n",
    "axs[1, 1].set_xlabel('Lambda')\n",
    "axs[1, 1].set_ylabel('MSE')\n",
    "axs[1, 1].set_title('MSE as a function of the regularization')\n",
    "axs[1, 1].axvline(lamdas[np.argmin(CV_MSE_ridge)], color='red', linestyle='--', label='Lambda with lowest MSE')\n",
    "\n",
    "# get coefficients for the best lambda\n",
    "ridge = Lasso(alpha=lamdas[np.argmin(CV_MSE_ridge)], max_iter=10000)\n",
    "ridge.fit(X_train, y_train)\n",
    "display(pd.DataFrame(ridge.coef_, X.columns, columns=['Coefficients']))\n",
    "print('Intercept for the best lambda:', ridge.intercept_)\n",
    "print('MSE for the best lambda:', mean_squared_error(y_test, ridge.predict(X_test)))\n",
    "\n",
    "fig.tight_layout()"
   ]
  },
  {
   "cell_type": "code",
   "execution_count": null,
   "metadata": {},
   "outputs": [],
   "source": []
  }
 ],
 "metadata": {
  "kernelspec": {
   "display_name": "base",
   "language": "python",
   "name": "python3"
  },
  "language_info": {
   "codemirror_mode": {
    "name": "ipython",
    "version": 3
   },
   "file_extension": ".py",
   "mimetype": "text/x-python",
   "name": "python",
   "nbconvert_exporter": "python",
   "pygments_lexer": "ipython3",
   "version": "3.11.4"
  }
 },
 "nbformat": 4,
 "nbformat_minor": 2
}
