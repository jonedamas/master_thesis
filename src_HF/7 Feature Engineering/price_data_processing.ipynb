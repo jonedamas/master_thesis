{
 "cells": [
  {
   "cell_type": "code",
   "execution_count": null,
   "metadata": {},
   "outputs": [],
   "source": [
    "import pandas as pd\n",
    "import matplotlib.pyplot as plt\n",
    "import numpy as np\n",
    "import datetime as dt\n",
    "from arch import arch_model\n",
    "\n",
    "import os\n",
    "import sys\n",
    "from dotenv import load_dotenv\n",
    "\n",
    "load_dotenv()\n",
    "REPO_PATH: str = os.getenv('REPO_PATH')\n",
    "\n",
    "sys.path.insert(0, rf'{REPO_PATH}src_HF')\n",
    "from utils import *"
   ]
  },
  {
   "cell_type": "markdown",
   "metadata": {},
   "source": [
    "#### Realized volatility\n",
    "\n",
    "$$\n",
    "\\text{Realized Volatility}=\\sqrt{\\sum_{i=1}^{n}(r_i)^2}\n",
    "$$"
   ]
  },
  {
   "cell_type": "code",
   "execution_count": null,
   "metadata": {},
   "outputs": [],
   "source": [
    "FUTURE = 'CLc1'\n",
    "\n",
    "df = pd.read_csv(rf'{REPO_PATH}data\\time_series\\{FUTURE}_High_Frequency.csv')\n",
    "\n",
    "df.index = pd.to_datetime(df['Date'])\n",
    "\n",
    "df['LOGRET'] = np.log(df['CLOSE']).diff()\n",
    "\n",
    "df.loc[df.index[0], 'LOGRET'] = 0\n",
    "\n",
    "display(df)\n",
    "\n",
    "RESAMPLE_WINDOW: str = '5min'\n",
    "\n",
    "df_5min = pd.DataFrame(\n",
    "    {\n",
    "        'CLOSE': df['CLOSE'].resample(RESAMPLE_WINDOW).last(),\n",
    "        'VOLUME': df['VOLUME'].resample(RESAMPLE_WINDOW).sum(),\n",
    "        'COUNT': df['COUNT'].resample(RESAMPLE_WINDOW).sum(),\n",
    "        'LOGRET': df['LOGRET'].resample(RESAMPLE_WINDOW).sum(),\n",
    "        'REALIZED_VOL': np.sqrt((df['LOGRET'] ** 2).resample(RESAMPLE_WINDOW).sum())\n",
    "    }\n",
    ")\n",
    "\n",
    "display(df_5min)"
   ]
  },
  {
   "cell_type": "markdown",
   "metadata": {},
   "source": [
    "### Add temporal features"
   ]
  },
  {
   "cell_type": "code",
   "execution_count": null,
   "metadata": {},
   "outputs": [],
   "source": [
    "\n",
    "df_5min['HOUR'] = df_5min.index.hour\n",
    "df_5min['MINUTE'] = df_5min.index.minute\n",
    "df_5min['MINUTE_OF_DAY'] = df_5min['HOUR'] * 60 + df_5min['MINUTE']\n",
    "df_5min['DAY_OF_WEEK'] = df_5min.index.dayofweek\n",
    "df_5min['DAY_OF_MONTH'] = df_5min.index.day\n",
    "\n",
    "display(df_5min)"
   ]
  },
  {
   "cell_type": "markdown",
   "metadata": {},
   "source": [
    "### Save data"
   ]
  },
  {
   "cell_type": "code",
   "execution_count": null,
   "metadata": {},
   "outputs": [],
   "source": [
    "df_5min.to_csv(rf'{REPO_PATH}data\\time_series\\{FUTURE}_5min_processed.csv')"
   ]
  }
 ],
 "metadata": {
  "kernelspec": {
   "display_name": "base",
   "language": "python",
   "name": "python3"
  },
  "language_info": {
   "codemirror_mode": {
    "name": "ipython",
    "version": 3
   },
   "file_extension": ".py",
   "mimetype": "text/x-python",
   "name": "python",
   "nbconvert_exporter": "python",
   "pygments_lexer": "ipython3",
   "version": "3.11.4"
  }
 },
 "nbformat": 4,
 "nbformat_minor": 2
}
