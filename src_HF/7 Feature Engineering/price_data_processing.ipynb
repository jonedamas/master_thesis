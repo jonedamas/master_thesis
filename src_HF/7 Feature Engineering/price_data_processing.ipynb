{
 "cells": [
  {
   "cell_type": "code",
   "execution_count": null,
   "metadata": {},
   "outputs": [],
   "source": [
    "import pandas as pd\n",
    "import matplotlib.pyplot as plt\n",
    "import numpy as np\n",
    "import os\n",
    "import sys\n",
    "import datetime as dt\n",
    "from arch import arch_model\n",
    "\n",
    "sys.path.insert(0, r'c:\\Users\\joneh\\master_thesis\\src')\n",
    "from main_utils import *\n",
    "from db_utils import *"
   ]
  },
  {
   "cell_type": "code",
   "execution_count": null,
   "metadata": {},
   "outputs": [],
   "source": [
    "df = pd.read_csv(r'C:\\Users\\joneh\\master_thesis\\data\\time_series\\CLc1.csv')\n",
    "# drop count\n",
    "df.drop(columns=['COUNT', 'HIGH', 'LOW', 'OPEN'], inplace=True)\n",
    "\n",
    "df.index = pd.to_datetime(df['Date'])\n",
    "\n",
    "# calculate log returns\n",
    "\n",
    "# check for negative CLOSE values\n",
    "# if df['CLOSE'].min() < 0:\n",
    "\n",
    "df['LOGRET'] = np.log(df['CLOSE'].apply(lambda x: complex(x, 0))).diff().apply(lambda x: x.real)\n",
    "\n",
    "# else:\n",
    "#     df['LOGRET'] = np.log(df['CLOSE']).diff()\n",
    "\n",
    "\n",
    "# add GARCH(1,1)\n",
    "am = arch_model(df['LOGRET'][1:] * 100, vol='Garch', p=1, o=0, q=1, dist='Normal')\n",
    "res = am.fit(update_freq=5)\n",
    "\n",
    "# add conditional volatility\n",
    "df['GARCH'] = res.conditional_volatility / 100\n",
    "\n",
    "display(df)"
   ]
  },
  {
   "cell_type": "code",
   "execution_count": null,
   "metadata": {},
   "outputs": [],
   "source": [
    "df['YEAR'] = df.index.year\n",
    "df['MONTH'] = df.index.month\n",
    "df['DAY'] = df.index.day\n",
    "df['WEEKDAY'] = df.index.weekday\n",
    "df['WEEK'] = df.index.week\n",
    "\n",
    "display(df)"
   ]
  },
  {
   "cell_type": "markdown",
   "metadata": {},
   "source": [
    "### Save data"
   ]
  },
  {
   "cell_type": "code",
   "execution_count": null,
   "metadata": {},
   "outputs": [],
   "source": [
    "# Enter filename here:\n",
    "file_name = 'CLc1_processed.csv'\n",
    "# Enter relative path for saving the file:\n",
    "relative_path = 'data/time_series/'\n",
    "\n",
    "df.to_csv(save_path(relative_path, file_name), index=True)"
   ]
  }
 ],
 "metadata": {
  "kernelspec": {
   "display_name": "base",
   "language": "python",
   "name": "python3"
  },
  "language_info": {
   "codemirror_mode": {
    "name": "ipython",
    "version": 3
   },
   "file_extension": ".py",
   "mimetype": "text/x-python",
   "name": "python",
   "nbconvert_exporter": "python",
   "pygments_lexer": "ipython3",
   "version": "3.11.4"
  }
 },
 "nbformat": 4,
 "nbformat_minor": 2
}
