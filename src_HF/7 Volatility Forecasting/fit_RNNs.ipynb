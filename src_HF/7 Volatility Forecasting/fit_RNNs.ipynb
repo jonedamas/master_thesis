{
 "cells": [
  {
   "cell_type": "code",
   "execution_count": null,
   "metadata": {},
   "outputs": [],
   "source": [
    "import numpy as np\n",
    "import pandas as pd\n",
    "import yaml\n",
    "import json\n",
    "from tqdm.notebook import tqdm\n",
    "import matplotlib.pyplot as plt\n",
    "from sklearn.metrics import mean_squared_error, mean_absolute_error\n",
    "from tensorflow.keras.callbacks import EarlyStopping\n",
    "import os\n",
    "import sys\n",
    "import warnings\n",
    "from dotenv import load_dotenv\n",
    "\n",
    "warnings.filterwarnings(\"ignore\")\n",
    "load_dotenv()\n",
    "REPO_PATH = os.getenv(\"REPO_PATH\")\n",
    "sys.path.insert(0, rf'{REPO_PATH}src_HF')\n",
    "\n",
    "from utils.forecast_utils import RNNGenerator, build_rnn_model\n",
    "from utils.model_utils import save_model_info"
   ]
  },
  {
   "cell_type": "markdown",
   "metadata": {},
   "source": [
    "### Create RNN data generator"
   ]
  },
  {
   "cell_type": "code",
   "execution_count": null,
   "metadata": {},
   "outputs": [],
   "source": [
    "# load yaml file\n",
    "with open('variable_config.yaml') as file:\n",
    "    config = yaml.load(file, Loader=yaml.FullLoader)\n",
    "\n",
    "# Define feature list and target\n",
    "feature_columns = list()\n",
    "feature_columns += config['BASE']\n",
    "feature_columns += config['TEMPORAL']\n",
    "# feature_columns += config['SENTIMENT']\n",
    "target_column = config['SENTIMENT_CUSTOM']"
   ]
  },
  {
   "cell_type": "markdown",
   "metadata": {},
   "source": [
    "### Build and fit model"
   ]
  },
  {
   "cell_type": "code",
   "execution_count": null,
   "metadata": {},
   "outputs": [],
   "source": [
    "DATA_PARAMS: dict[str, any] = {\n",
    "    'feature_columns': feature_columns,\n",
    "    'target_column': 'TARGET_1',\n",
    "    'window_size': 14,\n",
    "    'test_size': 0.2,\n",
    "    'val_size': 0.2,\n",
    "    'CV': False,\n",
    "    'scaler_type': 'RobustScaler'\n",
    "}\n",
    "\n",
    "MODEL_PARAMS: dict[str, any] = {\n",
    "    'units_first_layer': 64,\n",
    "    'units_second_layer': 64,\n",
    "    'dropout_rate_first': 0.2104,\n",
    "    'dropout_rate_second': 0.2869,\n",
    "    'l2_strength': 0.002,\n",
    "    'learning_rate': 0.0003,\n",
    "    'batch_size': 64,\n",
    "    'noise_std': 0.0851\n",
    "}\n",
    "\n",
    "RNN_TYPE='BiLSTM'\n",
    "MAX_EPOCHS = 150\n",
    "\n",
    "# Configure early stopping\n",
    "early_stopping = EarlyStopping(\n",
    "    monitor='val_loss', \n",
    "    patience=10, \n",
    "    restore_best_weights=True, \n",
    "    verbose=1\n",
    ")\n",
    "\n",
    "# Create generator\n",
    "gen = RNNGenerator(\n",
    "    future='CLc1', \n",
    "    CV=DATA_PARAMS['CV']\n",
    ")\n",
    "\n",
    "gen.preprocess_data(\n",
    "    DATA_PARAMS['feature_columns'], \n",
    "    DATA_PARAMS['target_column'], \n",
    "    DATA_PARAMS['window_size'],\n",
    "    test_size=DATA_PARAMS['test_size'],\n",
    "    val_size=DATA_PARAMS['val_size'],\n",
    "    scaler_type=DATA_PARAMS['scaler_type']\n",
    ")\n",
    "\n",
    "# Build the model\n",
    "model = build_rnn_model(\n",
    "    RNN_TYPE, \n",
    "    MODEL_PARAMS, \n",
    "    (DATA_PARAMS['window_size'], len(DATA_PARAMS['feature_columns']))\n",
    ")\n",
    "\n",
    "fig, ax = plt.subplots(figsize=(7, 5), dpi=200)\n",
    "\n",
    "history_list = list()\n",
    "# Train the model with early stopping and Cross Validation\n",
    "for i in tqdm(range(len(gen.train_generators))):\n",
    "    history = model.fit(\n",
    "        gen.train_generators[i],\n",
    "        epochs=MAX_EPOCHS,\n",
    "        batch_size=MODEL_PARAMS['batch_size'], \n",
    "        validation_data=gen.val_generators[i], \n",
    "        callbacks=[early_stopping],\n",
    "        verbose=1\n",
    "    )\n",
    "    history_list.append(history)\n",
    "    ax.plot(history.history['loss'], label=f'Train Loss k={i + 1}')\n",
    "    ax.plot(history.history['val_loss'], linestyle=':', label=f'Val Loss k={i + 1}')\n",
    "\n",
    "    ax.set_yscale('log')\n",
    "\n",
    "    fig.savefig(f'model_vizualizations/live.png')\n",
    "\n",
    "ax.set_title('Model Training and Validation Loss')\n",
    "ax.set_xlabel('Epochs')\n",
    "ax.set_ylabel('Loss MSE')\n",
    "ax.legend(frameon=False)\n",
    "\n",
    "current_dt = pd.Timestamp.now().strftime('%Y.%m.%d_%H.%M')"
   ]
  },
  {
   "cell_type": "markdown",
   "metadata": {},
   "source": [
    "### Save model"
   ]
  },
  {
   "cell_type": "code",
   "execution_count": null,
   "metadata": {},
   "outputs": [],
   "source": [
    "IDENTIFIER: str = 'loss' + '_'\n",
    "\n",
    "# save model\n",
    "model_name = f'{gen.future}_{RNN_TYPE}_{IDENTIFIER}{current_dt}'\n",
    "\n",
    "save_model_info(\n",
    "    model,\n",
    "    model_name,\n",
    "    MODEL_PARAMS,\n",
    "    DATA_PARAMS\n",
    ")\n"
   ]
  },
  {
   "cell_type": "code",
   "execution_count": null,
   "metadata": {},
   "outputs": [],
   "source": [
    "# Evaluate the model\n",
    "view = 500\n",
    "\n",
    "test_predictions = model.predict(gen.test_generator)\n",
    "test_predictions = test_predictions.flatten()\n",
    "\n",
    "test_targets = np.concatenate([y for _, y in gen.test_generator])\n",
    "test_targets = test_targets.flatten()\n",
    "\n",
    "mse = mean_squared_error(test_targets, test_predictions)\n",
    "mae = mean_absolute_error(test_targets, test_predictions)\n",
    "\n",
    "print(f'Mean Squared Error: {mse}')\n",
    "print(f'Mean Absolute Error: {mae}')\n",
    "\n",
    "# plot fit vs actual\n",
    "\n",
    "fig, ax = plt.subplots(figsize=(10, 5), dpi=200)\n",
    "ax.plot(test_targets[-view:], label='Actual')\n",
    "ax.plot(test_predictions[-view:], label='Predicted')\n",
    "ax.set_title('Model Fit vs Actual')\n",
    "ax.set_xlabel('Samples')\n",
    "ax.set_ylabel('Price')\n",
    "ax.legend(frameon=False)"
   ]
  },
  {
   "cell_type": "code",
   "execution_count": null,
   "metadata": {},
   "outputs": [],
   "source": [
    "plt.figure(figsize=(10, 5))\n",
    "residuals = test_targets - test_predictions\n",
    "plt.plot(residuals[-view:], color='blue')\n",
    "plt.title('Residuals of Model Predictions', fontsize=16)\n",
    "plt.xlabel('Time Steps', fontsize=15)\n",
    "plt.ylabel('Residuals', fontsize=15)\n",
    "plt.show()"
   ]
  }
 ],
 "metadata": {
  "kernelspec": {
   "display_name": "master",
   "language": "python",
   "name": "python3"
  },
  "language_info": {
   "codemirror_mode": {
    "name": "ipython",
    "version": 3
   },
   "file_extension": ".py",
   "mimetype": "text/x-python",
   "name": "python",
   "nbconvert_exporter": "python",
   "pygments_lexer": "ipython3",
   "version": "3.11.4"
  }
 },
 "nbformat": 4,
 "nbformat_minor": 2
}
