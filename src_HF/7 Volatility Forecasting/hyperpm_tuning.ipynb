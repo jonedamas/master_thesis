{
 "cells": [
  {
   "cell_type": "code",
   "execution_count": null,
   "metadata": {},
   "outputs": [],
   "source": [
    "import numpy as np\n",
    "import pandas as pd\n",
    "import yaml\n",
    "import json\n",
    "import os\n",
    "import sys\n",
    "from dotenv import load_dotenv\n",
    "\n",
    "load_dotenv()\n",
    "REPO_PATH = os.getenv(\"REPO_PATH\")\n",
    "sys.path.insert(0, rf'{REPO_PATH}src_HF')\n",
    "\n",
    "from utils.forecast_utils import RNNGenerator\n",
    "from utils.model_utils import optimize_hyperparameters"
   ]
  },
  {
   "cell_type": "markdown",
   "metadata": {},
   "source": [
    "### Import data"
   ]
  },
  {
   "cell_type": "code",
   "execution_count": null,
   "metadata": {},
   "outputs": [],
   "source": [
    "# load yaml file\n",
    "with open('variable_config.yaml') as file:\n",
    "    config = yaml.load(file, Loader=yaml.FullLoader)\n",
    "\n",
    "# Define feature list and target\n",
    "feature_columns = list()\n",
    "\n",
    "feature_columns += config['BASE']\n",
    "feature_columns += config['SENTIMENT_CUSTOM']\n",
    "feature_columns += config['TEMPORAL']\n",
    "\n",
    "# Specify RNN model. Alternatives: BiLSTM, GRU or BiGRU\n",
    "rnn_type='LSTM'\n",
    "\n",
    "# Specify data\n",
    "future = 'CLc1'\n",
    "rnn_type='LSTM'\n",
    "\n",
    "data_params = {\n",
    "    'feature_columns': feature_columns,\n",
    "    'target_column': 'TARGET_1',\n",
    "    'window_size': 30,\n",
    "    'test_size': 0.2,\n",
    "    'val_size': 0.2,\n",
    "    'CV': False\n",
    "}\n",
    "\n",
    "# Specify data\n",
    "gen = RNNGenerator(future='CLc1', CV=data_params['CV'])\n",
    "\n",
    "gen.preprocess_data(\n",
    "    data_params['feature_columns'], \n",
    "    data_params['target_column'], \n",
    "    data_params['window_size'],\n",
    "    test_size=data_params['test_size'],\n",
    "    val_size=data_params['val_size']\n",
    ")\n"
   ]
  },
  {
   "cell_type": "code",
   "execution_count": null,
   "metadata": {},
   "outputs": [],
   "source": [
    "trial_params = {\n",
    "        'units_first_layer': [16, 32, 64, 128],\n",
    "        'units_second_layer': [16, 32, 64, 96],\n",
    "        'dropout_rate_first': [0.1, 0.5],\n",
    "        'dropout_rate_second': [0.1, 0.5],\n",
    "        'l2_strength': [1e-5, 1e-3],\n",
    "        'learning_rate': [1e-5, 1e-2],\n",
    "        'batch_size': [16, 32, 64],\n",
    "        'noise_std': [0.01, 0.1]\n",
    "}\n",
    "\n",
    "# Find the best hyperparameters using Optuna\n",
    "best_params = optimize_hyperparameters(\n",
    "    gen.train_generators[-1],\n",
    "    gen.val_generators[-1],\n",
    "    trial_params,\n",
    "    data_params['target_column'], \n",
    "    rnn_type,\n",
    "    data_params['window_size'], \n",
    "    n_trials=50, \n",
    "    n_jobs=-1\n",
    ")\n",
    "\n",
    "current_dt = pd.Timestamp.now().strftime('%Y.%m.%d_%H.%M')\n",
    "hp_filename = f'{future}_{rnn_type}_{current_dt}'\n",
    "\n",
    "print(f'Best parameters for {rnn_type} model: ', best_params)\n",
    "\n",
    "# Save best hyperparameters to .json file\n",
    "with open(f'hyperpm_archive/{hp_filename}.json', 'w') as file:\n",
    "    json.dump(best_params, file, indent=4)\n"
   ]
  }
 ],
 "metadata": {
  "kernelspec": {
   "display_name": "base",
   "language": "python",
   "name": "python3"
  },
  "language_info": {
   "codemirror_mode": {
    "name": "ipython",
    "version": 3
   },
   "file_extension": ".py",
   "mimetype": "text/x-python",
   "name": "python",
   "nbconvert_exporter": "python",
   "pygments_lexer": "ipython3",
   "version": "3.11.4"
  }
 },
 "nbformat": 4,
 "nbformat_minor": 2
}
