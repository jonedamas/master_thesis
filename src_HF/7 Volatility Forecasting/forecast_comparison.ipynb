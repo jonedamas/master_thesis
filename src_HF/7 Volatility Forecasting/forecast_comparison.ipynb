{
 "cells": [
  {
   "cell_type": "code",
   "execution_count": null,
   "metadata": {},
   "outputs": [],
   "source": [
    "import pandas as pd\n",
    "import yaml\n",
    "import matplotlib.pyplot as plt\n",
    "\n",
    "from tqdm.notebook import tqdm\n",
    "import os\n",
    "import sys\n",
    "import warnings\n",
    "from dotenv import load_dotenv\n",
    "\n",
    "warnings.filterwarnings(\"ignore\")\n",
    "load_dotenv()\n",
    "REPO_PATH = os.getenv(\"REPO_PATH\")\n",
    "sys.path.insert(0, rf'{REPO_PATH}src_HF')\n",
    "\n",
    "from utils.model_utils import RNNGenerator\n",
    "from utils.forecast_utils import ForecastModel"
   ]
  },
  {
   "cell_type": "markdown",
   "metadata": {},
   "source": [
    "### Load data"
   ]
  },
  {
   "cell_type": "code",
   "execution_count": null,
   "metadata": {},
   "outputs": [],
   "source": [
    "# Specify data\n",
    "gen = RNNGenerator(future='CLc1', topic='CRU')\n",
    "\n",
    "# load yaml file\n",
    "with open('variable_config.yaml') as file:\n",
    "    config = yaml.load(file, Loader=yaml.FullLoader)\n",
    "\n",
    "# Define feature list and target\n",
    "feature_columns = list()\n",
    "feature_columns += config['BASE']\n",
    "feature_columns += config['SENTIMENT']\n",
    "feature_columns += config['TEMPORAL']\n",
    "feature_columns += config['LAGS']\n",
    "\n",
    "target_column = 'TARGET'\n",
    "\n",
    "# Define window size\n",
    "window_size = 30\n"
   ]
  },
  {
   "cell_type": "markdown",
   "metadata": {},
   "source": [
    "### Load models"
   ]
  },
  {
   "cell_type": "code",
   "execution_count": null,
   "metadata": {},
   "outputs": [],
   "source": [
    "MODEL_NAMES = [\n",
    "    'CLc1_CRU_BiGRU_Std_2024.05.15_18.17',\n",
    "    'CLc1_CRU_BiGRU_Rob_2024.05.15_18.30',\n",
    "    'CLc1_CRU_BiGRU_light_2024.05.15_19.21'\n",
    "]\n",
    "\n",
    "MODEL_PARAMS = {\n",
    "    'units_first_layer': 64,\n",
    "    'units_second_layer': 64,\n",
    "    'dropout_rate_first': 0.1,\n",
    "    'dropout_rate_second': 0.1,\n",
    "    'l2_strength': 1e-05,\n",
    "    'learning_rate': 0.01,\n",
    "    'batch_size': 32,\n",
    "    'noise_std': 0.01\n",
    "}\n",
    "\n",
    "OPT_PARAMS = {\n",
    "    'units_first_layer': 16,\n",
    "    'units_second_layer': 16,\n",
    "    'dropout_rate_first': 0.2104,\n",
    "    'dropout_rate_second': 0.2869,\n",
    "    'l2_strength': 0.000033,\n",
    "    'learning_rate': 0.0028,\n",
    "    'batch_size': 64,\n",
    "    'noise_std': 0.0851\n",
    "}\n",
    "\n",
    "params = [MODEL_PARAMS, MODEL_PARAMS, OPT_PARAMS]\n",
    "\n",
    "data_params = {\n",
    "    'feature_columns': feature_columns,\n",
    "    'target_column': target_column,\n",
    "    'window_size': window_size,\n",
    "    'test_size': 0.2,\n",
    "    'val_size': 0.2,\n",
    "    'CV': True\n",
    "}\n",
    "\n",
    "model_dict = dict()\n",
    "for i, model_name in enumerate(tqdm(MODEL_NAMES)):\n",
    "    model_dict[model_name] = ForecastModel(model_name, params[i], data_params)\n"
   ]
  },
  {
   "cell_type": "code",
   "execution_count": null,
   "metadata": {},
   "outputs": [],
   "source": [
    "for model in model_dict.values():\n",
    "    model.describe()\n",
    "    print()"
   ]
  },
  {
   "cell_type": "code",
   "execution_count": null,
   "metadata": {},
   "outputs": [],
   "source": [
    "# Evaluate the model\n",
    "view = 300\n",
    "\n",
    "fig, ax = plt.subplots(figsize=(10, 5), dpi=200)\n",
    "\n",
    "for i, model in enumerate(model_dict.values()):\n",
    "    if i == 0:\n",
    "        actual = model.test_targets[-view:]\n",
    "        ax.plot(actual, label='Actual ' + model.model_name.split('_')[0], color='gray', lw=0.8)\n",
    "\n",
    "    ax.plot(model.test_predictions[-view:], label=' '.join(model.model_name.split('_')[1:4]), lw=0.8)\n",
    "    \n",
    "ax.set_title('Realized 5-min volatiltiy, Model Fit vs Actual')\n",
    "ax.set_xlabel('Samples')\n",
    "ax.set_ylabel('Price')\n",
    "ax.legend(frameon=False)\n",
    "ax.grid(alpha=0.3)"
   ]
  },
  {
   "cell_type": "markdown",
   "metadata": {},
   "source": [
    "### Daily realized volatiltiy"
   ]
  },
  {
   "cell_type": "code",
   "execution_count": null,
   "metadata": {},
   "outputs": [],
   "source": [
    "# Evaluate the model\n",
    "fig, ax = plt.subplots(figsize=(10, 5), dpi=200)\n",
    "\n",
    "for i, model in enumerate(model_dict.values()):\n",
    "    test_pred = pd.Series(model.test_predictions, index=model.gen.test_dates[-len(model.test_predictions):])\n",
    "\n",
    "    if i == 0:\n",
    "        actual = pd.Series(model.test_targets, index=model.gen.test_dates[-len(model.test_targets):])\n",
    "        ax.plot(actual.resample('D').sum(), label='Actual ' + model.model_name.split('_')[0], color='gray', lw=0.8)\n",
    "\n",
    "    ax.plot(test_pred.resample('D').sum(), label=' '.join(model.model_name.split('_')[1:4]), lw=0.8)\n",
    "    \n",
    "ax.set_title('Realized 5-min volatiltiy, Model Fit vs Actual')\n",
    "ax.set_xlabel('Samples')\n",
    "ax.set_ylabel('Price')\n",
    "ax.legend(frameon=False, loc='upper left', ncols=3)\n",
    "ax.grid(alpha=0.3)"
   ]
  }
 ],
 "metadata": {
  "kernelspec": {
   "display_name": "base",
   "language": "python",
   "name": "python3"
  },
  "language_info": {
   "codemirror_mode": {
    "name": "ipython",
    "version": 3
   },
   "file_extension": ".py",
   "mimetype": "text/x-python",
   "name": "python",
   "nbconvert_exporter": "python",
   "pygments_lexer": "ipython3",
   "version": "3.11.4"
  }
 },
 "nbformat": 4,
 "nbformat_minor": 2
}
