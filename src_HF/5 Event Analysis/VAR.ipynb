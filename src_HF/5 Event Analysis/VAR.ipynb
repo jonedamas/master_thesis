{
 "cells": [
  {
   "cell_type": "code",
   "execution_count": null,
   "metadata": {},
   "outputs": [],
   "source": [
    "import pandas as pd\n",
    "import matplotlib.pyplot as plt\n",
    "from tqdm.notebook import tqdm\n",
    "import warnings\n",
    "import scienceplots\n",
    "from statsmodels.tsa.api import VAR\n",
    "from statsmodels.tsa.stattools import adfuller\n",
    "\n",
    "import sys\n",
    "import os\n",
    "from dotenv import load_dotenv\n",
    "\n",
    "load_dotenv()\n",
    "warnings.filterwarnings(\"ignore\")\n",
    "plt.style.use('science')\n",
    "\n",
    "REPO_PATH = os.getenv(\"REPO_PATH\")\n",
    "\n",
    "# Import main utility functions\n",
    "sys.path.insert(0, rf'{REPO_PATH}src_HF')\n",
    "from utils.var_utils import plot_criterion, grangers_causation_matrix, SentVAR"
   ]
  },
  {
   "cell_type": "markdown",
   "metadata": {},
   "source": [
    "### Load data"
   ]
  },
  {
   "cell_type": "code",
   "execution_count": null,
   "metadata": {},
   "outputs": [],
   "source": [
    "FUTURES = ['CLc1', 'LCOc1']\n",
    "TOPICS = ['CRU', 'CWP', 'CEN']\n",
    "INTER_TOPICS = [f\"{topic}_{i}\" for topic in TOPICS for i in range(3)]\n",
    "CROSS_TOPICS = [f'CT_{i}' for i in range(5)]\n",
    "\n",
    "def sentiment_cols(tags: list[str]) -> list[str]:\n",
    "    analyzers = ['VADER', 'TextBlob']\n",
    "    return [f\"{tag}_{analyzer}\" for analyzer in analyzers for tag in tags]\n",
    "\n",
    "dfs = {\n",
    "    future: pd.read_csv(\n",
    "        os.path.join(\n",
    "            REPO_PATH,\n",
    "            'data',\n",
    "            'prepared_data',\n",
    "            f\"{future}_5min_resampled.csv\"\n",
    "        ),\n",
    "        index_col='date',\n",
    "        parse_dates=True\n",
    "    ) for future in FUTURES\n",
    "}"
   ]
  },
  {
   "cell_type": "markdown",
   "metadata": {},
   "source": [
    "### Stationarity of time series with ADF"
   ]
  },
  {
   "cell_type": "code",
   "execution_count": null,
   "metadata": {},
   "outputs": [],
   "source": [
    "INSTRUMENT = 'CLc1'\n",
    "\n",
    "df = dfs[INSTRUMENT]\n",
    "\n",
    "SI_columns = df.filter(like='_SI').columns.to_list()\n",
    "base_columns = ['CLOSE', 'VOLUME', 'COUNT', 'REALIZED_VOL']\n",
    "\n",
    "variables = SI_columns + base_columns\n",
    "\n",
    "results = {}\n",
    "for col in tqdm(variables, desc='Stationarity test'):\n",
    "    result = adfuller(df[col])\n",
    "    results[col] = result[:2]\n",
    "\n",
    "res_df = pd.DataFrame(results).T\n",
    "res_df.columns = ['ADF Statistic', 'p-value']\n",
    "\n",
    "print(f'ADFuller test results for {INSTRUMENT} sentiment data:')\n",
    "display(res_df)"
   ]
  },
  {
   "cell_type": "markdown",
   "metadata": {},
   "source": [
    "### VAR Optmal lag order, Impulse response function"
   ]
  },
  {
   "cell_type": "code",
   "execution_count": null,
   "metadata": {},
   "outputs": [],
   "source": [
    "# find optimal lag order\n",
    "RESPONSE: list[str] = ['VOLUME', 'REALIZED_VOL']\n",
    "\n",
    "all_tags = [*TOPICS, *INTER_TOPICS, *CROSS_TOPICS]\n",
    "\n",
    "cols = sentiment_cols(all_tags)\n",
    "\n",
    "fig, ax = plt.subplots(1, 2, figsize=(8, 4), dpi=200)\n",
    "\n",
    "for i, (key, df) in enumerate(tqdm(dfs.items(), desc='Lag order selection')):\n",
    "    model = VAR(df[[*RESPONSE, *cols]])\n",
    "    lag_order = model.select_order(30, trend='c')\n",
    "    plot_criterion(lag_order, ax[i], key)\n",
    "\n",
    "plt.tight_layout()\n",
    "\n",
    "fig.savefig(rf'images/lag_order.png')\n"
   ]
  },
  {
   "cell_type": "markdown",
   "metadata": {},
   "source": [
    "### Granger causality"
   ]
  },
  {
   "cell_type": "code",
   "execution_count": null,
   "metadata": {},
   "outputs": [],
   "source": [
    "df = dfs['CLc1']\n",
    "\n",
    "# all cross topic columns\n",
    "CT_colums = df.filter(like='CT').columns.to_list()\n",
    "grangers_causation_matrix(df, base_columns + CT_colums)\n"
   ]
  },
  {
   "cell_type": "markdown",
   "metadata": {},
   "source": [
    "### Topic"
   ]
  },
  {
   "cell_type": "code",
   "execution_count": null,
   "metadata": {},
   "outputs": [],
   "source": [
    "\n",
    "ANALYZER = 'VADER'\n",
    "\n",
    "fig, axs = plt.subplots(1, 3, figsize=(15, 5), dpi=200)\n",
    "axs = axs.flatten()\n",
    "\n",
    "for i, topic in enumerate(tqdm(TOPICS)):\n",
    "    sent_var = SentVAR(dfs, topic, ANALYZER)\n",
    "    sent_var.plot_irf(axs[i])\n",
    "    if i == 0:\n",
    "        fig.legend(\n",
    "            loc='lower center', \n",
    "            bbox_to_anchor=(0.5, -0.1), \n",
    "            ncol=4, \n",
    "            fontsize=17\n",
    "        )\n",
    "\n",
    "fig.tight_layout()\n",
    "\n",
    "fig.savefig(rf'images/irf_topics_{ANALYZER}.png')\n"
   ]
  },
  {
   "cell_type": "markdown",
   "metadata": {},
   "source": [
    "### Inter-topic"
   ]
  },
  {
   "cell_type": "code",
   "execution_count": null,
   "metadata": {},
   "outputs": [],
   "source": [
    "\n",
    "fig, axs = plt.subplots(3, 3, figsize=(15, 15), dpi=200)\n",
    "axs = axs.flatten()\n",
    "\n",
    "for i, topic in enumerate(tqdm(INTER_TOPICS)):\n",
    "    sent_var = SentVAR(dfs, topic, ANALYZER)\n",
    "    sent_var.plot_irf(axs[i])\n",
    "    if i == 0:\n",
    "        fig.legend(\n",
    "            loc='lower center', \n",
    "            bbox_to_anchor=(0.5, -0.1/3), \n",
    "            ncol=4, \n",
    "            fontsize=15\n",
    "        )\n",
    "\n",
    "fig.tight_layout()\n",
    "\n",
    "fig.savefig(rf'images/irf_inter_topics_{ANALYZER}.png')"
   ]
  },
  {
   "cell_type": "markdown",
   "metadata": {},
   "source": [
    "### Cross-topic"
   ]
  },
  {
   "cell_type": "code",
   "execution_count": null,
   "metadata": {},
   "outputs": [],
   "source": [
    "\n",
    "fig = plt.figure(figsize=(15, 10), dpi=200)\n",
    "\n",
    "locs = [(0,0), (0,2), (0,4), (1,1), (1,3)]\n",
    "axs = [plt.subplot2grid((2,6), loc, colspan=2, fig=fig) for loc in locs]\n",
    "\n",
    "for i, topic in enumerate(tqdm(CROSS_TOPICS)):\n",
    "    sent_var = SentVAR(dfs, topic, ANALYZER)\n",
    "    sent_var.plot_irf(axs[i])\n",
    "    if i == 0:\n",
    "        fig.legend(\n",
    "            loc='lower center', \n",
    "            bbox_to_anchor=(0.5, -0.1/2), \n",
    "            ncol=4, \n",
    "            fontsize=15\n",
    "        )\n",
    "\n",
    "fig.tight_layout()\n",
    "\n",
    "fig.savefig(rf'images/irf_cross_topics_{ANALYZER}.png')"
   ]
  }
 ],
 "metadata": {
  "kernelspec": {
   "display_name": "base",
   "language": "python",
   "name": "python3"
  },
  "language_info": {
   "codemirror_mode": {
    "name": "ipython",
    "version": 3
   },
   "file_extension": ".py",
   "mimetype": "text/x-python",
   "name": "python",
   "nbconvert_exporter": "python",
   "pygments_lexer": "ipython3",
   "version": "3.11.4"
  }
 },
 "nbformat": 4,
 "nbformat_minor": 2
}
