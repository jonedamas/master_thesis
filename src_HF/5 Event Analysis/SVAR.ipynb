{
 "cells": [
  {
   "cell_type": "code",
   "execution_count": null,
   "metadata": {},
   "outputs": [],
   "source": [
    "import pandas as pd\n",
    "import numpy as np\n",
    "import seaborn as sns\n",
    "import matplotlib.pyplot as plt\n",
    "from scipy import stats\n",
    "from tqdm import tqdm\n",
    "\n",
    "import statsmodels.api as sm\n",
    "\n",
    "from statsmodels.tsa.api import SVAR, VAR\n",
    "from statsmodels.tsa.stattools import adfuller, grangercausalitytests\n",
    "\n",
    "import sys\n",
    "import os\n",
    "from dotenv import load_dotenv\n",
    "\n",
    "load_dotenv()\n",
    "REPO_PATH = os.getenv(\"REPO_PATH\")\n",
    "\n",
    "# Import main utility functions\n",
    "sys.path.insert(0, rf'{REPO_PATH}src_HF')\n",
    "from utils import *"
   ]
  },
  {
   "cell_type": "markdown",
   "metadata": {},
   "source": [
    "### Load data"
   ]
  },
  {
   "cell_type": "code",
   "execution_count": null,
   "metadata": {},
   "outputs": [],
   "source": [
    "INSTRUMENT = 'LCOc1'\n",
    "TOPIC = 'CWP'\n",
    "\n",
    "price_df = pd.read_csv(rf'{REPO_PATH}data\\time_series\\{INSTRUMENT}_5min_processed.csv', index_col=0)\n",
    "price_df.index = pd.to_datetime(price_df.index)\n",
    "\n",
    "news_df = pd.read_csv(rf'{REPO_PATH}data\\sentiment_data\\{TOPIC}_ARTICLE_SENTIMENT.csv', index_col=0)\n",
    "news_df.index = pd.to_datetime(news_df.index)\n",
    "\n",
    "# multiply RV by 100 to make it more readable\n",
    "price_df['REALIZED_VOL'] = price_df['REALIZED_VOL'] * 12 * 252 * 24\n",
    "price_df['LOGRET'] = price_df['LOGRET'] * 12 * 24\n",
    "\n",
    "RESAMPLE_WINDOW: str = '5min'\n",
    "\n",
    "SENTIMENT_COLUMNS = ['TextBlob_headline', 'VADER_headline', 'TextBlob_fullStory', 'VADER_fullStory']\n",
    "ABS_SENTIMENT_COLUMNS = [col + '_abs' for col in SENTIMENT_COLUMNS]\n",
    "\n",
    "df_sent_5min = pd.DataFrame(\n",
    "    {col: news_df[col].resample(RESAMPLE_WINDOW).mean() for col in SENTIMENT_COLUMNS}\n",
    ").fillna(0)\n",
    "\n",
    "df_sent_abs_5min = pd.DataFrame(\n",
    "    {col + '_abs': news_df[col].resample(RESAMPLE_WINDOW).mean().abs() for col in SENTIMENT_COLUMNS}\n",
    ").fillna(0)\n",
    "\n",
    "df_sent_5min = pd.concat([df_sent_5min, df_sent_abs_5min], axis=1)\n",
    "\n",
    "display(price_df.head(2))"
   ]
  },
  {
   "cell_type": "markdown",
   "metadata": {},
   "source": [
    "### combine data"
   ]
  },
  {
   "cell_type": "code",
   "execution_count": null,
   "metadata": {},
   "outputs": [],
   "source": [
    "df_combined = df_sent_5min.join(price_df).dropna()\n",
    "\n",
    "fig, ax = plt.subplots(1, 1, figsize=(15, 5))\n",
    "ax2 = ax.twinx()\n",
    "\n",
    "display(df_combined.head(2))\n",
    "\n",
    "ax.plot(df_combined['VADER_headline'].rolling(12 * 24).mean(), label='VADER_headline')\n",
    "ax2.plot(df_combined['REALIZED_VOL'].rolling(12 * 24).mean(), label='VADER_fullStory', color='red')"
   ]
  },
  {
   "cell_type": "markdown",
   "metadata": {},
   "source": [
    "### Stationarity of time series"
   ]
  },
  {
   "cell_type": "code",
   "execution_count": null,
   "metadata": {},
   "outputs": [],
   "source": [
    "results = []\n",
    "\n",
    "for col in SENTIMENT_COLUMNS + ['CLOSE', 'VOLUME', 'COUNT', 'REALIZED_VOL']:\n",
    "    print(col)\n",
    "    result = adfuller(df_combined[col])\n",
    "    results.append(result)\n",
    "\n",
    "    # show p-value\n",
    "    print('ADF Statistic: %f' % result[0])\n",
    "    print('p-value: %f' % result[1])\n",
    "    print('Critical Values:' % result[4])\n",
    "    for key, value in result[4].items():\n",
    "        print('\\t%s: %.3f' % (key, value))\n"
   ]
  },
  {
   "cell_type": "markdown",
   "metadata": {},
   "source": [
    "### VAR Optmal lag order"
   ]
  },
  {
   "cell_type": "code",
   "execution_count": null,
   "metadata": {},
   "outputs": [],
   "source": [
    "# find optimal lag order\n",
    "RESPONSE: list[str] = ['VOLUME', 'REALIZED_VOL']\n",
    "SENTIMENT_COLUMNS: list[str] = ['TextBlob_headline', 'VADER_headline', 'TextBlob_fullStory', 'VADER_fullStory']\n",
    "\n",
    "model = VAR(df_combined[[*RESPONSE, SENTIMENT_COLUMNS[2]]])\n",
    "lag_order = model.select_order(50, trend='c')\n",
    "\n",
    "print(lag_order.summary())\n",
    "\n",
    "# plot AIC vs lag order\n",
    "\n",
    "aic_list = lag_order.ics['bic']\n",
    "lag_list = range(len(aic_list))\n",
    "\n",
    "\n",
    "fig, ax = plt.subplots(1, 1, figsize=(15, 5))\n",
    "ax.plot(lag_list, aic_list)"
   ]
  },
  {
   "cell_type": "markdown",
   "metadata": {},
   "source": [
    "### Granger causality"
   ]
  },
  {
   "cell_type": "code",
   "execution_count": null,
   "metadata": {},
   "outputs": [],
   "source": [
    "df = df_combined[[*SENTIMENT_COLUMNS, *RESPONSE]]\n",
    "\n",
    "def grangers_causation_matrix(data, variables, test='ssr_chi2test', verbose=False, maxlag=12):    \n",
    "   \n",
    "    df = pd.DataFrame(np.zeros((len(variables), len(variables))), columns=variables, index=variables)\n",
    "    for c in df.columns:\n",
    "        for r in df.index:\n",
    "            test_result = grangercausalitytests(data[[r, c]], maxlag=maxlag, verbose=False)\n",
    "            p_values = [round(test_result[i+1][0][test][1],4) for i in range(maxlag)]\n",
    "            if verbose: print(f'Y = {r}, X = {c}, P Values = {p_values}')\n",
    "            min_p_value = np.min(p_values)\n",
    "            df.loc[r, c] = min_p_value\n",
    "    df.columns = [var + '_x' for var in variables]\n",
    "    df.index = [var + '_y' for var in variables]\n",
    "    return df\n",
    "\n",
    "grangers_causation_matrix(df, df.columns)\n"
   ]
  },
  {
   "cell_type": "markdown",
   "metadata": {},
   "source": [
    "### VAR"
   ]
  },
  {
   "cell_type": "code",
   "execution_count": null,
   "metadata": {},
   "outputs": [],
   "source": [
    "RESPONSE: list[str] = ['VOLUME', 'REALIZED_VOL']\n",
    "SENTIMENT_COLUMNS: list[str] = ['TextBlob_headline', 'VADER_headline', 'TextBlob_fullStory', 'VADER_fullStory']\n",
    "\n",
    "def plot_response(df: pd.DataFrame, response: list[str], sentiment: list[str], response_names: list[str], sentiment_names: list[str]) -> plt.Figure:\n",
    "\n",
    "    colors_pos = ['tab:blue', 'gray', 'gray']\n",
    "    colors_neg = ['tab:red', 'gray', 'gray']\n",
    "    linestyles = ['-', '--', '--']\n",
    "\n",
    "    figure, axs = plt.subplots(\n",
    "        len(response), \n",
    "        len(sentiment), \n",
    "        figsize=(4 * len(sentiment), 4 * len(response))\n",
    "    )\n",
    "\n",
    "    df_pos = df.copy()\n",
    "    df_pos[SENTIMENT_COLUMNS] = df_pos[SENTIMENT_COLUMNS].clip(lower=0)\n",
    "    df_neg = df.copy()\n",
    "    df_neg[SENTIMENT_COLUMNS] = df_neg[SENTIMENT_COLUMNS].clip(upper=0).abs()\n",
    "\n",
    "    for j, sent_col in enumerate(sentiment):\n",
    "        model_pos: VAR = VAR(df_pos[[sent_col, *response]])\n",
    "        model_neg: VAR = VAR(df_neg[[sent_col, *response]])\n",
    "\n",
    "        results_pos = model_pos.fit(5)\n",
    "        results_neg = model_neg.fit(5)\n",
    "\n",
    "        # impulse response\n",
    "        irf_pos = results_pos.irf(12)\n",
    "        irf_neg = results_neg.irf(12)\n",
    "        fig = irf_pos.plot(orth=False, impulse=sent_col)\n",
    "        fig_neg = irf_neg.plot(orth=False, impulse=sent_col)\n",
    "\n",
    "        for i, (ax, ax_neg) in enumerate(zip(fig.axes[1:], fig_neg.axes[1:])):\n",
    "\n",
    "            for k in range(3):\n",
    "                axs[i, j].plot(\n",
    "                    ax.lines[k].get_xdata(), ax.lines[k].get_ydata(), \n",
    "                    linestyle=linestyles[k], \n",
    "                    color=colors_pos[k], \n",
    "                    label=f'Positive sentiment' if k == 0 else None\n",
    "                )\n",
    "                axs[i, j].plot(\n",
    "                    ax_neg.lines[k].get_xdata(), ax_neg.lines[k].get_ydata(), \n",
    "                    linestyle=linestyles[k], \n",
    "                    color=colors_neg[k], \n",
    "                    label=f'Negative sentiment' if k == 0 else None\n",
    "                )\n",
    "            axs[i, j].set_title(fr'{sentiment_names[j]} $\\rightarrow$ {response_names[i]}', fontsize=15)\n",
    "            axs[i, j].axhline(0, color='black', lw=0.5)\n",
    "            axs[i, j].set_xlabel('Minutes', fontsize=14)\n",
    "            axs[i, j].set_ylabel(response_names[i] + ' response', fontsize=14)\n",
    "            axs[i, j].legend(fontsize=11, frameon=False, loc='upper right')\n",
    "\n",
    "            # multiply x-ticks with 5 \n",
    "            axs[i, j].set_xticks(np.arange(0, 13, 2))\n",
    "            axs[i, j].set_xticklabels(np.arange(0, 13, 2) * 5)\n",
    "\n",
    "    figure.tight_layout(pad=1.0)\n",
    "\n",
    "    return figure\n",
    "\n",
    "\n",
    "fig = plot_response(df_combined, RESPONSE, SENTIMENT_COLUMNS, ['Volume', 'RV'], SENTIMENT_COLUMNS)\n",
    "\n",
    "fig.savefig(rf'VAR_IRF.png', dpi=200)"
   ]
  },
  {
   "cell_type": "markdown",
   "metadata": {},
   "source": [
    "### Impulse response function"
   ]
  },
  {
   "cell_type": "code",
   "execution_count": null,
   "metadata": {},
   "outputs": [],
   "source": [
    "results.impulse_responses(10, orthogonalized=True, impulse=[1, 0]).plot(figsize=(13,3))"
   ]
  }
 ],
 "metadata": {
  "kernelspec": {
   "display_name": "base",
   "language": "python",
   "name": "python3"
  },
  "language_info": {
   "codemirror_mode": {
    "name": "ipython",
    "version": 3
   },
   "file_extension": ".py",
   "mimetype": "text/x-python",
   "name": "python",
   "nbconvert_exporter": "python",
   "pygments_lexer": "ipython3",
   "version": "3.11.4"
  }
 },
 "nbformat": 4,
 "nbformat_minor": 2
}
