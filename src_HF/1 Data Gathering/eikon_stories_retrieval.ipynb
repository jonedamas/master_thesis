{
 "cells": [
  {
   "cell_type": "code",
   "execution_count": null,
   "metadata": {},
   "outputs": [],
   "source": [
    "import eikon as ek\n",
    "import pandas as pd\n",
    "\n",
    "import json\n",
    "import os\n",
    "import sys\n",
    "from dotenv import load_dotenv\n",
    "\n",
    "load_dotenv()\n",
    "ek.set_app_key(os.getenv('EIKON_API_KEY'))\n",
    "REPO_PATH: str = os.getenv('REPO_PATH')\n",
    "\n",
    "sys.path.insert(0, rf'{REPO_PATH}src_HF')\n",
    "from utils import *\n"
   ]
  },
  {
   "cell_type": "markdown",
   "metadata": {},
   "source": [
    "### Gather data with EIKON, building on existing file"
   ]
  },
  {
   "cell_type": "code",
   "execution_count": null,
   "metadata": {},
   "outputs": [],
   "source": [
    "TOPIC: str = 'CWP'  # the topic to download the news for\n",
    "\n",
    "headline_df: pd.DataFrame = pd.read_csv(rf'{REPO_PATH}data\\raw_news_headlines\\EIKON_{TOPIC}_NEWS.csv')  # load the headlines\n",
    "\n",
    "previous_stories: dict[str, str] = load_previous_stories(TOPIC)  # load the existing stories\n",
    "\n",
    "existing_ids = previous_stories.keys()  # get all story ids already downloaded\n",
    "\n",
    "storie_ids: pd.Series = headline_df[~headline_df['storyId'].isin(existing_ids)]['storyId']  # get all story ids not in the existing_ids series\n",
    "\n",
    "print(f'Number of stories alredy downloaded/failed: ({len(existing_ids)}/{len(headline_df)})')\n",
    "\n",
    "new_dict: dict[str, str] = extract_stories(storie_ids)  # download the stories\n",
    "\n",
    "previous_stories.update(new_dict)  # update the text_dict with the new_dict\n",
    "\n",
    "with open(rf'{REPO_PATH}data\\raw_news_stories\\EIKON_{TOPIC}_NEWS_FULL.json', 'w') as file:\n",
    "    json.dump(previous_stories, file, indent=2)  # save the updated text_dict\n"
   ]
  },
  {
   "cell_type": "markdown",
   "metadata": {},
   "source": [
    "### Retry failed requests"
   ]
  },
  {
   "cell_type": "code",
   "execution_count": null,
   "metadata": {},
   "outputs": [],
   "source": [
    "previous_stories: dict[str, str] = load_previous_stories(TOPIC)\n",
    "\n",
    "error_ids: list[str] = [k for k, v in previous_stories.items() if v == 'error']\n",
    "\n",
    "print(f'Number of stories with errors: {len(error_ids)}')\n",
    "\n",
    "new_dict: dict[str, str] = extract_stories(error_ids)  # download the stories\n",
    "\n",
    "previous_stories.update(new_dict)  # update the text_dict with the new_dict\n",
    "\n",
    "with open(rf'{REPO_PATH}data\\raw_news_stories\\EIKON_{TOPIC}_NEWS_FULL.json', 'w') as file:\n",
    "    json.dump(previous_stories, file, indent=2)  # save the updated text_dict"
   ]
  }
 ],
 "metadata": {
  "kernelspec": {
   "display_name": "base",
   "language": "python",
   "name": "python3"
  },
  "language_info": {
   "codemirror_mode": {
    "name": "ipython",
    "version": 3
   },
   "file_extension": ".py",
   "mimetype": "text/x-python",
   "name": "python",
   "nbconvert_exporter": "python",
   "pygments_lexer": "ipython3",
   "version": "3.11.4"
  }
 },
 "nbformat": 4,
 "nbformat_minor": 2
}
