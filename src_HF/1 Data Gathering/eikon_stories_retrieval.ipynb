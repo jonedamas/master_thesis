{
 "cells": [
  {
   "cell_type": "code",
   "execution_count": null,
   "metadata": {},
   "outputs": [],
   "source": [
    "import eikon as ek\n",
    "import pandas as pd\n",
    "from tqdm import tqdm\n",
    "\n",
    "import json\n",
    "import os\n",
    "import sys\n",
    "from dotenv import load_dotenv\n",
    "\n",
    "load_dotenv()\n",
    "ek.set_app_key(os.getenv('EIKON_API_KEY'))\n",
    "repo_path = os.getenv('REPO_PATH')\n",
    "\n",
    "sys.path.insert(0, repo_path + r'src_HF')\n",
    "from utils.main_utils import *\n",
    "from utils.gather_utils import *\n"
   ]
  },
  {
   "cell_type": "markdown",
   "metadata": {},
   "source": [
    "### Gather data with EIKON"
   ]
  },
  {
   "cell_type": "code",
   "execution_count": null,
   "metadata": {},
   "outputs": [],
   "source": [
    "headline_topic = 'CWP'\n",
    "\n",
    "headline_df = pd.read_csv(repo_path + rf'data\\raw_news_headlines\\EIKON_{headline_topic}_NEWS.csv')\n",
    "\n",
    "previous_stories = load_previous_stories(headline_topic)\n",
    "\n",
    "existing_ids = previous_stories.keys()\n",
    "\n",
    "# get all story ids not in the existing_ids series\n",
    "storie_ids = headline_df[~headline_df['storyId'].isin(existing_ids)]['storyId']\n",
    "\n",
    "print(f'Number of stories alredy downloaded/failed: ({len(existing_ids)}/{len(headline_df)})')\n",
    "\n",
    "# download the stories\n",
    "new_dict = extract_stories(storie_ids)\n"
   ]
  },
  {
   "cell_type": "markdown",
   "metadata": {},
   "source": [
    "### Update existing dictionary"
   ]
  },
  {
   "cell_type": "code",
   "execution_count": null,
   "metadata": {},
   "outputs": [],
   "source": [
    "# update the text_dict with the new_dict\n",
    "previous_stories.update(new_dict)\n",
    "\n",
    "# save the updated text_dict\n",
    "with open(repo_path + rf'data\\raw_news_stories\\EIKON_{headline_topic}_NEWS_FULL.json', 'w') as f:\n",
    "    json.dump(previous_stories, f, indent=2)\n"
   ]
  },
  {
   "cell_type": "markdown",
   "metadata": {},
   "source": [
    "### Error retry"
   ]
  },
  {
   "cell_type": "code",
   "execution_count": null,
   "metadata": {},
   "outputs": [],
   "source": [
    "previous_stories = load_previous_stories(headline_topic)\n",
    "\n",
    "error_ids = [k for k, v in previous_stories.items() if v == 'error']\n",
    "\n",
    "print(f'Number of stories with errors: {len(error_ids)}')\n",
    "\n",
    "# download the stories\n",
    "new_dict = extract_stories(error_ids)\n"
   ]
  },
  {
   "cell_type": "code",
   "execution_count": null,
   "metadata": {},
   "outputs": [],
   "source": [
    "# update the text_dict with the new_dict\n",
    "previous_stories.update(new_dict)\n",
    "\n",
    "# save the updated text_dict\n",
    "with open(repo_path + rf'data\\raw_news_stories\\EIKON_{headline_topic}_NEWS_FULL.json', 'w') as f:\n",
    "    json.dump(previous_stories, f, indent=2)"
   ]
  }
 ],
 "metadata": {
  "kernelspec": {
   "display_name": "base",
   "language": "python",
   "name": "python3"
  },
  "language_info": {
   "codemirror_mode": {
    "name": "ipython",
    "version": 3
   },
   "file_extension": ".py",
   "mimetype": "text/x-python",
   "name": "python",
   "nbconvert_exporter": "python",
   "pygments_lexer": "ipython3",
   "version": "3.11.4"
  }
 },
 "nbformat": 4,
 "nbformat_minor": 2
}
