{
 "cells": [
  {
   "cell_type": "code",
   "execution_count": null,
   "metadata": {},
   "outputs": [],
   "source": [
    "import eikon as ek\n",
    "import pandas as pd\n",
    "import datetime as dt\n",
    "from textblob import TextBlob\n",
    "from tqdm import tqdm\n",
    "from bs4 import BeautifulSoup\n",
    "\n",
    "import os\n",
    "import sys\n",
    "from dotenv import load_dotenv\n",
    "\n",
    "load_dotenv()\n",
    "ek.set_app_key(os.getenv('EIKON_API_KEY'))\n",
    "repo_path = os.getenv('REPO_PATH')\n",
    "\n",
    "sys.path.insert(0, repo_path + r'src_HF')\n",
    "from utils.main_utils import *\n",
    "\n",
    "def get_story_text(id: str, text_dict: dict[str:str]) -> None:\n",
    "    response = ek.get_news_story(id)\n",
    "    soup: BeautifulSoup = BeautifulSoup(response, 'html.parser')\n",
    "    text: str = soup.get_text()\n",
    "    text_dict[id] = text"
   ]
  },
  {
   "cell_type": "code",
   "execution_count": null,
   "metadata": {},
   "outputs": [],
   "source": [
    "headline_topic = 'CRU'\n",
    "\n",
    "# load headlines\n",
    "headline_df = pd.read_csv(rf'data\\raw_news_headlines\\EIKON_{headline_topic}_NEWS.csv')\n",
    "\n",
    "# check if file exists, if not create it\n",
    "if not os.path.exists(repo_path + rf'data\\raw_news_stories\\EIKON_{headline_topic}_NEWS_FULL.csv'):\n",
    "    blank_df = pd.DataFrame(columns=['date', 'versionCreated', 'text', 'storyId', 'sourceCode', 'fullStory'])\n",
    "    blank_df.to_csv(repo_path + rf'data\\raw_news_stories\\EIKON_{headline_topic}_NEWS_FULL.csv', index=False)\n",
    "\n",
    "# load existing story data\n",
    "existing_df = pd.read_csv(repo_path + rf'data\\raw_news_stories\\EIKON_{headline_topic}_NEWS_FULL.csv')\n",
    "existing_ids = existing_df['storyId']\n",
    "\n",
    "# get all story ids not in the existing_ids series\n",
    "storie_ids = headline_df[~headline_df['storyId'].isin(existing_ids)]['storyId']\n",
    "\n",
    "print(f'Number of stories alredy downloaded/failed: ({len(existing_ids)}/{len(headline_df)})')\n",
    "\n",
    "text_dict = dict()\n",
    "nexcept = 0\n",
    "\n",
    "for id in tqdm(storie_ids):\n",
    "    try:\n",
    "        get_story_text(id, text_dict)\n",
    "\n",
    "    except ek.EikonError as e:\n",
    "        \n",
    "        if str(e) == 'Error code 429 | Client Error: Too many requests, please try again later.':\n",
    "            print('Daily request limit reached')\n",
    "            break  # Break if daily request limit is reached\n",
    "        \n",
    "        else:\n",
    "            text_dict[id] = 'error'  # Add error message to text_dict if other error occurs\n"
   ]
  },
  {
   "cell_type": "code",
   "execution_count": null,
   "metadata": {},
   "outputs": [],
   "source": [
    "text_df = pd.DataFrame.from_dict(text_dict, orient='index', columns=['text'])\n",
    "\n",
    "display(text_df)\n",
    "\n",
    "# map the text to the headlines\n",
    "headline_df['fullStory'] = headline_df['storyId'].map(text_df['text'])\n",
    "complete_df = pd.concat([existing_df, headline_df.dropna(subset=['fullStory'])])\n",
    "\n",
    "complete_df.to_csv(repo_path + rf'data\\raw_news_stories\\EIKON_{headline_topic}_NEWS_FULL.csv', index=False)"
   ]
  },
  {
   "cell_type": "code",
   "execution_count": null,
   "metadata": {},
   "outputs": [],
   "source": [
    "pd.read_csv(rf'C:\\Users\\joneh\\master_thesis\\data\\raw_news_stories\\EIKON_CRU_NEWS_FULL.csv')"
   ]
  }
 ],
 "metadata": {
  "kernelspec": {
   "display_name": "base",
   "language": "python",
   "name": "python3"
  },
  "language_info": {
   "codemirror_mode": {
    "name": "ipython",
    "version": 3
   },
   "file_extension": ".py",
   "mimetype": "text/x-python",
   "name": "python",
   "nbconvert_exporter": "python",
   "pygments_lexer": "ipython3",
   "version": "3.11.4"
  }
 },
 "nbformat": 4,
 "nbformat_minor": 2
}
