{
 "cells": [
  {
   "cell_type": "code",
   "execution_count": null,
   "metadata": {},
   "outputs": [],
   "source": [
    "import eikon as ek\n",
    "import refinitiv.data as rd\n",
    "import pandas as pd\n",
    "import os\n",
    "import sys\n",
    "import datetime as dt\n",
    "from textblob import TextBlob\n",
    "\n",
    "from retrying import retry\n",
    "from dotenv import load_dotenv\n",
    "from tqdm import tqdm\n",
    "from bs4 import BeautifulSoup\n",
    "\n",
    "sys.path.insert(0, r'c:\\Users\\joneh\\master_thesis\\src_HF')\n",
    "from utils.main_utils import *\n",
    "\n",
    "load_dotenv()\n",
    "ek.set_app_key(os.getenv('EIKON_API_KEY'))\n",
    "rd.open_session(app_key=os.getenv('EIKON_API_KEY'))"
   ]
  },
  {
   "cell_type": "code",
   "execution_count": null,
   "metadata": {},
   "outputs": [],
   "source": [
    "headline_topic = 'CRU'\n",
    "\n",
    "headline_df = pd.read_csv(rf'C:\\Users\\joneh\\master_thesis\\data\\raw_news_headlines\\EIKON_{headline_topic}_NEWS.csv')\n",
    "\n",
    "# check if file exists\n",
    "if not os.path.exists(rf'C:\\Users\\joneh\\master_thesis\\data\\raw_news_stories\\EIKON_{headline_topic}_NEWS_FULL.csv'):\n",
    "    blank_df = pd.DataFrame(columns=['date', 'versionCreated', 'text', 'storyId', 'sourceCode', 'fullStory'])\n",
    "    blank_df.to_csv(rf'C:\\Users\\joneh\\master_thesis\\data\\raw_news_stories\\EIKON_{headline_topic}_NEWS_FULL.csv', index=False)\n",
    "\n",
    "existing_df = pd.read_csv(rf'C:\\Users\\joneh\\master_thesis\\data\\raw_news_stories\\EIKON_{headline_topic}_NEWS_FULL.csv')\n",
    "existing_ids = existing_df['storyId']\n",
    "\n",
    "# get all story ids not in the existing_ids series\n",
    "storie_ids = headline_df[~headline_df['storyId'].isin(existing_ids)]['storyId']\n",
    "\n",
    "print(f'Number of stories alredy downloaded/failed: ({len(existing_ids)}/{len(headline_df)})')\n",
    "\n",
    "text_dict = dict()\n",
    "\n",
    "for id in tqdm(storie_ids):\n",
    "    try:\n",
    "        response = ek.get_news_story(id)\n",
    "        soup = BeautifulSoup(response, 'html.parser')\n",
    "        text = soup.get_text()\n",
    "        text_dict[id] = text\n",
    "    except ek.EikonError as e:\n",
    "        if e == 'Error code 429 | Client Error: Too many requests, please try again later.':\n",
    "            break\n",
    "        else:\n",
    "            print('Error')\n",
    "            text_dict[id] = 'error'\n"
   ]
  },
  {
   "cell_type": "code",
   "execution_count": null,
   "metadata": {},
   "outputs": [],
   "source": [
    "text_df = pd.DataFrame.from_dict(text_dict, orient='index', columns=['text'])\n",
    "\n",
    "display(text_df)\n",
    "\n",
    "# map the text to the headlines\n",
    "headline_df['fullStory'] = headline_df['storyId'].map(text_df['text'])\n",
    "complete_df = pd.concat([existing_df, headline_df.dropna(subset=['fullStory'])])\n",
    "\n",
    "complete_df.to_csv(rf'C:\\Users\\joneh\\master_thesis\\data\\raw_news_stories\\EIKON_{headline_topic}_NEWS_FULL.csv', index=False)"
   ]
  },
  {
   "cell_type": "code",
   "execution_count": null,
   "metadata": {},
   "outputs": [],
   "source": [
    "pd.read_csv(rf'C:\\Users\\joneh\\master_thesis\\data\\raw_news_stories\\EIKON_CRU_NEWS_FULL.csv')"
   ]
  }
 ],
 "metadata": {
  "kernelspec": {
   "display_name": "base",
   "language": "python",
   "name": "python3"
  },
  "language_info": {
   "codemirror_mode": {
    "name": "ipython",
    "version": 3
   },
   "file_extension": ".py",
   "mimetype": "text/x-python",
   "name": "python",
   "nbconvert_exporter": "python",
   "pygments_lexer": "ipython3",
   "version": "3.11.4"
  }
 },
 "nbformat": 4,
 "nbformat_minor": 2
}
