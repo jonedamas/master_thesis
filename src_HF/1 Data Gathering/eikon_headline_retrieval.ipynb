{
 "cells": [
  {
   "cell_type": "markdown",
   "metadata": {},
   "source": [
    "### Initialization"
   ]
  },
  {
   "cell_type": "code",
   "execution_count": null,
   "metadata": {},
   "outputs": [],
   "source": [
    "import eikon as ek\n",
    "import refinitiv.data as rd\n",
    "import pandas as pd\n",
    "import os\n",
    "import sys\n",
    "import datetime as dt\n",
    "\n",
    "from retrying import retry\n",
    "from dotenv import load_dotenv\n",
    "from tqdm import tqdm\n",
    "from bs4 import BeautifulSoup\n",
    "\n",
    "sys.path.insert(0, r'c:\\Users\\joneh\\master_thesis\\src_HF')\n",
    "from utils.main_utils import *\n",
    "\n",
    "load_dotenv()\n",
    "ek.set_app_key(os.getenv('EIKON_API_KEY'))\n",
    "rd.open_session(app_key=os.getenv('EIKON_API_KEY'))"
   ]
  },
  {
   "cell_type": "markdown",
   "metadata": {},
   "source": [
    "## Resources\n",
    "\n",
    "add link here\n",
    "[EIKON information sheet](https://developers.lseg.com/content/dam/devportal/api-families/eikon/eikon-data-api/documentation/eikon_data_api_for_python_v1.pdf)\n",
    "\n",
    "### Parameters\n",
    "\n",
    "#### Topics\n",
    "\n",
    "- **Crude Oil**: Topic:CRU\n",
    "\n",
    "- **Conflict War Peace**: Topic:CWP\n",
    "\n",
    "- **Central Banks**: Topic:CEN"
   ]
  },
  {
   "cell_type": "markdown",
   "metadata": {},
   "source": [
    "### Parameters"
   ]
  },
  {
   "cell_type": "code",
   "execution_count": null,
   "metadata": {},
   "outputs": [],
   "source": [
    "TOPIC = 'CEN'\n",
    "query = f'Topic:{TOPIC} AND language:LEN'\n",
    "\n",
    "start_date = dt.datetime(2023, 1, 11)\n",
    "end_date = dt.datetime(2024, 3, 30)\n",
    "\n",
    "dates = pd.date_range(start_date, end_date, freq='D')\n"
   ]
  },
  {
   "cell_type": "markdown",
   "metadata": {},
   "source": [
    "### Data retrieval"
   ]
  },
  {
   "cell_type": "code",
   "execution_count": null,
   "metadata": {},
   "outputs": [],
   "source": [
    "news_df_list = []\n",
    "\n",
    "for date in dates:\n",
    "    today = date\n",
    "    tomorrow = date + dt.timedelta(days=1)\n",
    "\n",
    "    df = ek.get_news_headlines(\n",
    "        query, \n",
    "        date_from=str(today),\n",
    "        date_to=str(tomorrow), \n",
    "        count=100\n",
    "    )\n",
    "\n",
    "    news_df_list.append(df)\n",
    "\n",
    "news_df = pd.concat(news_df_list)\n",
    "news_df.index.name = 'Date'\n",
    "\n",
    "display(news_df)"
   ]
  },
  {
   "cell_type": "markdown",
   "metadata": {},
   "source": [
    "### Save Data"
   ]
  },
  {
   "cell_type": "code",
   "execution_count": null,
   "metadata": {},
   "outputs": [],
   "source": [
    "# Enter filename here:\n",
    "file_name = f'EIKON_CEN_NEWS.csv'\n",
    "# Enter relative path for saving the file:\n",
    "relative_path = 'data/news'\n",
    "\n",
    "news_df.to_csv(save_path(relative_path, file_name), index=True)"
   ]
  }
 ],
 "metadata": {
  "kernelspec": {
   "display_name": "Python 3",
   "language": "python",
   "name": "python3"
  },
  "language_info": {
   "codemirror_mode": {
    "name": "ipython",
    "version": 3
   },
   "file_extension": ".py",
   "mimetype": "text/x-python",
   "name": "python",
   "nbconvert_exporter": "python",
   "pygments_lexer": "ipython3",
   "version": "undefined.undefined.undefined"
  }
 },
 "nbformat": 4,
 "nbformat_minor": 2
}
