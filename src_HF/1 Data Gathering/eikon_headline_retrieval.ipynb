{
 "cells": [
  {
   "cell_type": "markdown",
   "metadata": {},
   "source": [
    "### Initialization"
   ]
  },
  {
   "cell_type": "code",
   "execution_count": null,
   "metadata": {},
   "outputs": [],
   "source": [
    "import eikon as ek\n",
    "import pandas as pd\n",
    "import datetime as dt\n",
    "\n",
    "import os\n",
    "import sys\n",
    "from dotenv import load_dotenv\n",
    "\n",
    "load_dotenv()\n",
    "ek.set_app_key(os.getenv('EIKON_API_KEY'))\n",
    "REPO_PATH = os.getenv('REPO_PATH')\n",
    "\n",
    "sys.path.insert(0, rf'{REPO_PATH}src_HF')\n",
    "from utils import *"
   ]
  },
  {
   "cell_type": "markdown",
   "metadata": {},
   "source": [
    "## Resources\n",
    "\n",
    "add link here\n",
    "[EIKON information sheet](https://developers.lseg.com/content/dam/devportal/api-families/eikon/eikon-data-api/documentation/eikon_data_api_for_python_v1.pdf)\n",
    "\n",
    "### Parameters\n",
    "\n",
    "#### Topics\n",
    "\n",
    "- **Crude Oil**: Topic:CRU\n",
    "\n",
    "- **Conflict War Peace**: Topic:CWP\n",
    "\n",
    "- **Central Banks**: Topic:CEN"
   ]
  },
  {
   "cell_type": "markdown",
   "metadata": {},
   "source": [
    "### Parameters"
   ]
  },
  {
   "cell_type": "code",
   "execution_count": null,
   "metadata": {},
   "outputs": [],
   "source": [
    "TOPIC: str = 'CEN'\n",
    "QUERY: str = f'Topic:{TOPIC} AND language:LEN'\n",
    "\n",
    "START_DATE: dt.datetime = dt.datetime(2023, 1, 11)\n",
    "END_DATE: dt.datetime = dt.datetime(2024, 3, 30)"
   ]
  },
  {
   "cell_type": "markdown",
   "metadata": {},
   "source": [
    "### Data retrieval"
   ]
  },
  {
   "cell_type": "code",
   "execution_count": null,
   "metadata": {},
   "outputs": [],
   "source": [
    "dates: pd.DatetimeIndex = pd.date_range(START_DATE, END_DATE, freq='D')\n",
    "\n",
    "news_df_list = []\n",
    "\n",
    "for date in dates:\n",
    "    today = date\n",
    "    tomorrow = date + dt.timedelta(days=1)\n",
    "\n",
    "    df = ek.get_news_headlines(\n",
    "        QUERY, \n",
    "        date_from=str(today),\n",
    "        date_to=str(tomorrow), \n",
    "        count=100\n",
    "    )\n",
    "\n",
    "    news_df_list.append(df)\n",
    "\n",
    "news_df = pd.concat(news_df_list)\n",
    "news_df.index.name = 'Date'\n",
    "\n",
    "display(news_df)"
   ]
  },
  {
   "cell_type": "markdown",
   "metadata": {},
   "source": [
    "### Save Data"
   ]
  },
  {
   "cell_type": "code",
   "execution_count": null,
   "metadata": {},
   "outputs": [],
   "source": [
    "# Enter filename here:\n",
    "file_name = f'EIKON_CEN_NEWS.csv'\n",
    "# Enter relative path for saving the file:\n",
    "relative_path = 'data/news'\n",
    "\n",
    "news_df.to_csv(save_path(relative_path, file_name), index=True)"
   ]
  }
 ],
 "metadata": {
  "kernelspec": {
   "display_name": "Python 3",
   "language": "python",
   "name": "python3"
  },
  "language_info": {
   "codemirror_mode": {
    "name": "ipython",
    "version": 3
   },
   "file_extension": ".py",
   "mimetype": "text/x-python",
   "name": "python",
   "nbconvert_exporter": "python",
   "pygments_lexer": "ipython3",
   "version": "3.11.4"
  }
 },
 "nbformat": 4,
 "nbformat_minor": 2
}
