{
 "cells": [
  {
   "cell_type": "markdown",
   "metadata": {},
   "source": [
    "### Initialization"
   ]
  },
  {
   "cell_type": "code",
   "execution_count": null,
   "metadata": {},
   "outputs": [],
   "source": [
    "import pandas as pd\n",
    "import matplotlib.pyplot as plt\n",
    "import numpy as np\n",
    "import eikon as ek\n",
    "import os\n",
    "import sys\n",
    "import datetime as dt\n",
    "\n",
    "from dotenv import load_dotenv\n",
    "\n",
    "sys.path.insert(0, r'c:\\Users\\joneh\\master_thesis\\src_HF')\n",
    "from utils.main_utils import *\n",
    "\n",
    "load_dotenv()\n",
    "ek.set_app_key(os.getenv('EIKON_API_KEY'))\n"
   ]
  },
  {
   "cell_type": "markdown",
   "metadata": {},
   "source": [
    "### Daily Price data retrieval"
   ]
  },
  {
   "cell_type": "code",
   "execution_count": null,
   "metadata": {},
   "outputs": [],
   "source": [
    "RIC = 'LCOc1'\n",
    "\n",
    "start_date = dt.datetime(2023, 4, 11)\n",
    "end_date = dt.datetime(2024, 4, 5)\n",
    "\n",
    "dates = pd.date_range(start_date, end_date, freq='m')\n",
    "\n",
    "price_df_list = []\n",
    "\n",
    "from_date = start_date\n",
    "\n",
    "run = True\n",
    "while run:\n",
    "    to_date = from_date + dt.timedelta(days=31)\n",
    "    \n",
    "    if to_date > end_date:\n",
    "        to_date = end_date\n",
    "        run = False\n",
    "\n",
    "    price_data = ek.get_timeseries(\n",
    "            RIC,\n",
    "            start_date=str(from_date),\n",
    "            end_date=str(to_date),\n",
    "            interval='minute',\n",
    "            calendar='calendardays',\n",
    "            corax='adjusted'\n",
    "        )\n",
    "\n",
    "    price_df_list.append(price_data)\n",
    "\n",
    "    # set from_date to last date in dataframe\n",
    "    from_date = price_data.index[-1]\n",
    "\n",
    "price_df = pd.concat(price_df_list)\n",
    "price_df = price_df[~price_df.index.duplicated()]\n",
    "\n",
    "display(price_df)"
   ]
  },
  {
   "cell_type": "markdown",
   "metadata": {},
   "source": [
    "### Save data"
   ]
  },
  {
   "cell_type": "code",
   "execution_count": null,
   "metadata": {},
   "outputs": [],
   "source": [
    "# Enter filename here:\n",
    "file_name = f'{RIC}_High_Frequency.csv'\n",
    "# Enter relative path for saving the file:\n",
    "relative_path = 'data/time_series/'\n",
    "\n",
    "price_df.to_csv(save_path(relative_path, file_name), index=True)"
   ]
  },
  {
   "cell_type": "code",
   "execution_count": null,
   "metadata": {},
   "outputs": [],
   "source": []
  }
 ],
 "metadata": {
  "kernelspec": {
   "display_name": "base",
   "language": "python",
   "name": "python3"
  },
  "language_info": {
   "codemirror_mode": {
    "name": "ipython",
    "version": 3
   },
   "file_extension": ".py",
   "mimetype": "text/x-python",
   "name": "python",
   "nbconvert_exporter": "python",
   "pygments_lexer": "ipython3",
   "version": "3.11.4"
  }
 },
 "nbformat": 4,
 "nbformat_minor": 2
}
