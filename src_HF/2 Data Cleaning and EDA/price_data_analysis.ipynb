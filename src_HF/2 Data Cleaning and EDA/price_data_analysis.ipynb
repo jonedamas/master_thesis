{
 "cells": [
  {
   "cell_type": "code",
   "execution_count": null,
   "metadata": {},
   "outputs": [],
   "source": [
    "import pandas as pd\n",
    "import numpy as np\n",
    "import matplotlib.pyplot as plt\n",
    "import scienceplots\n",
    "from statsmodels.graphics.tsaplots import plot_acf, plot_pacf\n",
    "import seaborn as sns\n",
    "from tqdm import tqdm\n",
    "\n",
    "import sys\n",
    "\n",
    "sys.path.insert(0, r'c:\\Users\\joneh\\master_thesis\\src_HF')\n",
    "from utils.main_utils import *\n",
    "\n",
    "import warnings\n",
    "\n",
    "warnings.filterwarnings(\"ignore\")\n",
    "plt.style.use('science')\n"
   ]
  },
  {
   "cell_type": "code",
   "execution_count": null,
   "metadata": {},
   "outputs": [],
   "source": [
    "df_LCOc1 = pd.read_csv(r'C:\\Users\\joneh\\master_thesis\\data\\time_series\\LCOc1_High_Frequency.csv') # Brent Crud Oil\n",
    "df_CLc1 = pd.read_csv(r'C:\\Users\\joneh\\master_thesis\\data\\time_series\\CLc1_High_Frequency.csv') # WTI Crud Oil\n",
    "\n",
    "# create datetime index\n",
    "df_LCOc1.index = pd.to_datetime(df_LCOc1['Date'])\n",
    "df_CLc1.index = pd.to_datetime(df_CLc1['Date'])\n",
    "\n",
    "config = load_json(r'C:\\Users\\joneh\\master_thesis\\src_HF\\plot_config.json')"
   ]
  },
  {
   "cell_type": "markdown",
   "metadata": {},
   "source": [
    "### Price plot"
   ]
  },
  {
   "cell_type": "code",
   "execution_count": null,
   "metadata": {},
   "outputs": [],
   "source": [
    "fig, ax = plt.subplots(figsize=(10,5))\n",
    "df_LCOc1['CLOSE'].plot(label='ICE Brent Crude', ax=ax, lw=0.8)\n",
    "df_CLc1['CLOSE'].plot(label='NYMEX Light Sweet', ax=ax, lw=0.8)\n",
    "ax.set_ylabel('Price (USD)', fontsize=14)\n",
    "ax.set_xlabel('Date', fontsize=14)\n",
    "ax.legend(frameon=False, loc='upper left', fontsize=13)\n",
    "ax.tick_params(axis='x', labelsize=14)\n",
    "\n",
    "fig.savefig('images/crude_oil_price.png', bbox_inches='tight', dpi=200)"
   ]
  },
  {
   "cell_type": "markdown",
   "metadata": {},
   "source": [
    "### Volume plot"
   ]
  },
  {
   "cell_type": "code",
   "execution_count": null,
   "metadata": {},
   "outputs": [],
   "source": [
    "fig, ax = plt.subplots(figsize=(10,5))\n",
    "# create a stacked bar plot resampled bby yearly frequency\n",
    "volume_df = pd.concat([df_LCOc1['VOLUME'].resample('w').sum(), df_CLc1['VOLUME'].resample('w').sum()], axis=1)\n",
    "volume_df.columns = ['ICE Brent Crude', 'NYMEX Light Sweet']\n",
    "\n",
    "volume_df.plot(kind='bar', stacked=True, ax=ax)\n",
    "\n",
    "ax.set_ylabel('Volume', fontsize=14)\n",
    "ax.set_xlabel('Date', fontsize=14)\n",
    "ax.legend(frameon=False, loc='upper left', fontsize=13)\n",
    "ax.tick_params(axis='x', labelsize=14)\n",
    "\n",
    "# fix x-tick labels to show month and year and only show every 4th label and .strftime('%Y-%m')\n",
    "plt.xticks(\n",
    "    np.arange(0, len(volume_df), 4), \n",
    "    volume_df.index[np.arange(0, len(volume_df), 4)].strftime('%Y-%m'), \n",
    "    rotation=45\n",
    ")\n",
    "\n",
    "\n",
    "fig.savefig('images/crude_oil_volume.png', bbox_inches='tight', dpi=200)"
   ]
  },
  {
   "cell_type": "code",
   "execution_count": null,
   "metadata": {},
   "outputs": [],
   "source": [
    "df_CLc1['CLOSE'].iloc[-50000:].plot(figsize=(12,6))"
   ]
  },
  {
   "cell_type": "code",
   "execution_count": null,
   "metadata": {},
   "outputs": [],
   "source": [
    "df_ = df_LCOc1.copy()\n",
    "\n",
    "result_dict = {}\n",
    "\n",
    "df_['LOGRET'] = np.log(df_['CLOSE']).diff()\n",
    "\n",
    "days = df_.index.normalize().unique()\n",
    "\n",
    "for i in days:\n",
    "\n",
    "    date = i.date()\n",
    "\n",
    "    df = df_[str(date)]['LOGRET']\n",
    "\n",
    "    df.index = pd.Index([time.time() for time in df.index], name='Time')\n",
    "\n",
    "    result_dict[str(date)] = df\n",
    "\n"
   ]
  },
  {
   "cell_type": "code",
   "execution_count": null,
   "metadata": {},
   "outputs": [],
   "source": [
    "df = pd.DataFrame(result_dict)\n",
    "\n",
    "mean = df.mean(axis=1)\n",
    "\n",
    "fig, ax = plt.subplots(figsize=(12,6))\n",
    "ax2 = ax.twinx()\n",
    "\n",
    "mean.cumsum().plot(ax=ax2, lw=1.5, color='black')\n",
    "\n",
    "for i in df.columns:\n",
    "    df[i].cumsum().plot(ax=ax, lw=0.3)"
   ]
  }
 ],
 "metadata": {
  "kernelspec": {
   "display_name": "base",
   "language": "python",
   "name": "python3"
  },
  "language_info": {
   "codemirror_mode": {
    "name": "ipython",
    "version": 3
   },
   "file_extension": ".py",
   "mimetype": "text/x-python",
   "name": "python",
   "nbconvert_exporter": "python",
   "pygments_lexer": "ipython3",
   "version": "3.11.4"
  }
 },
 "nbformat": 4,
 "nbformat_minor": 2
}
