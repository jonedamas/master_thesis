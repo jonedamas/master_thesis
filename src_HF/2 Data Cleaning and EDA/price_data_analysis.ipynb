{
 "cells": [
  {
   "cell_type": "code",
   "execution_count": null,
   "metadata": {},
   "outputs": [],
   "source": [
    "import pandas as pd\n",
    "import numpy as np\n",
    "import matplotlib.pyplot as plt\n",
    "import scienceplots\n",
    "from statsmodels.graphics.tsaplots import plot_acf, plot_pacf\n",
    "import seaborn as sns\n",
    "from tqdm import tqdm\n",
    "import ipywidgets as widgets\n",
    "from IPython.display import display, clear_output\n",
    "import warnings\n",
    "\n",
    "# skew and kurtosis\n",
    "from scipy.stats import skew, kurtosis\n",
    "\n",
    "import os\n",
    "import sys\n",
    "from dotenv import load_dotenv\n",
    "\n",
    "REPO_PATH = os.getenv('REPO_PATH')\n",
    "\n",
    "sys.path.insert(0, rf'{REPO_PATH}src_HF')\n",
    "from utils.main_utils import load_json\n",
    "from utils.ts_utils import FuturesBank\n",
    "\n",
    "warnings.filterwarnings(\"ignore\")\n",
    "plt.style.use('science')"
   ]
  },
  {
   "cell_type": "code",
   "execution_count": null,
   "metadata": {},
   "outputs": [],
   "source": [
    "CONFIG = load_json(rf'{REPO_PATH}src_HF\\plot_config.json')\n",
    "\n",
    "df_LCOc1 = pd.read_csv(rf'{REPO_PATH}data\\time_series\\LCOc1_High_Frequency.csv') # Brent Crud Oil\n",
    "df_CLc1 = pd.read_csv(rf'{REPO_PATH}data\\time_series\\CLc1_High_Frequency.csv') # WTI Crud Oil\n",
    "\n",
    "# create datetime index\n",
    "df_LCOc1.index = pd.to_datetime(df_LCOc1['Date'])\n",
    "df_CLc1.index = pd.to_datetime(df_CLc1['Date'])\n",
    "\n",
    "colormap = plt.cm.get_cmap('twilight', 256)\n",
    "palette = [colormap(i) for i in (70, 180)]"
   ]
  },
  {
   "cell_type": "markdown",
   "metadata": {},
   "source": [
    "### Price plot"
   ]
  },
  {
   "cell_type": "code",
   "execution_count": null,
   "metadata": {},
   "outputs": [],
   "source": [
    "fig, ax = plt.subplots(figsize=(10,5))\n",
    "palette = [colormap(i) for i in (70, 180)]\n",
    "df_LCOc1['CLOSE'].plot(label='ICE Brent Crude (LCOc1)', ax=ax, lw=0.8, color=palette[0])\n",
    "df_CLc1['CLOSE'].plot(label='NYMEX WTI Crude (CLc1)', ax=ax, lw=0.8, color=palette[1])\n",
    "ax.set_ylabel('Price (USD)', fontsize=14)\n",
    "ax.set_xlabel('Date', fontsize=14)\n",
    "ax.legend(frameon=False, loc='upper left', fontsize=13)\n",
    "ax.tick_params(axis='x', labelsize=14)\n",
    "ax.grid(alpha=0.2)\n",
    "\n",
    "fig.savefig('images/crude_oil_price.png', bbox_inches='tight', dpi=200)"
   ]
  },
  {
   "cell_type": "markdown",
   "metadata": {},
   "source": [
    "### Log returns analysis"
   ]
  },
  {
   "cell_type": "code",
   "execution_count": null,
   "metadata": {},
   "outputs": [],
   "source": [
    "fig, axs = plt.subplots(2, 1, figsize=(10,5), dpi=200, sharex=True)\n",
    "\n",
    "labels = ['ICE Brent Crude (LCOc1)', 'NYMEX WTI Crude (CLc1)']\n",
    "\n",
    "for i, df in enumerate([df_LCOc1, df_CLc1]):\n",
    "    logret = np.log(df['CLOSE']).diff()\n",
    "    logret_resampled = logret.resample('1D').sum() * 100\n",
    "    # descriptive statistics\n",
    "    display(logret_resampled.describe())\n",
    "    skewness = skew(logret_resampled.dropna())\n",
    "    kurt = kurtosis(logret_resampled.dropna())\n",
    "    print(f'Skewness: {skewness:.2f}, Kurtosis: {kurt:.2f}')\n",
    "\n",
    "    axs[i].plot(logret * 100, lw=0.8, color=palette[i], label=labels[i])\n",
    "    axs[i].set_ylabel('Log Return (\\%)', fontsize=16)\n",
    "    axs[i].legend(frameon=False, loc='upper left', fontsize=15)\n",
    "\n",
    "axs[-1].set_xlabel('Date', fontsize=16)\n",
    "fig.tight_layout(pad=-0.5)\n",
    "\n",
    "fig.savefig('images/crude_oil_log_returns.png', bbox_inches='tight')"
   ]
  },
  {
   "cell_type": "markdown",
   "metadata": {},
   "source": [
    "### Volume plot"
   ]
  },
  {
   "cell_type": "code",
   "execution_count": null,
   "metadata": {},
   "outputs": [],
   "source": [
    "fig, ax = plt.subplots(figsize=(10,5))\n",
    "# create a stacked bar plot resampled bby yearly frequency\n",
    "volume_df = pd.concat(\n",
    "    [\n",
    "        df_LCOc1['VOLUME'].resample('w').sum(), \n",
    "        df_CLc1['VOLUME'].resample('w').sum()\n",
    "    ], axis=1\n",
    ")\n",
    "volume_df.columns = ['ICE Brent Crude', 'NYMEX Light Sweet']\n",
    "\n",
    "volume_df.plot(kind='bar', stacked=True, ax=ax, color=palette, width=0.8, alpha=1)\n",
    "\n",
    "ax.set_ylabel('Volume', fontsize=14)\n",
    "ax.set_xlabel('Date', fontsize=14)\n",
    "ax.legend(frameon=False, loc='upper left', fontsize=13)\n",
    "ax.tick_params(axis='x', labelsize=14)\n",
    "\n",
    "# fix x-tick labels to show month and year and only show every 4th label and .strftime('%Y-%m')\n",
    "plt.xticks(\n",
    "    np.arange(0, len(volume_df), 4), \n",
    "    volume_df.index[np.arange(0, len(volume_df), 4)].strftime('%Y-%m'), \n",
    "    rotation=45\n",
    ")\n",
    "\n",
    "fig.savefig('images/crude_oil_volume_stacked.png', bbox_inches='tight', dpi=200)"
   ]
  },
  {
   "cell_type": "code",
   "execution_count": null,
   "metadata": {},
   "outputs": [],
   "source": [
    "\n",
    "df = df_CLc1.copy()\n",
    "\n",
    "date_picker_from = widgets.DatePicker(\n",
    "    description='Date from',\n",
    "    disabled=False,\n",
    "    value = df.index[0]\n",
    ")\n",
    "\n",
    "date_picker_to = widgets.DatePicker(\n",
    "    description='Date to',\n",
    "    disabled=False,\n",
    "    value = df.index[-1]\n",
    ")\n",
    "\n",
    "output = widgets.Output()\n",
    "\n",
    "# Function to handle plotting\n",
    "def plot_data(b):\n",
    "    with output:\n",
    "        clear_output(wait=True)\n",
    "        start_date = date_picker_from.value\n",
    "        end_date = date_picker_to.value\n",
    "        if start_date and end_date:\n",
    "            filtered_df = df.loc[start_date:end_date]\n",
    "            plt.figure(figsize=(10,5))\n",
    "            plt.plot(filtered_df.index, filtered_df['CLOSE'], linestyle='-', lw=1)\n",
    "            plt.title('Time Series Data between Selected Dates')\n",
    "            plt.xlabel('Date')\n",
    "            plt.ylabel('Value')\n",
    "            plt.grid(True)\n",
    "            plt.show()\n",
    "\n",
    "# Button to trigger the plot\n",
    "plot_button = widgets.Button(description=\"Plot Data\")\n",
    "plot_button.on_click(plot_data)\n",
    "\n",
    "# Display the widgets\n",
    "display(date_picker_from, date_picker_to, plot_button, output)"
   ]
  },
  {
   "cell_type": "markdown",
   "metadata": {},
   "source": [
    "### Price last 20 years"
   ]
  },
  {
   "cell_type": "code",
   "execution_count": null,
   "metadata": {},
   "outputs": [],
   "source": [
    "df_CLc1_daily = pd.read_csv(rf'{REPO_PATH}data\\time_series\\CLc1.csv')\n",
    "df_LCOc1_daily = pd.read_csv(rf'{REPO_PATH}data\\time_series\\LCOc1.csv')\n",
    "\n",
    "df_CLc1_daily.index = pd.to_datetime(df_CLc1_daily['Date'])\n",
    "df_LCOc1_daily.index = pd.to_datetime(df_LCOc1_daily['Date'])\n",
    "\n",
    "fig, ax = plt.subplots(figsize=(10,4))\n",
    "palette = [colormap(i) for i in (70, 180)]\n",
    "df_LCOc1_daily['CLOSE'].plot(label='ICE Brent Crude Oil', ax=ax, lw=0.6, color=palette[0])\n",
    "df_CLc1_daily['CLOSE'].plot(label='NYMEX Light Sweet Crude Oil', ax=ax, lw=0.6, color=palette[1])\n",
    "ax.set_ylabel('Price (USD)', fontsize=14)\n",
    "ax.set_xlabel('Date', fontsize=14)\n",
    "ax.legend(frameon=False, loc='lower left', fontsize=13)\n",
    "ax.tick_params(axis='x', labelsize=12)\n",
    "ax.grid(alpha=0.2)\n",
    "ax.set_axisbelow(True)\n",
    "\n",
    "fig.savefig('images/crude_oil_price_daily.png', bbox_inches='tight', dpi=200)\n"
   ]
  }
 ],
 "metadata": {
  "kernelspec": {
   "display_name": "base",
   "language": "python",
   "name": "python3"
  },
  "language_info": {
   "codemirror_mode": {
    "name": "ipython",
    "version": 3
   },
   "file_extension": ".py",
   "mimetype": "text/x-python",
   "name": "python",
   "nbconvert_exporter": "python",
   "pygments_lexer": "ipython3",
   "version": "3.11.4"
  }
 },
 "nbformat": 4,
 "nbformat_minor": 2
}
