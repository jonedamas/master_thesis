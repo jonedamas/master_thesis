{
 "cells": [
  {
   "cell_type": "code",
   "execution_count": null,
   "metadata": {},
   "outputs": [],
   "source": [
    "import numpy as np\n",
    "import matplotlib.pyplot as plt\n",
    "import warnings\n",
    "import eikon as ek\n",
    "import matplotlib.dates as mdates\n",
    "\n",
    "from plot_utils import plot_news_frequency\n",
    "\n",
    "import os\n",
    "import sys\n",
    "from dotenv import load_dotenv\n",
    "\n",
    "load_dotenv()\n",
    "ek.set_app_key(os.getenv('EIKON_API_KEY'))\n",
    "repo_path = os.getenv('REPO_PATH')\n",
    "\n",
    "warnings.filterwarnings(\"ignore\")\n",
    "\n",
    "sys.path.insert(0, repo_path + r'src_HF')\n",
    "from utils.main_utils import *"
   ]
  },
  {
   "cell_type": "markdown",
   "metadata": {},
   "source": [
    "### Load and combine news data, and remove duplicates"
   ]
  },
  {
   "cell_type": "code",
   "execution_count": null,
   "metadata": {},
   "outputs": [],
   "source": [
    "article_sources = {\n",
    "    'CRU': repo_path + r'data\\raw_news_headlines\\EIKON_CRU_NEWS.csv',\n",
    "    'CWP': repo_path + r'data\\raw_news_headlines\\EIKON_CWP_NEWS.csv',\n",
    "    'CEN': repo_path + r'data\\raw_news_headlines\\EIKON_CEN_NEWS.csv'\n",
    "}\n",
    "\n",
    "config = load_json(repo_path + r'src_HF\\plot_config.json')\n",
    "\n",
    "df_list = []\n",
    "for key, url in article_sources.items():\n",
    "    df = pd.read_csv(url)\n",
    "    df['topic'] = key\n",
    "    df_list.append(df)\n",
    "\n",
    "df = pd.concat(df_list)\n",
    "\n",
    "print('Number of duplicates: ' + str(df['storyId'].duplicated().sum()))\n",
    "\n",
    "# remove duplicates with same storyId remove latest\n",
    "df = df.sort_values('versionCreated', ascending=False).drop_duplicates('storyId').sort_index()\n",
    "\n",
    "display(df)"
   ]
  },
  {
   "cell_type": "markdown",
   "metadata": {},
   "source": [
    "### News frequency"
   ]
  },
  {
   "cell_type": "code",
   "execution_count": null,
   "metadata": {},
   "outputs": [],
   "source": [
    "\n",
    "fig, ax = plt.subplots(figsize=(10, 6), dpi=200)\n",
    "\n",
    "plt.rcParams['font.family'] = 'Arial'\n",
    "\n",
    "ti_df = df.copy()\n",
    "ti_df.index = pd.to_datetime(ti_df['versionCreated'])\n",
    "ti_df = ti_df.sort_index()\n",
    "\n",
    "ti_df['count'] = 1\n",
    "freq_df = pd.concat(\n",
    "    [\n",
    "        ti_df[ti_df['topic'] == topic]['count'].resample('m').sum() \n",
    "        for topic in ti_df['topic'].unique()\n",
    "    ], axis=1\n",
    ")\n",
    "freq_df.columns = [config[topic]['fullname'] for topic in ti_df['topic'].unique()]\n",
    "\n",
    "display(freq_df)\n",
    "\n",
    "freq_df.plot(\n",
    "    kind='bar',\n",
    "    color=[config[topic]['color'] for topic in ti_df['topic'].unique()],\n",
    "    stacked=True, \n",
    "    ax=ax\n",
    ")\n",
    "\n",
    "ax.legend(\n",
    "    title='News Topic:', \n",
    "    fontsize=11, \n",
    "    title_fontsize=12, \n",
    "    loc='upper left',\n",
    "    ncols=3,\n",
    "    fancybox=True,\n",
    "    frameon=False\n",
    ")\n",
    "\n",
    "plt.xticks(\n",
    "    np.arange(0, len(freq_df), 1), \n",
    "    freq_df.index[np.arange(0, len(freq_df), 1)].strftime('%Y-%m'), \n",
    "    rotation=45\n",
    ")\n",
    "\n",
    "ax.set_ylim(top=ax.get_ylim()[1] * 1.2)\n",
    "ax.set_xlabel('Date', fontsize=13)\n",
    "ax.set_ylabel('Number of articles', fontsize=13)\n",
    "\n",
    "plt.xticks(rotation=45)\n",
    "\n",
    "fig.savefig(f'images/news_freq.png', bbox_inches='tight')"
   ]
  },
  {
   "cell_type": "markdown",
   "metadata": {},
   "source": [
    "### Headline analysis"
   ]
  },
  {
   "cell_type": "code",
   "execution_count": null,
   "metadata": {},
   "outputs": [],
   "source": [
    "\n",
    "word_counts = df['text'].str.split().str.len()\n",
    "\n",
    "# remove counts with over 100 words\n",
    "word_counts = word_counts[word_counts < 75]\n",
    "\n",
    "fig, ax = plt.subplots()\n",
    "\n",
    "word_counts.plot(\n",
    "    kind='hist', \n",
    "    bins=75, \n",
    "    color='crimson',\n",
    "    edgecolor='black',\n",
    "    figsize=(8, 5),\n",
    "    ax=ax,\n",
    "    )\n",
    "\n",
    "ax.set_xlabel('Word count', fontsize=13)\n",
    "ax.set_ylabel('Frequency', fontsize=13)\n",
    "ax.grid(alpha=0.3)\n",
    "ax.set_axisbelow(True)\n",
    "\n",
    "fig.figure.savefig(f'images/news_word_count_dist.png', bbox_inches='tight', dpi=150)\n"
   ]
  },
  {
   "cell_type": "markdown",
   "metadata": {},
   "source": [
    "### News source"
   ]
  },
  {
   "cell_type": "code",
   "execution_count": null,
   "metadata": {},
   "outputs": [],
   "source": [
    "top10_sources =df['sourceCode'].value_counts().head(10)\n",
    "\n",
    "print(top10_sources)"
   ]
  },
  {
   "cell_type": "markdown",
   "metadata": {},
   "source": [
    "### Save combined news df"
   ]
  },
  {
   "cell_type": "code",
   "execution_count": null,
   "metadata": {},
   "outputs": [],
   "source": [
    "# Enter filename here:\n",
    "file_name = f'EIKON_ALL_NEWS.csv'\n",
    "# Enter relative path for saving the file:\n",
    "relative_path = 'data/news'\n",
    "\n",
    "df.to_csv(save_path(relative_path, file_name), index=False)"
   ]
  }
 ],
 "metadata": {
  "kernelspec": {
   "display_name": "base",
   "language": "python",
   "name": "python3"
  },
  "language_info": {
   "codemirror_mode": {
    "name": "ipython",
    "version": 3
   },
   "file_extension": ".py",
   "mimetype": "text/x-python",
   "name": "python",
   "nbconvert_exporter": "python",
   "pygments_lexer": "ipython3",
   "version": "3.11.4"
  }
 },
 "nbformat": 4,
 "nbformat_minor": 2
}
