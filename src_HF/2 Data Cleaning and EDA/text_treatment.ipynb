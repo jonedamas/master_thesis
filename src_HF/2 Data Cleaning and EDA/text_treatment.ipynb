{
 "cells": [
  {
   "cell_type": "code",
   "execution_count": null,
   "metadata": {},
   "outputs": [],
   "source": [
    "import pandas as pd\n",
    "\n",
    "import os\n",
    "import sys\n",
    "from dotenv import load_dotenv\n",
    "\n",
    "load_dotenv()\n",
    "\n",
    "REPO_PATH =  os.getenv('REPO_PATH')\n",
    "\n",
    "sys.path.insert(0, rf'{REPO_PATH}src_HF')\n",
    "from utils import *"
   ]
  },
  {
   "cell_type": "markdown",
   "metadata": {},
   "source": [
    "### Merge headlines with stories"
   ]
  },
  {
   "cell_type": "code",
   "execution_count": null,
   "metadata": {},
   "outputs": [],
   "source": [
    "TOPIC = 'CWP'\n",
    "\n",
    "text_df = pd.read_csv(rf'{REPO_PATH}data\\raw_news_headlines\\EIKON_{TOPIC}_NEWS.csv')\n",
    "story_dict = load_json(rf'{REPO_PATH}data\\raw_news_stories\\EIKON_{TOPIC}_NEWS_FULL.json')\n",
    "\n",
    "# add fullStory column to text_df\n",
    "text_df['fullStory'] = text_df['storyId'].map(story_dict)\n",
    "\n",
    "# remove all rows where fullStory is NaN\n",
    "text_df.dropna(subset=['fullStory']); print(text_df.shape[0])\n",
    "# remove all rows where fullStory is 'error'\n",
    "text_df = text_df[text_df['fullStory'] != 'error']; print(text_df.shape[0])\n",
    "# remove all rows where fullStory is float\n",
    "text_df = text_df[text_df['fullStory'].apply(lambda x: isinstance(x, str))]; print(text_df.shape[0])\n",
    "\n",
    "# sort df by date\n",
    "text_df['date'] = pd.to_datetime(text_df['date'])\n",
    "text_df.sort_values(by='date', inplace=True)\n",
    "\n",
    "# reset index\n",
    "text_df.reset_index(drop=True, inplace=True)\n",
    "\n",
    "display(text_df)"
   ]
  },
  {
   "cell_type": "markdown",
   "metadata": {},
   "source": [
    "### Check for duplicates"
   ]
  },
  {
   "cell_type": "code",
   "execution_count": null,
   "metadata": {},
   "outputs": [],
   "source": [
    "# check how many fullStory duplicate rows\n",
    "print('Removed ' + str(text_df['fullStory'].duplicated().sum()) + ' duplicate stories')\n",
    "\n",
    "# remove all fullStory duplicate rows\n",
    "text_df.drop_duplicates(subset=['fullStory'], inplace=True)\n",
    "\n",
    "# reset index\n",
    "text_df.reset_index(drop=True, inplace=True)"
   ]
  },
  {
   "cell_type": "markdown",
   "metadata": {},
   "source": [
    "### Save data"
   ]
  },
  {
   "cell_type": "code",
   "execution_count": null,
   "metadata": {},
   "outputs": [],
   "source": [
    "text_df.to_json(\n",
    "    rf'{REPO_PATH}data\\news_data\\EIKON_{TOPIC}_NEWS_COMPLETE.json',\n",
    "    orient='records',\n",
    "    lines=True\n",
    ")\n",
    "\n",
    "print('Saved ' + str(text_df.shape[0]) + ' unique stories to json')"
   ]
  }
 ],
 "metadata": {
  "kernelspec": {
   "display_name": "base",
   "language": "python",
   "name": "python3"
  },
  "language_info": {
   "codemirror_mode": {
    "name": "ipython",
    "version": 3
   },
   "file_extension": ".py",
   "mimetype": "text/x-python",
   "name": "python",
   "nbconvert_exporter": "python",
   "pygments_lexer": "ipython3",
   "version": "3.11.4"
  }
 },
 "nbformat": 4,
 "nbformat_minor": 2
}
