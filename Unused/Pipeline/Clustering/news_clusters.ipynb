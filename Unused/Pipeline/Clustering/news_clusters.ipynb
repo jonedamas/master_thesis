{
 "cells": [
  {
   "cell_type": "markdown",
   "metadata": {},
   "source": [
    "Data Collection: Gather a large dataset of news articles. This could be done through web scraping, APIs, or using existing datasets.\n",
    "\n",
    "Text Preprocessing:\n",
    "\n",
    "Tokenization: Split the text into words or tokens.\n",
    "Stopword Removal: Eliminate common words that don't contribute much meaning (like \"and\", \"the\", etc.).\n",
    "Stemming/Lemmatization: Reduce words to their base or root form.\n",
    "Removing Punctuation and Special Characters: Clean up the text to retain only alphanumeric characters.\n",
    "Feature Extraction:\n",
    "\n",
    "Convert text data into numerical form using techniques like TF-IDF (Term Frequency-Inverse Document Frequency) or word embeddings (like Word2Vec, GloVe).\n",
    "These methods help in representing text in a way that captures the semantic meaning and importance of words in the document.\n",
    "Dimensionality Reduction (Optional but recommended for large datasets):\n",
    "\n",
    "Techniques like PCA (Principal Component Analysis) or t-SNE can be used to reduce the number of features while retaining the essential information.\n",
    "This step helps in reducing computational complexity and improving clustering performance.\n",
    "Clustering:\n",
    "\n",
    "Apply clustering algorithms like K-means, DBSCAN, or Hierarchical clustering on the processed text data.\n",
    "These algorithms will group articles into clusters based on the similarity of their content.\n",
    "NLP Techniques for Improved Clustering:\n",
    "\n",
    "Topic Modeling: Techniques like LDA (Latent Dirichlet Allocation) can be used to identify topics within the articles. This can guide or enhance the clustering process.\n",
    "Named Entity Recognition (NER): Identifying and classifying key entities (like people, organizations, locations) can provide additional features for clustering.\n",
    "Sentiment Analysis: Understanding the sentiment of the articles might also help in clustering, especially for differentiating articles with similar content but different tones."
   ]
  },
  {
   "cell_type": "code",
   "execution_count": null,
   "metadata": {},
   "outputs": [],
   "source": [
    "import sys\n",
    "from matplotlib import pyplot as plt\n",
    "import numpy as np\n",
    "import pandas as pd\n",
    "\n",
    "from sklearn.feature_extraction.text import TfidfVectorizer\n",
    "from sklearn.decomposition import PCA\n",
    "from sklearn.cluster import DBSCAN\n",
    "\n",
    "sys.path.append(\"../\")\n",
    "\n",
    "from pipeline import *"
   ]
  },
  {
   "cell_type": "markdown",
   "metadata": {},
   "source": [
    "## Load headlines"
   ]
  },
  {
   "cell_type": "code",
   "execution_count": null,
   "metadata": {},
   "outputs": [],
   "source": [
    "df = pd.read_csv(\"complete_data.csv\")\n",
    "df.index = pd.to_datetime(df['datetime'])\n",
    "\n",
    "display(df)"
   ]
  },
  {
   "cell_type": "code",
   "execution_count": null,
   "metadata": {},
   "outputs": [],
   "source": [
    "documents = df['webTitle'].tolist()\n",
    "\n",
    "# TF-IDF vectorization\n",
    "vectorizer = TfidfVectorizer(stop_words='english')\n",
    "X = vectorizer.fit_transform(documents)\n",
    "\n",
    "# PCA dimensionality reduction\n",
    "pca = PCA(n_components=2)\n",
    "X_reduced = pca.fit_transform(X.toarray())\n",
    "\n",
    "# DBSCAN clustering\n",
    "dbscan = DBSCAN(eps=0.03, min_samples=2)\n",
    "clusters = dbscan.fit_predict(X_reduced)\n",
    "\n",
    "# add cluster labels to plot legend\n",
    "unique_labels = np.unique(clusters)\n",
    "plt.scatter(X_reduced[:, 0], X_reduced[:, 1], c=clusters, cmap='viridis', marker='o')\n",
    "plt.title(\"TF-IDF Clustering with PCA and DBSCAN\")\n",
    "plt.xlabel(\"PCA Dimension 1\")\n",
    "plt.ylabel(\"PCA Dimension 2\")\n",
    "plt.legend(unique_labels)\n",
    "plt.show()\n",
    "\n",
    "\n",
    "# add cluster labels to dataframe\n",
    "df['cluster'] = clusters\n",
    "\n",
    "display(df)\n",
    "\n",
    "# print frequency\n",
    "print(df['cluster'].value_counts())\n"
   ]
  },
  {
   "cell_type": "code",
   "execution_count": null,
   "metadata": {},
   "outputs": [],
   "source": [
    "# display all cluster from news_data\n",
    "for cluster in np.unique(clusters):\n",
    "    print(\"Cluster {}\".format(cluster))\n",
    "    display(df[df['cluster'] == cluster])"
   ]
  }
 ],
 "metadata": {
  "kernelspec": {
   "display_name": "base",
   "language": "python",
   "name": "python3"
  },
  "language_info": {
   "codemirror_mode": {
    "name": "ipython",
    "version": 3
   },
   "file_extension": ".py",
   "mimetype": "text/x-python",
   "name": "python",
   "nbconvert_exporter": "python",
   "pygments_lexer": "ipython3",
   "version": "3.11.4"
  }
 },
 "nbformat": 4,
 "nbformat_minor": 2
}
