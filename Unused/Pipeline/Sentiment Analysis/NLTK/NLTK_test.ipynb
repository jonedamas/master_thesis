{
 "cells": [
  {
   "cell_type": "code",
   "execution_count": null,
   "metadata": {},
   "outputs": [],
   "source": [
    "import nltk\n",
    "import pandas as pd\n",
    "import numpy as np\n",
    "import matplotlib.pyplot as plt\n",
    "import seaborn as sns\n",
    "import yfinance as yf\n",
    "import datetime as dt\n",
    "import requests\n",
    "from bs4 import BeautifulSoup\n",
    "import matplotlib.dates as mdates\n",
    "\n",
    "from nltk.sentiment import SentimentIntensityAnalyzer\n",
    "from tqdm.notebook import tqdm\n",
    "\n",
    "plt.style.use('ggplot')"
   ]
  },
  {
   "cell_type": "markdown",
   "metadata": {},
   "source": [
    "## Data loading"
   ]
  },
  {
   "cell_type": "code",
   "execution_count": null,
   "metadata": {},
   "outputs": [],
   "source": [
    "ticker = 'AAPL'\n",
    "\n",
    "news = yf.Ticker(ticker).news\n",
    "\n",
    "news_dict = {}\n",
    "\n",
    "for article in tqdm(news):\n",
    "    # Time information\n",
    "    timestamp = article['providerPublishTime']\n",
    "    datetime = dt.datetime.fromtimestamp(timestamp)\n",
    "    \n",
    "    # News text\n",
    "    response = requests.get(article['link'])\n",
    "    soup = BeautifulSoup(response.text, 'html.parser')\n",
    "\n",
    "    article_text = \"\"\n",
    "    for paragraph in soup.find_all('p'):\n",
    "        article_text += paragraph.get_text() + \"\\n\"\n",
    "\n",
    "    news_dict[datetime] = [\n",
    "        article['title'], \n",
    "        article['link'],\n",
    "        article_text,\n",
    "    ]\n",
    "\n",
    "df = pd.DataFrame(news_dict, index=['Title', 'Link', 'Text']).T\n",
    "\n",
    "display(df)"
   ]
  },
  {
   "cell_type": "markdown",
   "metadata": {},
   "source": [
    "## Sentiment score"
   ]
  },
  {
   "cell_type": "code",
   "execution_count": null,
   "metadata": {},
   "outputs": [],
   "source": [
    "sia = SentimentIntensityAnalyzer()\n",
    "\n",
    "res = {}\n",
    "\n",
    "for i, row in tqdm(df.iterrows(), total=len(df)):\n",
    "    text = row['Text']\n",
    "    myid = i\n",
    "    res[myid] = sia.polarity_scores(text)\n",
    "\n",
    "vaders = pd.DataFrame(res).T\n",
    "\n",
    "result_df = pd.concat([df, vaders], axis=1)\n",
    "\n",
    "display(result_df) \n",
    "    "
   ]
  },
  {
   "cell_type": "markdown",
   "metadata": {},
   "source": [
    "# Compare with stock price"
   ]
  },
  {
   "cell_type": "code",
   "execution_count": null,
   "metadata": {},
   "outputs": [],
   "source": [
    "\n",
    "start = result_df.index.min()\n",
    "end = result_df.index.max()\n",
    "\n",
    "stock_data = yf.download(\n",
    "    ticker, \n",
    "    start=start,\n",
    "    end=end,\n",
    "    interval='1h',\n",
    "    progress=False\n",
    ")[['Adj Close']]\n",
    "\n",
    "cmap = plt.get_cmap('jet_r')\n",
    "norm = plt.Normalize(result_df['compound'].min(), result_df['compound'].max()) \n",
    "\n",
    "fig, ax = plt.subplots(figsize=(10, 5))\n",
    "\n",
    "stock_data.plot(xlabel='Time', ax=ax)\n",
    "\n",
    "for i, row in result_df.iterrows():\n",
    "    color = cmap(norm(row['compound']))\n",
    "    ax.axvline(x=i, color=color, linestyle='--')\n",
    "\n",
    "ax.set_title(f'{ticker} Stock Price with News Sentiment')\n",
    "\n",
    "sm = plt.cm.ScalarMappable(cmap=cmap, norm=norm)\n",
    "sm.set_array([])  # Create an empty array for the colorbar\n",
    "cbar = plt.colorbar(sm)\n",
    "cbar.set_label('Sentiment Score')"
   ]
  }
 ],
 "metadata": {
  "kernelspec": {
   "display_name": "base",
   "language": "python",
   "name": "python3"
  },
  "language_info": {
   "codemirror_mode": {
    "name": "ipython",
    "version": 3
   },
   "file_extension": ".py",
   "mimetype": "text/x-python",
   "name": "python",
   "nbconvert_exporter": "python",
   "pygments_lexer": "ipython3",
   "version": "3.11.4"
  }
 },
 "nbformat": 4,
 "nbformat_minor": 2
}
