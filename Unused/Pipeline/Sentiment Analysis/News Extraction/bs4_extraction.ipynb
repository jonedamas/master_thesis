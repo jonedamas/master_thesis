{
 "cells": [
  {
   "cell_type": "code",
   "execution_count": null,
   "metadata": {},
   "outputs": [],
   "source": [
    "# Import necessary modules\n",
    "from bs4 import BeautifulSoup  # For web scraping\n",
    "import requests  # For making HTTP requests\n",
    "import pandas as pd  # For working with dataframes\n",
    "import numpy as np  # For working with numerical data\n",
    "import datetime as dt  # For working with dates and times\n",
    "import nltk  # For natural language processing\n",
    "import re  # For regular expressions\n",
    "import yfinance as yf  # For downloading financial data\n",
    "\n",
    "import sys\n",
    "sys.path.append('../')  # Add parent directory to path\n"
   ]
  },
  {
   "cell_type": "code",
   "execution_count": null,
   "metadata": {},
   "outputs": [],
   "source": [
    "yf.download(['^OVX', '^VIX'], start='2010-01-01')['Adj Close'].plot(figsize=(15, 10))   "
   ]
  },
  {
   "cell_type": "markdown",
   "metadata": {},
   "source": [
    "## Yahoo news"
   ]
  },
  {
   "cell_type": "code",
   "execution_count": null,
   "metadata": {},
   "outputs": [],
   "source": [
    "brent_url = 'https://finance.yahoo.com/quote/BZ=F/'\n",
    "\n",
    "brent_response = requests.get(brent_url)\n",
    "\n",
    "soup = BeautifulSoup(brent_response.text, 'html.parser')\n",
    "\n",
    "# Get newsstream\n",
    "newsstream = soup.find(id='quoteNewsStream-0-Stream')\n",
    "\n",
    "# Get news articles\n",
    "news_articles = newsstream.find_all('a')\n",
    "\n",
    "# Get hrefs\n",
    "\n",
    "\n",
    "for article in news_articles:\n",
    "    response = requests.get('https://finance.yahoo.com/' + article['href'])\n",
    "    soup = BeautifulSoup(response.text, 'html.parser')\n",
    "    \n",
    "    article_text = \"\"\n",
    "    for paragraph in soup.find_all('p'):\n",
    "        article_text += paragraph.get_text() + \"\\n\"\n",
    "\n",
    "    print(article_text)"
   ]
  },
  {
   "cell_type": "code",
   "execution_count": null,
   "metadata": {},
   "outputs": [],
   "source": [
    "article_url = 'https://finance.yahoo.com/news/12-best-crude-oil-stocks-073221408.html'\n",
    "\n",
    "# Get the article\n",
    "response = requests.get(article_url)\n",
    "soup = BeautifulSoup(response.text, 'html.parser')\n",
    "\n",
    "title = soup.find('h1').text\n",
    "\n",
    "date = soup.find('time').text\n",
    "\n",
    "article = re.sub(\n",
    "    r'([.!?])([A-Z])', \n",
    "    r'\\1 \\2', \n",
    "    soup.find(\n",
    "        'div', \n",
    "        class_='caas-body'\n",
    "    ).text\n",
    ")\n",
    "\n",
    "sentences = nltk.tokenize.sent_tokenize(article, language='english')\n",
    "\n",
    "for sentence in sentences:\n",
    "    print(sentence)\n",
    "\n",
    "# Create .txt file\n",
    "filename = title\n",
    "\n",
    "with open(f'articles\\{filename}.txt', 'w') as file_object:\n",
    "    file_object.write(title + '\\n')\n",
    "    file_object.write(date + '\\n')\n",
    "    for sentence in sentences:\n",
    "        file_object.write(sentence + '\\n')\n",
    "\n"
   ]
  }
 ],
 "metadata": {
  "kernelspec": {
   "display_name": "base",
   "language": "python",
   "name": "python3"
  },
  "language_info": {
   "codemirror_mode": {
    "name": "ipython",
    "version": 3
   },
   "file_extension": ".py",
   "mimetype": "text/x-python",
   "name": "python",
   "nbconvert_exporter": "python",
   "pygments_lexer": "ipython3",
   "version": "3.11.4"
  }
 },
 "nbformat": 4,
 "nbformat_minor": 2
}
