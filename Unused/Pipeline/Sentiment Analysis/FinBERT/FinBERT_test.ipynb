{
 "cells": [
  {
   "cell_type": "code",
   "execution_count": null,
   "metadata": {},
   "outputs": [],
   "source": [
    "from transformers import BertTokenizer, BertForSequenceClassification\n",
    "import numpy as np\n",
    "import yfinance as yf\n",
    "import pandas as pd\n",
    "import datetime as dt\n",
    "import requests\n",
    "from bs4 import BeautifulSoup\n",
    "import nltk\n",
    "from tqdm import tqdm\n",
    "\n",
    "from finBERT_functions import *"
   ]
  },
  {
   "cell_type": "code",
   "execution_count": null,
   "metadata": {},
   "outputs": [],
   "source": [
    "ticker_news = yf.Ticker(\"GOOG\").news\n",
    "\n",
    "dict_list = []\n",
    "\n",
    "labels = {0:'neutral', 1:'positive', 2:'negative'}\n",
    "\n",
    "for news in tqdm(ticker_news):\n",
    "    timestamp = news['providerPublishTime']\n",
    "    datetime = dt.datetime.fromtimestamp(timestamp)\n",
    "\n",
    "    url = news['link']\n",
    "    response = requests.get(url)\n",
    "\n",
    "    if response.status_code != 200:\n",
    "        continue\n",
    "\n",
    "    soup = BeautifulSoup(response.text, 'html.parser')\n",
    "    \n",
    "\n",
    "    article = soup.find('div', class_='caas-body').text\n",
    "\n",
    "    # tokenize the article as sentences\n",
    "    sentences = nltk.sent_tokenize(article)\n",
    "\n",
    "    news_dict = {\n",
    "        'date': datetime,\n",
    "        'title': news['title'],\n",
    "        'link': news['link'],\n",
    "    }\n",
    "\n",
    "    news_dict.update(get_sentiment(sentences))\n",
    "\n",
    "    dict_list.append(news_dict)\n",
    "\n",
    "    print(news_dict)\n",
    "\n",
    "df = pd.DataFrame(dict_list, index=[x['date'] for x in dict_list]).drop(columns=['date'])\n",
    "\n",
    "display(df)"
   ]
  }
 ],
 "metadata": {
  "kernelspec": {
   "display_name": "base",
   "language": "python",
   "name": "python3"
  },
  "language_info": {
   "codemirror_mode": {
    "name": "ipython",
    "version": 3
   },
   "file_extension": ".py",
   "mimetype": "text/x-python",
   "name": "python",
   "nbconvert_exporter": "python",
   "pygments_lexer": "ipython3",
   "version": "3.11.4"
  }
 },
 "nbformat": 4,
 "nbformat_minor": 2
}
