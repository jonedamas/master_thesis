{
 "cells": [
  {
   "cell_type": "code",
   "execution_count": 96,
   "metadata": {},
   "outputs": [],
   "source": [
    "import pandas as pd\n",
    "import numpy as np\n",
    "import requests\n",
    "from bs4 import BeautifulSoup\n",
    "import yfinance as yf\n",
    "import json\n",
    "\n",
    "from sklearn.feature_extraction.text import TfidfVectorizer"
   ]
  },
  {
   "cell_type": "code",
   "execution_count": 93,
   "metadata": {},
   "outputs": [
    {
     "name": "stdout",
     "output_type": "stream",
     "text": [
      "200\n"
     ]
    }
   ],
   "source": [
    "def get_news_title(soup):\n",
    "    return soup.find('h1').text\n",
    "\n",
    "link = \"https://www.cnbc.com/2023/12/12/us-crude-oil-falls-4percent-as-traders-worry-about-inflation-impacting-demand.html\"\n",
    "\n",
    "request = requests.get(link)\n",
    "\n",
    "print(request.status_code)\n",
    "\n",
    "soup = BeautifulSoup(request.content, 'html.parser')\n",
    "\n",
    "\n",
    "result_dict = {\n",
    "    \"title\": get_news_title(soup),\n",
    "    \"link\": link,\n",
    "}\n",
    "\n",
    "\n",
    "with open(f\"./news_library_gnews/{result_dict['title']}.json\", \"w\") as outfile: \n",
    "    json.dump(result_dict, outfile, indent = 4)\n"
   ]
  },
  {
   "cell_type": "code",
   "execution_count": 111,
   "metadata": {},
   "outputs": [
    {
     "name": "stdout",
     "output_type": "stream",
     "text": [
      "['13' '2017' '2019' '2024' '25' '30' '46' '70' '90' 'about' 'access'\n",
      " 'accessible' 'activity' 'added' 'additionally' 'affecting' 'allies'\n",
      " 'allowing' 'also' 'amid' 'an' 'analysis' 'and' 'announce' 'announced'\n",
      " 'appendix' 'are' 'as' 'available' 'balance' 'barrel' 'barrels' 'be'\n",
      " 'benchmark' 'blamed' 'blaming' 'bookmark' 'both' 'bpd' 'brent' 'bullish'\n",
      " 'by' 'can' 'cautiously' 'china' 'click' 'coming' 'concerns' 'contained'\n",
      " 'contents' 'continued' 'continuously' 'count' 'countries' 'covers'\n",
      " 'crude' 'cut' 'cuts' 'day' 'dec' 'december' 'demand' 'detailed'\n",
      " 'developments' 'directly' 'dollars' 'down' 'downloaded' 'drop' 'dropping'\n",
      " 'dynamic' 'ease' 'easy' 'economic' 'effort' 'electronic' 'enhance' 'ever'\n",
      " 'exaggerated' 'excel' 'expected' 'exporting' 'feature' 'february' 'first'\n",
      " 'following' 'for' 'forecast' 'from' 'fueled' 'fundamentals' 'gas' 'gdp'\n",
      " 'global' 'group' 'growth' 'has' 'have' 'healthy' 'heavy' 'impacted'\n",
      " 'impacting' 'improvements' 'in' 'includes' 'including' 'increasing'\n",
      " 'individual' 'information' 'international' 'is' 'issues' 'it' 'its' 'key'\n",
      " 'known' 'last' 'latest' 'liquids' 'low' 'made' 'maintained' 'major'\n",
      " 'make' 'march' 'market' 'million' 'momr' 'monthly' 'months' 'more'\n",
      " 'natural' 'navigating' 'negatively' 'new' 'next' 'non' 'noting' 'nov'\n",
      " 'now' 'october' 'oecd' 'of' 'oil' 'on' 'one' 'opec' 'optimistic'\n",
      " 'organization' 'our' 'outlook' 'over' 'peak' 'per' 'petroleum' 'pleased'\n",
      " 'positions' 'predictions' 'previous' 'prices' 'production' 'provided'\n",
      " 'provides' 'providing' 'pushing' 'quarter' 'readers' 'recent' 'remains'\n",
      " 'report' 'resilient' 'revisions' 'rig' 'round' 'said' 'saying' 'sections'\n",
      " 'sees' 'selloffs' 'sentiment' 'september' 'service' 'sharply' 'short'\n",
      " 'since' 'slid' 'speculators' 'stocks' 'supply' 'supported' 'table'\n",
      " 'tables' 'than' 'that' 'the' 'their' 'this' 'to' 'totaling' 'trends'\n",
      " 'unchanged' 'use' 'version' 'vienna' 'was' 'water' 'we' 'website'\n",
      " 'wednesday' 'wednesdays' 'well' 'which' 'while' 'will' 'with' 'world'\n",
      " 'xinhua' 'year' 'years']\n",
      "  (0, 143)\t0.35464863330313684\n",
      "  (0, 61)\t0.35464863330313684\n",
      "  (0, 55)\t0.35464863330313684\n",
      "  (0, 27)\t0.35464863330313684\n",
      "  (0, 15)\t0.49844627974580596\n",
      "  (0, 9)\t0.49844627974580596\n"
     ]
    }
   ],
   "source": [
    "corpus = [\n",
    "    'The OPEC Monthly Oil Market Report (MOMR) covers major issues affecting the world oil market and provides an outlook for crude oil market developments for the coming year. The report provides a detailed analysis of key developments impacting oil market trends in world oil demand, supply as well as the oil market balance. In an effort to continuously enhance the service provided to our readers, we are pleased to announce that the analysis provided in the OPEC Monthly Oil Market Report is now more accessible than ever. As of March 2017, the electronic version of the report includes a bookmark feature, allowing readers to access individual sections directly from the table of contents, to make navigating the report as easy as one click. Additionally, as of February 2019, key tables providing the latest information on the world oil demand and supply balance, including monthly revisions; OECD oil stocks and oil on water; non-OPEC supply and OPEC natural gas liquids; and world rig count as contained in the MOMR appendix tables will also be made available on the OPEC Website and can be downloaded in Excel, for ease of use.',\n",
    "    'VIENNA, Dec. 13 (Xinhua) -- The Organization of the Petroleum Exporting Countries (OPEC) on Wednesday maintained its previous forecast for a healthy global oil demand growth in 2024, blaming speculators for the recent drop in crude prices. In its monthly oil market report for December, OPEC sees a global demand growth of 2.25 million barrels per day (bpd) for next year, following a demand growth of 2.46 million bpd this year, both unchanged from last months predictions. Noting that it remains cautiously optimistic about oil market fundamentals in 2024, OPEC said in the report that next years oil demand is expected to be supported by \"resilient global GDP growth, amid continued improvements in economic activity in China.\" Oil prices have slid since October, with international benchmark Brent Crude dropping to the low 70 U.S. dollars a barrel from this years peak of over 90 dollars a barrel in September. The drop has continued since OPEC and its allies, a group known as OPEC+, on Nov. 30 announced a new round of production cuts totaling 2.2 million bpd for the first quarter of 2024. In Wednesdays report, OPEC blamed speculators and their heavy selloffs for pushing down oil prices, saying the speculators cut \"their bullish positions sharply while increasing short positions.\" \"The market dynamic was fueled by exaggerated concerns about oil demand growth, which negatively impacted market sentiment,\" the organization added.',\n",
    "]\n",
    "\n",
    "# use tfidf to vectorize the title\n",
    "vectorizer = TfidfVectorizer()\n",
    "X = vectorizer.fit_transform(corpus)\n",
    "print(vectorizer.get_feature_names_out())\n",
    "\n",
    "# get the vector of the title\n",
    "title_vector = vectorizer.transform([result_dict['title']])\n",
    "print(title_vector)\n"
   ]
  }
 ],
 "metadata": {
  "kernelspec": {
   "display_name": "base",
   "language": "python",
   "name": "python3"
  },
  "language_info": {
   "codemirror_mode": {
    "name": "ipython",
    "version": 3
   },
   "file_extension": ".py",
   "mimetype": "text/x-python",
   "name": "python",
   "nbconvert_exporter": "python",
   "pygments_lexer": "ipython3",
   "version": "3.11.4"
  }
 },
 "nbformat": 4,
 "nbformat_minor": 2
}
