{
 "cells": [
  {
   "cell_type": "markdown",
   "metadata": {},
   "source": [
    "## Latent Dirichlet Allocation (LDA)"
   ]
  },
  {
   "cell_type": "code",
   "execution_count": null,
   "metadata": {},
   "outputs": [],
   "source": [
    "import pandas as pd\n",
    "import numpy as np\n",
    "import matplotlib.pyplot as plt\n",
    "from sklearn.feature_extraction.text import TfidfVectorizer, CountVectorizer\n",
    "from nltk.corpus import stopwords\n",
    "\n",
    "from sklearn.decomposition import LatentDirichletAllocation as LDA\n",
    "\n",
    "import warnings\n",
    "warnings.filterwarnings('ignore')"
   ]
  },
  {
   "cell_type": "code",
   "execution_count": null,
   "metadata": {},
   "outputs": [],
   "source": [
    "# import data.json\n",
    "data = pd.read_json('data.json')\n",
    "\n",
    "# create a list of all the words in the data\n",
    "words = []\n",
    "for i in range(len(data)):\n",
    "    words += data['text'][i].split()\n",
    "\n",
    "# remove stop words from the list\n",
    "stop_words = set(stopwords.words('english'))\n",
    "words = [word for word in words if word not in stop_words]\n",
    "\n",
    "# create a list of all the unique words in the data\n",
    "unique_words = list(set(words))\n",
    "\n",
    "# create a matrix of the words in the data\n",
    "word_matrix = np.zeros((len(data), len(unique_words)))\n",
    "\n",
    "# fill the matrix with the number of times each word appears in each text\n",
    "for i in range(len(data)):\n",
    "    for j in range(len(unique_words)):\n",
    "        word_matrix[i, j] = data['text'][i].split().count(unique_words[j])\n",
    "\n",
    "# create a dataframe from the matrix\n",
    "word_df = pd.DataFrame(word_matrix, columns = unique_words)\n",
    "\n",
    "# create an LDA model\n",
    "lda = LDA(n_components = 5)\n",
    "\n",
    "# fit the model to the data\n",
    "lda.fit(word_df)\n",
    "\n",
    "# create a dataframe of the topics\n",
    "topic_df = pd.DataFrame(lda.components_, columns = unique_words)\n",
    "\n",
    "# print the top 10 words for each topic\n",
    "for i in range(5):\n",
    "    print('Topic', i)\n",
    "    print(topic_df.iloc[i].sort_values(ascending = False).head(10))\n",
    "    print()\n",
    "\n",
    "\n"
   ]
  }
 ],
 "metadata": {
  "kernelspec": {
   "display_name": "base",
   "language": "python",
   "name": "python3"
  },
  "language_info": {
   "codemirror_mode": {
    "name": "ipython",
    "version": 3
   },
   "file_extension": ".py",
   "mimetype": "text/x-python",
   "name": "python",
   "nbconvert_exporter": "python",
   "pygments_lexer": "ipython3",
   "version": "3.11.4"
  }
 },
 "nbformat": 4,
 "nbformat_minor": 2
}
