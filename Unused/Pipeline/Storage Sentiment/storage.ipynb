{
 "cells": [
  {
   "cell_type": "code",
   "execution_count": null,
   "metadata": {},
   "outputs": [],
   "source": [
    "import numpy as np\n",
    "import pandas as pd\n",
    "import matplotlib.pyplot as plt\n",
    "from nltk import sent_tokenize, word_tokenize\n",
    "from tqdm import tqdm\n",
    "\n",
    "import sys\n",
    "sys.path.append('../')\n",
    "from pipeline import *"
   ]
  },
  {
   "cell_type": "markdown",
   "metadata": {},
   "source": [
    "## Get Storage news articles"
   ]
  },
  {
   "cell_type": "code",
   "execution_count": null,
   "metadata": {},
   "outputs": [],
   "source": [
    "# URL for the google news search of \"Crude oil storage\"\n",
    "url = \"https://news.google.com/search?q=crude%20oil%20storage&hl=no&gl=NO&ceid=NO%3Ano\"\n",
    "\n",
    "url_data = get_url_gnews(url)\n",
    "\n",
    "news_data = create_news_df(url_data)\n",
    "\n",
    "display(news_data)"
   ]
  },
  {
   "cell_type": "code",
   "execution_count": null,
   "metadata": {},
   "outputs": [],
   "source": [
    "text_series = news_data['text']\n",
    "\n",
    "df = pd.DataFrame(columns=[0, 1, 2])\n",
    "\n",
    "for text in tqdm(text_series):\n",
    "    sent = get_sentiment(sent_tokenize(text))\n",
    "\n",
    "    df = df.append(sent, ignore_index=True)\n",
    "\n",
    "\n",
    "display(df)\n"
   ]
  },
  {
   "cell_type": "code",
   "execution_count": null,
   "metadata": {},
   "outputs": [],
   "source": [
    "# replace NaN with 0\n",
    "df.fillna(0, inplace=True)\n",
    "\n",
    "df['comp'] = df[[1, 2]].mean(axis=1)\n",
    "\n",
    "display(df)\n",
    "df.set_index(news_data.index, inplace=True)\n",
    "df['comp'].rolling(3).mean().plot(kind='line', figsize=(10, 5), title='Sentiment over time')"
   ]
  }
 ],
 "metadata": {
  "kernelspec": {
   "display_name": "base",
   "language": "python",
   "name": "python3"
  },
  "language_info": {
   "codemirror_mode": {
    "name": "ipython",
    "version": 3
   },
   "file_extension": ".py",
   "mimetype": "text/x-python",
   "name": "python",
   "nbconvert_exporter": "python",
   "pygments_lexer": "ipython3",
   "version": "3.11.4"
  }
 },
 "nbformat": 4,
 "nbformat_minor": 2
}
