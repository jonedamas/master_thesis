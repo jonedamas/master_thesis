{
 "cells": [
  {
   "cell_type": "code",
   "execution_count": null,
   "metadata": {},
   "outputs": [],
   "source": [
    "import pandas as pd\n",
    "from newspaper import Article\n",
    "from tqdm import tqdm\n",
    "import datetime as dt\n",
    "\n",
    "from utils import *"
   ]
  },
  {
   "cell_type": "markdown",
   "metadata": {},
   "source": [
    "#### Google news URL extraction"
   ]
  },
  {
   "cell_type": "code",
   "execution_count": null,
   "metadata": {},
   "outputs": [],
   "source": [
    "# URL of Google News \"Crude Oil\" search\n",
    "url = 'https://news.google.com/search?q=crude%20oil&hl=no&gl=NO&ceid=NO%3Ano'\n",
    "\n",
    "# Get list of article url's from Google News\n",
    "article_list = get_url_gnews(url)\n",
    "\n",
    "# Get article information from url's\n",
    "df = create_news_df(article_list)\n",
    "\n",
    "pd.set_option('display.max_rows', None)\n",
    "display(df)\n",
    "\n",
    "# save df to .json with indent\n",
    "df.to_json('data.json', indent=1)\n"
   ]
  },
  {
   "cell_type": "code",
   "execution_count": null,
   "metadata": {},
   "outputs": [],
   "source": [
    "import nltk\n",
    "from nltk.sentiment.vader import SentimentIntensityAnalyzer\n",
    "# Create SentimentIntensityAnalyzer object\n",
    "\n",
    "df = df.dropna()\n",
    "# Remove tz from date column\n",
    "\n",
    "df.index = [i.replace(tzinfo=None) for i in df['date']]\n",
    "\n",
    "# remove index 4\n",
    "df = df.drop(df.index[5])\n",
    "\n",
    "# sort by date\n",
    "df = df.sort_index()\n",
    "\n",
    "sid = SentimentIntensityAnalyzer()\n",
    "\n",
    "# Create list of sentiment scores\n",
    "sentiment_scores = [sid.polarity_scores(article)['compound'] for article in df['text']]\n",
    "df['sentiment'] = sentiment_scores\n",
    "\n",
    "# Display df\n",
    "display(df)"
   ]
  },
  {
   "cell_type": "code",
   "execution_count": null,
   "metadata": {},
   "outputs": [],
   "source": [
    "from matplotlib import pyplot as plt\n",
    "\n",
    "df.plot(kind='scatter', x='date', y='sentiment', figsize=(10, 6))"
   ]
  }
 ],
 "metadata": {
  "kernelspec": {
   "display_name": "base",
   "language": "python",
   "name": "python3"
  },
  "language_info": {
   "codemirror_mode": {
    "name": "ipython",
    "version": 3
   },
   "file_extension": ".py",
   "mimetype": "text/x-python",
   "name": "python",
   "nbconvert_exporter": "python",
   "pygments_lexer": "ipython3",
   "version": "3.11.4"
  }
 },
 "nbformat": 4,
 "nbformat_minor": 2
}
