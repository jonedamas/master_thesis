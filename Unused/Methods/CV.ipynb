{
 "cells": [
  {
   "cell_type": "code",
   "execution_count": null,
   "metadata": {},
   "outputs": [],
   "source": [
    "import pandas as pd\n",
    "import numpy as np\n",
    "import matplotlib.pyplot as plt\n",
    "import yfinance as yf\n",
    "import warnings\n",
    "\n",
    "from sklearn.linear_model import LinearRegression\n",
    "from sklearn.preprocessing import PolynomialFeatures\n",
    "from sklearn.model_selection import cross_val_score, LeaveOneOut\n",
    "\n",
    "warnings.filterwarnings('ignore')"
   ]
  },
  {
   "cell_type": "code",
   "execution_count": null,
   "metadata": {},
   "outputs": [],
   "source": [
    "data = yf.download(['AAPL', 'IBM'], period='1Y')['Adj Close']\n",
    "returns = np.log(data).diff().dropna()\n",
    "\n",
    "fig, ax = plt.subplots(figsize=(10, 6))\n",
    "\n",
    "returns.plot(kind='scatter', x='IBM', y='AAPL', ax=ax)\n",
    "\n",
    "n = returns.shape[0]\n",
    "\n",
    "MSE_list = list()\n",
    "\n",
    "for i in range(n):\n",
    "    train = returns.drop(returns.index[i])\n",
    "    valid = returns.iloc[[i]]\n",
    "\n",
    "    model = LinearRegression()\n",
    "    model.fit(train[['IBM']], train[['AAPL']])\n",
    "    pred = model.predict(valid[['IBM']])[0][0]\n",
    "\n",
    "    MSE_list.append((valid[['AAPL']] - pred)**2)\n",
    "\n",
    "CV = np.mean(MSE_list)\n",
    "\n",
    "print('Cross-validation MSE: ', CV)"
   ]
  },
  {
   "cell_type": "markdown",
   "metadata": {},
   "source": [
    "## Cross validation"
   ]
  },
  {
   "cell_type": "code",
   "execution_count": null,
   "metadata": {},
   "outputs": [],
   "source": [
    "df = pd.read_csv('Auto.csv')\n",
    "\n",
    "display(df)\n",
    "\n",
    "fig, (ax, ax2) = plt.subplots(2, figsize=(10, 10))\n",
    "\n",
    "df.plot(kind='scatter', ax=ax, x='horsepower', y='mpg', c='cylinders', colormap='viridis')\n",
    "\n",
    "# fit polynomial regression model\n",
    "X = df[['horsepower']]\n",
    "y = df['mpg']\n",
    "\n",
    "MSE_list_LOO = list()\n",
    "MSE_list_10 = list()\n",
    "\n",
    "# use loo cross validation\n",
    "\n",
    "for i in range(1, 11):\n",
    "    poly = PolynomialFeatures(degree=i)\n",
    "    X_poly = poly.fit_transform(X)\n",
    "    \n",
    "    LOO = LeaveOneOut()\n",
    "    model = LinearRegression()\n",
    "    MSE_list_LOO.append(-cross_val_score(model, X_poly, y, cv=LOO, scoring='neg_mean_squared_error').mean())\n",
    "    MSE_list_10.append(-cross_val_score(model, X_poly, y, cv=10, scoring='neg_mean_squared_error').mean())\n",
    "\n",
    "ax2.plot(range(1, 11), MSE_list_LOO, marker='o', color='red', label='LOO')\n",
    "ax2.plot(range(1, 11), MSE_list_10, marker='o', color='green', label='10-fold')\n",
    "ax2.set_xlabel('Degree')\n",
    "ax2.set_ylabel('CV MSE')\n",
    "ax2.grid(alpha=0.3)\n",
    "ax2.legend()\n",
    "\n"
   ]
  }
 ],
 "metadata": {
  "kernelspec": {
   "display_name": "base",
   "language": "python",
   "name": "python3"
  },
  "language_info": {
   "codemirror_mode": {
    "name": "ipython",
    "version": 3
   },
   "file_extension": ".py",
   "mimetype": "text/x-python",
   "name": "python",
   "nbconvert_exporter": "python",
   "pygments_lexer": "ipython3",
   "version": "3.11.4"
  }
 },
 "nbformat": 4,
 "nbformat_minor": 2
}
