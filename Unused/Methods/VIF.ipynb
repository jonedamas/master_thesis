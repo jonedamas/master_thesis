{
 "cells": [
  {
   "cell_type": "code",
   "execution_count": null,
   "metadata": {},
   "outputs": [],
   "source": [
    "import yfinance as yf\n",
    "import pandas as pd\n",
    "import numpy as np\n",
    "import matplotlib.pyplot as plt\n",
    "\n",
    "from sklearn.linear_model import LinearRegression"
   ]
  },
  {
   "cell_type": "markdown",
   "metadata": {},
   "source": [
    "## Multicolinearity\n",
    "\n",
    "Multicollinearity refers to a situation in which more than two explanatory variables in a multiple regression model are highly correlated.\n",
    "\n",
    "\n",
    "## Variance inflation factor (VIF)\n",
    "\n",
    "$$\n",
    "VIF(\\hat{\\beta}_j) = \\frac{1}{1 - R_{X_j|X_{-j}}^2}\n",
    "\n",
    "$$\n",
    "\n",
    "VIF is a measure of how much the variance of the estimated regression coefficient $\\hat{\\beta}_j$ is \"inflated\" by the existence of correlation among the predictor variables in the model.\n",
    "\n",
    "**VIF over 10 is considered problematic.**"
   ]
  },
  {
   "cell_type": "code",
   "execution_count": null,
   "metadata": {},
   "outputs": [],
   "source": [
    "tickers = ('CL=F', 'XOM', 'CVX', 'BP', 'COP', 'EOG')\n",
    "\n",
    "names = ['WTI', 'Exxon', 'Chevron', 'BP', 'ConocoPhillips', 'EOG']\n",
    "\n",
    "close_df = yf.download(tickers, period='2Y')['Adj Close'].rename(columns=dict(zip(tickers, names)))\n",
    "\n",
    "returns_df = np.log(close_df).diff().dropna()\n",
    "\n",
    "y = returns_df['WTI']\n",
    "X = returns_df.drop(columns='WTI')\n",
    "\n",
    "model = LinearRegression().fit(X, y)\n",
    "\n",
    "# summary\n",
    "print('Intercept: ', model.intercept_)\n",
    "print('Coefficients: ', model.coef_)\n",
    "print('R^2: ', model.score(X, y))\n",
    "\n",
    "# VIF\n",
    "for i, col in enumerate(X.columns):\n",
    "    y = X[col]\n",
    "    X_ = X.drop(columns=col)\n",
    "    model = LinearRegression().fit(X_, y)\n",
    "    print(col, 1/(1 - model.score(X_, y)))\n",
    "\n"
   ]
  }
 ],
 "metadata": {
  "kernelspec": {
   "display_name": "base",
   "language": "python",
   "name": "python3"
  },
  "language_info": {
   "codemirror_mode": {
    "name": "ipython",
    "version": 3
   },
   "file_extension": ".py",
   "mimetype": "text/x-python",
   "name": "python",
   "nbconvert_exporter": "python",
   "pygments_lexer": "ipython3",
   "version": "3.11.4"
  }
 },
 "nbformat": 4,
 "nbformat_minor": 2
}
