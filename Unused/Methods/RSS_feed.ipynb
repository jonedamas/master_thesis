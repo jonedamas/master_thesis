{
 "cells": [
  {
   "cell_type": "code",
   "execution_count": null,
   "metadata": {},
   "outputs": [],
   "source": [
    "import feedparser\n",
    "import pandas as pd\n",
    "from datetime import datetime, timedelta\n"
   ]
  },
  {
   "cell_type": "code",
   "execution_count": null,
   "metadata": {},
   "outputs": [],
   "source": [
    "rss_url = 'https://www.marketwatch.com/rss/topstories'\n",
    "\n",
    "feed = feedparser.parse(rss_url)\n",
    "\n",
    "data = []\n",
    "for entry in feed.entries:\n",
    "    data.append({'headline': entry.title, 'date': entry.published})\n",
    "\n",
    "# Convert to DataFrame\n",
    "df = pd.DataFrame(data)\n",
    "\n",
    "# Convert date to datetime\n",
    "df['date'] = pd.to_datetime(df['date'])\n",
    "df = df.set_index('date')\n",
    "\n",
    "display(df)\n",
    "\n",
    "\n",
    "\n",
    "# Save to CSV\n",
    "df.to_csv('news_headlines.csv', index=False)"
   ]
  },
  {
   "cell_type": "code",
   "execution_count": null,
   "metadata": {},
   "outputs": [],
   "source": [
    "# Function to parse and filter feed\n",
    "def fetch_crude_oil_news(rss_url, start_date, end_date):\n",
    "    data = []\n",
    "    current_date = start_date.date()  # Ensure this is a date object\n",
    "    while current_date <= end_date.date():  # Ensure this is compared as a date object\n",
    "        feed = feedparser.parse(rss_url)\n",
    "        print(feed)\n",
    "        for entry in feed.entries:\n",
    "            # Ensure published_date is treated as a date object for comparison\n",
    "            published_date = datetime(*entry.published_parsed[:6]).date()\n",
    "            if start_date.date() <= published_date <= current_date:  # Compare as date objects\n",
    "                if \"crude oil\" in entry.title.lower():  # Simple keyword filtering\n",
    "                    data.append({'headline': entry.title, 'date': entry.published, 'link': entry.link})\n",
    "        current_date += timedelta(days=1)\n",
    "        print(data)\n",
    "    return data\n",
    "\n",
    "# Define your RSS feed URL and date range\n",
    "rss_url = 'https://www.marketwatch.com/rss/topstories'\n",
    "start_date = datetime.now() - timedelta(days=365)\n",
    "end_date = datetime.now()\n",
    "\n",
    "\n",
    "# Fetch and filter news\n",
    "articles = fetch_crude_oil_news(rss_url, start_date, end_date)\n",
    "\n",
    "# # Convert to DataFrame\n",
    "# df = pd.DataFrame(articles)\n",
    "\n",
    "# # Save to CSV\n",
    "# df.to_csv('crude_oil_news_past_year.csv', index=False)\n",
    "\n",
    "# print(\"Articles saved to crude_oil_news_past_year.csv\")"
   ]
  }
 ],
 "metadata": {
  "kernelspec": {
   "display_name": "base",
   "language": "python",
   "name": "python3"
  },
  "language_info": {
   "codemirror_mode": {
    "name": "ipython",
    "version": 3
   },
   "file_extension": ".py",
   "mimetype": "text/x-python",
   "name": "python",
   "nbconvert_exporter": "python",
   "pygments_lexer": "ipython3",
   "version": "3.11.4"
  }
 },
 "nbformat": 4,
 "nbformat_minor": 2
}
