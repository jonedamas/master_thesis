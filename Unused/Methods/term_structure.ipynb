{
 "cells": [
  {
   "cell_type": "code",
   "execution_count": null,
   "metadata": {},
   "outputs": [],
   "source": [
    "import numpy as np\n",
    "import pandas as pd\n",
    "import matplotlib.pyplot as plt\n",
    "import yfinance as yf\n",
    "import requests\n",
    "from bs4 import BeautifulSoup"
   ]
  },
  {
   "cell_type": "markdown",
   "metadata": {},
   "source": [
    "## WTI crude oil futures\n",
    "NY Mercantile - NY Mercantile Delayed Price. Currency in USD"
   ]
  },
  {
   "cell_type": "code",
   "execution_count": null,
   "metadata": {},
   "outputs": [],
   "source": [
    "\n",
    "code = ('F', 'G', 'H', 'J', 'K', 'M', 'N', 'Q', 'U', 'V', 'X', 'Z')\n",
    "month = ('Jan', 'Feb', 'Mar', 'Apr', 'May', 'Jun', 'Jul', 'Aug', 'Sep', 'Oct','Nov', 'Dec')\n",
    "decode = {code[i]: month[i] for i in range(12)}\n",
    "print(decode)\n",
    "\n",
    "commodity = 'CL'\n",
    "exchange = 'NYM'\n",
    "\n",
    "term_list = []\n",
    "\n",
    "for y in ['24', '25', '26']:\n",
    "    for i in range(12):\n",
    "        term = commodity + code[i] + y + '.' + exchange\n",
    "        term_list.append(term)\n",
    "\n",
    "\n",
    "term_names = [decode[term[2]] + ' ' + term[3:5] for term in term_list]\n",
    "\n",
    "prices = yf.download(term_list, period='1y')['Adj Close']\n",
    "\n",
    "prices = prices[term_list].iloc[0]\n",
    "\n",
    "# change index to term names\n",
    "\n",
    "prices.index = term_names\n",
    "\n",
    "prices.plot(figsize=(12, 8), legend=True)\n",
    "#flip x-axis\n",
    "plt.gca().invert_xaxis()\n",
    "plt.title('Term Structure of Crude Oil Futures')\n",
    "plt.xlabel('Contract')\n",
    "plt.ylabel('Price')\n",
    "plt.grid(alpha=0.3)\n"
   ]
  }
 ],
 "metadata": {
  "kernelspec": {
   "display_name": "base",
   "language": "python",
   "name": "python3"
  },
  "language_info": {
   "codemirror_mode": {
    "name": "ipython",
    "version": 3
   },
   "file_extension": ".py",
   "mimetype": "text/x-python",
   "name": "python",
   "nbconvert_exporter": "python",
   "pygments_lexer": "ipython3",
   "version": "3.11.4"
  }
 },
 "nbformat": 4,
 "nbformat_minor": 2
}
