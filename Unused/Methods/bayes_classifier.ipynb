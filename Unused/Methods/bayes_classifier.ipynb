{
 "cells": [
  {
   "cell_type": "code",
   "execution_count": null,
   "metadata": {},
   "outputs": [],
   "source": [
    "import numpy as np\n",
    "import pandas as pd\n",
    "import matplotlib.pyplot as plt\n",
    "fr,"
   ]
  },
  {
   "cell_type": "code",
   "execution_count": null,
   "metadata": {},
   "outputs": [],
   "source": [
    "\n",
    "green = np.random.normal(-2, 1.5**2, 1000)\n",
    "orange = np.random.normal(2, 1.5**2, 1000)\n",
    "\n",
    "df = pd.DataFrame(\n",
    "    {\n",
    "        'value': np.concatenate((green, orange)), \n",
    "        'color': np.concatenate((np.zeros(1000), np.ones(1000)))\n",
    "    }\n",
    ")\n",
    "\n",
    "# plot two histograms together using matplotlib\n",
    "plt.figure(figsize=(8, 6))\n",
    "plt.hist(green, bins=50, alpha=0.5)\n",
    "plt.hist(orange, bins=50, alpha=0.5);\n",
    "\n",
    "pi_g = 0.5\n",
    "pi_o = 0.5\n",
    "\n",
    "# pnorm equivalent\n"
   ]
  }
 ],
 "metadata": {
  "kernelspec": {
   "display_name": "base",
   "language": "python",
   "name": "python3"
  },
  "language_info": {
   "codemirror_mode": {
    "name": "ipython",
    "version": 3
   },
   "file_extension": ".py",
   "mimetype": "text/x-python",
   "name": "python",
   "nbconvert_exporter": "python",
   "pygments_lexer": "ipython3",
   "version": "3.11.4"
  }
 },
 "nbformat": 4,
 "nbformat_minor": 2
}
