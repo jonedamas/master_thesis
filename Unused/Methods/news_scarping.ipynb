{
 "cells": [
  {
   "cell_type": "code",
   "execution_count": null,
   "metadata": {},
   "outputs": [],
   "source": [
    "import pandas as pd\n",
    "import numpy as np\n",
    "import requests\n",
    "from bs4 import BeautifulSoup\n",
    "from matplotlib import pyplot as plt\n",
    "import yfinance as yf\n",
    "\n",
    "# Sentiment Analysis\n",
    "from nltk.sentiment.vader import SentimentIntensityAnalyzer\n",
    "from nltk.sentiment.util import *\n",
    "from nltk import tokenize\n"
   ]
  },
  {
   "cell_type": "code",
   "execution_count": null,
   "metadata": {},
   "outputs": [],
   "source": [
    "URL = 'https://news.google.com/search?q=PLTR&hl=no&gl=NO&ceid=NO%3Ano'\n",
    "\n",
    "page = requests.get(URL)\n",
    "\n",
    "soup = BeautifulSoup(page.content, 'html.parser')\n",
    "\n",
    "results = soup.find_all('div', class_='NiLAwe y6IFtc R7GTQ keNKEd j7vNaf nID9nc')\n",
    "\n",
    "news = []\n",
    "\n",
    "for result in results:\n",
    "    title = result.find('h3', class_='ipQwMb ekueJc RD0gLb').text\n",
    "    link = result.find('a', href=True)['href']\n",
    "    # get datetime\n",
    "    datestr = result.find('time', class_='WW6dff uQIVzc Sksgp slhocf')['datetime']\n",
    "    datetime = datestr.split('T')[0]\n",
    "    news.append([title, link, datetime])\n",
    "\n",
    "df = pd.DataFrame(news, columns=['title', 'link', 'date'])\n",
    "# set index to date\n",
    "# convert date to datetime\n",
    "df['date'] = pd.to_datetime(df['date'])\n",
    "df.set_index('date', inplace=True)\n",
    "\n",
    "# get sentiment score for all news\n",
    "sid = SentimentIntensityAnalyzer()\n",
    "\n",
    "df['sentiment_score'] = df['title'].apply(lambda x: sid.polarity_scores(x)['compound'])\n",
    "\n",
    "df.sort_index(inplace=True)\n",
    "\n",
    "display(df)"
   ]
  },
  {
   "cell_type": "code",
   "execution_count": null,
   "metadata": {},
   "outputs": [],
   "source": [
    "df['color'] = np.where(df['sentiment_score'] > 0, 'green', 'red')\n",
    "\n",
    "df.plot.bar(y='sentiment_score', color=df['color'], figsize=(15, 6), title='Sentiment Analysis of News Headlines')\n",
    "plt.axhline(y=0, color='black', linestyle='--')\n",
    "# create sentiment index time series with EMA\n",
    "\n",
    "df['sentiment_index'] = df['sentiment_score'].ewm(span=5, adjust=False).mean()\n",
    "\n",
    "fig, ax = plt.subplots(figsize=(15, 6))\n",
    "\n",
    "df.plot(y='sentiment_index', color=df['color'], figsize=(15, 6), title='Sentiment Index of News Headlines', ax=ax)\n",
    "\n",
    "ax2 = ax.twinx()\n",
    "ax3 = ax2.twinx()\n",
    "\n",
    "stock = yf.download('PLTR', start=df.index[0], end=df.index[-1], interval='1d')[['Adj Close']]\n",
    "stock['returns'] = np.log(stock['Adj Close']).diff()\n",
    "\n",
    "stock['Adj Close'].plot(ax=ax2, color='blue', label='Brent Oil Price')\n",
    "stock['returns'].plot(ax=ax3, color='orange', label='Brent Oil Return')\n",
    "ax2.set_ylabel('Brent Oil Price')\n",
    "ax2.legend(loc='upper left')\n",
    "ax2.grid(alpha=0.2)\n",
    "\n",
    "plt.show()\n"
   ]
  },
  {
   "cell_type": "code",
   "execution_count": null,
   "metadata": {},
   "outputs": [],
   "source": []
  }
 ],
 "metadata": {
  "kernelspec": {
   "display_name": "base",
   "language": "python",
   "name": "python3"
  },
  "language_info": {
   "codemirror_mode": {
    "name": "ipython",
    "version": 3
   },
   "file_extension": ".py",
   "mimetype": "text/x-python",
   "name": "python",
   "nbconvert_exporter": "python",
   "pygments_lexer": "ipython3",
   "version": "3.11.4"
  }
 },
 "nbformat": 4,
 "nbformat_minor": 2
}
