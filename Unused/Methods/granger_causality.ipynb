{
 "cells": [
  {
   "cell_type": "code",
   "execution_count": null,
   "metadata": {},
   "outputs": [],
   "source": [
    "import pandas as pd\n",
    "import numpy as np\n",
    "import matplotlib.pyplot as plt\n",
    "from statsmodels.tsa.stattools import grangercausalitytests\n",
    "import yfinance as yf"
   ]
  },
  {
   "cell_type": "markdown",
   "metadata": {},
   "source": [
    "## Granger Causality"
   ]
  },
  {
   "cell_type": "code",
   "execution_count": null,
   "metadata": {},
   "outputs": [],
   "source": [
    "ticker_1 = 'AAPL'\n",
    "ticker_2 = 'MSFT'\n",
    "\n",
    "df = yf.download([ticker_1, ticker_2], start='2019-01-01', end='2020-01-01')['Volume']\n",
    "\n",
    "# GC test\n",
    "gc_test = grangercausalitytests(df, maxlag=5, verbose=False)\n",
    "\n",
    "print('GC test results: \\n')\n",
    "for i in range(1, 6):\n",
    "    print(f'Lag: {i}')\n",
    "    print(f'F-statistic: {gc_test[i][0][\"ssr_ftest\"][0]}')\n",
    "    print(f'p-value: {gc_test[i][0][\"ssr_ftest\"][1]}')\n",
    "    print(f'Critial values: {gc_test[i][0][\"ssr_ftest\"][2]}')\n",
    "    print()\n",
    "\n",
    "# Plot\n",
    "fig, ax = plt.subplots(figsize=(12, 6))\n",
    "ax.plot(df)\n",
    "ax.set_xlabel('Date')\n",
    "\n"
   ]
  }
 ],
 "metadata": {
  "kernelspec": {
   "display_name": "base",
   "language": "python",
   "name": "python3"
  },
  "language_info": {
   "codemirror_mode": {
    "name": "ipython",
    "version": 3
   },
   "file_extension": ".py",
   "mimetype": "text/x-python",
   "name": "python",
   "nbconvert_exporter": "python",
   "pygments_lexer": "ipython3",
   "version": "3.11.4"
  }
 },
 "nbformat": 4,
 "nbformat_minor": 2
}
