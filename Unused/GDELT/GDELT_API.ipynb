{
 "cells": [
  {
   "cell_type": "code",
   "execution_count": null,
   "metadata": {},
   "outputs": [],
   "source": [
    "import gdelt\n",
    "import requests\n",
    "import pandas as pd\n",
    "import numpy as np\n",
    "import json\n",
    "import plotly.express as px\n",
    "from tqdm import tqdm\n",
    "from datetime import datetime, timedelta, date\n",
    "\n",
    "# view all columns\n",
    "pd.set_option('display.max_columns', None)\n",
    "\n",
    "gd1 = gdelt.gdelt(version=1)"
   ]
  },
  {
   "cell_type": "markdown",
   "metadata": {},
   "source": [
    "### Load results"
   ]
  },
  {
   "cell_type": "code",
   "execution_count": null,
   "metadata": {},
   "outputs": [],
   "source": [
    "res_dict = {}\n",
    "specific_string = 'ENV_OIL'\n",
    "\n",
    "yesterday = datetime.today() - timedelta(days=1)\n",
    "\n",
    "for i in tqdm(range(50)):\n",
    "    today = yesterday - timedelta(days=i)\n",
    "\n",
    "    results = gd1.Search(today.strftime(\"%Y%m%d\"), table='gkg')\n",
    "\n",
    "    results['THEMES'] = results['THEMES'].str.split(';')\n",
    "\n",
    "    results = results.dropna(subset=['THEMES']).reset_index()\n",
    "\n",
    "    filtered_df = results[results['THEMES'].apply(lambda x: specific_string in x)].reset_index()\n",
    "\n",
    "    filtered_df['TONE_VAL'] = filtered_df['TONE'].str.split(',').apply(lambda x: np.mean([float(item) for item in x]))\n",
    "\n",
    "    value = filtered_df['TONE_VAL'].mean()\n",
    "    res_dict[today] = value\n",
    "\n",
    "    print(today, value)\n",
    "    \n",
    "print(res_dict)\n"
   ]
  },
  {
   "cell_type": "code",
   "execution_count": null,
   "metadata": {},
   "outputs": [],
   "source": [
    "\n",
    "# filter out all rows containing a OIL theme\n",
    "df = pd.DataFrame(res_dict.items(), columns=['Date', 'Tone'])\n",
    "\n",
    "# save as csv\n",
    "df.to_csv('oil_tone.csv', index=False)\n",
    "\n",
    "df.plot(x='Date', y='Tone', kind='line')"
   ]
  }
 ],
 "metadata": {
  "kernelspec": {
   "display_name": "base",
   "language": "python",
   "name": "python3"
  },
  "language_info": {
   "codemirror_mode": {
    "name": "ipython",
    "version": 3
   },
   "file_extension": ".py",
   "mimetype": "text/x-python",
   "name": "python",
   "nbconvert_exporter": "python",
   "pygments_lexer": "ipython3",
   "version": "3.11.4"
  }
 },
 "nbformat": 4,
 "nbformat_minor": 2
}
