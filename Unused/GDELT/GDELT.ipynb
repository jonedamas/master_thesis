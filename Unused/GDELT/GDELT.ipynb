{
 "cells": [
  {
   "cell_type": "code",
   "execution_count": null,
   "metadata": {},
   "outputs": [],
   "source": [
    "import os, glob, csv\n",
    "import requests\n",
    "import pandas as pd\n",
    "import json\n",
    "import plotly.express as px\n",
    "\n",
    "# view all columns\n",
    "pd.set_option('display.max_columns', None)"
   ]
  },
  {
   "cell_type": "code",
   "execution_count": null,
   "metadata": {},
   "outputs": [],
   "source": [
    "url = \"http://data.gdeltproject.org/gdeltv2/lastupdate.txt\"\n",
    "\n",
    "# Get the latest file URL\n",
    "file_info = requests.get(url).text.split(\"\\n\")[0]\n",
    "csv_url = file_info.split(\" \")[2]\n",
    "\n",
    "with open('colnames.json', 'r') as file:\n",
    "    # Deserialize the JSON data from the file into a Python list\n",
    "    colnames = json.load(file)['gdeltv2']\n",
    "\n",
    "\n",
    "# Download the file\n",
    "df = pd.read_csv(csv_url, sep='\\t', header=None, names=colnames)\n",
    "\n",
    "display(df)"
   ]
  },
  {
   "cell_type": "code",
   "execution_count": null,
   "metadata": {},
   "outputs": [],
   "source": [
    "color_scale = [(0, 'red'), (1,'green')]\n",
    "\n",
    "\n",
    "fig = px.scatter_mapbox(df, \n",
    "                        lat=\"ActionGeo_Lat\", \n",
    "                        lon=\"ActionGeo_Long\", \n",
    "                        hover_name=\"ActionGeo_FullName\", \n",
    "                        hover_data=[\"ActionGeo_FullName\", \"NumMentions\", \"GLOBALEVENTID\"],\n",
    "                        color=\"AvgTone\",\n",
    "                        color_continuous_scale=color_scale,\n",
    "                        size=\"NumMentions\",\n",
    "                        height=1000,\n",
    "                        width=1800)\n",
    "\n",
    "fig.update_layout(mapbox_style=\"open-street-map\")\n",
    "fig.update_layout(margin={\"r\":0,\"t\":0,\"l\":0,\"b\":0})\n",
    "fig.show()"
   ]
  },
  {
   "cell_type": "code",
   "execution_count": null,
   "metadata": {},
   "outputs": [],
   "source": [
    "display(df[df['AvgTone'] < -10]['SOURCEURL'])"
   ]
  }
 ],
 "metadata": {
  "kernelspec": {
   "display_name": "base",
   "language": "python",
   "name": "python3"
  },
  "language_info": {
   "codemirror_mode": {
    "name": "ipython",
    "version": 3
   },
   "file_extension": ".py",
   "mimetype": "text/x-python",
   "name": "python",
   "nbconvert_exporter": "python",
   "pygments_lexer": "ipython3",
   "version": "3.11.4"
  }
 },
 "nbformat": 4,
 "nbformat_minor": 2
}
