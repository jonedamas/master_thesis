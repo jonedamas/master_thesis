{
 "cells": [
  {
   "cell_type": "code",
   "execution_count": null,
   "metadata": {},
   "outputs": [],
   "source": [
    "import pandas as pd\n",
    "import matplotlib.pyplot as plt\n",
    "import numpy as np\n",
    "import yfinance as yf"
   ]
  },
  {
   "cell_type": "code",
   "execution_count": null,
   "metadata": {},
   "outputs": [],
   "source": [
    "tone_data = pd.read_csv('oil_tone.csv', index_col=0, parse_dates=True).iloc[::-1]\n",
    "\n",
    "ovx_data = yf.download('^OVX', period='100d')[['Adj Close']]\n",
    "\n",
    "comb = ovx_data.join(tone_data, how='inner')\n",
    "\n",
    "display(comb)\n",
    "\n",
    "fig, ax = plt.subplots(figsize=(9, 6))\n",
    "ax.plot(comb['Adj Close'], label='OVX')\n",
    "ax2 = ax.twinx()\n",
    "ax2.plot(comb['Tone'], label='Tone', color='r')\n",
    "ax.legend(loc='upper left')\n",
    "\n",
    "print(comb.corr())\n"
   ]
  }
 ],
 "metadata": {
  "kernelspec": {
   "display_name": "base",
   "language": "python",
   "name": "python3"
  },
  "language_info": {
   "codemirror_mode": {
    "name": "ipython",
    "version": 3
   },
   "file_extension": ".py",
   "mimetype": "text/x-python",
   "name": "python",
   "nbconvert_exporter": "python",
   "pygments_lexer": "ipython3",
   "version": "3.11.4"
  }
 },
 "nbformat": 4,
 "nbformat_minor": 2
}
