{
 "cells": [
  {
   "cell_type": "code",
   "execution_count": null,
   "metadata": {},
   "outputs": [],
   "source": [
    "import pandas as pd\n",
    "import numpy as np\n",
    "import matplotlib.pyplot as plt\n",
    "from vmdpy import VMD"
   ]
  },
  {
   "cell_type": "markdown",
   "metadata": {},
   "source": [
    "# Variational mode decomposition (VMD)\n",
    "\n",
    "\\begin{gather*}\n",
    "\\min_{\\{u_k\\}, \\{w_k\\}}{\\bigg\\{\\sum_k\\Big|\\Big|\\partial_t\\Big[\\Big(\\delta(t)+\\frac{j}{\\pi t}\\Big)\\cdot u_k(t)\\Big]e^{-jw_kt}\\Big|\\Big|^2_2\\bigg\\}}\n",
    "\\end{gather*}"
   ]
  },
  {
   "cell_type": "code",
   "execution_count": null,
   "metadata": {},
   "outputs": [],
   "source": [
    "df = pd.read_parquet('..\\data\\WTI_price_and_vol.parquet')\n",
    "\n",
    "# Define the VMD parameters\n",
    "alpha = 2000    # Mode-mixing parameter\n",
    "tau = 0.002     # Time step\n",
    "K = 4           # Number of modes\n",
    "DC = 0          # DC component removal (0 for no removal)\n",
    "init = 1        # Initialization method (1 for default initialization)\n",
    "tol = 1e-7      # Tolerance\n",
    "\n",
    "u, u_hat, omega = VMD(df['CL=F'], alpha, tau, K, DC, init, tol)\n",
    "\n",
    "df_results = pd.DataFrame(u.T)\n",
    "\n",
    "fig, axs = plt.subplots(K + 1, figsize=(8, 3 * (K + 1)))\n",
    "\n",
    "df['CL=F'].plot(ax=axs[0])\n",
    "\n",
    "for i in range(K):\n",
    "    df_results[i].plot(ax=axs[i + 1], title='Mode ' + str(i + 1))\n",
    "    axs[i + 1].set_ylabel('Mode ' + str(i + 1) + ' Amplitude')\n",
    "\n",
    "fig.tight_layout()\n",
    "\n",
    "display(df_results)\n",
    "\n"
   ]
  }
 ],
 "metadata": {
  "kernelspec": {
   "display_name": "base",
   "language": "python",
   "name": "python3"
  },
  "language_info": {
   "codemirror_mode": {
    "name": "ipython",
    "version": 3
   },
   "file_extension": ".py",
   "mimetype": "text/x-python",
   "name": "python",
   "nbconvert_exporter": "python",
   "pygments_lexer": "ipython3",
   "version": "3.11.4"
  }
 },
 "nbformat": 4,
 "nbformat_minor": 2
}
