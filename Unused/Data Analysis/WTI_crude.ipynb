{
 "cells": [
  {
   "cell_type": "code",
   "execution_count": null,
   "metadata": {},
   "outputs": [],
   "source": [
    "import statsmodels.api as sm\n",
    "import matplotlib.pyplot as plt\n",
    "import pandas as pd\n",
    "import numpy as np"
   ]
  },
  {
   "cell_type": "markdown",
   "metadata": {},
   "source": [
    "## Log returns normality test"
   ]
  },
  {
   "cell_type": "code",
   "execution_count": null,
   "metadata": {},
   "outputs": [],
   "source": [
    "\n",
    "df = pd.read_parquet('..\\data\\WTI_price_and_vol.parquet')\n",
    "\n",
    "returns = np.log(df / df.shift(1)).dropna()\n",
    "\n",
    "fig, ax = plt.subplots(1, figsize=(8, 8))\n",
    "\n",
    "sm.qqplot(returns['CL=F'], line='s', ax=ax);\n",
    "ax.set_title('QQ-plot WTI Crude Oil Returns', fontsize=17)\n",
    "ax.grid(alpha=0.5)\n",
    "ax.set_xlabel('Theoretical Quantiles', fontsize=14)\n",
    "ax.set_ylabel('Sample Quantiles', fontsize=14)\n",
    "fig.savefig('images\\WTI_crude_qqplot.png', dpi=300, bbox_inches='tight')"
   ]
  },
  {
   "cell_type": "code",
   "execution_count": null,
   "metadata": {},
   "outputs": [],
   "source": []
  }
 ],
 "metadata": {
  "kernelspec": {
   "display_name": "base",
   "language": "python",
   "name": "python3"
  },
  "language_info": {
   "codemirror_mode": {
    "name": "ipython",
    "version": 3
   },
   "file_extension": ".py",
   "mimetype": "text/x-python",
   "name": "python",
   "nbconvert_exporter": "python",
   "pygments_lexer": "ipython3",
   "version": "3.11.4"
  },
  "orig_nbformat": 4
 },
 "nbformat": 4,
 "nbformat_minor": 2
}
