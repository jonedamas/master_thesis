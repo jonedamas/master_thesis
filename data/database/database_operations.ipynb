{
 "cells": [
  {
   "cell_type": "code",
   "execution_count": null,
   "metadata": {},
   "outputs": [],
   "source": [
    "import sqlite3\n",
    "from sqlalchemy import create_engine\n",
    "\n",
    "import sys\n",
    "\n",
    "sys.path.insert(0, r'c:\\Users\\joneh\\master_thesis\\src')\n",
    "from main_utils import *\n",
    "from db_utils import *"
   ]
  },
  {
   "cell_type": "markdown",
   "metadata": {},
   "source": [
    "### Create SQLite database"
   ]
  },
  {
   "cell_type": "code",
   "execution_count": null,
   "metadata": {},
   "outputs": [],
   "source": [
    "# create news database\n",
    "df = pd.read_csv(r'C:\\Users\\joneh\\master_thesis\\data\\news\\CRU_2023.csv')\n",
    "# move datetime index to datetime column\n",
    "df.reset_index(inplace=True)\n",
    "engine = create_engine('sqlite:///TRnews.db', echo=False)\n",
    "# create news table from df\n",
    "df.to_sql('news_filtered', con=engine, if_exists='replace', index=False)\n",
    "db_info()"
   ]
  },
  {
   "cell_type": "markdown",
   "metadata": {},
   "source": [
    "### Empty news database"
   ]
  },
  {
   "cell_type": "code",
   "execution_count": null,
   "metadata": {},
   "outputs": [],
   "source": [
    "empty_db = False\n",
    "\n",
    "if empty_db:\n",
    "    engine = create_engine(\"sqlite:///news.db\", echo=True)\n",
    "\n",
    "    with engine.connect() as con:\n",
    "        con.execute('DELETE FROM news;')\n",
    "        con.execute('VACUUM;')\n",
    "\n",
    "        # clear all"
   ]
  },
  {
   "cell_type": "markdown",
   "metadata": {},
   "source": [
    "### Display database status"
   ]
  },
  {
   "cell_type": "code",
   "execution_count": null,
   "metadata": {},
   "outputs": [],
   "source": [
    "db_info(show_table=True)"
   ]
  }
 ],
 "metadata": {
  "kernelspec": {
   "display_name": "base",
   "language": "python",
   "name": "python3"
  },
  "language_info": {
   "codemirror_mode": {
    "name": "ipython",
    "version": 3
   },
   "file_extension": ".py",
   "mimetype": "text/x-python",
   "name": "python",
   "nbconvert_exporter": "python",
   "pygments_lexer": "ipython3",
   "version": "3.11.4"
  }
 },
 "nbformat": 4,
 "nbformat_minor": 2
}
