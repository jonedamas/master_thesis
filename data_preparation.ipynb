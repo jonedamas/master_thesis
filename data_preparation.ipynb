{
 "cells": [
  {
   "cell_type": "code",
   "execution_count": 1,
   "metadata": {},
   "outputs": [],
   "source": [
    "import yfinance as yf\n",
    "import pandas as pd\n",
    "import numpy as np"
   ]
  },
  {
   "cell_type": "markdown",
   "metadata": {},
   "source": [
    "# Data preperation"
   ]
  },
  {
   "cell_type": "code",
   "execution_count": 6,
   "metadata": {},
   "outputs": [
    {
     "data": {
      "text/plain": [
       "Date\n",
       "2018-10-05    28.840000\n",
       "2018-10-08    28.860001\n",
       "2018-10-09    27.900000\n",
       "2018-10-10    28.809999\n",
       "2018-10-11    29.290001\n",
       "                ...    \n",
       "2023-09-28    31.620001\n",
       "2023-09-29    32.240002\n",
       "2023-10-02    32.000000\n",
       "2023-10-03    33.250000\n",
       "2023-10-04    35.349998\n",
       "Name: Adj Close, Length: 1257, dtype: float64"
      ]
     },
     "metadata": {},
     "output_type": "display_data"
    }
   ],
   "source": [
    "tickers = ['CL=F' ,'^OVX']\n",
    "\n",
    "df = yf.download(tickers, period='5Y', progress=False)['Adj Close']\n",
    "\n",
    "display(df)"
   ]
  }
 ],
 "metadata": {
  "kernelspec": {
   "display_name": "base",
   "language": "python",
   "name": "python3"
  },
  "language_info": {
   "codemirror_mode": {
    "name": "ipython",
    "version": 3
   },
   "file_extension": ".py",
   "mimetype": "text/x-python",
   "name": "python",
   "nbconvert_exporter": "python",
   "pygments_lexer": "ipython3",
   "version": "3.11.4"
  },
  "orig_nbformat": 4
 },
 "nbformat": 4,
 "nbformat_minor": 2
}
