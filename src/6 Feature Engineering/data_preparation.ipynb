{
 "cells": [
  {
   "cell_type": "code",
   "execution_count": null,
   "metadata": {},
   "outputs": [],
   "source": [
    "\n",
    "import pandas as pd\n",
    "import numpy as np\n",
    "from tqdm.notebook import tqdm\n",
    "import warnings\n",
    "\n",
    "import sys\n",
    "import os\n",
    "from dotenv import load_dotenv\n",
    "\n",
    "load_dotenv()\n",
    "warnings.filterwarnings(\"ignore\")\n",
    "\n",
    "REPO_PATH = os.getenv(\"REPO_PATH\")\n",
    "sys.path.insert(0, rf'{REPO_PATH}src')\n",
    "from utils.main_utils import combload_topic_dfs\n"
   ]
  },
  {
   "cell_type": "markdown",
   "metadata": {},
   "source": [
    "### Parameters"
   ]
  },
  {
   "cell_type": "code",
   "execution_count": null,
   "metadata": {},
   "outputs": [],
   "source": [
    "TOPICS = ['CRU', 'CWP', 'CEN']\n",
    "\n",
    "FUTURES = ['LCOc1', 'CLc1']\n",
    "\n",
    "SENTIMENT_COLUMNS: list[str] = [\n",
    "    'TextBlob_fullStory', \n",
    "    'VADER_fullStory'\n",
    "]\n",
    "\n",
    "RESAMPLE_WINDOW: str = '5min'"
   ]
  },
  {
   "cell_type": "markdown",
   "metadata": {},
   "source": [
    "### Import data\n"
   ]
  },
  {
   "cell_type": "code",
   "execution_count": null,
   "metadata": {},
   "outputs": [],
   "source": [
    "# load news and sentiment data\n",
    "news_df: pd.DataFrame = combload_topic_dfs(\n",
    "    TOPICS, \n",
    "    lambda topic: rf'{REPO_PATH}data\\sentiment_data\\{topic}_ARTICLE_SENTIMENT.csv',\n",
    "    include_topic=True\n",
    ")\n",
    "news_df.index = pd.to_datetime(news_df.index)\n",
    "\n",
    "news_df['subtopic'] = news_df['topic'] + '_' + news_df['LDA_topic'].astype(str)\n",
    "news_df['crosstopic'] = 'CT_' + news_df['cross_topic'].astype(str)\n",
    "\n",
    "news_df.drop(\n",
    "    columns=[col for col in news_df.columns if 'headline' in col] + ['LDA_topic', 'cross_topic'],\n",
    "    inplace=True\n",
    ")\n",
    "\n",
    "# load futures data\n",
    "f_dfs: dict[str, pd.DataFrame] = {\n",
    "    future: pd.read_csv(\n",
    "        rf'{REPO_PATH}data\\raw_futures_data\\{future}_High_Frequency.csv', \n",
    "        index_col=0\n",
    "    ) for future in FUTURES\n",
    "}\n",
    "\n",
    "display(news_df.head())"
   ]
  },
  {
   "cell_type": "markdown",
   "metadata": {},
   "source": [
    "### Resample and add measures to futures data"
   ]
  },
  {
   "cell_type": "code",
   "execution_count": null,
   "metadata": {},
   "outputs": [],
   "source": [
    "annualization_factor = np.sqrt(78 * 252)\n",
    "\n",
    "# set index to datetime and calculate log returns\n",
    "for df in f_dfs.values():\n",
    "    df.index = pd.to_datetime(df.index)\n",
    "    df['LOGRET'] = np.log(df['CLOSE']).diff()\n",
    "    df.loc[df.index[0], 'LOGRET'] = 0  # set first log return to 0\n",
    "\n",
    "fr_dfs: dict[str, pd.DataFrame] = {\n",
    "    future: pd.DataFrame(\n",
    "        {\n",
    "            'CLOSE': df['CLOSE'].resample(RESAMPLE_WINDOW).last(),\n",
    "            'VOLUME': df['VOLUME'].resample(RESAMPLE_WINDOW).sum(),\n",
    "            'COUNT': df['COUNT'].resample(RESAMPLE_WINDOW).sum(),\n",
    "            'LOGRET': df['LOGRET'].resample(RESAMPLE_WINDOW).sum(),\n",
    "            'REALIZED_VOL': np.sqrt((df['LOGRET'] ** 2).resample(RESAMPLE_WINDOW).sum())\n",
    "        }\n",
    "    ) for future, df in f_dfs.items()\n",
    "}\n",
    "\n",
    "for price_df in fr_dfs.values():\n",
    "    price_df.index = pd.to_datetime(price_df.index)\n",
    "    price_df['REALIZED_VOL'] = price_df['REALIZED_VOL'] * annualization_factor\n",
    "\n",
    "display(fr_dfs['LCOc1'].head())"
   ]
  },
  {
   "cell_type": "markdown",
   "metadata": {},
   "source": [
    "### Resample and treat news sentiment data"
   ]
  },
  {
   "cell_type": "code",
   "execution_count": null,
   "metadata": {},
   "outputs": [],
   "source": [
    "classifiers = {\n",
    "    'topic': TOPICS,\n",
    "    'subtopic': news_df['subtopic'].unique(),\n",
    "    'crosstopic': news_df['crosstopic'].unique()\n",
    "}\n",
    "\n",
    "resample_dfs = []\n",
    "for key, classifier in classifiers.items():\n",
    "    for topic in classifier:\n",
    "        resampled_df = pd.DataFrame(\n",
    "            {\n",
    "                col: news_df[col][news_df[key] == topic].resample(RESAMPLE_WINDOW).mean()\n",
    "                for col in SENTIMENT_COLUMNS\n",
    "            }\n",
    "        ).fillna(0).add_prefix(f'{topic}_')\n",
    "        resample_dfs.append(resampled_df)\n",
    "\n",
    "resample_df = pd.concat(resample_dfs, axis=1).fillna(0)\n",
    "resample_df.columns = resample_df.columns.str.replace('_fullStory', '')\n",
    "\n",
    "# combine news and futures data\n",
    "combined_dfs: dict[str, pd.DataFrame] = {\n",
    "    future: resample_df.fillna(0).join(fr_dfs[future]).dropna()\n",
    "    for future in FUTURES\n",
    "}\n",
    "\n",
    "for df in combined_dfs.values():\n",
    "    display(df.head(2))\n"
   ]
  },
  {
   "cell_type": "markdown",
   "metadata": {},
   "source": [
    "### Add sentiment index"
   ]
  },
  {
   "cell_type": "code",
   "execution_count": null,
   "metadata": {},
   "outputs": [],
   "source": [
    "DECAY = 288 # number of 5-minute intervals in a days\n",
    "\n",
    "dfs = combined_dfs.copy()\n",
    "# Topic Sentiment Index\n",
    "for key, df in dfs.items():\n",
    "    tqdm.pandas(desc=f'Calculating Topic SI for {key}')\n",
    "    for col_name in tqdm(resample_df.columns):\n",
    "        df[f'{col_name}_SI'] = df[col_name].ewm(span=DECAY).mean()\n"
   ]
  },
  {
   "cell_type": "markdown",
   "metadata": {},
   "source": [
    "### Add temporal features and save dfs\n"
   ]
  },
  {
   "cell_type": "code",
   "execution_count": null,
   "metadata": {},
   "outputs": [],
   "source": [
    "def add_temporal(df: pd.DataFrame) -> None:\n",
    "    df['HOUR'] = df.index.hour\n",
    "    df['MINUTE'] = df.index.minute\n",
    "    df['MINUTE_OF_DAY'] = df['HOUR'] * 60 + df['MINUTE']\n",
    "    df['DAY_OF_WEEK'] = df.index.dayofweek\n",
    "    df['DAY_OF_MONTH'] = df.index.day\n",
    "\n",
    "def add_lags(df, column, lags: int) -> None:\n",
    "    for lag in range(lags):\n",
    "        df[f'RV_LAG_{lag + 1}'] = df[column].shift(lag + 1)\n",
    "\n",
    "def add_target(df, column, horizon: int) -> None:\n",
    "    for lag in range(horizon):\n",
    "        df[f'TARGET_{lag + 1}'] = df[column].shift(-lag - 1)\n",
    "\n",
    "for future in FUTURES:\n",
    "    df = combined_dfs[future]\n",
    "    add_temporal(df)\n",
    "    add_lags(df, 'REALIZED_VOL', 5)\n",
    "    \n",
    "    add_target(df, 'REALIZED_VOL', 1)\n",
    "\n",
    "    df.dropna(inplace=True)\n",
    "\n",
    "    df.to_csv(rf'{REPO_PATH}data\\prepared_data\\{future}_{RESAMPLE_WINDOW}_resampled.csv')\n",
    "\n"
   ]
  }
 ],
 "metadata": {
  "kernelspec": {
   "display_name": "base",
   "language": "python",
   "name": "python3"
  },
  "language_info": {
   "codemirror_mode": {
    "name": "ipython",
    "version": 3
   },
   "file_extension": ".py",
   "mimetype": "text/x-python",
   "name": "python",
   "nbconvert_exporter": "python",
   "pygments_lexer": "ipython3",
   "version": "3.11.4"
  }
 },
 "nbformat": 4,
 "nbformat_minor": 2
}
