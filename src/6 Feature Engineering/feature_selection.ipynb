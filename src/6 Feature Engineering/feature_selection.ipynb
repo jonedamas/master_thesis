{
 "cells": [
  {
   "cell_type": "code",
   "execution_count": null,
   "metadata": {},
   "outputs": [],
   "source": [
    "import numpy as np\n",
    "import pandas as pd\n",
    "import json\n",
    "import matplotlib.pyplot as plt\n",
    "import matplotlib.cm as cm\n",
    "import statsmodels.api as sm\n",
    "from sklearn.preprocessing import RobustScaler\n",
    "from sklearn.linear_model import Lasso\n",
    "from sklearn.metrics import mean_squared_error\n",
    "from sklearn.model_selection import train_test_split\n",
    "from xgboost import XGBRegressor, plot_importance\n",
    "from tqdm.notebook import tqdm\n",
    "import scienceplots\n",
    "\n",
    "import os\n",
    "import sys\n",
    "from dotenv import load_dotenv\n",
    "\n",
    "load_dotenv()\n",
    "REPO_PATH = os.getenv(\"REPO_PATH\")\n",
    "\n",
    "# Import main utility functions\n",
    "sys.path.insert(0, rf'{REPO_PATH}src')\n",
    "from utils.main_utils import load_processed\n",
    "from utils.forecast_utils import mean_directional_accuracy\n",
    "plt.style.use('science')"
   ]
  },
  {
   "cell_type": "markdown",
   "metadata": {},
   "source": [
    "### Import data"
   ]
  },
  {
   "cell_type": "code",
   "execution_count": null,
   "metadata": {},
   "outputs": [],
   "source": [
    "FUTURES = ['CLc1', 'LCOc1']\n",
    "TOPICS = ['CRU', 'CWP', 'CEN']\n",
    "\n",
    "dfs = load_processed(FUTURES)\n",
    "\n",
    "df = dfs['CLc1']\n",
    "\n",
    "display(df.head())"
   ]
  },
  {
   "cell_type": "markdown",
   "metadata": {},
   "source": [
    "### Multiple linear regression"
   ]
  },
  {
   "cell_type": "code",
   "execution_count": null,
   "metadata": {},
   "outputs": [],
   "source": [
    "# multiple linear regression\n",
    "# X = df[df.filter(like='_SI').columns]\n",
    "X = df.drop(columns=['TARGET_1'])\n",
    "\n",
    "y = df['TARGET_1']\n",
    "\n",
    "X_const = sm.add_constant(X)\n",
    "model = sm.OLS(y, X_const).fit()\n",
    "\n",
    "print(model.summary())\n",
    "\n"
   ]
  },
  {
   "cell_type": "markdown",
   "metadata": {},
   "source": [
    "### LASSO and Ridge regression"
   ]
  },
  {
   "cell_type": "code",
   "execution_count": null,
   "metadata": {},
   "outputs": [],
   "source": [
    "\n",
    "# scale variables\n",
    "scaler = RobustScaler()\n",
    "X = pd.DataFrame(scaler.fit_transform(X), columns=X.columns, index=X.index)\n",
    "\n",
    "X_train, X_test, y_train, y_test = train_test_split(X, y, test_size=0.2, shuffle=False)\n",
    "\n",
    "lamdas = np.logspace(-5, 0, 500)\n",
    "\n",
    "coefs_lasso = []\n",
    "CV_MSE_lasso = []\n",
    "\n",
    "for i in tqdm(lamdas, desc='Fitting Lasso '):\n",
    "    lasso = Lasso(alpha=i, max_iter=10000)\n",
    "    lasso.fit(X_train, y_train)\n",
    "    coefs_lasso.append(lasso.coef_)\n",
    "    CV_MSE_lasso.append(mean_squared_error(y_test, lasso.predict(X_test)))\n"
   ]
  },
  {
   "cell_type": "code",
   "execution_count": null,
   "metadata": {},
   "outputs": [],
   "source": [
    "fig, axs = plt.subplots(1, 2, figsize=(12, 5), dpi=200)\n",
    "\n",
    "\n",
    "plot_y = [coefs_lasso, CV_MSE_lasso]\n",
    "label_y = ['Mean Square Error', 'Coefficients']\n",
    "vlines = [CV_MSE_lasso]\n",
    "\n",
    "# get twilight colors\n",
    "colormap = cm.get_cmap('twilight_r', 20)\n",
    "\n",
    "# Set the color cycle to the twilight colormap\n",
    "axs[0].set_prop_cycle(color=colormap(np.linspace(0, 1, 8)))\n",
    "axs[1].set_prop_cycle(color=colormap(np.linspace(0, 1, 2)))\n",
    "\n",
    "for i, ax in enumerate(axs.flatten()):\n",
    "    ax.plot(lamdas, plot_y[i], color='black' if i == 1 else None, lw=1.2)\n",
    "    ax.set_xscale('log')\n",
    "    # adjust tick size\n",
    "    ax.tick_params(axis='both', which='major', labelsize=13)\n",
    "    ax.set_xlabel('$\\lambda$', fontsize=15)\n",
    "    ax.set_ylabel(label_y[1] if i % 2 == 0 else label_y[0], fontsize=15)\n",
    "    ax.axvline(\n",
    "        lamdas[np.argmin(vlines[0] if i < 2 else vlines[1])], \n",
    "        color='red', \n",
    "        linestyle='-.',\n",
    "        lw=1\n",
    "    )\n",
    "\n",
    "# set color on axs[1] line\n",
    "\n",
    "fig.tight_layout()\n",
    "fig.savefig('LASSO_Results.png')\n",
    "\n",
    "# get coefficients for the best lambda\n",
    "lasso = Lasso(alpha=lamdas[np.argmin(CV_MSE_lasso)], max_iter=10000)\n",
    "lasso.fit(X_train, y_train)\n",
    "print('Intercept for the best lambda:', lasso.intercept_)\n",
    "print('MSE for the best lambda:', mean_squared_error(y_test, lasso.predict(X_test)))\n"
   ]
  },
  {
   "cell_type": "code",
   "execution_count": null,
   "metadata": {},
   "outputs": [],
   "source": [
    "lasso_coefs = {col: 1 if coef != 0.0 else 0 for col, coef in zip(X.columns, lasso.coef_)}\n",
    "\n",
    "# print the number of non-zero coefficients\n",
    "print(f'Number of non-zero coefficients: {sum(lasso_coefs.values())}')\n",
    "print(f'Number of zero coefficients: {len(lasso_coefs) - sum(lasso_coefs.values())}')\n",
    "\n",
    "# remove all RV_LAG features\n",
    "lasso_coefs = {k: v for k, v in lasso_coefs.items() if 'RV_LAG' not in k}\n",
    "\n",
    "with open('feature_filters/lasso_coefs.json', 'w') as f:\n",
    "    json.dump(lasso_coefs, f, indent=4)"
   ]
  },
  {
   "cell_type": "code",
   "execution_count": null,
   "metadata": {},
   "outputs": [],
   "source": [
    "# OLS\n",
    "X_const = sm.add_constant(X_train)\n",
    "model = sm.OLS(y_train, X_const).fit()\n",
    "X_const = sm.add_constant(X_test)\n",
    "\n",
    "# LASSO\n",
    "lasso = Lasso(alpha=lamdas[np.argmin(CV_MSE_lasso)], max_iter=10000)\n",
    "lasso.fit(X_train, y_train)\n",
    "\n",
    "# predict with XGBoost\n",
    "xgb = XGBRegressor()\n",
    "xgb.fit(X_train, y_train)\n",
    "\n",
    "\n",
    "# Reduce number of features\n",
    "features = X.columns[lasso.coef_ != 0]\n",
    "X_train_BE = X_train[features]\n",
    "X_test_BE = X_test[features]\n",
    "\n",
    "# OLS Reduced\n",
    "X_const_R = sm.add_constant(X_train_BE)\n",
    "model_R = sm.OLS(y_train, X_const_R).fit()\n",
    "X_const_R = sm.add_constant(X_test_BE)\n",
    "\n",
    "\n",
    "# LASSO Reduced\n",
    "lasso_R = Lasso(alpha=lamdas[np.argmin(CV_MSE_lasso)], max_iter=10000)\n",
    "lasso_R.fit(X_train_BE, y_train)\n",
    "\n",
    "# predict with Reduced XGBoost\n",
    "xgb_R = XGBRegressor()\n",
    "xgb_R.fit(X_train_BE, y_train)\n",
    "\n",
    "\n",
    "predict_df = pd.DataFrame(\n",
    "    {\n",
    "        'True': y_test,\n",
    "        'OLS': model.predict(X_const),\n",
    "        'OLS_R': model_R.predict(X_const_R),\n",
    "        'Lasso': lasso.predict(X_test),\n",
    "        'Lasso_R': lasso_R.predict(X_test_BE),\n",
    "        'XGBoost': xgb.predict(X_test),\n",
    "        'XGBoost_R': xgb_R.predict(X_test_BE)\n",
    "    }, index=y_test.index\n",
    ")\n",
    "\n",
    "window = 100\n",
    "fig, ax = plt.subplots(1, 1, figsize=(10, 5), dpi=200)\n",
    "predict_df[['True', 'XGBoost', 'XGBoost_R']].iloc[-window:].plot(ax=ax, alpha=0.7)\n",
    "ax.legend(frameon=False)\n",
    "\n",
    "# sgb feature importance\n",
    "\n",
    "fig, ax = plt.subplots(1, 1, figsize=(10, 5), dpi=200)\n",
    "plot_importance(xgb, ax=ax, max_num_features=20)\n",
    "ax.legend(frameon=False)\n",
    "ax.grid(alpha=0.2)\n"
   ]
  },
  {
   "cell_type": "markdown",
   "metadata": {},
   "source": [
    "### Metrics"
   ]
  },
  {
   "cell_type": "code",
   "execution_count": null,
   "metadata": {},
   "outputs": [],
   "source": [
    "metrics = pd.DataFrame(\n",
    "    {\n",
    "        'MSE': predict_df.apply(lambda x: mean_squared_error(predict_df['True'], x), axis=0),\n",
    "        'DA': predict_df.apply(lambda x: mean_directional_accuracy(predict_df['True'], x), axis=0)\n",
    "    }\n",
    ")\n",
    "\n",
    "display(metrics)"
   ]
  }
 ],
 "metadata": {
  "kernelspec": {
   "display_name": "base",
   "language": "python",
   "name": "python3"
  },
  "language_info": {
   "codemirror_mode": {
    "name": "ipython",
    "version": 3
   },
   "file_extension": ".py",
   "mimetype": "text/x-python",
   "name": "python",
   "nbconvert_exporter": "python",
   "pygments_lexer": "ipython3",
   "version": "3.11.4"
  }
 },
 "nbformat": 4,
 "nbformat_minor": 2
}
