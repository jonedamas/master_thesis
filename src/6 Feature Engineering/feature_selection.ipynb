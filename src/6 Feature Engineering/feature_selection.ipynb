{
 "cells": [
  {
   "cell_type": "code",
   "execution_count": null,
   "metadata": {},
   "outputs": [],
   "source": [
    "import pandas as pd\n",
    "import matplotlib.pyplot as plt\n",
    "import statsmodels.api as sm\n",
    "import json\n",
    "import yaml\n",
    "from sklearn.preprocessing import RobustScaler\n",
    "from sklearn.linear_model import Lasso\n",
    "from sklearn.metrics import mean_squared_error, mean_absolute_error\n",
    "from sklearn.model_selection import train_test_split\n",
    "from xgboost import XGBRegressor, plot_importance\n",
    "import scienceplots\n",
    "\n",
    "import os\n",
    "import sys\n",
    "from dotenv import load_dotenv\n",
    "\n",
    "load_dotenv()\n",
    "REPO_PATH = os.getenv(\"REPO_PATH\")\n",
    "\n",
    "# Import main utility functions\n",
    "sys.path.insert(0, rf'{REPO_PATH}src')\n",
    "from utils.main_utils import load_processed\n",
    "from utils.forecast_utils import mean_directional_accuracy\n",
    "plt.style.use('science')"
   ]
  },
  {
   "cell_type": "markdown",
   "metadata": {},
   "source": [
    "### Import data"
   ]
  },
  {
   "cell_type": "code",
   "execution_count": null,
   "metadata": {},
   "outputs": [],
   "source": [
    "FUTURE = 'CLc1'\n",
    "TOPICS = ['CRU', 'CWP', 'CEN']\n",
    "\n",
    "# Load the YAML variable config file\n",
    "with open(f'{REPO_PATH}variable_config.yaml', 'r') as file:\n",
    "    var_config = yaml.load(file, Loader=yaml.FullLoader)\n",
    "\n",
    "df = load_processed(FUTURE)[FUTURE]\n",
    "\n",
    "# X = df[df.filter(like='_SI').columns]\n",
    "X = df.drop(columns=['TARGET_1'])\n",
    "\n",
    "y = df['TARGET_1']\n",
    "\n",
    "# scale variables\n",
    "scaler = RobustScaler()\n",
    "X = pd.DataFrame(scaler.fit_transform(X), columns=X.columns, index=X.index)\n",
    "\n",
    "X_train, X_test, y_train, y_test = train_test_split(X, y, test_size=0.2, shuffle=False)"
   ]
  },
  {
   "cell_type": "markdown",
   "metadata": {},
   "source": [
    "### Multiple OLS regression"
   ]
  },
  {
   "cell_type": "code",
   "execution_count": null,
   "metadata": {},
   "outputs": [],
   "source": [
    "# multiple linear regression\n",
    "X_const = sm.add_constant(X_train)\n",
    "model = sm.OLS(y_train, X_const).fit()\n",
    "\n",
    "print(model.summary())\n",
    "\n"
   ]
  },
  {
   "cell_type": "markdown",
   "metadata": {},
   "source": [
    "### Compare regression forecasting performance"
   ]
  },
  {
   "cell_type": "code",
   "execution_count": null,
   "metadata": {},
   "outputs": [],
   "source": [
    "\n",
    "# OLS\n",
    "X_const = sm.add_constant(X_train)\n",
    "model = sm.OLS(y_train, X_const).fit()\n",
    "X_const = sm.add_constant(X_test)\n",
    "\n",
    "# LASSO\n",
    "LAMBDA: float = 0.20696\n",
    "lasso = Lasso(alpha=LAMBDA, max_iter=10000)\n",
    "lasso.fit(X_train, y_train)\n",
    "\n",
    "# predict with XGBoost\n",
    "xgb = XGBRegressor()\n",
    "xgb.fit(X_train, y_train)\n",
    "\n",
    "# Reduce number of features\n",
    "lasso_features = json.load(\n",
    "    open('feature_filters/lasso_coefs.json', 'r')\n",
    ")\n",
    "\n",
    "features = X.columns[features_names]\n",
    "X_train_BE = X_train[features]\n",
    "X_test_BE = X_test[features]\n",
    "\n",
    "# OLS Reduced\n",
    "X_const_R = sm.add_constant(X_train_BE)\n",
    "model_R = sm.OLS(y_train, X_const_R).fit()\n",
    "X_const_R = sm.add_constant(X_test_BE)\n",
    "\n",
    "# LASSO Reduced\n",
    "lasso_R = Lasso(alpha=LAMBDA, max_iter=10000)\n",
    "lasso_R.fit(X_train_BE, y_train)\n",
    "\n",
    "# predict with Reduced XGBoost\n",
    "xgb_R = XGBRegressor()\n",
    "xgb_R.fit(X_train_BE, y_train)\n",
    "\n",
    "\n",
    "predict_df = pd.DataFrame(\n",
    "    {\n",
    "        'True': y_test,\n",
    "        # 'OLS': model.predict(X_const),\n",
    "        'OLS_R': model_R.predict(X_const_R),\n",
    "        'Lasso': lasso.predict(X_test),\n",
    "        'Lasso_R': lasso_R.predict(X_test_BE),\n",
    "        'XGBoost': xgb.predict(X_test),\n",
    "        'XGBoost_R': xgb_R.predict(X_test_BE)\n",
    "    }, index=y_test.index\n",
    ")\n",
    "\n",
    "window = 500\n",
    "fig, ax = plt.subplots(1, 1, figsize=(10, 5), dpi=200)\n",
    "predict_df.iloc[-window:].plot(ax=ax, alpha=0.7)\n",
    "ax.legend(frameon=False)\n",
    "\n",
    "# sgb feature importance\n",
    "\n",
    "fig, ax = plt.subplots(1, 1, figsize=(10, 5), dpi=200)\n",
    "plot_importance(xgb, ax=ax, max_num_features=20)\n",
    "ax.legend(frameon=False)\n",
    "ax.grid(alpha=0.2)\n"
   ]
  },
  {
   "cell_type": "markdown",
   "metadata": {},
   "source": [
    "### Metrics"
   ]
  },
  {
   "cell_type": "code",
   "execution_count": null,
   "metadata": {},
   "outputs": [],
   "source": [
    "metrics = pd.DataFrame(\n",
    "    {\n",
    "        'MSE': predict_df.apply(\n",
    "            lambda x: mean_squared_error(predict_df['True'], x), \n",
    "            axis=0\n",
    "        ),\n",
    "        'MAE': predict_df.apply(\n",
    "            lambda x: mean_absolute_error(predict_df['True'], x), \n",
    "            axis=0\n",
    "        ),\n",
    "        'DA': predict_df.apply(\n",
    "            lambda x: mean_directional_accuracy(predict_df['True'], x), \n",
    "            axis=0\n",
    "        )\n",
    "    }\n",
    ")\n",
    "\n",
    "display(metrics)"
   ]
  }
 ],
 "metadata": {
  "kernelspec": {
   "display_name": "base",
   "language": "python",
   "name": "python3"
  },
  "language_info": {
   "codemirror_mode": {
    "name": "ipython",
    "version": 3
   },
   "file_extension": ".py",
   "mimetype": "text/x-python",
   "name": "python",
   "nbconvert_exporter": "python",
   "pygments_lexer": "ipython3",
   "version": "3.11.4"
  }
 },
 "nbformat": 4,
 "nbformat_minor": 2
}
