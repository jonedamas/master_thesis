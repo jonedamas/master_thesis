{
 "cells": [
  {
   "cell_type": "code",
   "execution_count": null,
   "metadata": {},
   "outputs": [],
   "source": [
    "import numpy as np\n",
    "import pandas as pd\n",
    "import json\n",
    "import yaml\n",
    "import matplotlib.pyplot as plt\n",
    "import matplotlib.cm as cm\n",
    "from sklearn.preprocessing import RobustScaler\n",
    "from sklearn.linear_model import Lasso\n",
    "from sklearn.metrics import mean_squared_error\n",
    "from sklearn.model_selection import train_test_split\n",
    "from tqdm.notebook import tqdm\n",
    "import scienceplots\n",
    "\n",
    "import os\n",
    "import sys\n",
    "from dotenv import load_dotenv\n",
    "load_dotenv()\n",
    "REPO_PATH = os.getenv(\"REPO_PATH\")\n",
    "\n",
    "# Import main utility functions\n",
    "sys.path.insert(0, rf'{REPO_PATH}src')\n",
    "from utils.main_utils import load_processed\n",
    "from utils.lasso_utils import plot_lasso\n",
    "from utils.forecast_utils import calculate_metrics\n",
    "plt.style.use('science')"
   ]
  },
  {
   "cell_type": "markdown",
   "metadata": {},
   "source": [
    "### Load data"
   ]
  },
  {
   "cell_type": "code",
   "execution_count": null,
   "metadata": {},
   "outputs": [],
   "source": [
    "FUTURES = ['CLc1', 'LCOc1']\n",
    "TOPICS = ['CRU', 'CWP', 'CEN']\n",
    "\n",
    "dfs = load_processed(FUTURES)\n",
    "\n",
    "with open(f'{REPO_PATH}variable_config.yaml', 'r') as file:\n",
    "    var_config = yaml.load(file, Loader=yaml.FullLoader)\n",
    "\n",
    "df = dfs['CLc1']\n",
    "\n",
    "ID = 'BT'\n",
    "\n",
    "X = df[var_config['BASE'] + var_config['TEMPORAL']]\n",
    "\n",
    "y = df['TARGET_1']\n",
    "\n",
    "# scale feature variables\n",
    "scaler = RobustScaler()\n",
    "X = pd.DataFrame(\n",
    "    scaler.fit_transform(X), \n",
    "    columns=X.columns, \n",
    "    index=X.index\n",
    ")\n",
    "\n",
    "X_train, X_test, y_train, y_test = train_test_split(\n",
    "    X, y, test_size=0.2, shuffle=False\n",
    ")"
   ]
  },
  {
   "cell_type": "markdown",
   "metadata": {},
   "source": [
    "### LASSO Regression"
   ]
  },
  {
   "cell_type": "code",
   "execution_count": null,
   "metadata": {},
   "outputs": [],
   "source": [
    "lambdas = np.logspace(-5, 0, 500)\n",
    "\n",
    "coefs_lasso = []\n",
    "CV_MSE_lasso = []\n",
    "\n",
    "for i in tqdm(lambdas, desc='Finding optimal lambda'):\n",
    "    lasso = Lasso(alpha=i, max_iter=10000)\n",
    "    lasso.fit(X_train, y_train)\n",
    "    coefs_lasso.append(lasso.coef_)\n",
    "    CV_MSE_lasso.append(\n",
    "        mean_squared_error(y_test, lasso.predict(X_test))\n",
    "    )\n",
    "\n",
    "lasso_df = pd.DataFrame({'lambda': lambdas,'MSE': CV_MSE_lasso})"
   ]
  },
  {
   "cell_type": "markdown",
   "metadata": {},
   "source": [
    "### Plot LASSO"
   ]
  },
  {
   "cell_type": "code",
   "execution_count": null,
   "metadata": {},
   "outputs": [],
   "source": [
    "fig = plot_lasso(lasso_df, coefs_lasso)\n",
    "fig.savefig(f'images/{ID}_LASSO_Results.png')\n",
    "\n",
    "# get coefficients for the best lambda\n",
    "lasso = Lasso(alpha=lambdas[np.argmin(lasso_df['MSE'])], max_iter=10000)\n",
    "lasso.fit(X_train, y_train)\n",
    "print('Intercept for the best lambda:', lasso.intercept_)\n",
    "\n",
    "metrics_df = pd.DataFrame(\n",
    "    calculate_metrics(\n",
    "        y_test, \n",
    "        lasso.predict(X_test), \n",
    "        decimals=4\n",
    "    ) , index=[0]\n",
    ")\n",
    "\n",
    "display(metrics_df)\n",
    "\n",
    "lasso_coefs = {\n",
    "    col: 1 if coef != 0.0 else 0 \n",
    "    for col, coef in zip(X.columns, lasso.coef_)\n",
    "}\n",
    "\n",
    "# print the number of non-zero coefficients\n",
    "print(f'Number of non-zero coefficients: {sum(lasso_coefs.values())}')\n",
    "print(f'Number of zero coefficients: {len(lasso_coefs) - sum(lasso_coefs.values())}')\n",
    "\n",
    "# remove all RV_LAG features\n",
    "lasso_coefs = {k: v for k, v in lasso_coefs.items() if 'RV_LAG' not in k}\n",
    "\n",
    "with open('feature_filters/lasso_coefs.json', 'w') as f:\n",
    "    json.dump(lasso_coefs, f, indent=4)"
   ]
  }
 ],
 "metadata": {
  "kernelspec": {
   "display_name": "base",
   "language": "python",
   "name": "python3"
  },
  "language_info": {
   "codemirror_mode": {
    "name": "ipython",
    "version": 3
   },
   "file_extension": ".py",
   "mimetype": "text/x-python",
   "name": "python",
   "nbconvert_exporter": "python",
   "pygments_lexer": "ipython3",
   "version": "3.11.4"
  }
 },
 "nbformat": 4,
 "nbformat_minor": 2
}
