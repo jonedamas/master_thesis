{
 "cells": [
  {
   "cell_type": "code",
   "execution_count": null,
   "metadata": {},
   "outputs": [],
   "source": [
    "import matplotlib.pyplot as plt\n",
    "\n",
    "import sys\n",
    "\n",
    "# Import main utility functions\n",
    "sys.path.insert(0, r'c:\\Users\\joneh\\master_thesis\\src')\n",
    "from main_utils import *"
   ]
  },
  {
   "cell_type": "code",
   "execution_count": null,
   "metadata": {},
   "outputs": [],
   "source": [
    "df_TG = load_df('news', 'TG_CrudeANDOil.csv')\n",
    "df_NYT = load_df('news', 'NYT_CrudeANDOil.csv')\n",
    "\n",
    "fig, ax = plt.subplots(figsize=(7, 4))\n",
    "df_TG.groupby(df_TG.index.year).count().plot(kind='line', y='article_id', ax=ax, label='The Guardian')\n",
    "df_NYT.groupby(df_NYT.index.year).count().plot(kind='line', y='article_id', ax=ax, label='The New York Times')\n",
    "\n",
    "ax.set_xlabel('Day of week')\n",
    "ax.set_ylabel('Number of articles')\n",
    "ax.grid(alpha=0.3)"
   ]
  }
 ],
 "metadata": {
  "kernelspec": {
   "display_name": "base",
   "language": "python",
   "name": "python3"
  },
  "language_info": {
   "codemirror_mode": {
    "name": "ipython",
    "version": 3
   },
   "file_extension": ".py",
   "mimetype": "text/x-python",
   "name": "python",
   "nbconvert_exporter": "python",
   "pygments_lexer": "ipython3",
   "version": "3.11.4"
  }
 },
 "nbformat": 4,
 "nbformat_minor": 2
}
