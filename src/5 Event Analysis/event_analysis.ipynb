{
 "cells": [
  {
   "cell_type": "code",
   "execution_count": null,
   "metadata": {},
   "outputs": [],
   "source": [
    "import pandas as pd\n",
    "import numpy as np\n",
    "import matplotlib.pyplot as plt\n",
    "from arch import arch_model\n",
    "import yfinance as yf\n",
    "from tqdm import tqdm\n",
    "\n",
    "import sys\n",
    "import os\n",
    "from dotenv import load_dotenv\n",
    "\n",
    "load_dotenv()\n",
    "REPO_PATH = os.getenv(\"REPO_PATH\")\n",
    "\n",
    "# Import main utility functions\n",
    "sys.path.insert(0, rf'{REPO_PATH}src')\n",
    "from utils import *"
   ]
  },
  {
   "cell_type": "markdown",
   "metadata": {},
   "source": [
    "### Trading days"
   ]
  },
  {
   "cell_type": "code",
   "execution_count": null,
   "metadata": {},
   "outputs": [],
   "source": [
    "daily_df = pd.read_csv(rf'{REPO_PATH}data\\time_series\\LCOc1.csv')\n",
    "daily_df.index = pd.to_datetime(daily_df['Date'])\n",
    "\n",
    "daily_df['TRADING_DAY'] = True\n",
    "\n",
    "# fill all missing days with False in TRADING_DAY column\n",
    "daily_df = daily_df.resample('D').asfreq().fillna(False)\n",
    "\n",
    "daily_df['TRADING_DAY']"
   ]
  },
  {
   "cell_type": "markdown",
   "metadata": {},
   "source": [
    "### Load data"
   ]
  },
  {
   "cell_type": "code",
   "execution_count": null,
   "metadata": {},
   "outputs": [],
   "source": [
    "sentiment_df = pd.read_csv(rf'{REPO_PATH}data\\news\\SENTIMENT_ALL_NEWS.csv')\n",
    "futures_df = pd.read_csv(rf'{REPO_PATH}data\\time_series\\LCOc1_High_Frequency.csv')\n",
    "\n",
    "\n",
    "# remove all news articles before 2023-04-14\n",
    "sentiment_df = sentiment_df[sentiment_df['versionCreated'] >= '2023-04-14']\n",
    "sentiment_df.rename(columns={'versionCreated': 'Date'}, inplace=True)\n",
    "sentiment_df['Date'] = pd.to_datetime(sentiment_df['Date']).dt.tz_convert(None)\n",
    "\n",
    "futures_df['Date'] = pd.to_datetime(futures_df['Date'])\n",
    "\n",
    "\n",
    "futures_df['LOGRET'] = np.log(futures_df['CLOSE']).diff()\n",
    "gm = arch_model(futures_df['LOGRET'].dropna(), vol='GARCH', p=1, q=1)\n",
    "gm_fit = gm.fit(disp='off')\n",
    "\n",
    "futures_df['GARCH'] = gm_fit.conditional_volatility\n",
    "\n"
   ]
  },
  {
   "cell_type": "code",
   "execution_count": null,
   "metadata": {},
   "outputs": [],
   "source": [
    "\n",
    "\n",
    "horizon = 100\n",
    "          \n",
    "vol_dict = {}\n",
    "\n",
    "for i, row in tqdm(sentiment_df.iterrows(), total=sentiment_df.shape[0]):\n",
    "    time = row['Date']\n",
    "\n",
    "    # in futures data, find closest row after time\n",
    "    closest = futures_df[futures_df['Date'] >= time].index[0]\n",
    "\n",
    "    index_range = futures_df.index[closest-horizon:closest+horizon]\n",
    "\n",
    "    vol_dict[row['storyId']] = [futures_df['GARCH'][i] for i in index_range]\n",
    "    \n",
    "\n",
    "res_df = pd.DataFrame(vol_dict, index=range(-horizon, horizon)).T\n",
    "\n",
    "display(res_df)"
   ]
  },
  {
   "cell_type": "code",
   "execution_count": null,
   "metadata": {},
   "outputs": [],
   "source": [
    "# plot\n",
    "fig, ax = plt.subplots(figsize=(12, 8))\n",
    "\n",
    "res_df.T.plot(ax=ax, lw=0.2, legend=False)\n",
    "res_df.T.mean(axis=1).plot(ax=ax, lw=2, color='black', label='Mean')\n",
    "ax.axvline(0, color='black', lw=0.5, ls='--')"
   ]
  },
  {
   "cell_type": "code",
   "execution_count": null,
   "metadata": {},
   "outputs": [],
   "source": [
    "negative = sentiment_df[sentiment_df['polarity'] < -0.5]['storyId']\n",
    "positive = sentiment_df[sentiment_df['polarity'] > 0.5]['storyId']\n",
    "\n",
    "print('number of negative news:', len(negative))\n",
    "print('number of positive news:', len(positive))\n",
    "\n",
    "res_df.loc[negative].T.mean(axis=1).plot(lw=1, color='red', label='Negative')\n",
    "res_df.loc[positive].T.mean(axis=1).plot(lw=1, color='green', label='Positive')\n",
    "res_df.T.mean(axis=1).plot(lw=1, color='black', label='Mean')\n",
    "plt.axvline(0, color='black', lw=0.5, ls='--')\n",
    "\n",
    "plt.legend()\n",
    "plt.xlabel('Time [minutes]')\n",
    "plt.ylabel('GARCH volatility')\n",
    "\n",
    "# res_df.T.mean(axis=1).plot(lw=2, color='black', label='Mean')\n",
    "# res_df.T.mean(axis=1).plot(lw=2, color='black', label='Mean')\n",
    "# ax.axvline(0, color='black', lw=0.5, ls='--')"
   ]
  }
 ],
 "metadata": {
  "kernelspec": {
   "display_name": "base",
   "language": "python",
   "name": "python3"
  },
  "language_info": {
   "codemirror_mode": {
    "name": "ipython",
    "version": 3
   },
   "file_extension": ".py",
   "mimetype": "text/x-python",
   "name": "python",
   "nbconvert_exporter": "python",
   "pygments_lexer": "ipython3",
   "version": "3.11.4"
  }
 },
 "nbformat": 4,
 "nbformat_minor": 2
}
