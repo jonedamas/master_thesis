{
 "cells": [
  {
   "cell_type": "code",
   "execution_count": null,
   "metadata": {},
   "outputs": [],
   "source": [
    "import pandas as pd\n",
    "import numpy as np\n",
    "import yaml\n",
    "import matplotlib.pyplot as plt\n",
    "from tqdm.notebook import tqdm\n",
    "import warnings\n",
    "import scienceplots\n",
    "from statsmodels.tsa.api import VAR\n",
    "from statsmodels.tsa.stattools import adfuller\n",
    "\n",
    "import sys\n",
    "import os\n",
    "from dotenv import load_dotenv\n",
    "\n",
    "load_dotenv()\n",
    "warnings.filterwarnings(\"ignore\")\n",
    "plt.style.use('science')\n",
    "\n",
    "REPO_PATH = os.getenv(\"REPO_PATH\")\n",
    "\n",
    "# Import main utility functions\n",
    "sys.path.insert(0, rf'{REPO_PATH}src')\n",
    "from utils.var_utils import plot_criterion, grangers_causation, SentVAR\n",
    "from utils.main_utils import load_processed"
   ]
  },
  {
   "cell_type": "markdown",
   "metadata": {},
   "source": [
    "### Load data"
   ]
  },
  {
   "cell_type": "code",
   "execution_count": null,
   "metadata": {},
   "outputs": [],
   "source": [
    "FUTURES = ['CLc1', 'LCOc1']\n",
    "\n",
    "def sentiment_cols(tags: list[str]) -> list[str]:\n",
    "    analyzers = ['VADER', 'TextBlob']\n",
    "    return [f\"{tag}_{analyzer}\" for analyzer in analyzers for tag in tags]\n",
    "\n",
    "# Load the YAML variable config file\n",
    "with open(f'{REPO_PATH}variable_config.yaml', 'r') as file:\n",
    "    variable_config = yaml.load(file, Loader=yaml.FullLoader)\n",
    "    VAR_variables = variable_config['VAR_TOPICS']\n",
    "\n",
    "dfs = load_processed(FUTURES)"
   ]
  },
  {
   "cell_type": "markdown",
   "metadata": {},
   "source": [
    "### Stationarity of time series with ADF"
   ]
  },
  {
   "cell_type": "code",
   "execution_count": null,
   "metadata": {},
   "outputs": [],
   "source": [
    "INSTRUMENT = 'CLc1'\n",
    "\n",
    "df = dfs[INSTRUMENT]\n",
    "\n",
    "VAR_variables = variable_config['TEMPORAL']\n",
    "\n",
    "results = {}\n",
    "for col in tqdm(VAR_variables, desc='Stationarity test'):\n",
    "    result = adfuller(df[col])\n",
    "    results[col] = result[:2]\n",
    "\n",
    "res_df = pd.DataFrame(results).T\n",
    "res_df.columns = ['ADF Statistic', 'p-value']\n",
    "\n",
    "print(f'ADFuller test results for {INSTRUMENT} sentiment data:')\n",
    "pd.options.display.float_format = '{:.4f}'.format\n",
    "display(res_df)"
   ]
  },
  {
   "cell_type": "markdown",
   "metadata": {},
   "source": [
    "### VAR Optmal lag order, Impulse response function"
   ]
  },
  {
   "cell_type": "code",
   "execution_count": null,
   "metadata": {},
   "outputs": [],
   "source": [
    "fig, ax = plt.subplots(1, 2, figsize=(8, 4), dpi=200)\n",
    "\n",
    "for i, (key, df) in enumerate(tqdm(dfs.items(), desc='Lag order selection')):\n",
    "    model = VAR(df[VAR_variables])\n",
    "    lag_order = model.select_order(30, trend='c')\n",
    "    plot_criterion(lag_order, ax[i], key)\n",
    "\n",
    "fig.tight_layout()\n",
    "fig.savefig(rf'images/lag_order.png')\n"
   ]
  },
  {
   "cell_type": "markdown",
   "metadata": {},
   "source": [
    "### Granger causality"
   ]
  },
  {
   "cell_type": "code",
   "execution_count": null,
   "metadata": {},
   "outputs": [],
   "source": [
    "df = dfs['LCOc1']\n",
    "CT_colums = df.filter(like='CT').columns.to_list()\n",
    "\n",
    "\n",
    "var_set_id = ['VAR_TOPICS_BASE', 'VAR_TOPICS_IT', 'VAR_TOPICS_CT']\n",
    "var_sets = [variable_config[var_set] for var_set in var_set_id]\n",
    "\n",
    "for var_set in var_sets:\n",
    "    gc_df = grangers_causation(df, var_set, 'REALIZED_VOL')\n",
    "    display(gc_df)\n"
   ]
  },
  {
   "cell_type": "markdown",
   "metadata": {},
   "source": [
    "### Topic"
   ]
  },
  {
   "cell_type": "code",
   "execution_count": null,
   "metadata": {},
   "outputs": [],
   "source": [
    "ANALYZER = 'TextBlob'\n",
    "\n",
    "fig, axs = plt.subplots(1, 3, figsize=(15, 5), dpi=200)\n",
    "axs = axs.flatten()\n",
    "\n",
    "labels = [\n",
    "    'Crude Oil',\n",
    "    'Conflict, War and Peace',\n",
    "    'Central Banks'\n",
    "]\n",
    "\n",
    "for i, topic in enumerate(tqdm(variable_config['TOPICS_BASE'])):\n",
    "    sent_var = SentVAR(dfs, topic, ANALYZER)\n",
    "    sent_var.plot_irf(axs[i])\n",
    "    if i == 0:\n",
    "        fig.legend(\n",
    "            loc='lower center', \n",
    "            bbox_to_anchor=(0.5, -0.1), \n",
    "            ncol=4, \n",
    "            fontsize=17\n",
    "        )\n",
    "\n",
    "    axs[i].set_title(\n",
    "            f'{topic.split(\"_\")[0]}\\n{labels[i]}', \n",
    "            fontsize = 15,\n",
    "            pad=10\n",
    "        )\n",
    "\n",
    "fig.tight_layout()\n",
    "\n",
    "fig.savefig(rf'images/irf_topics_{ANALYZER}.png')\n"
   ]
  },
  {
   "cell_type": "markdown",
   "metadata": {},
   "source": [
    "### Inter-topic"
   ]
  },
  {
   "cell_type": "code",
   "execution_count": null,
   "metadata": {},
   "outputs": [],
   "source": [
    "CRU_labels = {\n",
    "    0: 'Crude Oil Production and Prices',\n",
    "    1: 'Financial Markets and Economic Indicators',\n",
    "    2: 'Financial Instruments and Regulations'\n",
    "}\n",
    "\n",
    "CWP_labels = {\n",
    "    0: 'Middle East and Eastern Europe Conflicts',\n",
    "    1: 'International Security and Diplomacy',\n",
    "    2: 'Domestic Unrest and Government Actions'\n",
    "}\n",
    "\n",
    "CEN_labels = {\n",
    "    0: 'US Federal Reserve and Monetary Policy',\n",
    "    1: 'Economic Conditions and Government Policies',\n",
    "    2: 'Financial Markets and Global Banking'\n",
    "}\n",
    "\n",
    "labels = [CRU_labels, CWP_labels, CEN_labels]\n",
    "\n",
    "fig, axs = plt.subplots(3, 3, figsize=(15, 15), dpi=200)\n",
    "axs = axs.flatten()\n",
    "\n",
    "for i, topic in enumerate(tqdm(variable_config['TOPICS_IT'])):\n",
    "    \n",
    "    sent_var = SentVAR(dfs, topic, ANALYZER)\n",
    "    sent_var.plot_irf(axs[i])\n",
    "\n",
    "    axs[i].set_title(\n",
    "            f'{topic.split(\"_\")[0]} {i % 3}\\n{labels[i // 3][i % 3]}', \n",
    "            fontsize = 15,\n",
    "            pad=10\n",
    "            )\n",
    "\n",
    "    if i == 0:\n",
    "        fig.legend(\n",
    "            loc='lower center', \n",
    "            bbox_to_anchor=(0.5, -0.1/3), \n",
    "            ncol=4, \n",
    "            fontsize=15\n",
    "        )\n",
    "\n",
    "fig.tight_layout()\n",
    "\n",
    "fig.savefig(rf'images/irf_inter_topics_{ANALYZER}.png')"
   ]
  },
  {
   "cell_type": "markdown",
   "metadata": {},
   "source": [
    "### Cross-topic"
   ]
  },
  {
   "cell_type": "code",
   "execution_count": null,
   "metadata": {},
   "outputs": [],
   "source": [
    "topic_labels: dict[int, str] = {\n",
    "    0: 'Securities and Commodity Markets',\n",
    "    1: 'Interest Rates and Economic Policy',\n",
    "    2: 'Geopolitical Conflicts',\n",
    "    3: 'Banking and Finance',\n",
    "    4: 'Oil and Gas Production'\n",
    "}\n",
    "\n",
    "fig = plt.figure(figsize=(15, 10), dpi=200)\n",
    "\n",
    "locs = [(0,0), (0,2), (0,4), (1,1), (1,3)]\n",
    "axs = [plt.subplot2grid((2,6), loc, colspan=2, fig=fig) for loc in locs]\n",
    "\n",
    "for i, topic in enumerate(tqdm(variable_config['TOPICS_CT'])):\n",
    "    sent_var = SentVAR(dfs, topic, ANALYZER)\n",
    "    sent_var.plot_irf(axs[i])\n",
    "    axs[i].set_title(\n",
    "        f'$\\\\mathbf{{Topic\\\\ {i + 1}}}$ - {topic_labels[i]}', \n",
    "        fontsize=15,\n",
    "        pad=10\n",
    "    )\n",
    "    if i == 0:\n",
    "        fig.legend(\n",
    "            loc='lower center', \n",
    "            bbox_to_anchor=(0.5, -0.1/2), \n",
    "            ncol=4, \n",
    "            fontsize=15\n",
    "        )\n",
    "\n",
    "fig.tight_layout()\n",
    "\n",
    "fig.savefig(rf'images/irf_cross_topics_{ANALYZER}.png')"
   ]
  }
 ],
 "metadata": {
  "kernelspec": {
   "display_name": "base",
   "language": "python",
   "name": "python3"
  },
  "language_info": {
   "codemirror_mode": {
    "name": "ipython",
    "version": 3
   },
   "file_extension": ".py",
   "mimetype": "text/x-python",
   "name": "python",
   "nbconvert_exporter": "python",
   "pygments_lexer": "ipython3",
   "version": "3.11.4"
  }
 },
 "nbformat": 4,
 "nbformat_minor": 2
}
