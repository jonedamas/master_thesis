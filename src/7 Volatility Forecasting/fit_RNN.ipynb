{
 "cells": [
  {
   "cell_type": "code",
   "execution_count": null,
   "metadata": {},
   "outputs": [],
   "source": [
    "import numpy as np\n",
    "import pandas as pd\n",
    "import yaml\n",
    "import matplotlib.pyplot as plt\n",
    "from sklearn.metrics import mean_squared_error, mean_absolute_error\n",
    "\n",
    "import os\n",
    "import sys\n",
    "import warnings\n",
    "from dotenv import load_dotenv\n",
    "\n",
    "warnings.filterwarnings(\"ignore\")\n",
    "load_dotenv()\n",
    "REPO_PATH = os.getenv(\"REPO_PATH\")\n",
    "sys.path.insert(0, rf'{REPO_PATH}src')\n",
    "\n",
    "from utils.forecast_utils import mean_directional_accuracy\n",
    "from utils.model_utils import save_model_info, train_RNN"
   ]
  },
  {
   "cell_type": "markdown",
   "metadata": {},
   "source": [
    "### Load features"
   ]
  },
  {
   "cell_type": "code",
   "execution_count": null,
   "metadata": {},
   "outputs": [],
   "source": [
    "# load yaml file\n",
    "with open('variable_config.yaml') as file:\n",
    "    config = yaml.load(file, Loader=yaml.FullLoader)\n",
    "\n",
    "# Define feature list and target\n",
    "feature_columns = [\n",
    "    'REALIZED_VOL',\n",
    "    *config['BASE'],\n",
    "    *config['TEMPORAL'],\n",
    "    *config['SENTIMENT_CUSTOM']\n",
    "]\n"
   ]
  },
  {
   "cell_type": "markdown",
   "metadata": {},
   "source": [
    "### Build and fit model\n"
   ]
  },
  {
   "cell_type": "code",
   "execution_count": null,
   "metadata": {},
   "outputs": [],
   "source": [
    "DATA_PARAMS: dict[str, any] = {\n",
    "    'feature_columns': feature_columns,\n",
    "    'target_column': 'REALIZED_VOL',\n",
    "    'window_size': 14,\n",
    "    'test_size': 0.2,\n",
    "    'val_size': 0.2,\n",
    "    'CV': False,\n",
    "    'scaler_type': 'RobustScaler'\n",
    "}\n",
    "\n",
    "MODEL_PARAMS: dict[str, any] = {\n",
    "    \"units_first_layer\": 64,\n",
    "    \"units_second_layer\": 64,\n",
    "    \"l2_strength\": 0.003,\n",
    "    \"learning_rate\": 0.0003,\n",
    "    \"batch_size\": 64,\n",
    "    \"noise_std\": 0.0851\n",
    "}\n",
    "\n",
    "RNN_TYPE: str ='BiLSTM'\n",
    "FUTURE: str = 'CLc1'\n",
    "MAX_EPOCHS: int = 150\n",
    "IDENTIFIER: str = 'NOdropout'\n",
    "\n",
    "model, gen, loss_dict = train_RNN(\n",
    "    FUTURE,\n",
    "    DATA_PARAMS, \n",
    "    MODEL_PARAMS, \n",
    "    RNN_TYPE, \n",
    "    MAX_EPOCHS\n",
    ")\n",
    "\n",
    "current_dt: str = pd.Timestamp.now().strftime('%Y.%m.%d_%H.%M')\n",
    "model_name: str = f'{FUTURE}_{RNN_TYPE}_{IDENTIFIER}_{current_dt}'\n",
    "# save model\n",
    "save_model_info(\n",
    "    model,\n",
    "    model_name,\n",
    "    MODEL_PARAMS,\n",
    "    DATA_PARAMS,\n",
    "    loss_dict\n",
    ")"
   ]
  },
  {
   "cell_type": "code",
   "execution_count": null,
   "metadata": {},
   "outputs": [],
   "source": [
    "# Evaluate the model\n",
    "view = 500\n",
    "\n",
    "test_predictions = model.predict(gen.test_generator)\n",
    "test_predictions = test_predictions.flatten()\n",
    "\n",
    "test_targets = np.concatenate([y for _, y in gen.test_generator])\n",
    "test_targets = test_targets.flatten()\n",
    "\n",
    "mse = mean_squared_error(test_targets, test_predictions)\n",
    "mae = mean_absolute_error(test_targets, test_predictions)\n",
    "mda = mean_directional_accuracy(\n",
    "    pd.Series(test_targets), pd.Series(test_predictions)\n",
    ")\n",
    "\n",
    "print(f'Mean Squared Error: {mse}')\n",
    "print(f'Mean Absolute Error: {mae}')\n",
    "print(f'Mean Directional Accuracy: {mda}')\n",
    "\n",
    "fig, ax = plt.subplots(figsize=(10, 5), dpi=200)\n",
    "ax.plot(test_targets[-view:], label='Actual')\n",
    "ax.plot(test_predictions[-view:], label='Predicted')\n",
    "ax.set_title('Model Fit vs Actual')\n",
    "ax.set_xlabel('Samples')\n",
    "ax.set_ylabel('Price')\n",
    "ax.legend(frameon=False)\n",
    "ax.grid(alpha=0.3)"
   ]
  }
 ],
 "metadata": {
  "kernelspec": {
   "display_name": "master",
   "language": "python",
   "name": "python3"
  },
  "language_info": {
   "codemirror_mode": {
    "name": "ipython",
    "version": 3
   },
   "file_extension": ".py",
   "mimetype": "text/x-python",
   "name": "python",
   "nbconvert_exporter": "python",
   "pygments_lexer": "ipython3",
   "version": "3.11.4"
  }
 },
 "nbformat": 4,
 "nbformat_minor": 2
}
