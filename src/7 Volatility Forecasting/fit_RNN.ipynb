{
 "cells": [
  {
   "cell_type": "markdown",
   "metadata": {},
   "source": [
    "### Imports and setup"
   ]
  },
  {
   "cell_type": "code",
   "execution_count": null,
   "metadata": {},
   "outputs": [],
   "source": [
    "import pandas as pd\n",
    "import yaml\n",
    "import matplotlib.pyplot as plt\n",
    "\n",
    "import os\n",
    "import sys\n",
    "import warnings\n",
    "from dotenv import load_dotenv\n",
    "\n",
    "load_dotenv()\n",
    "REPO_PATH = os.getenv(\"REPO_PATH\")\n",
    "sys.path.insert(0, rf'{REPO_PATH}src')\n",
    "\n",
    "from utils.model_utils import save_model_info, train_RNN\n",
    "from utils.forecast_utils import ForecastPredictions\n",
    "\n",
    "with open(f'{REPO_PATH}variable_config.yaml', 'r') as file:\n",
    "    var_config = yaml.load(file, Loader=yaml.FullLoader)\n",
    "\n",
    "warnings.filterwarnings(\"ignore\")\n",
    "pd.options.display.float_format = '{:.4f}'.format"
   ]
  },
  {
   "cell_type": "markdown",
   "metadata": {},
   "source": [
    "### Build and fit model\n"
   ]
  },
  {
   "cell_type": "code",
   "execution_count": null,
   "metadata": {},
   "outputs": [],
   "source": [
    "# Define feature list and target\n",
    "SELECTED_FEATURES = [\n",
    "    *var_config['BASE'],\n",
    "    *var_config['TEMPORAL'],\n",
    "    *var_config['S1']\n",
    "]\n",
    "\n",
    "RNN_TYPE: str ='LSTM'\n",
    "FUTURE: str = 'CLc1'\n",
    "MAX_EPOCHS: int = 150\n",
    "IDENTIFIER: str = 'S1'\n",
    "\n",
    "MODEL_PARAMS: dict[str, any] = {\n",
    "    \"units_first_layer\": 128,\n",
    "    \"units_second_layer\": 96,\n",
    "    \"l2_strength\": 0.0001251522417143188,\n",
    "    \"learning_rate\": 0.0010428078227294694,\n",
    "    \"batch_size\": 64,\n",
    "    \"noise_std\": 0.04627878070884051,\n",
    "    \"window_size\": 20\n",
    "}\n",
    "\n",
    "DATA_PARAMS: dict[str, any] = {\n",
    "    'feature_columns': SELECTED_FEATURES,\n",
    "    'target_column': 'REALIZED_VOL',\n",
    "    'test_size': 0.2,\n",
    "    'val_size': 0.2,\n",
    "    'scaler_type': 'RobustScaler'\n",
    "}\n",
    "\n",
    "model, gen, loss_dict = train_RNN(\n",
    "    FUTURE,\n",
    "    DATA_PARAMS,\n",
    "    MODEL_PARAMS,\n",
    "    RNN_TYPE,\n",
    "    MAX_EPOCHS\n",
    ")\n",
    "\n",
    "current_dt: str = pd.Timestamp.now().strftime('%Y.%m.%d_%H.%M')\n",
    "model_name: str = f'{FUTURE}_{RNN_TYPE}_{IDENTIFIER}_{current_dt}'\n",
    "# save model\n",
    "save_model_info(\n",
    "    model,\n",
    "    model_name,\n",
    "    MODEL_PARAMS,\n",
    "    DATA_PARAMS,\n",
    "    loss_dict\n",
    ")\n"
   ]
  },
  {
   "cell_type": "code",
   "execution_count": null,
   "metadata": {},
   "outputs": [],
   "source": [
    "# Evaluate the model\n",
    "VIEW = 500\n",
    "\n",
    "forecast = ForecastPredictions(model_name)\n",
    "\n",
    "metrics = pd.DataFrame(\n",
    "    forecast.metrics(), \n",
    "    index=[IDENTIFIER]\n",
    ").T\n",
    "metrics.index = metrics.index.str.upper()\n",
    "\n",
    "fig, ax = plt.subplots(figsize=(10, 5), dpi=200)\n",
    "ax.plot(forecast.y_test[-VIEW:], label='Actual', lw=0.7)\n",
    "ax.plot(forecast.y_pred[-VIEW:], label='Predicted', lw=0.7)\n",
    "ax.set_title('Model Fit vs Actual')\n",
    "ax.set_xlabel('Samples')\n",
    "ax.set_ylabel('Price')\n",
    "ax.legend(frameon=False)\n",
    "ax.grid(alpha=0.3)\n",
    "\n",
    "display(metrics)"
   ]
  }
 ],
 "metadata": {
  "kernelspec": {
   "display_name": "master",
   "language": "python",
   "name": "python3"
  },
  "language_info": {
   "codemirror_mode": {
    "name": "ipython",
    "version": 3
   },
   "file_extension": ".py",
   "mimetype": "text/x-python",
   "name": "python",
   "nbconvert_exporter": "python",
   "pygments_lexer": "ipython3",
   "version": "3.11.4"
  }
 },
 "nbformat": 4,
 "nbformat_minor": 2
}
