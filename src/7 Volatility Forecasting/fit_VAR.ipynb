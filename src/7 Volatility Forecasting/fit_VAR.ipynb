{
 "cells": [
  {
   "cell_type": "markdown",
   "metadata": {},
   "source": [
    "### Imports and setup"
   ]
  },
  {
   "cell_type": "code",
   "execution_count": null,
   "metadata": {},
   "outputs": [],
   "source": [
    "import pandas as pd\n",
    "import yaml\n",
    "import matplotlib.pyplot as plt\n",
    "import warnings\n",
    "import scienceplots\n",
    "from statsmodels.tsa.api import VAR\n",
    "\n",
    "import sys\n",
    "import os\n",
    "from dotenv import load_dotenv\n",
    "\n",
    "load_dotenv()\n",
    "REPO_PATH = os.getenv(\"REPO_PATH\")\n",
    "\n",
    "# Import main utility functions\n",
    "sys.path.insert(0, rf'{REPO_PATH}src')\n",
    "from utils.var_utils import plot_criterion, forecast_var, save_var_info\n",
    "from utils.main_utils import load_processed, load_variables\n",
    "\n",
    "plt.style.use('science')\n",
    "warnings.filterwarnings(\"ignore\")"
   ]
  },
  {
   "cell_type": "markdown",
   "metadata": {},
   "source": [
    "### Load data"
   ]
  },
  {
   "cell_type": "code",
   "execution_count": null,
   "metadata": {},
   "outputs": [],
   "source": [
    "\n",
    "var_config = load_variables()\n",
    "SELECTED_FEATURES = [\n",
    "    *var_config['BASE_VAR'],\n",
    "    *var_config['TEMP_VAR']\n",
    "]\n",
    "\n",
    "FUTURES = ['CLc1', 'LCOc1']\n",
    "IDENTIFIER = 'B'\n",
    "\n",
    "dfs = load_processed(FUTURES)"
   ]
  },
  {
   "cell_type": "markdown",
   "metadata": {},
   "source": [
    "### Find optimal lags"
   ]
  },
  {
   "cell_type": "code",
   "execution_count": null,
   "metadata": {},
   "outputs": [],
   "source": [
    "fig, axs = plt.subplots(1, 2, figsize=(7, 3), dpi=200)\n",
    "\n",
    "for i, future in enumerate(FUTURES):\n",
    "    model = VAR(dfs[future][SELECTED_FEATURES])\n",
    "    lag_order = model.select_order(100, trend='c')\n",
    "    plot_criterion(lag_order, axs[i], FUTURES[i])\n",
    "    axs[i].set_ylabel('Score')\n",
    "\n",
    "fig.tight_layout()\n",
    "fig.savefig(f'images/OLO_{IDENTIFIER}.png')"
   ]
  },
  {
   "cell_type": "markdown",
   "metadata": {},
   "source": [
    "### Fit Model"
   ]
  },
  {
   "cell_type": "code",
   "execution_count": null,
   "metadata": {},
   "outputs": [],
   "source": [
    "VAR_PARAMS = {\n",
    "    'features': SELECTED_FEATURES,\n",
    "    'target': 'REALIZED_VOL',\n",
    "    'lags': 11,\n",
    "    'test_size': 0.2\n",
    "}\n",
    "\n",
    "FUTURE = 'LCOc1'\n",
    "\n",
    "results = forecast_var(FUTURE, VAR_PARAMS)\n",
    "\n",
    "\n",
    "current_dt: str = pd.Timestamp.now().strftime('%Y.%m.%d_%H.%M')\n",
    "model_name: str = f'{FUTURE}_VAR_{IDENTIFIER}_{current_dt}'\n",
    "\n",
    "save_var_info(model_name, VAR_PARAMS)"
   ]
  }
 ],
 "metadata": {
  "kernelspec": {
   "display_name": "base",
   "language": "python",
   "name": "python3"
  },
  "language_info": {
   "codemirror_mode": {
    "name": "ipython",
    "version": 3
   },
   "file_extension": ".py",
   "mimetype": "text/x-python",
   "name": "python",
   "nbconvert_exporter": "python",
   "pygments_lexer": "ipython3",
   "version": "3.11.4"
  }
 },
 "nbformat": 4,
 "nbformat_minor": 2
}
