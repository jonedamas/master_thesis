{
 "cells": [
  {
   "cell_type": "code",
   "execution_count": null,
   "metadata": {},
   "outputs": [],
   "source": [
    "import pandas as pd\n",
    "import yaml\n",
    "import json\n",
    "import matplotlib.pyplot as plt\n",
    "\n",
    "from tqdm.notebook import tqdm\n",
    "import os\n",
    "import sys\n",
    "import warnings\n",
    "from dotenv import load_dotenv\n",
    "\n",
    "warnings.filterwarnings(\"ignore\")\n",
    "load_dotenv()\n",
    "REPO_PATH = os.getenv(\"REPO_PATH\")\n",
    "sys.path.insert(0, rf'{REPO_PATH}src')\n",
    "\n",
    "from utils.forecast_utils import ForecastModel"
   ]
  },
  {
   "cell_type": "markdown",
   "metadata": {},
   "source": [
    "### Load RNN models"
   ]
  },
  {
   "cell_type": "code",
   "execution_count": null,
   "metadata": {},
   "outputs": [],
   "source": [
    "MODEL_NAMES = [\n",
    "    'CLc1_BiLSTM_128_2024.05.25_15.53',\n",
    "    'CLc1_BiLSTM_nosent_2024.05.25_16.44',\n",
    "    'CLc1_BiLSTM_notemp_2024.05.25_16.56',\n",
    "    'CLc1_BiLSTM_notemp_2024.05.25_17.12'\n",
    "]\n",
    "\n",
    "model_dict = dict()\n",
    "for i, model_name in enumerate(tqdm(MODEL_NAMES, desc='Loading models')):\n",
    "\n",
    "    model_dict[model_name] = ForecastModel(model_name)\n"
   ]
  },
  {
   "cell_type": "code",
   "execution_count": null,
   "metadata": {},
   "outputs": [],
   "source": [
    "metric_df = pd.DataFrame(\n",
    "    [\n",
    "        model.describe() for model in model_dict.values()\n",
    "    ], \n",
    "    index=MODEL_NAMES\n",
    ")\n",
    "display(metric_df)\n"
   ]
  },
  {
   "cell_type": "code",
   "execution_count": null,
   "metadata": {},
   "outputs": [],
   "source": [
    "# Evaluate the model\n",
    "view = 200\n",
    "\n",
    "fig, ax = plt.subplots(figsize=(10, 5), dpi=200)\n",
    "\n",
    "for i, model in enumerate(model_dict.values()):\n",
    "    if i == 0:\n",
    "        actual = model.test_targets[-view:]\n",
    "        ax.plot(\n",
    "            actual, \n",
    "            label=f'Actual {model.model_name.split(\"_\")[0]} RV', \n",
    "            color='gray', \n",
    "            lw=0.8\n",
    "        )\n",
    "\n",
    "    ax.plot(model.test_predictions[-view:], label=' '.join(model.model_name.split('_')[1:5]), lw=0.8)\n",
    "    \n",
    "ax.set_title('Realized 5-min volatiltiy, Model Fit vs Actual')\n",
    "ax.set_xlabel('Samples')\n",
    "ax.set_ylabel('Price')\n",
    "ax.legend(frameon=False)\n",
    "ax.grid(alpha=0.3)"
   ]
  }
 ],
 "metadata": {
  "kernelspec": {
   "display_name": "base",
   "language": "python",
   "name": "python3"
  },
  "language_info": {
   "codemirror_mode": {
    "name": "ipython",
    "version": 3
   },
   "file_extension": ".py",
   "mimetype": "text/x-python",
   "name": "python",
   "nbconvert_exporter": "python",
   "pygments_lexer": "ipython3",
   "version": "3.11.4"
  }
 },
 "nbformat": 4,
 "nbformat_minor": 2
}
