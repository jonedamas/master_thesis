{
 "cells": [
  {
   "cell_type": "code",
   "execution_count": null,
   "metadata": {},
   "outputs": [],
   "source": [
    "import pandas as pd\n",
    "import matplotlib.pyplot as plt\n",
    "import scienceplots\n",
    "\n",
    "import os\n",
    "import sys\n",
    "import warnings\n",
    "from dotenv import load_dotenv\n",
    "load_dotenv()\n",
    "REPO_PATH = os.getenv(\"REPO_PATH\")\n",
    "sys.path.insert(0, rf'{REPO_PATH}src')\n",
    "\n",
    "from utils.forecast_utils import ForecastPredictions, load_models\n",
    "from utils.plot_utils import plot_fit, plot_loss\n",
    "from utils.main_utils import apply_nb_style\n",
    "\n",
    "apply_nb_style()\n",
    "plt.style.use('sci ence')\n",
    "warnings.filterwarnings(\"ignore\")\n",
    "pd.options.display.float_format = '{:.4f}'.format"
   ]
  },
  {
   "cell_type": "markdown",
   "metadata": {},
   "source": [
    "### Load Benchmark\n",
    "\n",
    "Insert the benchmark you want to load here. The benchmark is used to calculate the Diebold-Mariano test between the model and benchmark."
   ]
  },
  {
   "cell_type": "code",
   "execution_count": null,
   "metadata": {},
   "outputs": [],
   "source": [
    "BENCHMARK = 'CLc1_VAR_BASE.TEMP'\n",
    "\n",
    "benchmark_fc = ForecastPredictions(BENCHMARK)"
   ]
  },
  {
   "cell_type": "markdown",
   "metadata": {},
   "source": [
    "### RNN model results"
   ]
  },
  {
   "cell_type": "code",
   "execution_count": null,
   "metadata": {},
   "outputs": [],
   "source": [
    "MODEL_NAMES = [\n",
    "    'CLc1_GRU_S1_2024.06.03_15.23',\n",
    "    'CLc1_GRU_S2_2024.06.06_16.03',\n",
    "    'CLc1_GRU_S3_2024.06.08_15.15',\n",
    "    'CLc1_GRU_S4_2024.06.07_13.00'\n",
    "]\n",
    "\n",
    "model_dict, metric_df = load_models(\n",
    "    MODEL_NAMES,\n",
    "    benchmark_fc,\n",
    "    dm_crit='MSE'\n",
    ")\n",
    "\n",
    "display(metric_df)"
   ]
  },
  {
   "cell_type": "code",
   "execution_count": null,
   "metadata": {},
   "outputs": [],
   "source": [
    "fig = plot_fit(model_dict, view=400)\n",
    "\n",
    "PLOT_NAME = None\n",
    "\n",
    "if PLOT_NAME:\n",
    "    fig.savefig(f'images/{PLOT_NAME}.png')"
   ]
  },
  {
   "cell_type": "markdown",
   "metadata": {},
   "source": [
    "### Loss comparison"
   ]
  },
  {
   "cell_type": "code",
   "execution_count": null,
   "metadata": {},
   "outputs": [],
   "source": [
    "fig = plot_loss(MODEL_NAMES)\n",
    "\n",
    "if PLOT_NAME:\n",
    "    fig.savefig(f'images/{PLOT_NAME}_loss.png')"
   ]
  }
 ],
 "metadata": {
  "kernelspec": {
   "display_name": "base",
   "language": "python",
   "name": "python3"
  },
  "language_info": {
   "codemirror_mode": {
    "name": "ipython",
    "version": 3
   },
   "file_extension": ".py",
   "mimetype": "text/x-python",
   "name": "python",
   "nbconvert_exporter": "python",
   "pygments_lexer": "ipython3",
   "version": "3.11.4"
  }
 },
 "nbformat": 4,
 "nbformat_minor": 2
}
