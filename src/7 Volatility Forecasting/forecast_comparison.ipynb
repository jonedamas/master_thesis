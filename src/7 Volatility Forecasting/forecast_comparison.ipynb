{
 "cells": [
  {
   "cell_type": "code",
   "execution_count": null,
   "metadata": {},
   "outputs": [],
   "source": [
    "import pandas as pd\n",
    "import matplotlib.pyplot as plt\n",
    "import json\n",
    "import seaborn as sns\n",
    "from tqdm.notebook import tqdm\n",
    "\n",
    "import os\n",
    "import sys\n",
    "import warnings\n",
    "from dotenv import load_dotenv\n",
    "\n",
    "load_dotenv()\n",
    "warnings.filterwarnings(\"ignore\")\n",
    "REPO_PATH = os.getenv(\"REPO_PATH\")\n",
    "sys.path.insert(0, rf'{REPO_PATH}src')\n",
    "\n",
    "from utils.forecast_utils import ForecastModel"
   ]
  },
  {
   "cell_type": "markdown",
   "metadata": {},
   "source": [
    "### Load RNN models and calculate error metrics"
   ]
  },
  {
   "cell_type": "code",
   "execution_count": null,
   "metadata": {},
   "outputs": [],
   "source": [
    "MODEL_NAMES = [\n",
    "    'CLc1_BiGRU_test_1_2024.05.26_12.59',\n",
    "    'CLc1_BiLSTM_test_1_2024.05.26_12.46'\n",
    "]\n",
    "\n",
    "metric_list = []\n",
    "model_dict = dict()\n",
    "for i, model_name in enumerate(tqdm(MODEL_NAMES, desc='Loading models')):\n",
    "    model = ForecastModel(model_name)\n",
    "    model_dict[model_name] = model\n",
    "    metric_list.append(model.describe())\n",
    "\n",
    "metric_df = pd.DataFrame(metric_list, index=MODEL_NAMES)\n",
    "\n",
    "display(metric_df)"
   ]
  },
  {
   "cell_type": "code",
   "execution_count": null,
   "metadata": {},
   "outputs": [],
   "source": [
    "# Evaluate the model\n",
    "view = 500\n",
    "\n",
    "fig, ax = plt.subplots(figsize=(10, 5), dpi=200)\n",
    "\n",
    "for i, model in enumerate(model_dict.values()):\n",
    "    if i == 0:\n",
    "        actual = model.test_targets[-view:]\n",
    "        ax.plot(\n",
    "            actual, \n",
    "            label=f'Actual {model.model_name.split(\"_\")[0]} RV', \n",
    "            color='gray', \n",
    "            lw=0.8\n",
    "        )\n",
    "\n",
    "    ax.plot(model.test_predictions[-view:], label=' '.join(model.model_name.split('_')[1:5]), lw=0.8)\n",
    "    \n",
    "ax.set_title('Realized 5-min volatiltiy, Model Fit vs Actual')\n",
    "ax.set_xlabel('Samples')\n",
    "ax.set_ylabel('Price')\n",
    "ax.legend(frameon=False)\n",
    "ax.grid(alpha=0.3)"
   ]
  },
  {
   "cell_type": "markdown",
   "metadata": {},
   "source": [
    "### Loss comparison"
   ]
  },
  {
   "cell_type": "code",
   "execution_count": null,
   "metadata": {},
   "outputs": [],
   "source": [
    "\n",
    "\n",
    "loss_df_list= list()\n",
    "for i, model_name in enumerate(MODEL_NAMES):\n",
    "    with open(f'model_archive/{model_name}/loss_data.json', 'r') as f:\n",
    "        loss_dict = json.load(f)\n",
    "        \n",
    "        loss_df = pd.DataFrame(loss_dict).add_suffix(f'_{model_name}')\n",
    "        loss_df_list.append(loss_df)\n",
    "\n",
    "loss_df = pd.concat(loss_df_list, axis=1)\n",
    "\n",
    "colors = sns.color_palette('twilight', n_colors=len(MODEL_NAMES))\n",
    "                           \n",
    "fig, ax = plt.subplots(figsize=(10, 5), dpi=200)\n",
    "loss_df.filter(like='train').plot(\n",
    "    title='Model Loss', \n",
    "    figsize=(10, 5), \n",
    "    lw=0.8, \n",
    "    ax=ax, \n",
    "    ls='--',\n",
    "    color=colors\n",
    ")\n",
    "loss_df.filter(like='val').plot(\n",
    "    title='Model Loss', \n",
    "    figsize=(10, 5), \n",
    "    lw=0.8, \n",
    "    ax=ax,\n",
    "    color=colors,\n",
    ")\n",
    "ax.set_yscale('log')\n",
    "ax.legend(frameon=False)\n",
    "ax.grid(alpha=0.3)"
   ]
  }
 ],
 "metadata": {
  "kernelspec": {
   "display_name": "base",
   "language": "python",
   "name": "python3"
  },
  "language_info": {
   "codemirror_mode": {
    "name": "ipython",
    "version": 3
   },
   "file_extension": ".py",
   "mimetype": "text/x-python",
   "name": "python",
   "nbconvert_exporter": "python",
   "pygments_lexer": "ipython3",
   "version": "3.11.4"
  }
 },
 "nbformat": 4,
 "nbformat_minor": 2
}
