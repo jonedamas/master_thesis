{
 "cells": [
  {
   "cell_type": "code",
   "execution_count": null,
   "metadata": {},
   "outputs": [],
   "source": [
    "import pandas as pd\n",
    "import matplotlib.pyplot as plt\n",
    "import json\n",
    "import seaborn as sns\n",
    "from tqdm.notebook import tqdm\n",
    "\n",
    "import os\n",
    "import sys\n",
    "import warnings\n",
    "from dotenv import load_dotenv\n",
    "\n",
    "load_dotenv()\n",
    "warnings.filterwarnings(\"ignore\")\n",
    "REPO_PATH = os.getenv(\"REPO_PATH\")\n",
    "sys.path.insert(0, rf'{REPO_PATH}src')\n",
    "\n",
    "from utils.forecast_utils import ForecastPredictions, forecast_rnn, load_models\n",
    "from utils.var_utils import forecast_var"
   ]
  },
  {
   "cell_type": "markdown",
   "metadata": {},
   "source": [
    "### RNN model results"
   ]
  },
  {
   "cell_type": "code",
   "execution_count": null,
   "metadata": {},
   "outputs": [],
   "source": [
    "BENCHMARK = 'CLc1_VAR_BASE_2024.05.30_16.00'\n",
    "\n",
    "MODEL_NAMES = [\n",
    "    'CLc1_GRU_BASE_2024.05.29_12.03',\n",
    "    'CLc1_GRU_BASE(T)_2024.05.30_18.38'\n",
    "]\n",
    "\n",
    "benchmark_fc = ForecastPredictions(BENCHMARK, forecast_var)\n",
    "\n",
    "model_dict, metric_df = load_models(\n",
    "    MODEL_NAMES,\n",
    "    benchmark_fc\n",
    ")\n",
    "\n",
    "pd.options.display.float_format = '{:.4f}'.format\n",
    "display(metric_df)"
   ]
  },
  {
   "cell_type": "code",
   "execution_count": null,
   "metadata": {},
   "outputs": [],
   "source": [
    "# Evaluate the model\n",
    "view = 400\n",
    "\n",
    "fig, ax = plt.subplots(figsize=(10, 5), dpi=200)\n",
    "\n",
    "colors = sns.color_palette('twilight', n_colors=len(model_dict))\n",
    "\n",
    "PLOT_MODEL = MODEL_NAMES\n",
    "\n",
    "for i, model_name in enumerate(PLOT_MODEL):\n",
    "    model = model_dict[model_name]\n",
    "    if i == 0:\n",
    "        actual = model.y_test[-view:]\n",
    "        ax.plot(\n",
    "            actual,\n",
    "            label=f'Actual {model.model_name.split(\"_\")[0]} RV', \n",
    "            color='gray', \n",
    "            lw=0.8\n",
    "        )\n",
    "    ax.plot(\n",
    "        model.y_pred[-view:], \n",
    "        label=' '.join(model.model_name.split('_')[1:3]),\n",
    "        color=colors[i],\n",
    "        lw=0.8\n",
    "    )\n",
    "    \n",
    "ax.set_title('Realized 5-min volatiltiy, Model Fit vs Actual')\n",
    "ax.set_xlabel('Time (5-min intervals)')\n",
    "ax.set_ylabel('Realized Volatility')\n",
    "ax.legend(frameon=False, ncols=3)\n",
    "ax.grid(alpha=0.3)"
   ]
  },
  {
   "cell_type": "markdown",
   "metadata": {},
   "source": [
    "### Loss comparison"
   ]
  },
  {
   "cell_type": "code",
   "execution_count": null,
   "metadata": {},
   "outputs": [],
   "source": [
    "loss_df_list= list()\n",
    "for i, model_name in enumerate(MODEL_NAMES):\n",
    "    if model_name.split('_')[1] == 'VAR':\n",
    "        continue\n",
    "    with open(f'model_archive/{model_name}/loss_data.json', 'r') as f:\n",
    "        loss_dict = json.load(f)\n",
    "        \n",
    "        loss_df = pd.DataFrame(loss_dict).add_suffix(f'_{model_name}')\n",
    "        loss_df_list.append(loss_df)\n",
    "\n",
    "loss_df = pd.concat(loss_df_list, axis=1)\n",
    "\n",
    "colors = sns.color_palette('twilight', n_colors=len(MODEL_NAMES))\n",
    "                           \n",
    "fig, ax = plt.subplots(figsize=(10, 5), dpi=200)\n",
    "loss_df.filter(like='train').plot(\n",
    "    title='Model Loss', \n",
    "    figsize=(10, 5), \n",
    "    lw=0.8, \n",
    "    ax=ax, \n",
    "    ls='--',\n",
    "    color=colors\n",
    ")\n",
    "loss_df.filter(like='val').plot(\n",
    "    title='Model Loss',\n",
    "    figsize=(10, 5), \n",
    "    lw=0.8, \n",
    "    ax=ax,\n",
    "    color=colors,\n",
    ")\n",
    "ax.set_xlabel('Epoch')\n",
    "ax.set_ylabel('Loss [MSE]')\n",
    "ax.set_yscale('log')\n",
    "ax.legend(frameon=False)\n",
    "ax.grid(alpha=0.3)"
   ]
  }
 ],
 "metadata": {
  "kernelspec": {
   "display_name": "base",
   "language": "python",
   "name": "python3"
  },
  "language_info": {
   "codemirror_mode": {
    "name": "ipython",
    "version": 3
   },
   "file_extension": ".py",
   "mimetype": "text/x-python",
   "name": "python",
   "nbconvert_exporter": "python",
   "pygments_lexer": "ipython3",
   "version": "3.11.4"
  }
 },
 "nbformat": 4,
 "nbformat_minor": 2
}
