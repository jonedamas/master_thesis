{
 "cells": [
  {
   "cell_type": "code",
   "execution_count": null,
   "metadata": {},
   "outputs": [],
   "source": [
    "import sqlite3\n",
    "import pandas as pd"
   ]
  },
  {
   "cell_type": "code",
   "execution_count": null,
   "metadata": {},
   "outputs": [],
   "source": [
    "FILE = 'hyperpm_archive/study_database.db'\n",
    "\n",
    "con = sqlite3.connect(FILE)\n",
    "cur = con.cursor()\n",
    "\n",
    "# show database contents\n",
    "table_list = [a[0] for a in cur.execute(\"SELECT name FROM sqlite_master WHERE type = 'table'\")]\n",
    "# here is you table list\n",
    "print(table_list)\n",
    "\n",
    "for table in table_list:\n",
    "\n",
    "    param_df = pd.read_sql_query(\n",
    "        f\"SELECT * from {table}\", \n",
    "        con\n",
    "    )\n",
    "\n",
    "    display(param_df)\n",
    "\n",
    "# columns = param_df['param_name'].unique()\n",
    "\n",
    "# for id in param_df['trial_id'].unique():\n",
    "#     smpl_df = param_df[param_df['trial_id'] == id]\n",
    "#     display(smpl_df[['param_name', 'param_value', 'distribution_json']])\n",
    "\n",
    "#     break\n",
    "\n",
    "con.close()"
   ]
  }
 ],
 "metadata": {
  "kernelspec": {
   "display_name": "base",
   "language": "python",
   "name": "python3"
  },
  "language_info": {
   "codemirror_mode": {
    "name": "ipython",
    "version": 3
   },
   "file_extension": ".py",
   "mimetype": "text/x-python",
   "name": "python",
   "nbconvert_exporter": "python",
   "pygments_lexer": "ipython3",
   "version": "3.11.4"
  }
 },
 "nbformat": 4,
 "nbformat_minor": 2
}
