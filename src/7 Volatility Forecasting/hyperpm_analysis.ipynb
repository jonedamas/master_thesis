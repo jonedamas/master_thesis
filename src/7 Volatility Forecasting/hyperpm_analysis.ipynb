{
 "cells": [
  {
   "cell_type": "code",
   "execution_count": null,
   "metadata": {},
   "outputs": [],
   "source": [
    "import sqlite3\n",
    "import pandas as pd\n",
    "import numpy as np\n",
    "import matplotlib.pyplot as plt"
   ]
  },
  {
   "cell_type": "code",
   "execution_count": null,
   "metadata": {},
   "outputs": [],
   "source": [
    "FILE = 'hyperpm_archive/study_database.db'\n",
    "\n",
    "con = sqlite3.connect(FILE)\n",
    "cur = con.cursor()\n",
    "\n",
    "# show database contents\n",
    "table_list = [a[0] for a in cur.execute(\"SELECT name FROM sqlite_master WHERE type = 'table'\")]\n",
    "# here is you table list\n",
    "print(table_list)\n",
    "\n",
    "\n",
    "INCLUDE = [\n",
    "    'BASE.TEMP(W)_GRU_CLc1_2024.05.31_13.25',\n",
    "    'BASE.TEMP_LSTM_CLc1_2024.05.31_18.03'\n",
    "]\n",
    "\n",
    "study_df = pd.read_sql_query(\"SELECT * from studies\", con)\n",
    "# only include the studies we want\n",
    "study_df_x = study_df[study_df['study_name'].isin(INCLUDE)]\n",
    "display(study_df_x)\n",
    "\n",
    "trial_df = pd.read_sql_query(\n",
    "    \"SELECT * FROM trial_values LEFT JOIN trials ON trial_values.trial_id = trials.trial_id\", con\n",
    ")\n",
    "\n",
    "display(trial_df)\n",
    "\n",
    "fig, ax = plt.subplots(figsize=(7, 5), dpi=200)\n",
    "\n",
    "trial_df.plot(\n",
    "    kind='scatter', \n",
    "    x='number', \n",
    "    y='value', \n",
    "    c='study_id', \n",
    "    colormap='viridis', \n",
    "    s=10,\n",
    "    ax=ax\n",
    ")\n",
    "\n",
    "ax.grid(alpha=0.3)\n",
    "ax.set_axisbelow(True)\n",
    "ax.set_xlabel('Trial Number')\n",
    "ax.set_ylabel('Validation Error [MSE]')\n",
    "\n",
    "for table in table_list:\n",
    "    print(f\"Table: {table}\")\n",
    "    param_df = pd.read_sql_query(\n",
    "        f\"SELECT * from {table}\", \n",
    "        con\n",
    "    )\n",
    "\n",
    "    display(param_df)\n",
    "\n",
    "con.close()"
   ]
  }
 ],
 "metadata": {
  "kernelspec": {
   "display_name": "base",
   "language": "python",
   "name": "python3"
  },
  "language_info": {
   "codemirror_mode": {
    "name": "ipython",
    "version": 3
   },
   "file_extension": ".py",
   "mimetype": "text/x-python",
   "name": "python",
   "nbconvert_exporter": "python",
   "pygments_lexer": "ipython3",
   "version": "3.11.4"
  }
 },
 "nbformat": 4,
 "nbformat_minor": 2
}
