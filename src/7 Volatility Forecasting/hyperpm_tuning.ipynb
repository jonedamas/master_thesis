{
 "cells": [
  {
   "cell_type": "markdown",
   "metadata": {},
   "source": [
    "### Imports and setup"
   ]
  },
  {
   "cell_type": "code",
   "execution_count": null,
   "metadata": {},
   "outputs": [],
   "source": [
    "import pandas as pd\n",
    "\n",
    "import yaml\n",
    "import json\n",
    "import os\n",
    "import sys\n",
    "import warnings\n",
    "from dotenv import load_dotenv\n",
    "\n",
    "load_dotenv()\n",
    "REPO_PATH = os.getenv(\"REPO_PATH\")\n",
    "sys.path.insert(0, rf'{REPO_PATH}src')\n",
    "warnings.filterwarnings(\"ignore\")\n",
    "\n",
    "from utils.main_utils import load_variables\n",
    "from utils.model_utils import optimize_hyperparameters"
   ]
  },
  {
   "cell_type": "markdown",
   "metadata": {},
   "source": [
    "### Hyperparameter tuning with Optuna"
   ]
  },
  {
   "cell_type": "code",
   "execution_count": null,
   "metadata": {},
   "outputs": [],
   "source": [
    "# Define feature list and target\n",
    "var_config = load_variables()\n",
    "\n",
    "SELECTED_FEATURES = [\n",
    "    *var_config['BASE'],\n",
    "    *var_config['TEMPORAL'],\n",
    "    *var_config['S3']\n",
    "]\n",
    "\n",
    "DATA_PARAMS: dict[str, any] = {\n",
    "    'feature_columns': SELECTED_FEATURES,\n",
    "    'target_column': 'REALIZED_VOL',\n",
    "    'test_size': 0.2,\n",
    "    'val_size': 0.2,\n",
    "    'scaler_type': 'RobustScaler'\n",
    "}\n",
    "\n",
    "TRIAL_PARAMS = {\n",
    "        'units_first_layer': [16, 32, 64, 128],\n",
    "        'units_second_layer': [16, 32, 64, 96],\n",
    "        'l2_strength': [1e-5, 1e-3],\n",
    "        'learning_rate': [1e-4, 1e-3],\n",
    "        'batch_size': [16, 32, 64],\n",
    "        'noise_std': [0.01, 0.1],\n",
    "        'window_size': [14, 17, 20, 23]\n",
    "}\n",
    "\n",
    "# Specify data\n",
    "FUTURE = 'CLc1'\n",
    "RNN_TYPE='GRU'\n",
    "IDENTIFIER = 'S3'\n",
    "TRIALS = 50\n",
    "\n",
    "current_dt = pd.Timestamp.now().strftime('%Y.%m.%d_%H.%M')\n",
    "study_name = f'{IDENTIFIER}_{RNN_TYPE}_{FUTURE}_{current_dt}'\n",
    "\n",
    "# Find the best hyperparameters using Optuna\n",
    "best_params = optimize_hyperparameters(\n",
    "    study_name,\n",
    "    FUTURE,\n",
    "    TRIAL_PARAMS,\n",
    "    DATA_PARAMS,\n",
    "    RNN_TYPE,\n",
    "    n_trials=TRIALS,\n",
    "    n_jobs=6\n",
    ")\n",
    "\n",
    "print(f'Best parameters for {RNN_TYPE} model: ', best_params)\n",
    "# Save best hyperparameters to .json file\n",
    "with open(f'hyperpm_archive/{study_name}.json', 'w') as file:\n",
    "    json.dump(best_params, file, indent=4)\n"
   ]
  }
 ],
 "metadata": {
  "kernelspec": {
   "display_name": "base",
   "language": "python",
   "name": "python3"
  },
  "language_info": {
   "codemirror_mode": {
    "name": "ipython",
    "version": 3
   },
   "file_extension": ".py",
   "mimetype": "text/x-python",
   "name": "python",
   "nbconvert_exporter": "python",
   "pygments_lexer": "ipython3",
   "version": "3.11.4"
  }
 },
 "nbformat": 4,
 "nbformat_minor": 2
}
