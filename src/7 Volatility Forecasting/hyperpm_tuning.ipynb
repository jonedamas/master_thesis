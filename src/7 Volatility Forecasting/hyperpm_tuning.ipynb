{
 "cells": [
  {
   "cell_type": "code",
   "execution_count": null,
   "metadata": {},
   "outputs": [],
   "source": [
    "import pandas as pd\n",
    "\n",
    "import yaml\n",
    "import json\n",
    "import os\n",
    "import sys\n",
    "import warnings\n",
    "from dotenv import load_dotenv\n",
    "\n",
    "load_dotenv()\n",
    "REPO_PATH = os.getenv(\"REPO_PATH\")\n",
    "sys.path.insert(0, rf'{REPO_PATH}src')\n",
    "warnings.filterwarnings(\"ignore\")\n",
    "\n",
    "from utils.model_utils import optimize_hyperparameters"
   ]
  },
  {
   "cell_type": "markdown",
   "metadata": {},
   "source": [
    "### Hyperparameter tuning with Optuna"
   ]
  },
  {
   "cell_type": "code",
   "execution_count": null,
   "metadata": {},
   "outputs": [],
   "source": [
    "\n",
    "# Load the YAML variable config file\n",
    "with open(f'{REPO_PATH}variable_config.yaml', 'r') as file:\n",
    "    var_config = yaml.load(file, Loader=yaml.FullLoader)\n",
    "\n",
    "# Define feature list and target\n",
    "SELECTED_FEATURES = [\n",
    "    *var_config['BASE'],\n",
    "    *var_config['TEMPORAL']\n",
    "]\n",
    "\n",
    "DATA_PARAMS: dict[str, any] = {\n",
    "    'feature_columns': SELECTED_FEATURES,\n",
    "    'target_column': 'REALIZED_VOL',\n",
    "    'window_size': 14,\n",
    "    'test_size': 0.2,\n",
    "    'val_size': 0.2,\n",
    "    'CV': False,\n",
    "    'scaler_type': 'RobustScaler'\n",
    "}\n",
    "\n",
    "TRIAL_PARAMS = {\n",
    "        'units_first_layer': [16, 32, 64, 128],\n",
    "        'units_second_layer': [16, 32, 64, 96],\n",
    "        'l2_strength': [1e-5, 1e-3],\n",
    "        'learning_rate': [1e-5, 1e-2],\n",
    "        'batch_size': [16, 32, 64],\n",
    "        'noise_std': [0.01, 0.1]\n",
    "}\n",
    "\n",
    "# Specify data\n",
    "FUTURE = 'CLc1'\n",
    "RNN_TYPE='GRU'\n",
    "IDENTIFIER = 'BASE.TEMP'\n",
    "TRIALS = 50\n",
    "\n",
    "# Find the best hyperparameters using Optuna\n",
    "best_params = optimize_hyperparameters(\n",
    "    FUTURE,\n",
    "    TRIAL_PARAMS,\n",
    "    DATA_PARAMS,\n",
    "    RNN_TYPE,\n",
    "    n_trials=TRIALS,\n",
    "    n_jobs=-1\n",
    ")\n",
    "\n",
    "current_dt = pd.Timestamp.now().strftime('%Y.%m.%d_%H.%M')\n",
    "hp_filename = f'{IDENTIFIER}_{RNN_TYPE}_{FUTURE}_{current_dt}'\n",
    "\n",
    "print(f'Best parameters for {RNN_TYPE} model: ', best_params)\n",
    "\n",
    "# Save best hyperparameters to .json file\n",
    "with open(f'hyperpm_archive/{hp_filename}.json', 'w') as file:\n",
    "    json.dump(best_params, file, indent=4)\n"
   ]
  }
 ],
 "metadata": {
  "kernelspec": {
   "display_name": "base",
   "language": "python",
   "name": "python3"
  },
  "language_info": {
   "codemirror_mode": {
    "name": "ipython",
    "version": 3
   },
   "file_extension": ".py",
   "mimetype": "text/x-python",
   "name": "python",
   "nbconvert_exporter": "python",
   "pygments_lexer": "ipython3",
   "version": "3.11.4"
  }
 },
 "nbformat": 4,
 "nbformat_minor": 2
}
