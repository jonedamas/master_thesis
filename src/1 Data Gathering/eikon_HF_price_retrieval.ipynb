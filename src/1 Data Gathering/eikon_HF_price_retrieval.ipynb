{
 "cells": [
  {
   "cell_type": "markdown",
   "metadata": {},
   "source": [
    "### Initialization"
   ]
  },
  {
   "cell_type": "code",
   "execution_count": null,
   "metadata": {},
   "outputs": [],
   "source": [
    "import pandas as pd\n",
    "import eikon as ek\n",
    "import datetime as dt\n",
    "\n",
    "import os\n",
    "from dotenv import load_dotenv\n",
    "\n",
    "load_dotenv()\n",
    "ek.set_app_key(os.getenv('EIKON_API_KEY'))\n",
    "REPO_PATH = os.getenv('REPO_PATH')"
   ]
  },
  {
   "cell_type": "markdown",
   "metadata": {},
   "source": [
    "### Daily Price data retrieval"
   ]
  },
  {
   "cell_type": "code",
   "execution_count": null,
   "metadata": {},
   "outputs": [],
   "source": [
    "RIC = 'LCOc1'\n",
    "\n",
    "START_DATE = dt.datetime(2023, 4, 11)\n",
    "END_DATE = dt.datetime(2024, 4, 5)\n",
    "\n",
    "dates = pd.date_range(START_DATE, END_DATE, freq='m')\n",
    "\n",
    "price_df_list = []\n",
    "\n",
    "from_date = START_DATE\n",
    "\n",
    "run = True\n",
    "while run:\n",
    "    to_date = from_date + dt.timedelta(days=31)\n",
    "    \n",
    "    if to_date > END_DATE:\n",
    "        to_date = END_DATE\n",
    "        run = False\n",
    "\n",
    "    price_data = ek.get_timeseries(\n",
    "            RIC,\n",
    "            start_date=str(from_date),\n",
    "            end_date=str(to_date),\n",
    "            interval='minute',\n",
    "            calendar='calendardays',\n",
    "            corax='adjusted'\n",
    "        )\n",
    "\n",
    "    price_df_list.append(price_data)\n",
    "    from_date = price_data.index[-1]\n",
    "\n",
    "price_df = pd.concat(price_df_list)\n",
    "price_df = price_df[~price_df.index.duplicated()]\n",
    "\n",
    "display(price_df)"
   ]
  },
  {
   "cell_type": "markdown",
   "metadata": {},
   "source": [
    "### Save data"
   ]
  },
  {
   "cell_type": "code",
   "execution_count": null,
   "metadata": {},
   "outputs": [],
   "source": [
    "file_name = f'{RIC}_High_Frequency.csv'\n",
    "\n",
    "price_df.to_csv(\n",
    "    f'{REPO_PATH}raw_futures_data/{file_name}', \n",
    "    index=True\n",
    ")"
   ]
  }
 ],
 "metadata": {
  "kernelspec": {
   "display_name": "base",
   "language": "python",
   "name": "python3"
  },
  "language_info": {
   "codemirror_mode": {
    "name": "ipython",
    "version": 3
   },
   "file_extension": ".py",
   "mimetype": "text/x-python",
   "name": "python",
   "nbconvert_exporter": "python",
   "pygments_lexer": "ipython3",
   "version": "3.11.4"
  }
 },
 "nbformat": 4,
 "nbformat_minor": 2
}
