{
 "cells": [
  {
   "cell_type": "code",
   "execution_count": null,
   "metadata": {},
   "outputs": [],
   "source": [
    "import pandas as pd\n",
    "import numpy as np\n",
    "\n",
    "import eikon as ek\n",
    "import os\n",
    "import sys\n",
    "import datetime as dt\n",
    "\n",
    "from dotenv import load_dotenv\n",
    "from tqdm import tqdm\n",
    "from bs4 import BeautifulSoup\n",
    "\n",
    "sys.path.insert(0, r'c:\\Users\\joneh\\master_thesis\\src')\n",
    "from main_utils import *\n",
    "from db_utils import *\n",
    "\n",
    "load_dotenv()\n",
    "ek.set_app_key(os.getenv('EIKON_API_KEY'))\n"
   ]
  },
  {
   "cell_type": "code",
   "execution_count": null,
   "metadata": {},
   "outputs": [],
   "source": [
    "start_date = dt.datetime(2021, 1, 1)\n",
    "end_date = dt.datetime(2021, 12, 31)\n",
    "\n",
    "ek.get_news_headlines('R:AMZN.O', date_from=start_date, date_to=end_date, count=100)"
   ]
  },
  {
   "cell_type": "code",
   "execution_count": null,
   "metadata": {},
   "outputs": [],
   "source": [
    "import refinitiv.data as rd\n",
    "rd.open_session()"
   ]
  },
  {
   "cell_type": "code",
   "execution_count": null,
   "metadata": {},
   "outputs": [],
   "source": [
    "query = \"Topic:CRU AND language:LEN\"\n",
    "\n",
    "start_date = dt.datetime(2023, 1, 1)\n",
    "end_date = dt.datetime(2023, 12, 31)\n",
    "dates = pd.date_range(start_date, end_date, freq='D')\n",
    "\n",
    "df_list = []\n",
    "\n",
    "for date in tqdm(dates):\n",
    "    response = rd.content.news.headlines.Definition(\n",
    "        query=\"Topic:CRU AND language:LEN\", \n",
    "        extended_params={\"searchIn\": \"FullStory\"}, \n",
    "        count=1000, date_from=date, date_to=date\n",
    "    ).get_data()\n",
    "    df_list.append(response.data.df)\n",
    "\n",
    "df = pd.concat(df_list)\n",
    "display(df)"
   ]
  },
  {
   "cell_type": "code",
   "execution_count": null,
   "metadata": {},
   "outputs": [],
   "source": [
    "# Enter filename here:\n",
    "file_name = f'CRU_2023.csv'\n",
    "# Enter relative path for saving the file:\n",
    "relative_path = 'data/news'\n",
    "\n",
    "df.to_csv(save_path(relative_path, file_name), index=True)"
   ]
  },
  {
   "cell_type": "code",
   "execution_count": null,
   "metadata": {},
   "outputs": [],
   "source": [
    "start_date = dt.datetime(2023, 12, 22)\n",
    "end_date = dt.datetime(2023, 12, 22)\n",
    "\n",
    "ek.get_news_headlines('Topic:CRU AND Language:LEN', date_to=start_date, date_from=end_date, count=100)\n",
    "\n"
   ]
  },
  {
   "cell_type": "code",
   "execution_count": null,
   "metadata": {},
   "outputs": [],
   "source": [
    "db_df = news_db_load('TRnews.db', 'news_filtered', dt_index=False)"
   ]
  },
  {
   "cell_type": "code",
   "execution_count": null,
   "metadata": {},
   "outputs": [],
   "source": [
    "\n",
    "article_text = {}\n",
    "\n",
    "for id in tqdm(db_df['storyId']):\n",
    "    story = ek.get_news_story(id)\n",
    "    soup = BeautifulSoup(story, 'html.parser')\n",
    "    article_text[id] = soup.get_text()\n",
    "\n",
    "db_df['article_text'] = db_df['storyId'].map(article_text)"
   ]
  },
  {
   "cell_type": "code",
   "execution_count": null,
   "metadata": {},
   "outputs": [],
   "source": [
    "db_df['article_text'] = db_df['storyId'].map(article_text)\n",
    "\n",
    "display(db_df.head(20))\n"
   ]
  },
  {
   "cell_type": "code",
   "execution_count": null,
   "metadata": {},
   "outputs": [],
   "source": [
    "db_df"
   ]
  }
 ],
 "metadata": {
  "kernelspec": {
   "display_name": "Python 3",
   "language": "python",
   "name": "python3"
  },
  "language_info": {
   "codemirror_mode": {
    "name": "ipython",
    "version": 3
   },
   "file_extension": ".py",
   "mimetype": "text/x-python",
   "name": "python",
   "nbconvert_exporter": "python",
   "pygments_lexer": "ipython3",
   "version": "3.11.4"
  }
 },
 "nbformat": 4,
 "nbformat_minor": 2
}
