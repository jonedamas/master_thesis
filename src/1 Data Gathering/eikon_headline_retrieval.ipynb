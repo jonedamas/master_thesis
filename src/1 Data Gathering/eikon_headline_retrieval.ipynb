{
 "cells": [
  {
   "cell_type": "markdown",
   "metadata": {},
   "source": [
    "### Initialization"
   ]
  },
  {
   "cell_type": "code",
   "execution_count": null,
   "metadata": {},
   "outputs": [],
   "source": [
    "import eikon as ek\n",
    "import refinitiv.data as rd\n",
    "import pandas as pd\n",
    "import os\n",
    "import sys\n",
    "import datetime as dt\n",
    "\n",
    "from retrying import retry\n",
    "from dotenv import load_dotenv\n",
    "from tqdm import tqdm\n",
    "from bs4 import BeautifulSoup\n",
    "\n",
    "sys.path.insert(0, r'c:\\Users\\joneh\\master_thesis\\src')\n",
    "from main_utils import *\n",
    "from db_utils import *\n",
    "\n",
    "load_dotenv()\n",
    "ek.set_app_key(os.getenv('EIKON_API_KEY'))\n",
    "rd.open_session(app_key=os.getenv('EIKON_API_KEY'))"
   ]
  },
  {
   "cell_type": "markdown",
   "metadata": {},
   "source": [
    "## Resources\n",
    "\n",
    "add link here\n",
    "[EIKON information sheet](https://developers.lseg.com/content/dam/devportal/api-families/eikon/eikon-data-api/documentation/eikon_data_api_for_python_v1.pdf)\n",
    "\n",
    "### Parameters\n",
    "\n",
    "#### Topics\n",
    "\n",
    "- **Crude Oil**: Topic:CRU\n",
    "\n",
    "- **Oil Storage**: Topic:OSTR"
   ]
  },
  {
   "cell_type": "markdown",
   "metadata": {},
   "source": [
    "### Parameters"
   ]
  },
  {
   "cell_type": "code",
   "execution_count": null,
   "metadata": {},
   "outputs": [],
   "source": [
    "TOPIC = 'CRU'\n",
    "query = f'Topic:{TOPIC} AND language:LEN'\n",
    "\n",
    "start_date = dt.datetime(2023, 1, 11)\n",
    "end_date = dt.datetime(2024, 3, 30)\n",
    "\n",
    "dates = pd.date_range(start_date, end_date, freq='D')\n",
    "\n"
   ]
  },
  {
   "cell_type": "code",
   "execution_count": null,
   "metadata": {},
   "outputs": [],
   "source": [
    "news_df_list = []\n",
    "\n",
    "for date in dates:\n",
    "    today = date\n",
    "    tomorrow = date + dt.timedelta(days=1)\n",
    "\n",
    "    df = ek.get_news_headlines(query, date_from=start_date, date_to=end_date, count=100)\n",
    "\n",
    "    news_df_list.append(df)\n",
    "\n",
    "news_df = pd.concat(news_df_list)\n",
    "\n",
    "display(news_df)"
   ]
  },
  {
   "cell_type": "code",
   "execution_count": null,
   "metadata": {},
   "outputs": [],
   "source": [
    "\n",
    "response = rd.content.news.headlines.Definition(\n",
    "        query=query, \n",
    "        extended_params={\"searchIn\": \"FullStory\"}, \n",
    "        count=1000, date_from=date, date_to=date\n",
    "    ).get_data()\n",
    "\n",
    "response.data.df"
   ]
  },
  {
   "cell_type": "code",
   "execution_count": null,
   "metadata": {},
   "outputs": [],
   "source": [
    "TOPICS = 'CRU OR OSTR'\n",
    "query = f'Topic:{TOPICS} AND language:LEN'\n",
    "\n",
    "start_date = dt.datetime(2024, 4, 1, 0, 0, 0)\n",
    "end_date = dt.datetime(2024, 4, 31, 23, 59, 59)\n",
    "dates = pd.date_range(start_date, end_date, freq='D')\n",
    "\n",
    "df_list = []\n",
    "\n",
    "for date in tqdm(dates):\n",
    "    response = rd.content.news.headlines.Definition(\n",
    "        query=query, \n",
    "        extended_params={\"searchIn\": \"FullStory\"}, \n",
    "        count=1000, date_from=date, date_to=date\n",
    "    ).get_data()\n",
    "\n",
    "    df_list.append(response.data.df)\n",
    "\n",
    "df = pd.concat(df_list)\n",
    "\n",
    "display(df)"
   ]
  },
  {
   "cell_type": "code",
   "execution_count": null,
   "metadata": {},
   "outputs": [],
   "source": [
    "# Enter filename here:\n",
    "file_name = f'CRU_2022.csv'\n",
    "# Enter relative path for saving the file:\n",
    "relative_path = 'data/news'\n",
    "\n",
    "df.to_csv(save_path(relative_path, file_name), index=True)"
   ]
  }
 ],
 "metadata": {
  "kernelspec": {
   "display_name": "Python 3",
   "language": "python",
   "name": "python3"
  },
  "language_info": {
   "codemirror_mode": {
    "name": "ipython",
    "version": 3
   },
   "file_extension": ".py",
   "mimetype": "text/x-python",
   "name": "python",
   "nbconvert_exporter": "python",
   "pygments_lexer": "ipython3",
   "version": "3.11.4"
  }
 },
 "nbformat": 4,
 "nbformat_minor": 2
}
