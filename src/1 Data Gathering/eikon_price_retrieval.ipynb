{
 "cells": [
  {
   "cell_type": "code",
   "execution_count": null,
   "metadata": {},
   "outputs": [],
   "source": [
    "import pandas as pd\n",
    "import eikon as ek\n",
    "import os\n",
    "import sys\n",
    "import datetime as dt\n",
    "from newspaper import Article\n",
    "\n",
    "from dotenv import load_dotenv\n",
    "\n",
    "load_dotenv()\n",
    "ek.set_app_key(os.getenv('EIKON_API_KEY'))\n"
   ]
  },
  {
   "cell_type": "markdown",
   "metadata": {},
   "source": [
    "### Daily Price data"
   ]
  },
  {
   "cell_type": "code",
   "execution_count": null,
   "metadata": {},
   "outputs": [],
   "source": [
    "RIC = 'CLc1'\n",
    "START = '2003-12-31'\n",
    "END = '2023-12-31'\n",
    "\n",
    "price_data = ek.get_timeseries(\n",
    "    RIC, \n",
    "    start_date=START, \n",
    "    end_date=END, \n",
    "    interval='daily', \n",
    "    calendar='tradingdays',\n",
    "    corax='adjusted'\n",
    ")\n",
    "\n",
    "display(price_data)"
   ]
  },
  {
   "cell_type": "markdown",
   "metadata": {},
   "source": [
    "### Minute Price data"
   ]
  },
  {
   "cell_type": "code",
   "execution_count": null,
   "metadata": {},
   "outputs": [],
   "source": [
    "RIC = 'CLc1'\n",
    "START = '2024-04-01'\n",
    "END = '2024-04-02'\n",
    "\n",
    "price_data = ek.get_timeseries(\n",
    "    RIC, \n",
    "    start_date=START, \n",
    "    end_date=END, \n",
    "    interval='tick', \n",
    "    calendar='tradingdays',\n",
    "    corax='adjusted'\n",
    ")\n",
    "\n",
    "display(price_data)"
   ]
  },
  {
   "cell_type": "code",
   "execution_count": null,
   "metadata": {},
   "outputs": [],
   "source": [
    "price_data.VALUE.plot(figsize=(10, 6), title='Crude Oil Price', ylabel='Price', xlabel='Date')"
   ]
  }
 ],
 "metadata": {
  "kernelspec": {
   "display_name": "base",
   "language": "python",
   "name": "python3"
  },
  "language_info": {
   "codemirror_mode": {
    "name": "ipython",
    "version": 3
   },
   "file_extension": ".py",
   "mimetype": "text/x-python",
   "name": "python",
   "nbconvert_exporter": "python",
   "pygments_lexer": "ipython3",
   "version": "3.11.4"
  }
 },
 "nbformat": 4,
 "nbformat_minor": 2
}
