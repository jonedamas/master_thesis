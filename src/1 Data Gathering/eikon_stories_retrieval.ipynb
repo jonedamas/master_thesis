{
 "cells": [
  {
   "cell_type": "code",
   "execution_count": null,
   "metadata": {},
   "outputs": [],
   "source": [
    "import pandas as pd\n",
    "\n",
    "import json\n",
    "import os\n",
    "import sys\n",
    "from dotenv import load_dotenv\n",
    "\n",
    "load_dotenv()\n",
    "REPO_PATH: str = os.getenv('REPO_PATH')\n",
    "sys.path.insert(0, rf'{REPO_PATH}src')\n",
    "\n",
    "from utils.gather_utils import extract_stories, load_previous_stories\n"
   ]
  },
  {
   "cell_type": "markdown",
   "metadata": {},
   "source": [
    "### Gather data with EIKON, building on existing file"
   ]
  },
  {
   "cell_type": "code",
   "execution_count": null,
   "metadata": {},
   "outputs": [],
   "source": [
    "TOPIC = 'CEN'\n",
    "\n",
    "headline_df: pd.DataFrame = pd.read_csv(\n",
    "    rf'{REPO_PATH}data\\raw_news_headlines\\EIKON_{TOPIC}_NEWS.csv'\n",
    ") \n",
    "\n",
    "previous_stories = load_previous_stories(TOPIC)\n",
    "\n",
    "existing_ids = previous_stories.keys()\n",
    "\n",
    "storie_ids = headline_df[~headline_df['storyId'].isin(existing_ids)]['storyId'] \n",
    "\n",
    "dl_text = 'Number of stories alredy downloaded/failed:'\n",
    "print(f'{dl_text} ({len(existing_ids)}/{len(headline_df)})')\n",
    "\n",
    "new_dict = extract_stories(storie_ids)\n",
    "\n",
    "previous_stories.update(new_dict)\n",
    "\n",
    "with open(rf'{REPO_PATH}data\\raw_news_stories\\EIKON_{TOPIC}_NEWS_FULL.json', 'w') as file:\n",
    "    json.dump(previous_stories, file, indent=2)\n"
   ]
  }
 ],
 "metadata": {
  "kernelspec": {
   "display_name": "base",
   "language": "python",
   "name": "python3"
  },
  "language_info": {
   "codemirror_mode": {
    "name": "ipython",
    "version": 3
   },
   "file_extension": ".py",
   "mimetype": "text/x-python",
   "name": "python",
   "nbconvert_exporter": "python",
   "pygments_lexer": "ipython3",
   "version": "3.11.4"
  }
 },
 "nbformat": 4,
 "nbformat_minor": 2
}
