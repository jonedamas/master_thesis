{
 "cells": [
  {
   "cell_type": "code",
   "execution_count": null,
   "metadata": {},
   "outputs": [],
   "source": [
    "import pandas as pd\n",
    "import numpy as np\n",
    "import yfinance as yf\n",
    "import matplotlib.pyplot as plt\n",
    "from scipy.stats import pearsonr\n",
    "\n",
    "from nltk import sent_tokenize\n",
    "from nltk.tokenize import word_tokenize\n",
    "from nltk.corpus import stopwords\n",
    "\n",
    "from nltk.sentiment import SentimentIntensityAnalyzer"
   ]
  },
  {
   "cell_type": "markdown",
   "metadata": {},
   "source": [
    "### Load data"
   ]
  },
  {
   "cell_type": "code",
   "execution_count": null,
   "metadata": {},
   "outputs": [],
   "source": [
    "df = pd.read_csv('data/complete_data.csv')\n",
    "df.index = pd.to_datetime(df['datetime'])"
   ]
  },
  {
   "cell_type": "markdown",
   "metadata": {},
   "source": [
    "### Sentiment analysis"
   ]
  },
  {
   "cell_type": "code",
   "execution_count": null,
   "metadata": {},
   "outputs": [],
   "source": [
    "\n",
    "tokenized = df['webTitle'].apply(sent_tokenize)\n",
    "\n",
    "# Tokenize the headlines\n",
    "tokenized = tokenized.apply(lambda x: [word_tokenize(s) for s in x])\n",
    "\n",
    "# Remove stopwords\n",
    "stop_words = set(stopwords.words('english'))\n",
    "tokenized = tokenized.apply(lambda x: [[w for w in s if w.lower() not in stop_words] for s in x][0])\n",
    "\n",
    "# sentiment analysis\n",
    "\n",
    "sia = SentimentIntensityAnalyzer()\n",
    "\n",
    "sentiments = tokenized.apply(lambda x: [sia.polarity_scores(s) for s in x])\n",
    "sentiments = sentiments.apply(lambda x: [s['compound'] for s in x])\n",
    "\n",
    "# add sentikent to df\n",
    "df['sentiment'] = sentiments.apply(sum)\n",
    "display(df)"
   ]
  },
  {
   "cell_type": "code",
   "execution_count": null,
   "metadata": {},
   "outputs": [],
   "source": [
    "for column in ['type', 'sectionId']:\n",
    "    print(column)\n",
    "    print(df[column].unique())\n",
    "\n",
    "df['sentiment'][df['sentiment'] != 0].plot(kind='hist', bins=100)\n"
   ]
  },
  {
   "cell_type": "code",
   "execution_count": null,
   "metadata": {},
   "outputs": [],
   "source": [
    "\n",
    "df_sent = pd.DataFrame(df['sentiment'].resample('D').mean().fillna(0))\n",
    "\n",
    "df_sent.index = df_sent.index.strftime('%Y-%m-%d')\n",
    "\n",
    "# get stock data\n",
    "stock_data = yf.download('CL=F', period='21Y', ignore_tz=True)[['Adj Close']]\n",
    "stock_data.index = stock_data.index.strftime('%Y-%m-%d')\n",
    "stock_data['log_ret'] = np.log(stock_data).diff()\n",
    "\n",
    "data = stock_data.join(df_sent,  how='outer')\n",
    "# drop all rows where sentiment is NaN\n",
    "data = data.dropna(subset=['sentiment'])\n",
    "# forward fill adj close \n",
    "data['Adj Close'] = data['Adj Close'].ffill()\n",
    "\n",
    "\n",
    "display(data)\n",
    "\n"
   ]
  },
  {
   "cell_type": "code",
   "execution_count": null,
   "metadata": {},
   "outputs": [],
   "source": [
    "\n",
    "\n",
    "fig, ax1 = plt.subplots()\n",
    "ax2 = ax1.twinx()\n",
    "\n",
    "data['Adj Close'].rolling(252).std().plot(ax=ax1, color='r')\n",
    "data['sentiment'].rolling(252).mean().plot(ax=ax2, color='b')\n",
    "\n",
    "vol = pd.concat([\n",
    "    data['Adj Close'].rolling(252).std(), \n",
    "    data['sentiment'].rolling(252).mean(),\n",
    "    data['log_ret']\n",
    "    ], axis=1)\n",
    "\n",
    "vol.dropna(inplace=True)\n",
    "\n",
    "display(vol.corr())\n",
    "\n",
    "# get p-value\n",
    "\n",
    "pearsonr(vol['Adj Close'], vol['sentiment'])\n",
    "\n",
    "vol.plot(kind='scatter', x='log_ret', y='sentiment', c='Adj Close', cmap='coolwarm', alpha=0.7, figsize=(12, 6))\n"
   ]
  }
 ],
 "metadata": {
  "kernelspec": {
   "display_name": "base",
   "language": "python",
   "name": "python3"
  },
  "language_info": {
   "codemirror_mode": {
    "name": "ipython",
    "version": 3
   },
   "file_extension": ".py",
   "mimetype": "text/x-python",
   "name": "python",
   "nbconvert_exporter": "python",
   "pygments_lexer": "ipython3",
   "version": "3.11.4"
  }
 },
 "nbformat": 4,
 "nbformat_minor": 2
}
