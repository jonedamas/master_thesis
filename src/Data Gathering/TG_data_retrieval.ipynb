{
 "cells": [
  {
   "cell_type": "code",
   "execution_count": null,
   "metadata": {},
   "outputs": [],
   "source": [
    "import pandas as pd\n",
    "import sys\n",
    "import requests\n",
    "\n",
    "from tqdm.notebook import tnrange\n",
    "from datetime import datetime\n",
    "\n",
    "# Import utility functions\n",
    "sys.path.insert(0, r'c:\\Users\\joneh\\master_thesis\\src')\n",
    "from main_utils import *\n",
    "from db_utils import *"
   ]
  },
  {
   "cell_type": "markdown",
   "metadata": {},
   "source": [
    "### Functions"
   ]
  },
  {
   "cell_type": "code",
   "execution_count": null,
   "metadata": {},
   "outputs": [],
   "source": [
    "def clean_date(date_str: str) -> datetime:\n",
    "    date_time_obj = datetime.strptime(date_str.replace('Z', '+00:00'), \"%Y-%m-%dT%H:%M:%S%z\")\n",
    "    return date_time_obj\n",
    "\n",
    "def query_url(query: str, page: int, API_KEY: str) -> str:\n",
    "    q = query.replace(' AND ', '%20AND%20')\n",
    "    URL = f'https://content.guardianapis.com/search?from-date=2003-12-31&to-date=2023-12-31&order-by=newest&page={page}&page-size=200&q={q}&api-key={API_KEY}'\n",
    "    return URL\n"
   ]
  },
  {
   "cell_type": "markdown",
   "metadata": {},
   "source": [
    "### Data retrieval - The Guardian API"
   ]
  },
  {
   "cell_type": "code",
   "execution_count": null,
   "metadata": {},
   "outputs": [],
   "source": [
    "# retrieve API KEY from file\n",
    "with open('API_keys/TG_API_KEY.txt', 'r') as file:\n",
    "    API_KEY = file.read()\n",
    "\n",
    "# query\n",
    "query = 'Natural AND Gas'\n",
    "\n",
    "archive = []\n",
    "\n",
    "first_page = requests.get(query_url(query, 1, API_KEY)).json()\n",
    "pages = first_page['response']['pages']\n",
    "archive.extend(first_page['response']['results'])\n",
    "\n",
    "for page in tnrange(2, pages + 1):\n",
    "    URL = query_url(query, page, API_KEY)\n",
    "    response = requests.get(URL).json()\n",
    "\n",
    "    if response['response']['status'] != 'ok':\n",
    "        print(f'Error at page {page}')\n",
    "        continue\n",
    "        \n",
    "    article_list = response['response']['results']\n",
    "\n",
    "    archive.extend(article_list)\n",
    "\n",
    "df_data = pd.DataFrame(archive)\n"
   ]
  },
  {
   "cell_type": "markdown",
   "metadata": {},
   "source": [
    "### add tags"
   ]
  },
  {
   "cell_type": "code",
   "execution_count": null,
   "metadata": {},
   "outputs": [],
   "source": [
    "df = df_data.copy()\n",
    "# add datetime column\n",
    "df['datetime'] = df['webPublicationDate'].apply(clean_date)\n",
    "\n",
    "# add source tag\n",
    "df['source'] = 'TG'\n",
    "\n",
    "# add query\n",
    "df['query'] = query.replace(\" \", \"\")\n",
    "\n",
    "df.drop(columns=['type', 'sectionId', 'sectionName', 'webPublicationDate', 'apiUrl', 'isHosted', 'pillarId', 'pillarName'], inplace=True)\n",
    "\n",
    "df.rename(columns={'id': 'article_id', 'webTitle': 'headline', 'webUrl': 'web_url'}, inplace=True)\n",
    "\n",
    "df = df[['datetime', 'article_id', 'headline', 'web_url', 'source', 'query']]\n",
    "\n",
    "display(df.head(3))\n"
   ]
  },
  {
   "cell_type": "markdown",
   "metadata": {},
   "source": [
    "### Save dataset to folder"
   ]
  },
  {
   "cell_type": "code",
   "execution_count": null,
   "metadata": {},
   "outputs": [],
   "source": [
    "\n",
    "# Enter filename here:\n",
    "file_name = f'TG_{query.replace(\" \", \"\")}.csv'\n",
    "# Enter relative path for saving the file:\n",
    "relative_path = 'data/news'\n",
    "\n",
    "display(df.head())\n",
    "\n",
    "df.to_csv(save_path(relative_path, file_name), index=False)"
   ]
  },
  {
   "cell_type": "markdown",
   "metadata": {},
   "source": [
    "### Save to database"
   ]
  },
  {
   "cell_type": "code",
   "execution_count": null,
   "metadata": {},
   "outputs": [],
   "source": [
    "news_db_commit(df, 'news')\n",
    "db_info(show_table=True)"
   ]
  }
 ],
 "metadata": {
  "kernelspec": {
   "display_name": "base",
   "language": "python",
   "name": "python3"
  },
  "language_info": {
   "codemirror_mode": {
    "name": "ipython",
    "version": 3
   },
   "file_extension": ".py",
   "mimetype": "text/x-python",
   "name": "python",
   "nbconvert_exporter": "python",
   "pygments_lexer": "ipython3",
   "version": "3.11.4"
  }
 },
 "nbformat": 4,
 "nbformat_minor": 2
}
