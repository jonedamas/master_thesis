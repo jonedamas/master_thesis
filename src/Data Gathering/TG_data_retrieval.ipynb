{
 "cells": [
  {
   "cell_type": "code",
   "execution_count": null,
   "metadata": {},
   "outputs": [],
   "source": [
    "import pandas as pd\n",
    "import sys\n",
    "import requests\n",
    "import yaml\n",
    "\n",
    "from tqdm.notebook import tqdm, tnrange\n",
    "from datetime import datetime\n",
    "\n",
    "# Import utility functions\n",
    "sys.path.insert(0, r'c:\\Users\\joneh\\master_thesis\\src')\n",
    "from main_utils import *\n"
   ]
  },
  {
   "cell_type": "markdown",
   "metadata": {},
   "source": [
    "### Functions"
   ]
  },
  {
   "cell_type": "code",
   "execution_count": null,
   "metadata": {},
   "outputs": [],
   "source": [
    "def clean_date(date_str: str) -> datetime:\n",
    "    date_time_obj = datetime.strptime(date_str.replace('Z', '+00:00'), \"%Y-%m-%dT%H:%M:%S%z\")\n",
    "    return date_time_obj\n",
    "\n",
    "def query_url(page: int, API_KEY: str) -> str:\n",
    "    URL = f'https://content.guardianapis.com/search?from-date=2003-12-31&to-date=2023-12-31&order-by=newest&page={page}&page-size=200&q=Crude%20AND%20Oil&api-key={API_KEY}'\n",
    "    return URL\n"
   ]
  },
  {
   "cell_type": "markdown",
   "metadata": {},
   "source": [
    "### Data retrieval - The Guardian API"
   ]
  },
  {
   "cell_type": "code",
   "execution_count": null,
   "metadata": {},
   "outputs": [],
   "source": [
    "# retrieve API KEY from file\n",
    "with open('API_keys/TG_API_KEY.txt', 'r') as file:\n",
    "    API_KEY = file.read()\n",
    "\n",
    "archive = []\n",
    "\n",
    "first_page = requests.get(query_url(1, API_KEY)).json()\n",
    "pages = first_page['response']['pages']\n",
    "archive.extend(first_page['response']['results'])\n",
    "\n",
    "for page in tnrange(2, pages + 1):\n",
    "    URL = query_url(page, API_KEY)\n",
    "    response = requests.get(URL).json()\n",
    "\n",
    "    if response['response']['status'] != 'ok':\n",
    "        print(f'Error at page {page}')\n",
    "        continue\n",
    "        \n",
    "    article_list = response['response']['results']\n",
    "\n",
    "    archive.extend(article_list)\n",
    "\n",
    "df = pd.DataFrame(archive)\n",
    "\n",
    "# add datetime column\n",
    "df['datetime'] = df['webPublicationDate'].apply(clean_date)\n",
    "\n",
    "df.drop(columns=['type', 'sectionId', 'sectionName', 'webPublicationDate', 'apiUrl', 'isHosted', 'pillarId', 'pillarName'], inplace=True)\n",
    "\n",
    "df.rename(columns={'id': 'article_id', 'webTitle': 'headline', 'webUrl': 'web_url'}, inplace=True)\n",
    "\n",
    "df = df[['article_id', 'headline', 'datetime', 'web_url']]\n"
   ]
  },
  {
   "cell_type": "markdown",
   "metadata": {},
   "source": [
    "### Save dataset to folder"
   ]
  },
  {
   "cell_type": "code",
   "execution_count": null,
   "metadata": {},
   "outputs": [],
   "source": [
    "# Enter filename here:\n",
    "file_name = 'TG_CrudeANDOil.csv'\n",
    "# Enter relative path for saving the file:\n",
    "relative_path = 'data/news'\n",
    "\n",
    "df.to_csv(save_path(relative_path, file_name), index=False)"
   ]
  }
 ],
 "metadata": {
  "kernelspec": {
   "display_name": "base",
   "language": "python",
   "name": "python3"
  },
  "language_info": {
   "codemirror_mode": {
    "name": "ipython",
    "version": 3
   },
   "file_extension": ".py",
   "mimetype": "text/x-python",
   "name": "python",
   "nbconvert_exporter": "python",
   "pygments_lexer": "ipython3",
   "version": "3.11.4"
  }
 },
 "nbformat": 4,
 "nbformat_minor": 2
}
