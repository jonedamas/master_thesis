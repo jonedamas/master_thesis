{
 "cells": [
  {
   "cell_type": "code",
   "execution_count": null,
   "metadata": {},
   "outputs": [],
   "source": [
    "import yfinance as yf\n",
    "import pandas as pd\n",
    "import numpy as np\n",
    "import matplotlib.pyplot as plt\n",
    "import sys\n",
    "\n",
    "sys.path.insert(0, r'c:\\Users\\joneh\\master_thesis\\src')\n",
    "from main_utils import *\n"
   ]
  },
  {
   "cell_type": "markdown",
   "metadata": {},
   "source": [
    "### Market data from Yahoo Finance with yfinance"
   ]
  },
  {
   "cell_type": "code",
   "execution_count": null,
   "metadata": {},
   "outputs": [],
   "source": [
    "start_date, end_date = '2003-12-31', '2023-12-31'\n",
    "\n",
    "ticker = 'CL=F'\n",
    "\n",
    "df = yf.download(ticker, start=start_date, end=end_date, progress=False, ignore_tz=True)\n",
    "\n",
    "display(df)\n",
    "\n",
    "df['Adj Close'].plot(figsize=(10, 6), linewidth=1, label='Adjusted Close')\n",
    "plt.title('Crude Oil Futures Price')\n",
    "plt.xlabel('Date')\n",
    "plt.ylabel('Price')\n",
    "plt.legend()\n",
    "plt.grid(alpha=0.3)"
   ]
  },
  {
   "cell_type": "markdown",
   "metadata": {},
   "source": [
    "### Missing data handling"
   ]
  },
  {
   "cell_type": "code",
   "execution_count": null,
   "metadata": {},
   "outputs": [],
   "source": [
    "print(f'Length of df before insertion: {len(df)}')\n",
    "\n",
    "# fill in missing days with the previous day's value\n",
    "df_fill = df.asfreq('D', method='ffill')\n",
    "\n",
    "print(f'Length of df after insertion: {len(df_fill)}')"
   ]
  },
  {
   "cell_type": "markdown",
   "metadata": {},
   "source": [
    "### Save data"
   ]
  },
  {
   "cell_type": "code",
   "execution_count": null,
   "metadata": {},
   "outputs": [],
   "source": [
    "# Enter filename here:\n",
    "file_name = 'CL=F_20years.csv'\n",
    "# Enter relative path for saving the file:\n",
    "relative_path = 'data/time_series/YahooFinance/'\n",
    "\n",
    "df_fill.to_csv(save_path(relative_path, file_name), index=True)"
   ]
  }
 ],
 "metadata": {
  "kernelspec": {
   "display_name": "base",
   "language": "python",
   "name": "python3"
  },
  "language_info": {
   "codemirror_mode": {
    "name": "ipython",
    "version": 3
   },
   "file_extension": ".py",
   "mimetype": "text/x-python",
   "name": "python",
   "nbconvert_exporter": "python",
   "pygments_lexer": "ipython3",
   "version": "3.11.4"
  }
 },
 "nbformat": 4,
 "nbformat_minor": 2
}
