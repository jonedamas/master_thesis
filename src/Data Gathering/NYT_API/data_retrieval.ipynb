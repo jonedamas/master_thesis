{
 "cells": [
  {
   "cell_type": "code",
   "execution_count": null,
   "metadata": {},
   "outputs": [],
   "source": [
    "import pandas as pd\n",
    "import sys\n",
    "from pynytimes import NYTAPI\n",
    "import datetime as dt\n",
    "\n",
    "from tqdm import tqdm\n",
    "\n",
    "# Import utility functions\n",
    "sys.path.insert(0, r'c:\\Users\\joneh\\master_thesis\\src')\n",
    "from main_utils import *\n"
   ]
  },
  {
   "cell_type": "markdown",
   "metadata": {},
   "source": [
    "### NY Times Developer Platform API\n",
    "\n",
    "\n",
    "**API Call limit:** API: 500 requests per day and 5 requests per minute. You should sleep 12 seconds between calls to avoid hitting the per minute rate limit. \n",
    "\n",
    "**Pagination:** The Article Search API returns a max of 10 results at a time. The meta node in the response contains the total number of matches (\"hits\") and the current offset. Use the page query parameter to paginate thru results (page=0 for results 1-10, page=1 for 11-20, ...). You can paginate thru up to 100 pages (1,000 results). If you get too many results try filtering by date range."
   ]
  },
  {
   "cell_type": "code",
   "execution_count": null,
   "metadata": {},
   "outputs": [],
   "source": [
    "with open('NYT_API_KEY.txt', 'r') as file:\n",
    "    API_KEY = file.read()\n",
    "\n",
    "nyt = NYTAPI(API_KEY, parse_dates=True)\n",
    "\n",
    "\n",
    "start_date = dt.datetime(2003, 12, 31)\n",
    "stop_date = dt.datetime(2009, 6, 11)\n",
    "\n",
    "query_string = 'Crude Oil'\n",
    "\n",
    "articles = nyt.article_search(\n",
    "    query=query_string,\n",
    "    results=10000,\n",
    "    dates={\n",
    "        'begin': start_date, \n",
    "        'end': stop_date\n",
    "    },\n",
    "    options={\n",
    "        'sort': 'newest'\n",
    "    }\n",
    ")\n",
    "\n",
    "display(articles)"
   ]
  },
  {
   "cell_type": "code",
   "execution_count": null,
   "metadata": {},
   "outputs": [],
   "source": [
    "\n",
    "res_list = []\n",
    "\n",
    "for i in tqdm(range(len(articles))):\n",
    "    article = articles[i]\n",
    "    aritcle_id = article['_id']\n",
    "    pub_date = article['pub_date']\n",
    "    article_url = article['web_url']\n",
    "    headline = article['lead_paragraph']\n",
    "\n",
    "    res_list.append(\n",
    "        {'article_id': aritcle_id, \n",
    "         'pub_date': pub_date, \n",
    "         'webUrl': article_url, \n",
    "         'webTitle': headline\n",
    "        }\n",
    "    )\n",
    "  \n",
    "df = pd.DataFrame(res_list)\n",
    "# Turn of the timezone\n",
    "df['pub_date'] = df['pub_date'].dt.tz_localize(None)\n",
    "\n",
    "display(df.head())\n",
    "display(df.info())\n",
    "display(df.describe())"
   ]
  },
  {
   "cell_type": "markdown",
   "metadata": {},
   "source": [
    "### Save data to folder"
   ]
  },
  {
   "cell_type": "code",
   "execution_count": null,
   "metadata": {},
   "outputs": [],
   "source": [
    "# Enter filename here:\n",
    "file_name = 'NYT_CrudeANDOil_2.csv'\n",
    "# Enter relative path for saving the file:\n",
    "relative_path = 'data/news'\n",
    "\n",
    "df.to_csv(save_path(relative_path, file_name), index=False)"
   ]
  }
 ],
 "metadata": {
  "kernelspec": {
   "display_name": "base",
   "language": "python",
   "name": "python3"
  },
  "language_info": {
   "codemirror_mode": {
    "name": "ipython",
    "version": 3
   },
   "file_extension": ".py",
   "mimetype": "text/x-python",
   "name": "python",
   "nbconvert_exporter": "python",
   "pygments_lexer": "ipython3",
   "version": "3.11.4"
  }
 },
 "nbformat": 4,
 "nbformat_minor": 2
}
