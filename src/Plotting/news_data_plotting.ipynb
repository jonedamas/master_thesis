{
 "cells": [
  {
   "cell_type": "code",
   "execution_count": null,
   "metadata": {},
   "outputs": [],
   "source": [
    "import pandas as pd\n",
    "import numpy as np\n",
    "import matplotlib.pyplot as plt\n",
    "import matplotlib.dates as mdates"
   ]
  },
  {
   "cell_type": "markdown",
   "metadata": {},
   "source": [
    "### Functions"
   ]
  },
  {
   "cell_type": "code",
   "execution_count": null,
   "metadata": {},
   "outputs": [],
   "source": [
    "def plot_news_frequency(\n",
    "        df: pd.DataFrame,\n",
    "        title: str,\n",
    "    ) -> plt.Figure:\n",
    "    fig, ax = plt.subplots(figsize=(10, 5), dpi=200)\n",
    "\n",
    "    plt.rcParams['font.family'] = 'Arial'\n",
    "\n",
    "    df['count'] = 1\n",
    "    frequency = df['count'].resample('Q').sum()\n",
    "\n",
    "    ax.bar(frequency.index, frequency.values, width=75, color='firebrick')\n",
    "\n",
    "    ax.set_title(title, fontsize=13)\n",
    "    ax.set_xlabel('Date', fontsize=13)\n",
    "    ax.set_ylabel('Number of articles per quarter', fontsize=13)\n",
    "\n",
    "    # Only view years on x-axis\n",
    "    ax.xaxis.set_major_locator(mdates.YearLocator())\n",
    "    ax.xaxis.set_major_formatter(mdates.DateFormatter('%Y'))\n",
    "    plt.xticks(rotation=45) \n",
    "\n",
    "    return fig\n"
   ]
  },
  {
   "cell_type": "markdown",
   "metadata": {},
   "source": [
    "### News frequency"
   ]
  },
  {
   "cell_type": "code",
   "execution_count": null,
   "metadata": {},
   "outputs": [],
   "source": [
    "df = pd.read_csv(r'C:\\Users\\joneh\\master_thesis\\data\\news\\TG_CrudeANDOil.csv')\n",
    "df.index = pd.to_datetime(df['datetime']).dt.tz_localize(None)\n",
    "\n",
    "df_NYT = pd.read_csv(r'C:\\Users\\joneh\\master_thesis\\data\\news\\NYT_CrudeANDOil.csv')\n",
    "df_NYT.index = pd.to_datetime(df_NYT['pub_date']).dt.tz_localize(None)\n",
    "\n",
    "fig_TG = plot_news_frequency(df, 'The Guardian news data frequency')\n",
    "fig_NYT = plot_news_frequency(df_NYT, 'The New York Times news data frequency')\n",
    "\n",
    "# save plot as png\n",
    "fig_TG.savefig('images/TG_news_freq.png', bbox_inches='tight')\n",
    "fig_NYT.savefig('images/NYT_news_freq.png', bbox_inches='tight')"
   ]
  }
 ],
 "metadata": {
  "kernelspec": {
   "display_name": "base",
   "language": "python",
   "name": "python3"
  },
  "language_info": {
   "codemirror_mode": {
    "name": "ipython",
    "version": 3
   },
   "file_extension": ".py",
   "mimetype": "text/x-python",
   "name": "python",
   "nbconvert_exporter": "python",
   "pygments_lexer": "ipython3",
   "version": "3.11.4"
  }
 },
 "nbformat": 4,
 "nbformat_minor": 2
}
