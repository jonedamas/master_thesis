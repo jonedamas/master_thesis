{
 "cells": [
  {
   "cell_type": "code",
   "execution_count": null,
   "metadata": {},
   "outputs": [],
   "source": [
    "import pandas as pd\n",
    "import matplotlib.pyplot as plt\n",
    "import sys\n",
    "\n",
    "from plot_utils import *\n",
    "\n",
    "# Import main utility functions\n",
    "sys.path.insert(0, r'c:\\Users\\joneh\\master_thesis\\src')\n",
    "from main_utils import *"
   ]
  },
  {
   "cell_type": "markdown",
   "metadata": {},
   "source": [
    "### News frequency"
   ]
  },
  {
   "cell_type": "code",
   "execution_count": null,
   "metadata": {},
   "outputs": [],
   "source": [
    "df_TG = load_news_df('TG_CrudeANDOil.csv')\n",
    "df_NYT = load_news_df('NYT_CrudeANDOil.csv')\n",
    "\n",
    "fig_TG = plot_news_frequency(df_TG, 'The Guardian news data frequency')\n",
    "fig_NYT = plot_news_frequency(df_NYT, 'The New York Times news data frequency')\n",
    "\n",
    "# save plot as png\n",
    "fig_TG.savefig('images/TG_news_freq.png', bbox_inches='tight')\n",
    "fig_NYT.savefig('images/NYT_news_freq.png', bbox_inches='tight')"
   ]
  },
  {
   "cell_type": "markdown",
   "metadata": {},
   "source": [
    "## Headline analysis"
   ]
  },
  {
   "cell_type": "code",
   "execution_count": null,
   "metadata": {},
   "outputs": [],
   "source": [
    "df_TG['headline'].str.split().str.len().plot(kind='hist', bins=20, color='firebrick')\n",
    "\n",
    "df_NYT['headline'].str.split().str.len().sort_values(ascending=False).head(10)"
   ]
  },
  {
   "cell_type": "code",
   "execution_count": null,
   "metadata": {},
   "outputs": [],
   "source": [
    "df = load_news_df('NYT_CrudeANDOil_2023_test.csv')\n",
    "\n",
    "df['webTitle'].str.split().str.len().sort_values(ascending=False).head(10)\n",
    "display(df['short_title'].str.split().str.len().sort_values(ascending=False).head(10))\n",
    "\n",
    "display(df_TG['webTitle'][df_TG.index.year == 2023].str.split().str.len().sort_values(ascending=False).head(10))"
   ]
  }
 ],
 "metadata": {
  "kernelspec": {
   "display_name": "base",
   "language": "python",
   "name": "python3"
  },
  "language_info": {
   "codemirror_mode": {
    "name": "ipython",
    "version": 3
   },
   "file_extension": ".py",
   "mimetype": "text/x-python",
   "name": "python",
   "nbconvert_exporter": "python",
   "pygments_lexer": "ipython3",
   "version": "3.11.4"
  }
 },
 "nbformat": 4,
 "nbformat_minor": 2
}
