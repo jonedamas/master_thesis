{
 "cells": [
  {
   "cell_type": "code",
   "execution_count": null,
   "metadata": {},
   "outputs": [],
   "source": [
    "import pandas as pd\n",
    "import numpy as np\n",
    "import matplotlib.pyplot as plt"
   ]
  },
  {
   "cell_type": "code",
   "execution_count": null,
   "metadata": {},
   "outputs": [],
   "source": [
    "df = pd.read_csv(r'C:\\Users\\joneh\\master_thesis\\data\\news\\TheGuardian\\TG_CrudeANDOil.csv')\n",
    "df.index = pd.to_datetime(df['datetime'])\n",
    "\n",
    "display(df.head(2))"
   ]
  },
  {
   "cell_type": "markdown",
   "metadata": {},
   "source": [
    "### News frequency"
   ]
  },
  {
   "cell_type": "code",
   "execution_count": null,
   "metadata": {},
   "outputs": [],
   "source": [
    "# count numer of articles each day\n",
    "df['count'] = 1\n",
    "frequecy = df['count'].resample('4m').sum()\n",
    "\n",
    "plt.rcParams['font.family'] = 'Arial'\n",
    "\n",
    "fig, ax = plt.subplots(figsize=(10, 5), dpi=200)\n",
    "\n",
    "frequecy.plot(kind='bar', ax=ax, color='maroon')\n",
    "ax.set_title('Number of articles per month, The Guardian', fontsize=13)\n",
    "ax.set_xlabel('Date', fontsize=13)\n",
    "ax.set_ylabel('Number of articles per quarter', fontsize=13)\n",
    "\n",
    "# format x-axis ticks\n",
    "ax.xaxis.set_major_formatter(plt.FixedFormatter(frequecy.index.to_period('M')))\n",
    "ax.set_xticks(range(0, len(frequecy), 2));\n",
    "\n",
    "# save plot as png\n",
    "plt.savefig('images/TG_news_freq.png', bbox_inches='tight')"
   ]
  }
 ],
 "metadata": {
  "kernelspec": {
   "display_name": "base",
   "language": "python",
   "name": "python3"
  },
  "language_info": {
   "codemirror_mode": {
    "name": "ipython",
    "version": 3
   },
   "file_extension": ".py",
   "mimetype": "text/x-python",
   "name": "python",
   "nbconvert_exporter": "python",
   "pygments_lexer": "ipython3",
   "version": "0.0.0"
  }
 },
 "nbformat": 4,
 "nbformat_minor": 2
}
