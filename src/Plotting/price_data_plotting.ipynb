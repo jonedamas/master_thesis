{
 "cells": [
  {
   "cell_type": "code",
   "execution_count": null,
   "metadata": {},
   "outputs": [],
   "source": [
    "import pandas as pd\n",
    "import numpy as np\n",
    "import matplotlib.pyplot as plt\n",
    "import yfinance as yf\n",
    "\n",
    "from statsmodels.graphics.tsaplots import plot_acf, plot_pacf\n",
    "\n",
    "import warnings\n",
    "\n",
    "warnings.filterwarnings(\"ignore\")"
   ]
  },
  {
   "cell_type": "code",
   "execution_count": null,
   "metadata": {},
   "outputs": [],
   "source": [
    "df = yf.download(\n",
    "    'CL=F', \n",
    "    start='2003-12-31', \n",
    "    end='2023-12-31',\n",
    "    progress=False\n",
    ")[['Adj Close', 'Volume']]\n",
    "\n",
    "# add log returns\n",
    "df['log_ret'] = np.log(df['Adj Close']).diff()\n",
    "\n",
    "# add 5-day std\n",
    "df['10d_std'] = df['log_ret'].rolling(10).std()\n",
    "\n",
    "display(df)"
   ]
  },
  {
   "cell_type": "markdown",
   "metadata": {},
   "source": [
    "### Log retuns and rolling standard deviation"
   ]
  },
  {
   "cell_type": "code",
   "execution_count": null,
   "metadata": {},
   "outputs": [],
   "source": [
    "# set font to Arial\n",
    "plt.rcParams['font.family'] = 'Arial'\n",
    "\n",
    "fig, ax1 = plt.subplots(figsize=(12, 6), dpi=200)\n",
    "ax2 = ax1.twinx()\n",
    "\n",
    "df['log_ret'].plot(ax=ax1, color='black', lw=0.8, label='log return (left axis)')\n",
    "df['10d_std'].plot(ax=ax2, color='red', lw=0.8, label='10-day volatility (right axis)')\n",
    "\n",
    "ax1.set_ylabel('log return', fontsize=14)\n",
    "ax2.set_ylabel('10-day volatility', fontsize=14)\n",
    "ax1.set_xlabel('Date', fontsize=14)\n",
    "\n",
    "ax1.set_ylim(bottom=-0.5)\n",
    "\n",
    "# increase size of x-ticks\n",
    "ax1.tick_params(axis='x', labelsize=12)\n",
    "ax1.tick_params(axis='y', labelsize=12)\n",
    "ax2.tick_params(axis='y', labelsize=12)\n",
    "\n",
    "# combine labels\n",
    "lines, labels = ax1.get_legend_handles_labels()\n",
    "lines2, labels2 = ax2.get_legend_handles_labels()\n",
    "ax2.legend(lines + lines2, labels + labels2, loc=0, fontsize=13, frameon=False)\n",
    "\n",
    "# save plot as png\n",
    "plt.savefig('images/log_ret_10d_vol.png', bbox_inches='tight')"
   ]
  },
  {
   "cell_type": "markdown",
   "metadata": {},
   "source": [
    "### Autocorrelation"
   ]
  },
  {
   "cell_type": "code",
   "execution_count": null,
   "metadata": {},
   "outputs": [],
   "source": [
    "\n",
    "fig, ax = plt.subplots(1, 2, figsize=(12, 5), dpi=200)\n",
    "plot_acf(df['log_ret'].dropna(), lags=60, ax=ax[0], title='Autocorrelation of log returns');\n",
    "plot_pacf(df['log_ret'].dropna(), lags=60, ax=ax[1], title='Partial autocorrelation of log returns');"
   ]
  }
 ],
 "metadata": {
  "kernelspec": {
   "display_name": "base",
   "language": "python",
   "name": "python3"
  },
  "language_info": {
   "codemirror_mode": {
    "name": "ipython",
    "version": 3
   },
   "file_extension": ".py",
   "mimetype": "text/x-python",
   "name": "python",
   "nbconvert_exporter": "python",
   "pygments_lexer": "ipython3",
   "version": "3.11.4"
  }
 },
 "nbformat": 4,
 "nbformat_minor": 2
}
