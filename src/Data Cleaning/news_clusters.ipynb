{
 "cells": [
  {
   "cell_type": "markdown",
   "metadata": {},
   "source": [
    "# News Article Clustering\n",
    "\n",
    "Data Collection: Gather a large dataset of news articles. This could be done through web scraping, APIs, or using existing datasets.\n",
    "\n",
    "Text Preprocessing:\n",
    "\n",
    "Tokenization: Split the text into words or tokens.\n",
    "Stopword Removal: Eliminate common words that don't contribute much meaning (like \"and\", \"the\", etc.).\n",
    "Stemming/Lemmatization: Reduce words to their base or root form.\n",
    "Removing Punctuation and Special Characters: Clean up the text to retain only alphanumeric characters.\n",
    "Feature Extraction:\n",
    "\n",
    "Convert text data into numerical form using techniques like TF-IDF (Term Frequency-Inverse Document Frequency) or word embeddings (like Word2Vec, GloVe).\n",
    "These methods help in representing text in a way that captures the semantic meaning and importance of words in the document.\n",
    "Dimensionality Reduction (Optional but recommended for large datasets):\n",
    "\n",
    "Techniques like PCA (Principal Component Analysis) or t-SNE can be used to reduce the number of features while retaining the essential information.\n",
    "This step helps in reducing computational complexity and improving clustering performance.\n",
    "Clustering:\n",
    "\n",
    "Apply clustering algorithms like K-means, DBSCAN, or Hierarchical clustering on the processed text data.\n",
    "These algorithms will group articles into clusters based on the similarity of their content.\n",
    "NLP Techniques for Improved Clustering:\n",
    "\n",
    "Topic Modeling: Techniques like LDA (Latent Dirichlet Allocation) can be used to identify topics within the articles. This can guide or enhance the clustering process.\n",
    "Named Entity Recognition (NER): Identifying and classifying key entities (like people, organizations, locations) can provide additional features for clustering.\n",
    "Sentiment Analysis: Understanding the sentiment of the articles might also help in clustering, especially for differentiating articles with similar content but different tones."
   ]
  },
  {
   "cell_type": "code",
   "execution_count": null,
   "metadata": {},
   "outputs": [],
   "source": [
    "import sys\n",
    "\n",
    "from cluster import *\n",
    "\n",
    "# Import main utility functions\n",
    "sys.path.insert(0, r'c:\\Users\\joneh\\master_thesis\\src')\n",
    "from main_utils import *"
   ]
  },
  {
   "cell_type": "markdown",
   "metadata": {},
   "source": [
    "### Create cluserts"
   ]
  },
  {
   "cell_type": "code",
   "execution_count": null,
   "metadata": {},
   "outputs": [],
   "source": [
    "df_NYT = load_df('news', 'NYT_CrudeANDOil.csv')\n",
    "df_TG = load_df('news', 'TG_CrudeANDOil.csv')\n",
    "\n",
    "NYT_cluster = NewsCluster(df_NYT)\n",
    "TG_cluster = NewsCluster(df_TG)"
   ]
  },
  {
   "cell_type": "markdown",
   "metadata": {},
   "source": [
    "### Plot clusters"
   ]
  },
  {
   "cell_type": "code",
   "execution_count": null,
   "metadata": {},
   "outputs": [],
   "source": [
    "fig1, ax1, = NYT_cluster.plot_clusters()\n",
    "fig2, ax2, = TG_cluster.plot_clusters()\n",
    "\n",
    "fig1.savefig('images/NYT_clusters.png')\n",
    "fig2.savefig('images/TG_clusters.png')"
   ]
  },
  {
   "cell_type": "code",
   "execution_count": null,
   "metadata": {},
   "outputs": [],
   "source": [
    "NYT_cluster.print_clusters()\n",
    "TG_cluster.print_clusters()"
   ]
  },
  {
   "cell_type": "markdown",
   "metadata": {},
   "source": [
    "### Remove unwanted clusters"
   ]
  },
  {
   "cell_type": "code",
   "execution_count": null,
   "metadata": {},
   "outputs": [],
   "source": [
    "TG_remove = [7, 8, 9, 10]\n",
    "\n",
    "TG_cleaned = TG_cluster.remove_cluster(TG_remove)\n",
    "\n",
    "\n",
    "NYT_remove = [1, 2, 3, 4, 5]\n",
    "\n",
    "NYT_cleaned = NYT_cluster.remove_cluster(NYT_remove)"
   ]
  },
  {
   "cell_type": "markdown",
   "metadata": {},
   "source": [
    "### Combine and save news dataframe"
   ]
  },
  {
   "cell_type": "code",
   "execution_count": null,
   "metadata": {},
   "outputs": [],
   "source": [
    "# add tags\n",
    "NYT_cleaned['source'] = 'NYT'\n",
    "\n",
    "TG_cleaned['source'] = 'TG'\n",
    "\n",
    "combined_df = pd.concat([NYT_cleaned, TG_cleaned])\n",
    "\n",
    "# drop cluster column\n",
    "combined_df = combined_df.drop(columns=['cluster'])\n",
    "\n",
    "# Enter filename here:\n",
    "file_name = f'CombinedArchive.csv'\n",
    "# Enter relative path for saving the file:\n",
    "relative_path = 'data/news'\n",
    "\n",
    "combined_df.to_csv(save_path(relative_path, file_name), index=True)"
   ]
  }
 ],
 "metadata": {
  "kernelspec": {
   "display_name": "base",
   "language": "python",
   "name": "python3"
  },
  "language_info": {
   "codemirror_mode": {
    "name": "ipython",
    "version": 3
   },
   "file_extension": ".py",
   "mimetype": "text/x-python",
   "name": "python",
   "nbconvert_exporter": "python",
   "pygments_lexer": "ipython3",
   "version": "3.11.4"
  }
 },
 "nbformat": 4,
 "nbformat_minor": 2
}
