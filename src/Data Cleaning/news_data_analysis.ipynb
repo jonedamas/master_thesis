{
 "cells": [
  {
   "cell_type": "code",
   "execution_count": null,
   "metadata": {},
   "outputs": [],
   "source": [
    "import sys\n",
    "import warnings\n",
    "warnings.filterwarnings(\"ignore\")\n",
    "\n",
    "from plot_utils import plot_news_frequency\n",
    "\n",
    "# Import main utility functions\n",
    "sys.path.insert(0, r'c:\\Users\\joneh\\master_thesis\\src')\n",
    "from main_utils import *"
   ]
  },
  {
   "cell_type": "markdown",
   "metadata": {},
   "source": [
    "### News frequency"
   ]
  },
  {
   "cell_type": "code",
   "execution_count": null,
   "metadata": {},
   "outputs": [],
   "source": [
    "news_df = load_df('news', 'CombinedArchive.csv')\n",
    "plot_dict = load_json(r'C:\\Users\\joneh\\master_thesis\\src\\plot_dict.json')\n",
    "\n",
    "for i, tag in enumerate(news_df['source'].unique()):\n",
    "    info = plot_dict[tag]\n",
    "    fig = plot_news_frequency(\n",
    "        news_df[news_df['source'] == tag], \n",
    "        f'{info[\"fullname\"]} news data frequency',\n",
    "        color=info['color'],\n",
    "    )\n",
    "    fig.savefig(f'images/{tag}_news_freq.png', bbox_inches='tight')"
   ]
  },
  {
   "cell_type": "markdown",
   "metadata": {},
   "source": [
    "### Headline analysis"
   ]
  },
  {
   "cell_type": "code",
   "execution_count": null,
   "metadata": {},
   "outputs": [],
   "source": [
    "\n",
    "for i, tag in enumerate(news_df['source'].unique()):\n",
    "    df = news_df[news_df['source'] == tag]\n",
    "    info = plot_dict[tag]\n",
    "\n",
    "    word_counts =df['headline'].str.split().str.len()\n",
    "\n",
    "    # remove counts with over 100 words\n",
    "    word_counts = word_counts[word_counts < 75]\n",
    "\n",
    "    fig = word_counts.plot(\n",
    "        kind='hist', \n",
    "        bins=28, \n",
    "        color=info['color'],\n",
    "        edgecolor='black',\n",
    "        figsize=(7, 5),\n",
    "        )\n",
    "    \n",
    "    fig.set_title(f'{info[\"fullname\"]} news data word count distribution', fontsize=14)\n",
    "    fig.set_xlabel('Word count', fontsize=13)\n",
    "    fig.set_ylabel('Frequency', fontsize=13)\n",
    "\n",
    "    fig.figure.savefig(f'images/{tag}_news_word_count.png', bbox_inches='tight', dpi=150)\n",
    "    # bin border color\n"
   ]
  }
 ],
 "metadata": {
  "kernelspec": {
   "display_name": "base",
   "language": "python",
   "name": "python3"
  },
  "language_info": {
   "codemirror_mode": {
    "name": "ipython",
    "version": 3
   },
   "file_extension": ".py",
   "mimetype": "text/x-python",
   "name": "python",
   "nbconvert_exporter": "python",
   "pygments_lexer": "ipython3",
   "version": "3.11.4"
  }
 },
 "nbformat": 4,
 "nbformat_minor": 2
}
