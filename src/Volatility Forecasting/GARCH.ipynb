{
 "cells": [
  {
   "cell_type": "code",
   "execution_count": null,
   "metadata": {},
   "outputs": [],
   "source": [
    "import pandas as pd\n",
    "import numpy as np\n",
    "import matplotlib.pyplot as plt\n",
    "\n",
    "from arch import arch_model\n",
    "from sklearn.metrics import mean_squared_error\n",
    "from sklearn.model_selection import train_test_split"
   ]
  },
  {
   "cell_type": "markdown",
   "metadata": {},
   "source": [
    "## GARCH\n",
    "\n",
    "GARCH stands for Generalized Autoregressive Conditional Heteroskedasticity. It is a statistical model used to analyze and forecast time series data. It is widely used in finance and economics to model volatility.\n",
    "\n",
    "$$\n",
    "\\begin{gather*}\n",
    "r_t = \\mu + \\epsilon_t \\\\[10pt]\n",
    "\\epsilon_t = \\sigma_t z_t \\\\[10pt]\n",
    "\\sigma_t^2 = \\omega + \\sum_{i=1}^p\\alpha_i \\epsilon_{t-1}^2 + \\sum_{j=1}^q\\beta_j \\sigma_{t-1}^2\n",
    "\\end{gather*}\n",
    "$$\n",
    "\n"
   ]
  },
  {
   "cell_type": "markdown",
   "metadata": {},
   "source": [
    "### Import data"
   ]
  },
  {
   "cell_type": "code",
   "execution_count": null,
   "metadata": {},
   "outputs": [],
   "source": [
    "df = pd.read_csv(r'C:\\Users\\joneh\\master_thesis\\data\\time_series\\YahooFinance\\CL=F_20years.csv')\n",
    "\n",
    "display(df.head())\n"
   ]
  },
  {
   "cell_type": "markdown",
   "metadata": {},
   "source": [
    "### Fit model"
   ]
  },
  {
   "cell_type": "code",
   "execution_count": null,
   "metadata": {},
   "outputs": [],
   "source": [
    "train, test = train_test_split(df['Adj Close'], test_size=0.25, shuffle=False)\n",
    "\n",
    "garch_model = arch_model(train, vol='Garch', p=1, q=1, dist='Normal')\n",
    "train_fit = garch_model.fit(disp='off')\n",
    "test_fit = train_fit.forecast(horizon=1)\n",
    "\n",
    "print(train_fit.summary())"
   ]
  },
  {
   "cell_type": "code",
   "execution_count": null,
   "metadata": {},
   "outputs": [],
   "source": [
    "# plot the test data\n"
   ]
  }
 ],
 "metadata": {
  "kernelspec": {
   "display_name": "base",
   "language": "python",
   "name": "python3"
  },
  "language_info": {
   "codemirror_mode": {
    "name": "ipython",
    "version": 3
   },
   "file_extension": ".py",
   "mimetype": "text/x-python",
   "name": "python",
   "nbconvert_exporter": "python",
   "pygments_lexer": "ipython3",
   "version": "0.0.0"
  }
 },
 "nbformat": 4,
 "nbformat_minor": 2
}
