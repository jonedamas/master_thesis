{
 "cells": [
  {
   "cell_type": "code",
   "execution_count": 3,
   "metadata": {},
   "outputs": [],
   "source": [
    "import pandas as pd\n",
    "\n",
    "from transformers import BertTokenizer, BertForSequenceClassification, AdamW\n",
    "from torch.utils.data import DataLoader"
   ]
  },
  {
   "cell_type": "markdown",
   "metadata": {},
   "source": [
    "### Load training data"
   ]
  },
  {
   "cell_type": "code",
   "execution_count": 4,
   "metadata": {},
   "outputs": [
    {
     "data": {
      "text/html": [
       "<div>\n",
       "<style scoped>\n",
       "    .dataframe tbody tr th:only-of-type {\n",
       "        vertical-align: middle;\n",
       "    }\n",
       "\n",
       "    .dataframe tbody tr th {\n",
       "        vertical-align: top;\n",
       "    }\n",
       "\n",
       "    .dataframe thead th {\n",
       "        text-align: right;\n",
       "    }\n",
       "</style>\n",
       "<table border=\"1\" class=\"dataframe\">\n",
       "  <thead>\n",
       "    <tr style=\"text-align: right;\">\n",
       "      <th></th>\n",
       "      <th>id</th>\n",
       "      <th>type</th>\n",
       "      <th>sectionId</th>\n",
       "      <th>sectionName</th>\n",
       "      <th>webPublicationDate</th>\n",
       "      <th>webTitle</th>\n",
       "      <th>webUrl</th>\n",
       "      <th>apiUrl</th>\n",
       "      <th>isHosted</th>\n",
       "      <th>pillarId</th>\n",
       "      <th>pillarName</th>\n",
       "      <th>datetime</th>\n",
       "    </tr>\n",
       "  </thead>\n",
       "  <tbody>\n",
       "    <tr>\n",
       "      <th>0</th>\n",
       "      <td>business/2023/dec/31/smiles-all-round-as-finan...</td>\n",
       "      <td>article</td>\n",
       "      <td>business</td>\n",
       "      <td>Business</td>\n",
       "      <td>2023-12-31T07:00:56Z</td>\n",
       "      <td>Smiles all round as financial markets end 2023...</td>\n",
       "      <td>https://www.theguardian.com/business/2023/dec/...</td>\n",
       "      <td>https://content.guardianapis.com/business/2023...</td>\n",
       "      <td>False</td>\n",
       "      <td>pillar/news</td>\n",
       "      <td>News</td>\n",
       "      <td>2023-12-31 07:00:56+00:00</td>\n",
       "    </tr>\n",
       "    <tr>\n",
       "      <th>1</th>\n",
       "      <td>business/live/2023/dec/28/pound-dollar-uk-econ...</td>\n",
       "      <td>liveblog</td>\n",
       "      <td>business</td>\n",
       "      <td>Business</td>\n",
       "      <td>2023-12-28T16:02:15Z</td>\n",
       "      <td>UK dealmaking shrinks in 2023, but economy pre...</td>\n",
       "      <td>https://www.theguardian.com/business/live/2023...</td>\n",
       "      <td>https://content.guardianapis.com/business/live...</td>\n",
       "      <td>False</td>\n",
       "      <td>pillar/news</td>\n",
       "      <td>News</td>\n",
       "      <td>2023-12-28 16:02:15+00:00</td>\n",
       "    </tr>\n",
       "  </tbody>\n",
       "</table>\n",
       "</div>"
      ],
      "text/plain": [
       "                                                  id      type sectionId  \\\n",
       "0  business/2023/dec/31/smiles-all-round-as-finan...   article  business   \n",
       "1  business/live/2023/dec/28/pound-dollar-uk-econ...  liveblog  business   \n",
       "\n",
       "  sectionName    webPublicationDate  \\\n",
       "0    Business  2023-12-31T07:00:56Z   \n",
       "1    Business  2023-12-28T16:02:15Z   \n",
       "\n",
       "                                            webTitle  \\\n",
       "0  Smiles all round as financial markets end 2023...   \n",
       "1  UK dealmaking shrinks in 2023, but economy pre...   \n",
       "\n",
       "                                              webUrl  \\\n",
       "0  https://www.theguardian.com/business/2023/dec/...   \n",
       "1  https://www.theguardian.com/business/live/2023...   \n",
       "\n",
       "                                              apiUrl  isHosted     pillarId  \\\n",
       "0  https://content.guardianapis.com/business/2023...     False  pillar/news   \n",
       "1  https://content.guardianapis.com/business/live...     False  pillar/news   \n",
       "\n",
       "  pillarName                   datetime  \n",
       "0       News  2023-12-31 07:00:56+00:00  \n",
       "1       News  2023-12-28 16:02:15+00:00  "
      ]
     },
     "metadata": {},
     "output_type": "display_data"
    }
   ],
   "source": [
    "# Load data\n",
    "df = pd.read_csv(r'C:\\Users\\joneh\\master_thesis\\data\\news\\TheGuardian\\TG_CrudeANDOil.csv')\n",
    "\n",
    "display(df.head(2))"
   ]
  },
  {
   "cell_type": "markdown",
   "metadata": {},
   "source": [
    "### Initialize pre-trained model\n",
    "\n",
    "FinBERT is initialized as a pre-trained model. The model is trained on the financial domain and is fine-tuned on the financial sentiment analysis task."
   ]
  },
  {
   "cell_type": "code",
   "execution_count": null,
   "metadata": {},
   "outputs": [],
   "source": [
    "# Load the pre-trained model\n",
    "model = BertForSequenceClassification.from_pretrained('yiyanghkust/finbert-tone', num_labels = 3)\n",
    "\n",
    "# Load the pre-trained model's tokenizer\n",
    "tokenizer = BertTokenizer.from_pretrained('yiyanghkust/finbert-tone')"
   ]
  },
  {
   "cell_type": "markdown",
   "metadata": {},
   "source": [
    "### Train model"
   ]
  },
  {
   "cell_type": "code",
   "execution_count": 8,
   "metadata": {},
   "outputs": [
    {
     "data": {
      "text/plain": [
       "{'input_ids': tensor([[ 101, 8451, 2035,  ...,    0,    0,    0],\n",
       "        [ 101, 2866, 3066,  ...,    0,    0,    0],\n",
       "        [ 101, 2047, 2259,  ...,    0,    0,    0],\n",
       "        ...,\n",
       "        [ 101, 2909, 5170,  ...,    0,    0,    0],\n",
       "        [ 101, 4792, 7502,  ...,    0,    0,    0],\n",
       "        [ 101, 4518, 2039,  ...,    0,    0,    0]]), 'token_type_ids': tensor([[0, 0, 0,  ..., 0, 0, 0],\n",
       "        [0, 0, 0,  ..., 0, 0, 0],\n",
       "        [0, 0, 0,  ..., 0, 0, 0],\n",
       "        ...,\n",
       "        [0, 0, 0,  ..., 0, 0, 0],\n",
       "        [0, 0, 0,  ..., 0, 0, 0],\n",
       "        [0, 0, 0,  ..., 0, 0, 0]]), 'attention_mask': tensor([[1, 1, 1,  ..., 0, 0, 0],\n",
       "        [1, 1, 1,  ..., 0, 0, 0],\n",
       "        [1, 1, 1,  ..., 0, 0, 0],\n",
       "        ...,\n",
       "        [1, 1, 1,  ..., 0, 0, 0],\n",
       "        [1, 1, 1,  ..., 0, 0, 0],\n",
       "        [1, 1, 1,  ..., 0, 0, 0]])}"
      ]
     },
     "metadata": {},
     "output_type": "display_data"
    }
   ],
   "source": [
    "batch_of_sentences = df['webTitle'].tolist()\n",
    "\n",
    "# Tokenize your dataset\n",
    "inputs = tokenizer(batch_of_sentences, padding=True, truncation=True, return_tensors=\"pt\")\n",
    "\n",
    "display(inputs)\n",
    "\n",
    "# # Create a dataloader\n",
    "# train_dataloader = DataLoader(training_dataset, batch_size=32)\n",
    "\n",
    "# # Prepare optimizer\n",
    "# optimizer = AdamW(model.parameters(), lr=1e-5)\n",
    "\n",
    "# num_epochs = 5\n",
    "\n",
    "# # Training loop\n",
    "# model.train()\n",
    "# for epoch in range(num_epochs):\n",
    "#     for batch in train_dataloader:\n",
    "#         optimizer.zero_grad()\n",
    "#         input_ids = batch['input_ids']\n",
    "#         attention_mask = batch['attention_mask']\n",
    "#         labels = batch['labels']\n",
    "#         outputs = model(input_ids, attention_mask=attention_mask, labels=labels)\n",
    "#         loss = outputs.loss\n",
    "#         loss.backward()\n",
    "#         optimizer.step()\n",
    "\n",
    "# # Save your model\n",
    "# model.save_pretrained('models/tuned_BERT')"
   ]
  }
 ],
 "metadata": {
  "kernelspec": {
   "display_name": "base",
   "language": "python",
   "name": "python3"
  },
  "language_info": {
   "codemirror_mode": {
    "name": "ipython",
    "version": 3
   },
   "file_extension": ".py",
   "mimetype": "text/x-python",
   "name": "python",
   "nbconvert_exporter": "python",
   "pygments_lexer": "ipython3",
   "version": "3.11.4"
  }
 },
 "nbformat": 4,
 "nbformat_minor": 2
}
