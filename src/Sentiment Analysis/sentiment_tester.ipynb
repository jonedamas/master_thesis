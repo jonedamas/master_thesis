{
 "cells": [
  {
   "cell_type": "code",
   "execution_count": null,
   "metadata": {},
   "outputs": [],
   "source": [
    "import pandas as pd\n",
    "import numpy as np\n",
    "import matplotlib.pyplot as plt\n",
    "import sys\n",
    "from transformers import BertTokenizer, BertForSequenceClassification\n",
    "\n",
    "from BERT_utils import *\n",
    "\n",
    "# Import utility functions\n",
    "sys.path.insert(0, r'c:\\Users\\joneh\\master_thesis\\src')\n",
    "from main_utils import *"
   ]
  },
  {
   "cell_type": "markdown",
   "metadata": {},
   "source": [
    "### Sentiment Analysis Testing\n",
    "\n",
    "Sentiment analysis functions should take a panads series as input and output a pandas series of the same length with the sentiment of the input text. The sentiment should be a float between -1 and 1, where -1 is negative, 0 is neutral, and 1 is positive."
   ]
  },
  {
   "cell_type": "code",
   "execution_count": null,
   "metadata": {},
   "outputs": [],
   "source": [
    "# Load data\n",
    "df = pd.read_csv(r'C:\\Users\\joneh\\master_thesis\\data\\news\\TheGuardian\\TG_CrudeANDOil.csv')\n",
    "\n",
    "# Load the pre-trained model\n",
    "finbert = BertForSequenceClassification.from_pretrained(\n",
    "    'yiyanghkust/finbert-tone',\n",
    "    num_labels=3\n",
    ")\n",
    "\n",
    "# Load the pre-trained model's tokenizer\n",
    "fb_tokenizer = BertTokenizer.from_pretrained(\n",
    "    'yiyanghkust/finbert-tone'\n",
    ")\n",
    "\n",
    "labels: dict = {0:'neutral', 1:'positive', 2:'negative'}"
   ]
  },
  {
   "cell_type": "code",
   "execution_count": null,
   "metadata": {},
   "outputs": [],
   "source": [
    "headlines = df['webTitle'].tolist()[:5]\n",
    "\n",
    "display(headlines)\n",
    "\n",
    "def get_BERT_sentiment(sentence_list: list[str], model=finbert, tokenizer=fb_tokenizer):\n",
    "    \n",
    "    inputs = tokenizer(\n",
    "        sentence_list, \n",
    "        return_tensors=\"pt\", \n",
    "        padding=True\n",
    "    )\n",
    "\n",
    "    outputs = finbert(**inputs)[0]\n",
    "\n",
    "    res = {}\n",
    "\n",
    "    for i, sentence in enumerate(sentence_list):\n",
    "        res[i] = [np.argmax(outputs.detach().numpy()[i]), sentence]\n",
    "\n",
    "    df = pd.DataFrame.from_dict(\n",
    "        res, \n",
    "        orient='index', \n",
    "        columns=['prediction', 'sentence']\n",
    "    )\n",
    "\n",
    "    compounded_score = df.prediction.value_counts(normalize=True).to_dict()\n",
    "\n",
    "    return compounded_score\n",
    "\n",
    "print(get_sentiment(headlines))"
   ]
  }
 ],
 "metadata": {
  "kernelspec": {
   "display_name": "base",
   "language": "python",
   "name": "python3"
  },
  "language_info": {
   "codemirror_mode": {
    "name": "ipython",
    "version": 3
   },
   "file_extension": ".py",
   "mimetype": "text/x-python",
   "name": "python",
   "nbconvert_exporter": "python",
   "pygments_lexer": "ipython3",
   "version": "3.11.4"
  }
 },
 "nbformat": 4,
 "nbformat_minor": 2
}
