{
 "cells": [
  {
   "cell_type": "code",
   "execution_count": null,
   "metadata": {},
   "outputs": [],
   "source": [
    "import pandas as pd\n",
    "import numpy as np\n",
    "import matplotlib.pyplot as plt\n",
    "from tqdm import tqdm\n",
    "from scipy import stats\n",
    "from arch import arch_model\n",
    "\n",
    "import sys\n",
    "from textblob import TextBlob\n",
    "import yfinance as yf\n",
    "\n",
    "from sent_utils import *\n",
    "\n",
    "# Import main utility functions\n",
    "sys.path.insert(0, r'c:\\Users\\joneh\\master_thesis\\src')\n",
    "from main_utils import *"
   ]
  },
  {
   "cell_type": "markdown",
   "metadata": {},
   "source": [
    "### Sentiment Analysis Testing\n",
    "\n",
    "Sentiment analysis functions should take a panads series as input and output a pandas series of the same length with the sentiment of the input text. The sentiment should be a float between -1 and 1, where -1 is negative, 0 is neutral, and 1 is positive."
   ]
  },
  {
   "cell_type": "code",
   "execution_count": null,
   "metadata": {},
   "outputs": [],
   "source": [
    "# Load data\n",
    "df = pd.read_csv(r'C:\\Users\\joneh\\master_thesis\\data\\news\\TheGuardian\\TG_CrudeANDOil.csv')\n",
    "\n",
    "df.drop(['type', 'sectionId', 'sectionName', 'webPublicationDate', 'webUrl', 'apiUrl', 'isHosted', 'pillarId', 'pillarName'], axis=1, inplace=True)\n",
    "\n",
    "df[['polarity', 'subjectivity']] = df['webTitle'].apply(lambda x: pd.Series(TextBlob(x).sentiment))\n",
    "\n",
    "df.index = pd.to_datetime(df['datetime']).dt.tz_localize(None)\n",
    "\n",
    "display(df.head())\n",
    "\n",
    "# aggregate scores to daily frequency\n",
    "sent_df = aggregate_score(df, ['polarity', 'subjectivity'], frequency='D')\n"
   ]
  },
  {
   "cell_type": "code",
   "execution_count": null,
   "metadata": {},
   "outputs": [],
   "source": [
    "price_df = pd.read_csv(r'C:\\Users\\joneh\\master_thesis\\data\\time_series\\YahooFinance\\CL=F_20years.csv')\n",
    "\n",
    "sent_df['polarity'].plot()\n",
    "\n",
    "res_list = []\n",
    "\n",
    "for t in tqdm(range(len(sent_df))):\n",
    "    SV = sent_df['polarity'].iloc[t]\n",
    "\n",
    "    for i in range(1, t):\n",
    "        SV += sent_df['polarity'].iloc[i] * np.exp(-(t-i)/7)\n",
    "\n",
    "    res_list.append(SV)\n",
    "\n",
    "sent_df['SV'] = res_list"
   ]
  },
  {
   "cell_type": "code",
   "execution_count": null,
   "metadata": {},
   "outputs": [],
   "source": [
    "price_df.index = pd.to_datetime(price_df['Date']).dt.tz_localize(None)\n",
    "price_df['Log Return'] = np.log(price_df['Adj Close']).diff()\n",
    "# Calculate volatility\n",
    "price_df['Volatility'] = price_df['Log Return'].rolling(21).std()\n",
    "\n",
    "# add GARCH(1,1) model\n",
    "garch = arch_model(price_df['Log Return'].dropna(), vol='Garch', p=1, q=1)\n",
    "res = garch.fit(disp='off')\n",
    "\n",
    "price_df['GARCH'] = res.conditional_volatility\n",
    "\n",
    "combined_df = sent_df.join(price_df[['Volatility', 'Adj Close', 'Volume', 'GARCH', 'Log Return']], how='left')\n",
    "combined_df = combined_df.fillna(method='ffill').dropna()\n",
    "\n",
    "display(combined_df)\n",
    "\n",
    "x_label = 'SV'\n",
    "y_label = 'GARCH'\n",
    "\n",
    "slope, intercept, r_value, p_value, std_err = stats.linregress(combined_df[x_label], combined_df[y_label])\n",
    "print(f'p-value: {p_value:.7f}')\n",
    "print(r_value)\n",
    "print(slope)\n",
    "\n",
    "fig, ax = plt.subplots(figsize=(7, 5))\n",
    "combined_df.plot(kind='scatter', x=x_label, y=y_label, s=2, ax=ax)\n",
    "ax.plot(combined_df[x_label], slope * combined_df[x_label] + intercept, color='red')\n",
    "ax.grid(alpha=0.2)\n",
    "ax.set_title(f'{x_label} vs {y_label}')\n",
    "\n",
    "\n",
    "# correlation\n",
    "print(f'Correlation: {combined_df[x_label].corr(combined_df[y_label])}')\n"
   ]
  },
  {
   "cell_type": "code",
   "execution_count": null,
   "metadata": {},
   "outputs": [],
   "source": [
    "fig, ax1 = plt.subplots(figsize=(10, 5))\n",
    "ax2 = ax1.twinx()\n",
    "\n",
    "combined_df['GARCH'].iloc[-300:].plot(ax=ax1, color='blue', label='Price')\n",
    "combined_df['SV'].iloc[-300:].plot(ax=ax2, color='red', label='SV')\n",
    "\n",
    "# combine labels\n",
    "lines, labels = ax1.get_legend_handles_labels()\n",
    "lines2, labels2 = ax2.get_legend_handles_labels()\n",
    "ax2.legend(lines + lines2, labels + labels2, loc=0)"
   ]
  }
 ],
 "metadata": {
  "kernelspec": {
   "display_name": "base",
   "language": "python",
   "name": "python3"
  },
  "language_info": {
   "codemirror_mode": {
    "name": "ipython",
    "version": 3
   },
   "file_extension": ".py",
   "mimetype": "text/x-python",
   "name": "python",
   "nbconvert_exporter": "python",
   "pygments_lexer": "ipython3",
   "version": "3.11.4"
  }
 },
 "nbformat": 4,
 "nbformat_minor": 2
}
