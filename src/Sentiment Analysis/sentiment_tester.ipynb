{
 "cells": [
  {
   "cell_type": "code",
   "execution_count": null,
   "metadata": {},
   "outputs": [],
   "source": [
    "from sent_utils import *\n",
    "\n",
    "import pandas as pd\n",
    "import numpy as np\n",
    "import seaborn as sns\n",
    "import matplotlib.pyplot as plt\n",
    "from scipy import stats\n",
    "from arch import arch_model\n",
    "import yfinance as yf\n",
    "\n",
    "import sys\n",
    "import warnings\n",
    "\n",
    "warnings.filterwarnings(\"ignore\")\n",
    "\n",
    "# Import main utility functions\n",
    "sys.path.insert(0, r'c:\\Users\\joneh\\master_thesis\\src')\n",
    "from main_utils import *"
   ]
  },
  {
   "cell_type": "markdown",
   "metadata": {},
   "source": [
    "### Sentiment Analysis Testing\n",
    "\n",
    "Sentiment analysis functions should take a panads series as input and output a pandas series of the same length with the sentiment of the input text. The sentiment should be a float between -1 and 1, where -1 is negative, 0 is neutral, and 1 is positive."
   ]
  },
  {
   "cell_type": "code",
   "execution_count": null,
   "metadata": {},
   "outputs": [],
   "source": [
    "# Load data\n",
    "news_df = load_df('news', 'CombinedArchive.csv')\n",
    "\n",
    "# remove all webTitle that is not string\n",
    "news_df = news_df[news_df['headline'].apply(lambda x: isinstance(x, str))]"
   ]
  },
  {
   "cell_type": "markdown",
   "metadata": {},
   "source": [
    "### Sentiment analysis"
   ]
  },
  {
   "cell_type": "code",
   "execution_count": null,
   "metadata": {},
   "outputs": [],
   "source": [
    "# Textblob\n",
    "news_df['textblob'] = textblob_sentiment(news_df['headline'])\n",
    "\n",
    "# cgpt = pd.read_csv('chatgpt_sentiment.csv')\n",
    "\n",
    "# news_df['ChatGPT'] = cgpt\n",
    "\n",
    "# FinBERT\n",
    "# news_df['finbert'] = news_df['headline'].apply(FinBERT_sentiment)\n",
    "\n",
    "display(news_df)"
   ]
  },
  {
   "cell_type": "markdown",
   "metadata": {},
   "source": [
    "### Aggregation and Sentiment index"
   ]
  },
  {
   "cell_type": "code",
   "execution_count": null,
   "metadata": {},
   "outputs": [],
   "source": [
    "# Resample data\n",
    "sample_freq = 'd'\n",
    "\n",
    "df_sent_Oil = aggregate_score(news_df[news_df['source'] == 'TG'], ['textblob'], frequency=sample_freq)\n",
    "df_sent_NG = aggregate_score(news_df[news_df['source'] == 'NG'], ['textblob'], frequency=sample_freq)\n",
    "\n",
    "# # apply sentiment index\n",
    "df_sent_Oil['SI_bai_Oil'] = SI_bai(abs(df_sent_Oil['textblob']), 7.0)\n",
    "df_sent_NG['SI_bai_NG'] = SI_bai(abs(df_sent_NG['textblob']), 7.0)\n",
    "\n",
    "# df_sent['SI_bai_finbert'] = SI_bai(df_sent['finbert'], 7.0)\n",
    "\n",
    "# plot data\n",
    "fig, ax = plt.subplots(1, 1, figsize=(15, 10))\n",
    "ax2 = ax.twinx()\n",
    "df_sent_Oil['SI_bai_Oil'].rolling(100).mean().plot(ax=ax, label='Oil')\n",
    "df_sent_NG['SI_bai_NG'].rolling(100).mean().plot(ax=ax, label='Natural Gas')\n",
    "\n",
    "df = yf.download('CL=F', period='20Y')['Adj Close']\n",
    "\n",
    "df.plot(ax=ax2, color='black', label='Oil Price')\n",
    "\n",
    "# correlation\n",
    "print('Correlation Oil:', df_sent_Oil['SI_bai_Oil'].corr(df_sent_NG['SI_bai_NG']))"
   ]
  },
  {
   "cell_type": "markdown",
   "metadata": {},
   "source": [
    "### Save sentiment indices"
   ]
  },
  {
   "cell_type": "code",
   "execution_count": null,
   "metadata": {},
   "outputs": [],
   "source": [
    "# Enter filename here:\n",
    "file_name = 'sentiment_index.csv'\n",
    "# Enter relative path for saving the file:\n",
    "relative_path = 'data/time_series'\n",
    "\n",
    "df_sent.to_csv(save_path(relative_path, file_name), index=True)"
   ]
  },
  {
   "cell_type": "code",
   "execution_count": null,
   "metadata": {},
   "outputs": [],
   "source": [
    "price_df = pd.read_csv(r'C:\\Users\\joneh\\master_thesis\\data\\time_series\\CL=F_20years.csv')\n",
    "price_df.index = pd.to_datetime(price_df['Date']).dt.tz_localize(None)\n",
    "\n",
    "# calculate log-returns\n",
    "price_df['Log Return'] = np.log(price_df['Adj Close']).diff()\n",
    "\n",
    "# Calculate volatility\n",
    "price_df['Volatility'] = price_df['Log Return'].rolling(21).std()\n",
    "\n",
    "# add GARCH(1,1) model\n",
    "garch = arch_model(price_df['Log Return'].dropna(), vol='Garch', p=1, q=1)\n",
    "res = garch.fit(disp='off')\n",
    "price_df['GARCH'] = res.conditional_volatility\n",
    "\n",
    "combined_df = df_sent.join(\n",
    "    price_df[['Volatility', 'Adj Close', 'Volume', 'GARCH', 'Log Return']].resample(sample_freq).mean(), \n",
    "    how='left'\n",
    ")\n",
    "\n",
    "combined_df = combined_df.fillna(method='ffill').dropna()\n",
    "\n",
    "x_label = 'SI_bai_textblob'\n",
    "y_label = 'GARCH'\n",
    "\n",
    "slope, intercept, r_value, p_value, std_err = stats.linregress(combined_df[x_label], combined_df[y_label])\n",
    "print(f'p-value: {p_value:.10f}')\n",
    "print(f'R2: {r_value:.4f}')\n",
    "print(f'Slope: {slope:.4f}')\n",
    "print(f'Correlation TG: {combined_df[x_label].corr(combined_df[y_label]):.4f}')\n",
    "\n",
    "fig = sns.jointplot(\n",
    "    data=combined_df, \n",
    "    x=x_label, \n",
    "    y=y_label,\n",
    "    scatter_kws={'s':5},\n",
    "    kind='reg',\n",
    "    line_kws={'color':'red'},\n",
    ")"
   ]
  },
  {
   "cell_type": "markdown",
   "metadata": {},
   "source": [
    "### Save data"
   ]
  },
  {
   "cell_type": "code",
   "execution_count": null,
   "metadata": {},
   "outputs": [],
   "source": [
    "# Enter filename here:\n",
    "file_name = 'combined_df_sentiment.csv'\n",
    "# Enter relative path for saving the file:\n",
    "relative_path = 'data/model_input'\n",
    "\n",
    "combined_df.to_csv(save_path(relative_path, file_name), index=False)"
   ]
  }
 ],
 "metadata": {
  "kernelspec": {
   "display_name": "base",
   "language": "python",
   "name": "python3"
  },
  "language_info": {
   "codemirror_mode": {
    "name": "ipython",
    "version": 3
   },
   "file_extension": ".py",
   "mimetype": "text/x-python",
   "name": "python",
   "nbconvert_exporter": "python",
   "pygments_lexer": "ipython3",
   "version": "3.11.4"
  }
 },
 "nbformat": 4,
 "nbformat_minor": 2
}
