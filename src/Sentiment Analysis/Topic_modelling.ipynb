{
 "cells": [
  {
   "cell_type": "code",
   "execution_count": null,
   "metadata": {},
   "outputs": [],
   "source": [
    "import numpy as np\n",
    "import pandas as pd\n",
    "import matplotlib.pyplot as plt\n",
    "import sys\n",
    "from tqdm import tqdm\n",
    "\n",
    "from nltk.tokenize import word_tokenize\n",
    "from nltk.corpus import stopwords\n",
    "from IPython.display import Markdown\n",
    "\n",
    "# import lda\n",
    "from sklearn.feature_extraction.text import CountVectorizer\n",
    "from sklearn.decomposition import LatentDirichletAllocation\n",
    "\n",
    "# from SeaNMF import *\n",
    "\n",
    "sys.path.insert(0, r'c:\\Users\\joneh\\master_thesis\\src')\n",
    "\n",
    "from main_utils import *        # main utilities\n",
    "from db_utils import *          # database utilities"
   ]
  },
  {
   "cell_type": "markdown",
   "metadata": {},
   "source": [
    "### LDA"
   ]
  },
  {
   "cell_type": "code",
   "execution_count": null,
   "metadata": {},
   "outputs": [],
   "source": [
    "# Load data from database\n",
    "news_df = news_db_load('news_filtered')\n",
    "news_df.drop(columns=['Unnamed: 0'], inplace=True)\n",
    "\n",
    "display(news_df.head(2))"
   ]
  },
  {
   "cell_type": "code",
   "execution_count": null,
   "metadata": {},
   "outputs": [],
   "source": [
    "documents = news_df['headline'].to_list()\n",
    "\n",
    "vectorizer = CountVectorizer(max_df=0.95, min_df=2, stop_words='english')\n",
    "\n",
    "dtm = vectorizer.fit_transform(documents)\n",
    "\n",
    "lda_model = LatentDirichletAllocation(n_components=10, random_state=0)\n",
    "lda_model.fit(dtm)"
   ]
  },
  {
   "cell_type": "code",
   "execution_count": null,
   "metadata": {},
   "outputs": [],
   "source": [
    "def print_topics(model, vectorizer, top_n=10):\n",
    "    for idx, topic in tqdm(enumerate(model.components_)):\n",
    "\n",
    "        # create dataframe\n",
    "        df = pd.DataFrame(topic, vectorizer.get_feature_names_out(), columns=[\"score\"])\n",
    "\n",
    "        # sort by score\n",
    "        df.sort_values(by=\"score\", ascending=False, inplace=True)\n",
    "\n",
    "        # display top n words\n",
    "        display(Markdown(f\"### Topic {idx}\"))\n",
    "        display(df.head(8))\n",
    "\n",
    "# Print the topics\n",
    "print_topics(lda_model, vectorizer)"
   ]
  }
 ],
 "metadata": {
  "kernelspec": {
   "display_name": "base",
   "language": "python",
   "name": "python3"
  },
  "language_info": {
   "codemirror_mode": {
    "name": "ipython",
    "version": 3
   },
   "file_extension": ".py",
   "mimetype": "text/x-python",
   "name": "python",
   "nbconvert_exporter": "python",
   "pygments_lexer": "ipython3",
   "version": "3.11.4"
  }
 },
 "nbformat": 4,
 "nbformat_minor": 2
}
