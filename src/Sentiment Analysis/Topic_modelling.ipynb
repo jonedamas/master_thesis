{
 "cells": [
  {
   "cell_type": "code",
   "execution_count": null,
   "metadata": {},
   "outputs": [],
   "source": [
    "import numpy as np\n",
    "import pandas as pd\n",
    "import matplotlib.pyplot as plt\n",
    "\n",
    "from nltk.tokenize import word_tokenize\n",
    "from nltk.corpus import stopwords\n",
    "\n",
    "from SeaNMF import *"
   ]
  },
  {
   "cell_type": "markdown",
   "metadata": {},
   "source": [
    "## Topic modelling with SeaNMF\n"
   ]
  },
  {
   "cell_type": "code",
   "execution_count": null,
   "metadata": {},
   "outputs": [],
   "source": [
    "df_headlines = pd.read_csv(r'C:\\Users\\joneh\\master_thesis\\data\\news\\TheGuardian\\TG_CrudeANDOil.csv')\n",
    "\n",
    "df_headlines.drop(['type', 'sectionId', 'sectionName', 'webPublicationDate', 'webUrl', 'apiUrl', 'isHosted', 'pillarId', 'pillarName'], axis=1, inplace=True)\n",
    "\n",
    "\n",
    "# stop words\n",
    "stop_words = set(stopwords.words('english'))\n",
    "\n",
    "# tokenize\n",
    "df_headlines['webTitle'] = df_headlines['webTitle'].apply(lambda x: word_tokenize(x))\n",
    "\n",
    "# remove stop words\n",
    "df_headlines['webTitle'] = df_headlines['webTitle'].apply(lambda x: [word for word in x if word.lower() not in stop_words])\n",
    "\n",
    "# remove punctuation\n",
    "df_headlines['webTitle'] = df_headlines['webTitle'].apply(lambda x: [word for word in x if word.isalpha()])\n",
    "\n",
    "# use SeaNMF to find topics\n",
    "seanmf = SeaNMF(df_headlines['webTitle'], n_topics=10, n_gram=2, n_top_words=10, n_top_documents=10)\n",
    "\n",
    "display(df_headlines.head())\n"
   ]
  }
 ],
 "metadata": {
  "kernelspec": {
   "display_name": "base",
   "language": "python",
   "name": "python3"
  },
  "language_info": {
   "codemirror_mode": {
    "name": "ipython",
    "version": 3
   },
   "file_extension": ".py",
   "mimetype": "text/x-python",
   "name": "python",
   "nbconvert_exporter": "python",
   "pygments_lexer": "ipython3",
   "version": "3.11.4"
  }
 },
 "nbformat": 4,
 "nbformat_minor": 2
}
