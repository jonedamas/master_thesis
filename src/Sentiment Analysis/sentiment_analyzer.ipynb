{
 "cells": [
  {
   "cell_type": "code",
   "execution_count": null,
   "metadata": {},
   "outputs": [],
   "source": [
    "from sent_utils import * # has to be first to avoid conflict with Julia load\n",
    "\n",
    "import pandas as pd\n",
    "import numpy as np\n",
    "import seaborn as sns\n",
    "import matplotlib.pyplot as plt\n",
    "from scipy import stats\n",
    "from arch import arch_model\n",
    "import yfinance as yf\n",
    "\n",
    "import sys\n",
    "import warnings\n",
    "\n",
    "warnings.filterwarnings(\"ignore\")\n",
    "\n",
    "# Import main utility functions\n",
    "sys.path.insert(0, r'c:\\Users\\joneh\\master_thesis\\src')\n",
    "\n",
    "from main_utils import *        # main utilities\n",
    "from db_utils import *          # database utilities"
   ]
  },
  {
   "cell_type": "markdown",
   "metadata": {},
   "source": [
    "### Sentiment Analysis Testing\n",
    "\n",
    "Sentiment analysis functions should take a panads series as input and output a pandas series of the same length with the sentiment of the input text. The sentiment should be a float between -1 and 1, where -1 is negative, 0 is neutral, and 1 is positive."
   ]
  },
  {
   "cell_type": "code",
   "execution_count": null,
   "metadata": {},
   "outputs": [],
   "source": [
    "# Load data from database\n",
    "news_df = news_db_load('news_filtered')\n",
    "news_df.drop(columns=['Unnamed: 0'], inplace=True)\n",
    "\n",
    "display(news_df)"
   ]
  },
  {
   "cell_type": "markdown",
   "metadata": {},
   "source": [
    "### Sentiment analysis\n",
    "\n",
    "Applying a sentiment analysis score to each headline. 0.0 is applied where there are none."
   ]
  },
  {
   "cell_type": "code",
   "execution_count": null,
   "metadata": {},
   "outputs": [],
   "source": [
    "# Textblob\n",
    "news_df['textblob'] = textblob_sentiment(news_df['headline'])\n",
    "\n",
    "# # FinBERT\n",
    "# news_df['finbert'] = news_df['headline'].apply(FinBERT_sentiment)\n",
    "\n",
    "display(news_df)"
   ]
  },
  {
   "cell_type": "markdown",
   "metadata": {},
   "source": [
    "### Aggregation and Sentiment index\n",
    "\n",
    "Calculates the daily average sentiment score.\n",
    "```python \n",
    "aggregate_score()\n",
    "``` \n",
    "$$\n",
    "SV_t = \\frac{1}{N_t}\\sum_{i=1}^{n} PV_{it}\n",
    "$$\n",
    "\n",
    "Calculates the close sentiment and applying it to the first day market is open.\n",
    "```python \n",
    "merge_sentiment()\n",
    "```\n",
    "$$\n",
    "SV_{t,new} =\\frac{\\sum_{k=0}^{K}0.9^k\\cdot SV_{t-k}}{\\sum_{k=0}^{K}0.9^k}\n",
    "$$\n",
    "\n",
    "Creates a sentiment index.\n",
    "```python \n",
    "SI_bai()\n",
    "``` \n",
    "\n",
    "$$\n",
    "SI_t = SV_t+ \\sum_{i=1}^{t-1} SV_i\\cdot e^{-\\frac{t-1}{\\beta}}\n",
    "$$\n"
   ]
  },
  {
   "cell_type": "markdown",
   "metadata": {},
   "source": [
    "### Aggregate to daily"
   ]
  },
  {
   "cell_type": "code",
   "execution_count": null,
   "metadata": {},
   "outputs": [],
   "source": [
    "# Resample data\n",
    "sample_freq = 'd'\n",
    "\n",
    "df_sent = aggregate_score(news_df, ['textblob'], frequency=sample_freq)\n",
    "\n",
    "display(df_sent)"
   ]
  },
  {
   "cell_type": "code",
   "execution_count": null,
   "metadata": {},
   "outputs": [],
   "source": [
    "def merge_sentiment(\n",
    "        sentiment_df: pd.DataFrame, \n",
    "        market_days: pd.Series\n",
    "    ) -> pd.Series:\n",
    "\n",
    "    col_dict = {}\n",
    "\n",
    "    sentiment_df = sentiment_df.join(market_days, how='outer')\n",
    "\n",
    "    display(sentiment_df)\n",
    "\n",
    "    for col in sentiment_df.columns:\n",
    "\n",
    "        update_dict = {}\n",
    "        day_list = []\n",
    "\n",
    "        first_day = False\n",
    "\n",
    "        for row in sentiment_df.iterrows():\n",
    "            index = row[0]\n",
    "            close = market_days.loc[index]\n",
    "\n",
    "            print(close)\n",
    "\n",
    "            if close == False:\n",
    "                day_list.append(index)\n",
    "                first_day = True\n",
    "\n",
    "            elif first_day:\n",
    "                day_list.append(index)\n",
    "                up, down = 0, 0\n",
    "\n",
    "                for i, date in enumerate(day_list[::-1]):\n",
    "                    sentiment = sentiment_df.loc[date]\n",
    "                    up += 0.9**i * sentiment\n",
    "                    down += 0.9**i\n",
    "\n",
    "                update_dict[index] = up / down\n",
    "                day_list = []\n",
    "                first_day = False\n",
    "            else:\n",
    "                continue\n",
    "        \n",
    "        col_dict[col] = update_dict\n",
    "\n",
    "    updated_open_days = pd.DataFrame(update_dict, index=[sentiment_df.columns]).T\n",
    "\n",
    "    return updated_open_days"
   ]
  },
  {
   "cell_type": "code",
   "execution_count": null,
   "metadata": {},
   "outputs": [],
   "source": [
    "price_df = pd.read_csv(r'C:\\Users\\joneh\\master_thesis\\data\\time_series\\CL=F_20years.csv')\n",
    "price_df.index = pd.to_datetime(price_df['Date']).dt.tz_localize(None)\n",
    "\n",
    "# calculate log-returns\n",
    "price_df['Log Return'] = np.log(price_df['Adj Close']).diff()\n",
    "\n",
    "# Calculate volatility\n",
    "price_df['Volatility'] = price_df['Log Return'].rolling(21).std()\n",
    "\n",
    "# add GARCH(1,1) model\n",
    "garch = arch_model(price_df['Log Return'].dropna(), vol='Garch', p=1, q=1)\n",
    "res = garch.fit(disp='off')\n",
    "price_df['GARCH'] = res.conditional_volatility\n",
    "\n",
    "combined_df = df_sent.join(\n",
    "    price_df[['Volatility', 'Adj Close', 'Volume', 'GARCH', 'Log Return']], \n",
    "    how='left'\n",
    ")\n",
    "\n",
    "# return series showing if market is open or not with true/false\n",
    "market_days = combined_df['Adj Close'].notna()\n",
    "\n",
    "combined_df = combined_df.dropna()\n",
    "\n",
    "updated_open_days = merge_sentiment(combined_df[['textblob']], market_days)\n",
    "\n",
    "display(updated_open_days)\n",
    "\n",
    "combined_df.update(updated_open_days)\n",
    "\n",
    "display(combined_df)\n",
    "\n",
    "# add sentiment index\n",
    "combined_df['SI_BAI'] = SI_bai(combined_df['textblob'], beta=7)\n",
    "\n",
    "x_label = 'SI_BAI'\n",
    "y_label = 'GARCH'\n",
    "\n",
    "slope, intercept, r_value, p_value, std_err = stats.linregress(combined_df[x_label], combined_df[y_label])\n",
    "print(f'p-value: {p_value:.10f}')\n",
    "print(f'R2: {r_value:.4f}')\n",
    "print(f'Slope: {slope:.4f}')\n",
    "print(f'Correlation TG: {combined_df[x_label].corr(combined_df[y_label]):.4f}')\n",
    "\n",
    "fig = sns.jointplot(\n",
    "    data=combined_df, \n",
    "    x=x_label, \n",
    "    y=y_label,\n",
    "    scatter_kws={'s':5},\n",
    "    kind='reg',\n",
    "    line_kws={'color':'red'},\n",
    ")"
   ]
  },
  {
   "cell_type": "markdown",
   "metadata": {},
   "source": [
    "### Save sentiment indices"
   ]
  },
  {
   "cell_type": "code",
   "execution_count": null,
   "metadata": {},
   "outputs": [],
   "source": [
    "# Enter filename here:\n",
    "file_name = 'sentiment_index.csv'\n",
    "# Enter relative path for saving the file:\n",
    "relative_path = 'data/time_series'\n",
    "\n",
    "df_sent.to_csv(save_path(relative_path, file_name), index=True)"
   ]
  },
  {
   "cell_type": "markdown",
   "metadata": {},
   "source": [
    "### Save data"
   ]
  },
  {
   "cell_type": "code",
   "execution_count": null,
   "metadata": {},
   "outputs": [],
   "source": [
    "# Enter filename here:\n",
    "file_name = 'combined_df_sentiment.csv'\n",
    "# Enter relative path for saving the file:\n",
    "relative_path = 'data/model_input'\n",
    "\n",
    "combined_df.to_csv(save_path(relative_path, file_name), index=False)"
   ]
  }
 ],
 "metadata": {
  "kernelspec": {
   "display_name": "base",
   "language": "python",
   "name": "python3"
  },
  "language_info": {
   "codemirror_mode": {
    "name": "ipython",
    "version": 3
   },
   "file_extension": ".py",
   "mimetype": "text/x-python",
   "name": "python",
   "nbconvert_exporter": "python",
   "pygments_lexer": "ipython3",
   "version": "3.11.4"
  }
 },
 "nbformat": 4,
 "nbformat_minor": 2
}
