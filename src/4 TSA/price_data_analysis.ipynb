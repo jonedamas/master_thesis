{
 "cells": [
  {
   "cell_type": "code",
   "execution_count": null,
   "metadata": {},
   "outputs": [],
   "source": [
    "import pandas as pd\n",
    "import numpy as np\n",
    "from arch import arch_model\n",
    "\n",
    "import sys\n",
    "\n",
    "sys.path.insert(0, r'c:\\Users\\joneh\\master_thesis\\src')\n",
    "from main_utils import *"
   ]
  },
  {
   "cell_type": "markdown",
   "metadata": {},
   "source": [
    "## Add log return"
   ]
  },
  {
   "cell_type": "code",
   "execution_count": null,
   "metadata": {},
   "outputs": [],
   "source": [
    "futures_data = pd.read_csv(r'c:\\Users\\joneh\\master_thesis\\data\\time_series\\CL=F_20years.csv', index_col=0)\n",
    "\n",
    "futures_data = futures_data.drop(columns=['Open', 'High', 'Low', 'Close'])\n",
    "\n",
    "futures_data['log_return'] = np.log(futures_data['Adj Close']).diff()\n",
    "\n",
    "futures_data = futures_data.dropna()\n",
    "\n",
    "# add arch model\n",
    "\n",
    "# add scaled log returns\n",
    "futures_data['log_return_scaled'] = futures_data['log_return'] * 100\n",
    "\n",
    "am = arch_model(futures_data['log_return_scaled'].dropna(), vol='Garch', p=1, q=1)\n",
    "res = am.fit(update_freq=5)\n",
    "\n",
    "# add conditional volatility\n",
    "futures_data['cond_vol'] = res.conditional_volatility / 100\n",
    "\n",
    "# drop log return scaled\n",
    "futures_data = futures_data.drop(columns=['log_return_scaled'])\n",
    "\n",
    "display(futures_data)"
   ]
  },
  {
   "cell_type": "markdown",
   "metadata": {},
   "source": [
    "### Save data"
   ]
  },
  {
   "cell_type": "code",
   "execution_count": null,
   "metadata": {},
   "outputs": [],
   "source": [
    "# Enter filename here:\n",
    "file_name = f'TSA_data.csv'\n",
    "# Enter relative path for saving the file:\n",
    "relative_path = 'data/time_series'\n",
    "\n",
    "futures_data.to_csv(save_path(relative_path, file_name), index=True)"
   ]
  }
 ],
 "metadata": {
  "kernelspec": {
   "display_name": "base",
   "language": "python",
   "name": "python3"
  },
  "language_info": {
   "codemirror_mode": {
    "name": "ipython",
    "version": 3
   },
   "file_extension": ".py",
   "mimetype": "text/x-python",
   "name": "python",
   "nbconvert_exporter": "python",
   "pygments_lexer": "ipython3",
   "version": "3.11.4"
  }
 },
 "nbformat": 4,
 "nbformat_minor": 2
}
