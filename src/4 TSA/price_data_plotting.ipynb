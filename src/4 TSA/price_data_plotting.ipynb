{
 "cells": [
  {
   "cell_type": "code",
   "execution_count": null,
   "metadata": {},
   "outputs": [],
   "source": [
    "import pandas as pd\n",
    "import numpy as np\n",
    "import matplotlib.pyplot as plt\n",
    "import scienceplots\n",
    "from statsmodels.graphics.tsaplots import plot_acf, plot_pacf\n",
    "\n",
    "import warnings\n",
    "\n",
    "warnings.filterwarnings(\"ignore\")\n",
    "plt.style.use('science')\n"
   ]
  },
  {
   "cell_type": "code",
   "execution_count": null,
   "metadata": {},
   "outputs": [],
   "source": [
    "df_LCOc1 = pd.read_csv(r'C:\\Users\\joneh\\master_thesis\\data\\time_series\\LCOc1_processed.csv') # Brent Crud Oil\n",
    "df_CLc1 = pd.read_csv(r'C:\\Users\\joneh\\master_thesis\\data\\time_series\\CLc1_processed.csv') # WTI Crud Oil\n",
    "\n",
    "# create datetime index\n",
    "\n",
    "df_LCOc1.index = pd.to_datetime(df_LCOc1['Date'])\n",
    "df_CLc1.index = pd.to_datetime(df_CLc1['Date'])"
   ]
  },
  {
   "cell_type": "markdown",
   "metadata": {},
   "source": [
    "### Price plot"
   ]
  },
  {
   "cell_type": "code",
   "execution_count": null,
   "metadata": {},
   "outputs": [],
   "source": [
    "fig, ax = plt.subplots(figsize=(10,5))\n",
    "df_LCOc1['CLOSE'].plot(label='ICE Brent Crude', ax=ax, lw=0.8)\n",
    "df_CLc1['CLOSE'].plot(label='NYMEX Light Sweet', ax=ax, lw=0.8)\n",
    "ax.set_ylabel('Price (USD)', fontsize=14)\n",
    "ax.set_xlabel('Date', fontsize=14)\n",
    "ax.legend(frameon=False, loc='lower left', fontsize=13)\n",
    "ax.tick_params(axis='x', labelsize=14)\n",
    "\n",
    "fig.savefig('images/crude_oil_price.png', bbox_inches='tight', dpi=200)"
   ]
  },
  {
   "cell_type": "markdown",
   "metadata": {},
   "source": [
    "### Volume plot"
   ]
  },
  {
   "cell_type": "code",
   "execution_count": null,
   "metadata": {},
   "outputs": [],
   "source": [
    "fig, ax = plt.subplots(figsize=(10,5))\n",
    "# create a stacked bar plot resampled bby yearly frequency\n",
    "volume_df = pd.concat([df_LCOc1['VOLUME'].resample('Y').sum(), df_CLc1['VOLUME'].resample('Y').sum()], axis=1)\n",
    "volume_df.columns = ['ICE Brent Crude', 'NYMEX Light Sweet']\n",
    "\n",
    "# remove 2003 and 20024\n",
    "volume_df = volume_df[1:-1]\n",
    "\n",
    "volume_df.plot(kind='bar', stacked=True, ax=ax)\n",
    "\n",
    "ax.set_ylabel('Volume', fontsize=14)\n",
    "ax.set_xlabel('Date', fontsize=14)\n",
    "ax.legend(frameon=False, loc='upper left', fontsize=13)\n",
    "ax.tick_params(axis='x', labelsize=14)\n",
    "\n",
    "# show only year and rotate it 45 degrees\n",
    "ax.set_xticklabels([x.strftime('%Y') for x in volume_df.index], rotation=45)\n",
    "\n",
    "\n",
    "fig.savefig('images/crude_oil_volume.png', bbox_inches='tight', dpi=200)"
   ]
  },
  {
   "cell_type": "markdown",
   "metadata": {},
   "source": [
    "### GARCH(1,1) plot"
   ]
  },
  {
   "cell_type": "code",
   "execution_count": null,
   "metadata": {},
   "outputs": [],
   "source": [
    "# plot GARCH Volatility\n",
    "fig, ax = plt.subplots(figsize=(10,5))\n",
    "df_LCOc1['GARCH'].plot(label='Brent Crude Oil', ax=ax, lw=1)\n",
    "df_CLc1['GARCH'].plot(label='WTI Crude Oil', ax=ax, lw=1)\n",
    "ax.legend(frameon=False, loc='upper left', fontsize=12)"
   ]
  },
  {
   "cell_type": "markdown",
   "metadata": {},
   "source": [
    "### Log retuns and rolling standard deviation"
   ]
  },
  {
   "cell_type": "code",
   "execution_count": null,
   "metadata": {},
   "outputs": [],
   "source": [
    "# set font to Arial\n",
    "plt.rcParams['font.family'] = 'Arial'\n",
    "\n",
    "fig, ax1 = plt.subplots(figsize=(12, 6), dpi=200)\n",
    "ax2 = ax1.twinx()\n",
    "\n",
    "df['LOGRET'].plot(ax=ax1, color='black', lw=0.8, label='log return (left axis)')\n",
    "df['GARCH'].plot(ax=ax2, color='red', lw=0.8, label='GARCH(1,1)')\n",
    "\n",
    "ax1.set_ylabel('log return', fontsize=14)\n",
    "ax2.set_ylabel('10-day volatility', fontsize=14)\n",
    "ax1.set_xlabel('Date', fontsize=14)\n",
    "\n",
    "ax1.set_ylim(bottom=-0.5)\n",
    "\n",
    "# increase size of x-ticks\n",
    "ax1.tick_params(axis='x', labelsize=12)\n",
    "ax1.tick_params(axis='y', labelsize=12)\n",
    "ax2.tick_params(axis='y', labelsize=12)\n",
    "\n",
    "# combine labels\n",
    "lines, labels = ax1.get_legend_handles_labels()\n",
    "lines2, labels2 = ax2.get_legend_handles_labels()\n",
    "ax2.legend(lines + lines2, labels + labels2, loc=0, fontsize=13, frameon=False)\n",
    "\n",
    "# save plot as png\n",
    "plt.savefig('images/log_ret_10d_vol.png', bbox_inches='tight')"
   ]
  },
  {
   "cell_type": "markdown",
   "metadata": {},
   "source": [
    "### Autocorrelation"
   ]
  },
  {
   "cell_type": "code",
   "execution_count": null,
   "metadata": {},
   "outputs": [],
   "source": [
    "\n",
    "fig, ax = plt.subplots(1, 2, figsize=(12, 5), dpi=200)\n",
    "plot_acf(df['log_ret'].dropna(), lags=60, ax=ax[0], title='Autocorrelation of log returns');\n",
    "plot_pacf(df['log_ret'].dropna(), lags=60, ax=ax[1], title='Partial autocorrelation of log returns');"
   ]
  }
 ],
 "metadata": {
  "kernelspec": {
   "display_name": "base",
   "language": "python",
   "name": "python3"
  },
  "language_info": {
   "codemirror_mode": {
    "name": "ipython",
    "version": 3
   },
   "file_extension": ".py",
   "mimetype": "text/x-python",
   "name": "python",
   "nbconvert_exporter": "python",
   "pygments_lexer": "ipython3",
   "version": "3.11.4"
  }
 },
 "nbformat": 4,
 "nbformat_minor": 2
}
