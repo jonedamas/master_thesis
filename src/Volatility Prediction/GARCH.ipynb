{
 "cells": [
  {
   "cell_type": "code",
   "execution_count": 11,
   "metadata": {},
   "outputs": [],
   "source": [
    "import pandas as pd\n",
    "import numpy as np\n",
    "import matplotlib.pyplot as plt\n",
    "\n",
    "from arch import arch_model\n",
    "from sklearn.metrics import mean_squared_error\n",
    "from sklearn.model_selection import train_test_split"
   ]
  },
  {
   "cell_type": "markdown",
   "metadata": {},
   "source": [
    "## GARCH\n",
    "\n",
    "GARCH stands for Generalized Autoregressive Conditional Heteroskedasticity. It is a statistical model used to analyze and forecast time series data. It is widely used in finance and economics to model volatility.\n",
    "\n",
    "$$\n",
    "\\begin{gather*}\n",
    "r_t = \\mu + \\epsilon_t \\\\[10pt]\n",
    "\\epsilon_t = \\sigma_t z_t \\\\[10pt]\n",
    "\\sigma_t^2 = \\omega + \\sum_{i=1}^p\\alpha_i \\epsilon_{t-1}^2 + \\sum_{j=1}^q\\beta_j \\sigma_{t-1}^2\n",
    "\\end{gather*}\n",
    "$$\n",
    "\n"
   ]
  },
  {
   "cell_type": "markdown",
   "metadata": {},
   "source": [
    "### Import data"
   ]
  },
  {
   "cell_type": "code",
   "execution_count": 4,
   "metadata": {},
   "outputs": [
    {
     "data": {
      "text/html": [
       "<div>\n",
       "<style scoped>\n",
       "    .dataframe tbody tr th:only-of-type {\n",
       "        vertical-align: middle;\n",
       "    }\n",
       "\n",
       "    .dataframe tbody tr th {\n",
       "        vertical-align: top;\n",
       "    }\n",
       "\n",
       "    .dataframe thead th {\n",
       "        text-align: right;\n",
       "    }\n",
       "</style>\n",
       "<table border=\"1\" class=\"dataframe\">\n",
       "  <thead>\n",
       "    <tr style=\"text-align: right;\">\n",
       "      <th></th>\n",
       "      <th>Open</th>\n",
       "      <th>High</th>\n",
       "      <th>Low</th>\n",
       "      <th>Close</th>\n",
       "      <th>Adj Close</th>\n",
       "      <th>Volume</th>\n",
       "    </tr>\n",
       "  </thead>\n",
       "  <tbody>\n",
       "    <tr>\n",
       "      <th>0</th>\n",
       "      <td>32.880001</td>\n",
       "      <td>33.200001</td>\n",
       "      <td>32.299999</td>\n",
       "      <td>32.520000</td>\n",
       "      <td>32.520000</td>\n",
       "      <td>66694</td>\n",
       "    </tr>\n",
       "    <tr>\n",
       "      <th>1</th>\n",
       "      <td>32.400002</td>\n",
       "      <td>33.950001</td>\n",
       "      <td>32.270000</td>\n",
       "      <td>33.779999</td>\n",
       "      <td>33.779999</td>\n",
       "      <td>105704</td>\n",
       "    </tr>\n",
       "    <tr>\n",
       "      <th>2</th>\n",
       "      <td>33.759998</td>\n",
       "      <td>34.349998</td>\n",
       "      <td>33.299999</td>\n",
       "      <td>33.700001</td>\n",
       "      <td>33.700001</td>\n",
       "      <td>103405</td>\n",
       "    </tr>\n",
       "    <tr>\n",
       "      <th>3</th>\n",
       "      <td>33.680000</td>\n",
       "      <td>33.889999</td>\n",
       "      <td>33.049999</td>\n",
       "      <td>33.619999</td>\n",
       "      <td>33.619999</td>\n",
       "      <td>81675</td>\n",
       "    </tr>\n",
       "    <tr>\n",
       "      <th>4</th>\n",
       "      <td>33.650002</td>\n",
       "      <td>34.000000</td>\n",
       "      <td>33.400002</td>\n",
       "      <td>33.980000</td>\n",
       "      <td>33.980000</td>\n",
       "      <td>92709</td>\n",
       "    </tr>\n",
       "  </tbody>\n",
       "</table>\n",
       "</div>"
      ],
      "text/plain": [
       "        Open       High        Low      Close  Adj Close  Volume\n",
       "0  32.880001  33.200001  32.299999  32.520000  32.520000   66694\n",
       "1  32.400002  33.950001  32.270000  33.779999  33.779999  105704\n",
       "2  33.759998  34.349998  33.299999  33.700001  33.700001  103405\n",
       "3  33.680000  33.889999  33.049999  33.619999  33.619999   81675\n",
       "4  33.650002  34.000000  33.400002  33.980000  33.980000   92709"
      ]
     },
     "metadata": {},
     "output_type": "display_data"
    }
   ],
   "source": [
    "df = pd.read_csv(r'C:\\Users\\joneh\\master_thesis\\data\\time_series\\YahooFinance\\CL=F_20years.csv')\n",
    "\n",
    "display(df.head())\n"
   ]
  },
  {
   "cell_type": "markdown",
   "metadata": {},
   "source": [
    "### Fit model"
   ]
  },
  {
   "cell_type": "code",
   "execution_count": 15,
   "metadata": {},
   "outputs": [
    {
     "name": "stdout",
     "output_type": "stream",
     "text": [
      "                     Constant Mean - GARCH Model Results                      \n",
      "==============================================================================\n",
      "Dep. Variable:              Adj Close   R-squared:                       0.000\n",
      "Mean Model:             Constant Mean   Adj. R-squared:                  0.000\n",
      "Vol Model:                      GARCH   Log-Likelihood:               -15357.8\n",
      "Distribution:                  Normal   AIC:                           30723.6\n",
      "Method:            Maximum Likelihood   BIC:                           30748.6\n",
      "                                        No. Observations:                 3771\n",
      "Date:                Thu, Feb 22 2024   Df Residuals:                     3770\n",
      "Time:                        11:27:47   Df Model:                            1\n",
      "                               Mean Model                               \n",
      "========================================================================\n",
      "                 coef    std err          t      P>|t|  95.0% Conf. Int.\n",
      "------------------------------------------------------------------------\n",
      "mu            61.0622      0.632     96.681      0.000 [ 59.824, 62.300]\n",
      "                            Volatility Model                            \n",
      "========================================================================\n",
      "                 coef    std err          t      P>|t|  95.0% Conf. Int.\n",
      "------------------------------------------------------------------------\n",
      "omega          1.2775      0.200      6.401  1.543e-10 [  0.886,  1.669]\n",
      "alpha[1]       0.9800  8.976e-02     10.918  9.489e-28 [  0.804,  1.156]\n",
      "beta[1]        0.0200  8.800e-02      0.228      0.820 [ -0.152,  0.193]\n",
      "========================================================================\n",
      "\n",
      "Covariance estimator: robust\n"
     ]
    },
    {
     "name": "stderr",
     "output_type": "stream",
     "text": [
      "c:\\Users\\joneh\\anaconda3\\Lib\\site-packages\\arch\\__future__\\_utility.py:11: FutureWarning: \n",
      "The default for reindex is True. After September 2021 this will change to\n",
      "False. Set reindex to True or False to silence this message. Alternatively,\n",
      "you can use the import comment\n",
      "\n",
      "from arch.__future__ import reindexing\n",
      "\n",
      "to globally set reindex to True and silence this warning.\n",
      "\n",
      "  warnings.warn(\n"
     ]
    }
   ],
   "source": [
    "train, test = train_test_split(df['Adj Close'], test_size=0.25, shuffle=False)\n",
    "\n",
    "garch_model = arch_model(train, vol='Garch', p=1, q=1, dist='Normal')\n",
    "train_fit = garch_model.fit(disp='off')\n",
    "test_fit = train_fit.forecast(horizon=1)\n",
    "\n",
    "print(train_fit.summary())"
   ]
  },
  {
   "cell_type": "code",
   "execution_count": 18,
   "metadata": {},
   "outputs": [],
   "source": [
    "# plot the test data\n"
   ]
  }
 ],
 "metadata": {
  "kernelspec": {
   "display_name": "base",
   "language": "python",
   "name": "python3"
  },
  "language_info": {
   "codemirror_mode": {
    "name": "ipython",
    "version": 3
   },
   "file_extension": ".py",
   "mimetype": "text/x-python",
   "name": "python",
   "nbconvert_exporter": "python",
   "pygments_lexer": "ipython3",
   "version": "3.11.4"
  }
 },
 "nbformat": 4,
 "nbformat_minor": 2
}
