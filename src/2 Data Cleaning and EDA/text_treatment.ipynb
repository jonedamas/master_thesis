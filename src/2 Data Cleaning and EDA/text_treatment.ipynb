{
 "cells": [
  {
   "cell_type": "code",
   "execution_count": null,
   "metadata": {},
   "outputs": [],
   "source": [
    "import pandas as pd\n",
    "\n",
    "import os\n",
    "import sys\n",
    "from dotenv import load_dotenv\n",
    "\n",
    "load_dotenv()\n",
    "REPO_PATH =  os.getenv('REPO_PATH')\n",
    "sys.path.insert(0, rf'{REPO_PATH}src')\n",
    "\n",
    "from utils.main_utils import load_json"
   ]
  },
  {
   "cell_type": "markdown",
   "metadata": {},
   "source": [
    "### Merge headlines with stories"
   ]
  },
  {
   "cell_type": "code",
   "execution_count": null,
   "metadata": {},
   "outputs": [],
   "source": [
    "TOPIC = 'CEN'\n",
    "\n",
    "CUTOFF_DATE = '2023-04-12'\n",
    "\n",
    "text_df = pd.read_csv(\n",
    "    rf'{REPO_PATH}data\\raw_news_headlines\\EIKON_{TOPIC}_NEWS.csv'\n",
    ")\n",
    "story_dict = load_json(\n",
    "    rf'{REPO_PATH}data\\raw_news_stories\\EIKON_{TOPIC}_NEWS_FULL.json'\n",
    ")\n",
    "\n",
    "def remove_nan(df) -> pd.DataFrame:\n",
    "    df['fullStory'] = df['storyId'].map(story_dict)\n",
    "    return df.dropna(subset=['fullStory'])\n",
    "\n",
    "def remove_float(df) -> pd.DataFrame:\n",
    "    df[df['fullStory'].apply(lambda x: isinstance(x, str))]\n",
    "    df['date'] = pd.to_datetime(df['date'])\n",
    "    df.sort_values(by='date', inplace=True)\n",
    "    return df.reset_index(drop=True)\n",
    "\n",
    "def drop_duplicates(df) -> pd.DataFrame:\n",
    "    print(f'Duplicates removed: {df[\"fullStory\"].duplicated().sum()}')\n",
    "    return df.drop_duplicates(subset=['fullStory'])\n",
    "\n",
    "operations = {\n",
    "    'Stories after cutoff': lambda df: df[df['date'] > CUTOFF_DATE],\n",
    "    'Stories after removing NaN': lambda df: remove_nan(df),\n",
    "    'Stories after removing error': lambda df: df[df['fullStory'] != 'error'],\n",
    "    'Stories after removing float': lambda df: remove_float(df),\n",
    "    'Stories after removing duplicates': lambda df: drop_duplicates(df)\n",
    "}\n",
    "\n",
    "for key, function in operations.items():\n",
    "    text_df = function(text_df)\n",
    "    print(f'{key}: {text_df.shape[0]}')\n",
    "\n",
    "text_df.reset_index(drop=True, inplace=True)\n",
    "display(text_df.head())\n"
   ]
  },
  {
   "cell_type": "markdown",
   "metadata": {},
   "source": [
    "### Save data"
   ]
  },
  {
   "cell_type": "code",
   "execution_count": null,
   "metadata": {},
   "outputs": [],
   "source": [
    "text_df.to_json(\n",
    "    rf'{REPO_PATH}data\\news_data\\EIKON_{TOPIC}_NEWS_COMPLETE.json',\n",
    "    orient='records',\n",
    "    lines=True\n",
    ")\n",
    "\n",
    "print(F'Saved {text_df.shape[0]} unique stories to json.')"
   ]
  }
 ],
 "metadata": {
  "kernelspec": {
   "display_name": "base",
   "language": "python",
   "name": "python3"
  },
  "language_info": {
   "codemirror_mode": {
    "name": "ipython",
    "version": 3
   },
   "file_extension": ".py",
   "mimetype": "text/x-python",
   "name": "python",
   "nbconvert_exporter": "python",
   "pygments_lexer": "ipython3",
   "version": "3.11.4"
  }
 },
 "nbformat": 4,
 "nbformat_minor": 2
}
