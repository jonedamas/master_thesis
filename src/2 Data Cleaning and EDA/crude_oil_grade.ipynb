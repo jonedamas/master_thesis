{
 "cells": [
  {
   "cell_type": "code",
   "execution_count": null,
   "metadata": {},
   "outputs": [],
   "source": [
    "import pandas as pd\n",
    "import matplotlib.pyplot as plt\n",
    "import scienceplots\n",
    "\n",
    "import json\n",
    "\n",
    "import os\n",
    "from dotenv import load_dotenv\n",
    "\n",
    "load_dotenv()\n",
    "REPO_PATH = os.getenv('REPO_PATH')\n",
    "\n",
    "plt.style.use('science')"
   ]
  },
  {
   "cell_type": "code",
   "execution_count": null,
   "metadata": {},
   "outputs": [],
   "source": [
    "df = pd.read_excel(\n",
    "    rf'{REPO_PATH}data\\crude_grade_data/crude_oil_grades.xlsx'\n",
    ")\n",
    "\n",
    "with open(f'{REPO_PATH}data\\crude_grade_data/geo_data.json', 'r') as f:\n",
    "    included = json.load(f)\n",
    "\n",
    "df['API gravity'] = df['API gravity'].str.replace('°', '').astype(float)\n",
    "df['Sulphur content'] = df['Sulphur content'] * 100\n",
    "\n",
    "fig, ax = plt.subplots(figsize=(9, 6), dpi=200)\n",
    "\n",
    "filtered = df[df['Product name'].isin(included.keys())]\n",
    "\n",
    "filtered.plot(\n",
    "    kind='scatter',\n",
    "    x='API gravity',\n",
    "    y='Sulphur content',\n",
    "    ax=ax, \n",
    "    marker='^',\n",
    "    c = [included[i][0] for i in filtered['Product name']]\n",
    ")\n",
    "\n",
    "# add text labels\n",
    "for i, txt in enumerate(filtered['Product name']):\n",
    "    ax.annotate(txt + ', ' + included[txt][1], (\n",
    "        filtered['API gravity'].iloc[i] + 0.3, \n",
    "        filtered['Sulphur content'].iloc[i] + 0.04\n",
    "        ), fontsize=9\n",
    "    )\n",
    "ax.set_xlim(right=ax.get_xlim()[1] + 7)\n",
    "ax.set_ylim(top=ax.get_ylim()[1] + 0.2)\n",
    "ax.grid(alpha=0.2)\n",
    "# increase label size\n",
    "ax.set_xlabel('API gravity', fontsize=14)\n",
    "ax.set_ylabel(r'Sulphur content (\\%)', fontsize=14)\n",
    "\n",
    "fig.savefig(rf'images\\crude_oil_grades.png', bbox_inches='tight')"
   ]
  }
 ],
 "metadata": {
  "kernelspec": {
   "display_name": "base",
   "language": "python",
   "name": "python3"
  },
  "language_info": {
   "codemirror_mode": {
    "name": "ipython",
    "version": 3
   },
   "file_extension": ".py",
   "mimetype": "text/x-python",
   "name": "python",
   "nbconvert_exporter": "python",
   "pygments_lexer": "ipython3",
   "version": "3.11.4"
  }
 },
 "nbformat": 4,
 "nbformat_minor": 2
}
