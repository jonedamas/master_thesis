{
 "cells": [
  {
   "cell_type": "code",
   "execution_count": null,
   "metadata": {},
   "outputs": [],
   "source": [
    "import pandas as pd\n",
    "import numpy as np\n",
    "import matplotlib.pyplot as plt\n",
    "import scienceplots\n",
    "from statsmodels.graphics.tsaplots import plot_acf, plot_pacf\n",
    "import seaborn as sns\n",
    "\n",
    "from IPython.display import display, clear_output\n",
    "import warnings\n",
    "\n",
    "from scipy.stats import skew, kurtosis\n",
    "\n",
    "import os\n",
    "import sys\n",
    "from dotenv import load_dotenv\n",
    "\n",
    "load_dotenv()\n",
    "\n",
    "REPO_PATH = os.getenv('REPO_PATH')\n",
    "\n",
    "sys.path.insert(0, rf'{REPO_PATH}src')\n",
    "\n",
    "warnings.filterwarnings(\"ignore\")\n",
    "plt.style.use('science')"
   ]
  },
  {
   "cell_type": "code",
   "execution_count": null,
   "metadata": {},
   "outputs": [],
   "source": [
    "FUTURES = ['CLc1', 'LCOc1']\n",
    "\n",
    "dfs: dict[str, pd.DataFrame] = {\n",
    "    future: pd.read_csv(\n",
    "        rf'{REPO_PATH}data\\raw_futures_data\\{future}_High_Frequency.csv',\n",
    "        index_col='Date',\n",
    "        parse_dates=True\n",
    "    ) for future in FUTURES\n",
    "}"
   ]
  },
  {
   "cell_type": "markdown",
   "metadata": {},
   "source": [
    "### Price plot"
   ]
  },
  {
   "cell_type": "code",
   "execution_count": null,
   "metadata": {},
   "outputs": [],
   "source": [
    "LABELS = {\n",
    "    'CLc1': 'NYMEX WTI Crude (CLc1)',\n",
    "    'LCOc1': 'ICE Brent Crude (LCOc1)'\n",
    "}\n",
    "\n",
    "PALETTE = sns.color_palette('twilight', n_colors=2)\n",
    "\n",
    "fig, ax = plt.subplots(figsize=(10,5), dpi=200)\n",
    "for i, future in enumerate(FUTURES):\n",
    "    dfs[future]['CLOSE'].plot(\n",
    "        label=LABELS[future], \n",
    "        ax=ax, \n",
    "        lw=0.8, \n",
    "        color=PALETTE[i]\n",
    "    )\n",
    "\n",
    "ax.set_ylabel('Price (USD)', fontsize=14)\n",
    "ax.set_xlabel('Date', fontsize=14)\n",
    "ax.legend(frameon=False, loc='upper left', fontsize=13)\n",
    "ax.tick_params(axis='x', labelsize=14)\n",
    "ax.grid(alpha=0.2)\n",
    "\n",
    "fig.savefig('images/crude_oil_price.png', bbox_inches='tight')"
   ]
  },
  {
   "cell_type": "markdown",
   "metadata": {},
   "source": [
    "### Log returns analysis"
   ]
  },
  {
   "cell_type": "code",
   "execution_count": null,
   "metadata": {},
   "outputs": [],
   "source": [
    "fig, axs = plt.subplots(2, 1, figsize=(10,5), dpi=200, sharex=True)\n",
    "\n",
    "df_list = []\n",
    "for i, (key, df) in enumerate(dfs.items()):\n",
    "    logret = np.log(df['CLOSE']).diff()\n",
    "    logret_resampled = logret.resample('1D').sum() * 100\n",
    "    df = pd.DataFrame(logret_resampled.describe()).T\n",
    "    df['skew'] = skew(logret_resampled.dropna())\n",
    "    df['kurtosis'] = kurtosis(logret_resampled.dropna())\n",
    "    df.index = [LABELS[key]]\n",
    "    df_list.append(df.T)\n",
    "\n",
    "    axs[i].plot(logret * 100, lw=0.8, color=PALETTE[i], label=LABELS[key])\n",
    "    axs[i].set_ylabel('Log Return (\\%)', fontsize=16)\n",
    "    axs[i].legend(frameon=False, loc='upper left', fontsize=15)\n",
    "\n",
    "axs[-1].set_xlabel('Date', fontsize=16)\n",
    "fig.tight_layout(pad=-0.5)\n",
    "\n",
    "df = pd.concat(df_list, axis=1)\n",
    "\n",
    "display(df)\n",
    "\n",
    "fig.savefig('images/crude_oil_log_returns.png', bbox_inches='tight')"
   ]
  },
  {
   "cell_type": "markdown",
   "metadata": {},
   "source": [
    "### Volume plot"
   ]
  },
  {
   "cell_type": "code",
   "execution_count": null,
   "metadata": {},
   "outputs": [],
   "source": [
    "volume_df = pd.concat(\n",
    "    [\n",
    "        df['VOLUME'].resample('w').sum() \n",
    "        for df in dfs.values()\n",
    "    ], axis=1\n",
    ")\n",
    "\n",
    "volume_df.columns = LABELS.values()\n",
    "\n",
    "fig, ax = plt.subplots(figsize=(10,5), dpi=200)\n",
    "\n",
    "volume_df.plot(\n",
    "    kind='bar', \n",
    "    stacked=True, \n",
    "    ax=ax, \n",
    "    color=PALETTE, \n",
    "    width=0.8, \n",
    "    alpha=1\n",
    "    )\n",
    "\n",
    "ax.set_ylabel('Volume', fontsize=14)\n",
    "ax.set_xlabel('Date', fontsize=14)\n",
    "ax.legend(frameon=False, loc='upper left', fontsize=13)\n",
    "ax.tick_params(axis='x', labelsize=14)\n",
    "\n",
    "plt.xticks(\n",
    "    np.arange(0, len(volume_df), 4), \n",
    "    volume_df.index[np.arange(0, len(volume_df), 4)].strftime('%Y-%m'), \n",
    "    rotation=45\n",
    ")\n",
    "\n",
    "fig.savefig('images/crude_oil_volume_stacked.png', bbox_inches='tight')"
   ]
  },
  {
   "cell_type": "markdown",
   "metadata": {},
   "source": [
    "### Price last 20 years"
   ]
  },
  {
   "cell_type": "code",
   "execution_count": null,
   "metadata": {},
   "outputs": [],
   "source": [
    "df_CLc1_daily = pd.read_csv(\n",
    "    rf'{REPO_PATH}data\\raw_futures_data\\CLc1.csv',\n",
    "    index_col='Date',\n",
    "    parse_dates=True\n",
    ")\n",
    "df_LCOc1_daily = pd.read_csv(\n",
    "    rf'{REPO_PATH}data\\raw_futures_data\\LCOc1.csv',\n",
    "    index_col='Date',\n",
    "    parse_dates=True\n",
    ")\n",
    "\n",
    "fig, ax = plt.subplots(figsize=(10,4), dpi=200)\n",
    "\n",
    "df_CLc1_daily['CLOSE'].plot(label=LABELS['CLc1'], ax=ax, lw=0.6, color=PALETTE[0])\n",
    "df_LCOc1_daily['CLOSE'].plot(label=LABELS['LCOc1'], ax=ax, lw=0.6, color=PALETTE[1])\n",
    "ax.set_ylabel('Price (USD)', fontsize=14)\n",
    "ax.set_xlabel('Date', fontsize=14)\n",
    "ax.legend(frameon=False, loc='lower left', fontsize=13)\n",
    "ax.tick_params(axis='x', labelsize=12)\n",
    "ax.grid(alpha=0.2)\n",
    "ax.set_axisbelow(True)\n",
    "\n",
    "fig.savefig('images/crude_oil_price_daily.png', bbox_inches='tight')\n"
   ]
  }
 ],
 "metadata": {
  "kernelspec": {
   "display_name": "base",
   "language": "python",
   "name": "python3"
  },
  "language_info": {
   "codemirror_mode": {
    "name": "ipython",
    "version": 3
   },
   "file_extension": ".py",
   "mimetype": "text/x-python",
   "name": "python",
   "nbconvert_exporter": "python",
   "pygments_lexer": "ipython3",
   "version": "3.11.4"
  }
 },
 "nbformat": 4,
 "nbformat_minor": 2
}
