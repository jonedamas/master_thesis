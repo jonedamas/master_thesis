{
 "cells": [
  {
   "cell_type": "code",
   "execution_count": null,
   "metadata": {},
   "outputs": [],
   "source": [
    "import pandas as pd\n",
    "import numpy as np\n",
    "import seaborn as sns\n",
    "import matplotlib.pyplot as plt\n",
    "from scipy import stats\n",
    "import scienceplots\n",
    "\n",
    "import os\n",
    "import sys\n",
    "from dotenv import load_dotenv\n",
    "\n",
    "load_dotenv()\n",
    "REPO_PATH = os.getenv(\"REPO_PATH\")\n",
    "plt.style.use('science')\n",
    "\n",
    "# Import main utility functions\n",
    "sys.path.insert(0, rf'{REPO_PATH}src')\n",
    "from utils.main_utils import combload_topic_dfs"
   ]
  },
  {
   "cell_type": "markdown",
   "metadata": {},
   "source": [
    "### Load data"
   ]
  },
  {
   "cell_type": "code",
   "execution_count": null,
   "metadata": {},
   "outputs": [],
   "source": [
    "TOPICS = ['CRU', 'CWP', 'CEN']\n",
    "\n",
    "df = combload_topic_dfs(\n",
    "    TOPICS,\n",
    "    lambda topic: rf'{REPO_PATH}data\\sentiment_data\\{topic}_ARTICLE_SENTIMENT.csv'\n",
    ")\n",
    "\n",
    "display(df.head(2))\n",
    "display(df.shape)"
   ]
  },
  {
   "cell_type": "markdown",
   "metadata": {},
   "source": [
    "### Correlation between sentiment tool results"
   ]
  },
  {
   "cell_type": "code",
   "execution_count": null,
   "metadata": {},
   "outputs": [],
   "source": [
    "TOPIC = 'CWP'\n",
    "\n",
    "sent_df = df[df['topic'] == TOPIC]\n",
    "\n",
    "plot_pairs = [\n",
    "    ('TextBlob_headline', 'TextBlob_fullStory'),   # Top-left subplot\n",
    "    ('VADER_headline', 'VADER_fullStory'),         # Bottom-left subplot\n",
    "    ('TextBlob_headline', 'VADER_headline'),       # Top-right subplot\n",
    "    ('TextBlob_fullStory', 'VADER_fullStory')      # Bottom-right subplot\n",
    "]\n",
    "\n",
    "fig, axs = plt.subplots(2, 2, figsize=(10, 10), dpi=200)\n",
    "\n",
    "# Iterate over each pair of columns and their corresponding subplot axis\n",
    "for idx, (x_col, y_col) in enumerate(plot_pairs):\n",
    "    # Calculate row and column index for the subplot\n",
    "    row = idx // 2\n",
    "    col = idx % 2\n",
    "    # Plotting the scatter plot on the appropriate subplot\n",
    "    sent_df.plot.scatter(x=x_col, y=y_col, alpha=0.5, ax=axs[row, col], s=3)\n",
    "    # write correlation coefficient in top left corner\n",
    "    corr = sent_df[x_col].corr(sent_df[y_col])\n",
    "    axs[row, col].text(\n",
    "        0.05, 0.95, f'Corr: {corr:.2f}', \n",
    "        transform=axs[row, col].transAxes, \n",
    "        fontsize=14, verticalalignment='top', \n",
    "        bbox=dict(facecolor='white', alpha=1)\n",
    "    )\n",
    "\n",
    "    axs[row, col].tick_params(axis='both', which='major', labelsize=14)\n",
    "    axs[row, col].set_xlabel(x_col.replace('_', ' '), fontsize=16)\n",
    "    axs[row, col].set_ylabel(y_col.replace('_', ' '), fontsize=16)\n",
    "\n",
    "\n",
    "fig.tight_layout(pad=3.0)\n",
    "fig.savefig(\n",
    "    rf'{REPO_PATH}src_HF\\4 Sentiment Analysis\\images\\{TOPIC}_sentiment_correlation.png'\n",
    ")"
   ]
  },
  {
   "cell_type": "markdown",
   "metadata": {},
   "source": [
    "### Distributions"
   ]
  },
  {
   "cell_type": "code",
   "execution_count": null,
   "metadata": {},
   "outputs": [],
   "source": [
    "# sent_df.plot.scatter(x='TextBlob', y='VADER', alpha=0.5, s=1)\n",
    "\n",
    "fig, ax = plt.subplots(figsize=(9, 6))\n",
    "\n",
    "sent_df['TextBlob'].plot.hist(bins=100, alpha=0.5, label='TextBlob', ax=ax)\n",
    "sent_df['VADER'].plot.hist(bins=100, alpha=0.5, label='VADER', ax=ax)\n",
    "\n",
    "sent_df['compound'] = sent_df['VADER'] * 0.5 + sent_df['TextBlob'] * 0.5\n",
    "\n",
    "sent_df['compound'].plot.hist(bins=100, alpha=0.5, label='compound', ax=ax)\n",
    "\n",
    "ax.legend(fontsize=14)\n",
    "ax.set_xlabel('Sentiment score', fontsize=14)\n",
    "ax.set_ylabel('Frequency', fontsize=14)\n",
    "ax.tick_params(axis='both', which='major', labelsize=14)\n",
    "\n",
    "fig.savefig(rf'{REPO_PATH}src_HF\\3 Sentiment Analysis\\images', dpi=200, bbox_inches='tight')"
   ]
  }
 ],
 "metadata": {
  "kernelspec": {
   "display_name": "base",
   "language": "python",
   "name": "python3"
  },
  "language_info": {
   "codemirror_mode": {
    "name": "ipython",
    "version": 3
   },
   "file_extension": ".py",
   "mimetype": "text/x-python",
   "name": "python",
   "nbconvert_exporter": "python",
   "pygments_lexer": "ipython3",
   "version": "3.11.4"
  }
 },
 "nbformat": 4,
 "nbformat_minor": 2
}
