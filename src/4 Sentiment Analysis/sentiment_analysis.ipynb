{
 "cells": [
  {
   "cell_type": "code",
   "execution_count": null,
   "metadata": {},
   "outputs": [],
   "source": [
    "import seaborn as sns\n",
    "import matplotlib.pyplot as plt\n",
    "import scienceplots\n",
    "import warnings\n",
    "\n",
    "import os\n",
    "import sys\n",
    "from dotenv import load_dotenv\n",
    "\n",
    "load_dotenv()\n",
    "REPO_PATH = os.getenv(\"REPO_PATH\")\n",
    "plt.style.use('science')\n",
    "warnings.filterwarnings(\"ignore\")\n",
    "\n",
    "# Import main utility functions\n",
    "sys.path.insert(0, rf'{REPO_PATH}src')\n",
    "from utils.main_utils import combload_topic_dfs"
   ]
  },
  {
   "cell_type": "markdown",
   "metadata": {},
   "source": [
    "### Load data"
   ]
  },
  {
   "cell_type": "code",
   "execution_count": null,
   "metadata": {},
   "outputs": [],
   "source": [
    "TOPICS = ['CRU', 'CWP', 'CEN']\n",
    "\n",
    "df = combload_topic_dfs(\n",
    "    TOPICS,\n",
    "    lambda topic: rf'{REPO_PATH}data\\sentiment_data\\{topic}_ARTICLE_SENTIMENT.csv'\n",
    ")\n",
    "\n",
    "display(df.head(2))\n",
    "display(df.shape)"
   ]
  },
  {
   "cell_type": "markdown",
   "metadata": {},
   "source": [
    "### Correlation between sentiment tool results"
   ]
  },
  {
   "cell_type": "code",
   "execution_count": null,
   "metadata": {},
   "outputs": [],
   "source": [
    "TOPIC = 'CRU'\n",
    "\n",
    "colors = sns.color_palette('twilight', n_colors=2)\n",
    "\n",
    "sent_df = df[df['topic'] == TOPIC]\n",
    "\n",
    "plot_pairs = [\n",
    "    ('VADER_headline', 'VADER_fullStory'),      # Top-left subplot\n",
    "    ('TextBlob_headline', 'TextBlob_fullStory'),         # Bottom-left subplot\n",
    "    ('TextBlob_headline', 'VADER_headline'),       # Top-right subplot\n",
    "    ('TextBlob_fullStory', 'VADER_fullStory')      # Bottom-right subplot\n",
    "]\n",
    "\n",
    "fig, axs = plt.subplots(2, 2, figsize=(10, 6), dpi=200)\n",
    "\n",
    "# Iterate over each pair of columns and their corresponding subplot axis\n",
    "for idx, (x_col, y_col) in enumerate(plot_pairs):\n",
    "\n",
    "    row = idx // 2\n",
    "    col = idx % 2\n",
    "\n",
    "    sent_df.plot.scatter(\n",
    "        x=x_col, y=y_col, \n",
    "        alpha=0.5, \n",
    "        ax=axs[row, col], \n",
    "        s=3,\n",
    "        color=colors[idx] if idx < 2 else 'darkgray'\n",
    "    )\n",
    "\n",
    "    corr = sent_df[x_col].corr(sent_df[y_col])\n",
    "    axs[row, col].text(\n",
    "        0.05, 0.95, f'Corr: {corr:.2f}', \n",
    "        transform=axs[row, col].transAxes, \n",
    "        fontsize=14, verticalalignment='top', \n",
    "        bbox=dict(facecolor='white', alpha=1)\n",
    "    )\n",
    "\n",
    "    axs[row, col].tick_params(axis='both', which='major', labelsize=14)\n",
    "    axs[row, col].set_xlabel(x_col.replace('_', ' '), fontsize=16)\n",
    "    axs[row, col].set_ylabel(y_col.replace('_', ' '), fontsize=16)\n",
    "\n",
    "\n",
    "fig.tight_layout(pad=3.0)\n",
    "fig.savefig(rf'images\\{TOPIC}_sentiment_correlation.png')"
   ]
  },
  {
   "cell_type": "markdown",
   "metadata": {},
   "source": [
    "### Distributions"
   ]
  },
  {
   "cell_type": "code",
   "execution_count": null,
   "metadata": {},
   "outputs": [],
   "source": [
    "fig, axs = plt.subplots(2, 2, figsize=(10, 6), dpi=200)\n",
    "axs = axs.flatten()\n",
    "\n",
    "cols = ['VADER_headline', 'TextBlob_headline', 'VADER_fullStory', 'TextBlob_fullStory']\n",
    "\n",
    "for i, col in enumerate(cols):\n",
    "    sns.histplot(\n",
    "        sent_df[col], \n",
    "        ax=axs[i], \n",
    "        label=col, \n",
    "        binrange=(-1, 1), \n",
    "        bins=100, \n",
    "        stat='frequency',\n",
    "        color=colors[i % 2]\n",
    "    )\n",
    "    axs[i].set_xlabel('Sentiment score', fontsize=14)\n",
    "    axs[i].set_ylabel('Density', fontsize=14)\n",
    "    \n",
    "    # write VADER or textblob in top left corner\n",
    "    axs[i].text(\n",
    "        0.08, 0.9, col.replace('_', ' '),\n",
    "        transform=axs[i].transAxes, \n",
    "        fontsize=14, verticalalignment='center',\n",
    "    )\n",
    "\n",
    "    # add mean text\n",
    "    axs[i].text(\n",
    "        0.08, 0.8, f'Mean: {sent_df[col].mean():.3f}',\n",
    "        transform=axs[i].transAxes,\n",
    "        fontsize=14, verticalalignment='center'\n",
    "    )\n",
    "\n",
    "fig.tight_layout()\n",
    "fig.savefig(rf'images/{TOPIC}_sentiment_distributions')"
   ]
  }
 ],
 "metadata": {
  "kernelspec": {
   "display_name": "base",
   "language": "python",
   "name": "python3"
  },
  "language_info": {
   "codemirror_mode": {
    "name": "ipython",
    "version": 3
   },
   "file_extension": ".py",
   "mimetype": "text/x-python",
   "name": "python",
   "nbconvert_exporter": "python",
   "pygments_lexer": "ipython3",
   "version": "3.11.4"
  }
 },
 "nbformat": 4,
 "nbformat_minor": 2
}
