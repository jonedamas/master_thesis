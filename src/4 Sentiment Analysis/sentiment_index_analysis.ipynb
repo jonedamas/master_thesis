{
 "cells": [
  {
   "cell_type": "code",
   "execution_count": null,
   "metadata": {},
   "outputs": [],
   "source": [
    "\n",
    "import pandas as pd\n",
    "import matplotlib.pyplot as plt\n",
    "\n",
    "from tqdm.notebook import tqdm\n",
    "import scienceplots\n",
    "\n",
    "import os\n",
    "import sys\n",
    "from dotenv import load_dotenv\n",
    "\n",
    "load_dotenv()\n",
    "REPO_PATH = os.getenv(\"REPO_PATH\")\n",
    "\n",
    "# Import main utility functions\n",
    "sys.path.insert(0, rf'{REPO_PATH}src')\n",
    "plt.style.use('science')"
   ]
  },
  {
   "cell_type": "code",
   "execution_count": null,
   "metadata": {},
   "outputs": [],
   "source": [
    "FUTURES = ['CLc1', 'LCOc1']\n",
    "TOPICS = ['CRU', 'CWP', 'CEN']\n",
    "\n",
    "dfs = {\n",
    "    future: pd.read_csv(\n",
    "        os.path.join(\n",
    "            REPO_PATH,\n",
    "            'data',\n",
    "            'prepared_data',\n",
    "            f\"{future}_5min_resampled.csv\"\n",
    "        ),\n",
    "        index_col='date',\n",
    "        parse_dates=True\n",
    "    ) for future in FUTURES\n",
    "}\n",
    "\n",
    "df = dfs['CLc1']\n",
    "\n",
    "topic_names: dict[int, str] = {\n",
    "    0: 'Securities and Commodity Markets',\n",
    "    1: 'Interest Rates and Economic Policy',\n",
    "    2: 'Geopolitical Conflicts',\n",
    "    3: 'Banking and Finance',\n",
    "    4: 'Oil and Gas Production'\n",
    "}\n"
   ]
  },
  {
   "cell_type": "code",
   "execution_count": null,
   "metadata": {},
   "outputs": [],
   "source": [
    "CT_VADER = [col for col in df.columns if 'SI' in col and 'CT' in col and 'VADER' in col]\n",
    "\n",
    "\n",
    "fig, ax = plt.subplots(1, 1, figsize=(10, 5), dpi=200)\n",
    "ax2 = ax.twinx()\n",
    "\n",
    "top_num = [string.split('_')[1] for string in CT_VADER]\n",
    "labels = [topic_names[int(num)] for num in top_num]\n",
    "\n",
    "df[CT_VADER].rolling(288*3).mean().plot(ax=ax, lw=0.4)\n",
    "# add legend\n",
    "ax.legend(labels)\n"
   ]
  },
  {
   "cell_type": "code",
   "execution_count": null,
   "metadata": {},
   "outputs": [],
   "source": [
    "CT_textblob = [col for col in df.columns if 'SI' in col and 'CT' in col and 'TextBlob' in col]\n",
    "\n",
    "fig, ax = plt.subplots(1, 1, figsize=(10, 5), dpi=200)\n",
    "ax2 = ax.twinx()\n",
    "\n",
    "top_num = [string.split('_')[1] for string in CT_textblob]\n",
    "labels = [topic_names[int(num)] for num in top_num]\n",
    "\n",
    "df[CT_textblob].rolling(288*3).mean().plot(ax=ax, lw=0.4)\n",
    "# add legend\n",
    "ax.legend(labels)"
   ]
  }
 ],
 "metadata": {
  "kernelspec": {
   "display_name": "base",
   "language": "python",
   "name": "python3"
  },
  "language_info": {
   "codemirror_mode": {
    "name": "ipython",
    "version": 3
   },
   "file_extension": ".py",
   "mimetype": "text/x-python",
   "name": "python",
   "nbconvert_exporter": "python",
   "pygments_lexer": "ipython3",
   "version": "3.11.4"
  }
 },
 "nbformat": 4,
 "nbformat_minor": 2
}
