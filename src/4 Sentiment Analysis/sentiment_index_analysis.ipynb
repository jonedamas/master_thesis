{
 "cells": [
  {
   "cell_type": "code",
   "execution_count": null,
   "metadata": {},
   "outputs": [],
   "source": [
    "import pandas as pd\n",
    "import matplotlib.pyplot as plt\n",
    "import seaborn as sns\n",
    "\n",
    "from tqdm.notebook import tqdm\n",
    "import scienceplots\n",
    "\n",
    "import yaml\n",
    "import os\n",
    "import sys\n",
    "from dotenv import load_dotenv\n",
    "\n",
    "load_dotenv()\n",
    "REPO_PATH = os.getenv(\"REPO_PATH\")\n",
    "plt.style.use('science')\n",
    "\n",
    "# Import main utility functions\n",
    "sys.path.insert(0, rf'{REPO_PATH}src')\n",
    "from utils.main_utils import load_processed\n"
   ]
  },
  {
   "cell_type": "code",
   "execution_count": null,
   "metadata": {},
   "outputs": [],
   "source": [
    "FUTURES = ['CLc1', 'LCOc1']\n",
    "TOPICS = ['CRU', 'CWP', 'CEN']\n",
    "\n",
    "# Load the YAML variable config file\n",
    "with open(f'{REPO_PATH}variable_config.yaml', 'r') as file:\n",
    "    var_config = yaml.load(file, Loader=yaml.FullLoader)\n",
    "\n",
    "dfs = load_processed(FUTURES)\n",
    "\n",
    "df = dfs['CLc1']\n",
    "\n",
    "topic_names: dict[int, str] = {\n",
    "    0: 'Securities and Commodity Markets',\n",
    "    1: 'Interest Rates and Economic Policy',\n",
    "    2: 'Geopolitical Conflicts',\n",
    "    3: 'Banking and Finance',\n",
    "    4: 'Oil and Gas Production'\n",
    "}\n"
   ]
  },
  {
   "cell_type": "code",
   "execution_count": null,
   "metadata": {},
   "outputs": [],
   "source": [
    "CT_VADER = [tag for tag in var_config['SENT_CT'] if 'VADER' in tag]\n",
    "\n",
    "fig, ax = plt.subplots(1, 1, figsize=(10, 5), dpi=200)\n",
    "ax2 = ax.twinx()\n",
    "\n",
    "top_num = [string.split('_')[1] for string in CT_VADER]\n",
    "labels = [topic_names[int(num)] for num in top_num]\n",
    "\n",
    "df[CT_VADER].rolling(288*3).mean().plot(ax=ax, lw=0.4)\n",
    "# add legend\n",
    "ax.legend(labels)\n"
   ]
  },
  {
   "cell_type": "code",
   "execution_count": null,
   "metadata": {},
   "outputs": [],
   "source": [
    "CT_textblob = [tag for tag in var_config['SENT_CT'] if 'TextBlob' in tag]\n",
    "\n",
    "fig, ax = plt.subplots(1, 1, figsize=(10, 5), dpi=200)\n",
    "ax2 = ax.twinx()\n",
    "\n",
    "top_num = [string.split('_')[1] for string in CT_textblob]\n",
    "labels = [topic_names[int(num)] for num in top_num]\n",
    "\n",
    "df[CT_textblob].rolling(288*3).mean().plot(ax=ax, lw=0.4)\n",
    "# add legend\n",
    "ax.legend(labels)"
   ]
  },
  {
   "cell_type": "markdown",
   "metadata": {},
   "source": [
    "### Correlation matrix"
   ]
  },
  {
   "cell_type": "code",
   "execution_count": null,
   "metadata": {},
   "outputs": [],
   "source": [
    "# create a correlation matrix\n",
    "\n",
    "corr = df[var_config['SENT_CT']].corr()\n",
    "\n",
    "# use sns to create a heatmap\n",
    "fig, ax = plt.subplots(1, 1, figsize=(10, 10), dpi=200)\n",
    "sns.heatmap(corr, ax=ax, cmap='coolwarm_r', annot=True)\n",
    "fig.tight_layout()"
   ]
  }
 ],
 "metadata": {
  "kernelspec": {
   "display_name": "base",
   "language": "python",
   "name": "python3"
  },
  "language_info": {
   "codemirror_mode": {
    "name": "ipython",
    "version": 3
   },
   "file_extension": ".py",
   "mimetype": "text/x-python",
   "name": "python",
   "nbconvert_exporter": "python",
   "pygments_lexer": "ipython3",
   "version": "3.11.4"
  }
 },
 "nbformat": 4,
 "nbformat_minor": 2
}
