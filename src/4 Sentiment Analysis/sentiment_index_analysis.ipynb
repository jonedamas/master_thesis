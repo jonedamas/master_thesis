{
 "cells": [
  {
   "cell_type": "code",
   "execution_count": null,
   "metadata": {},
   "outputs": [],
   "source": [
    "import matplotlib.pyplot as plt\n",
    "import seaborn as sns\n",
    "\n",
    "from tqdm.notebook import tqdm\n",
    "import scienceplots\n",
    "\n",
    "import os\n",
    "import sys\n",
    "from dotenv import load_dotenv\n",
    "\n",
    "load_dotenv()\n",
    "REPO_PATH = os.getenv(\"REPO_PATH\")\n",
    "plt.style.use('science')\n",
    "\n",
    "# Import main utility functions\n",
    "sys.path.insert(0, rf'{REPO_PATH}src')\n",
    "from utils.main_utils import load_processed, load_variables"
   ]
  },
  {
   "cell_type": "code",
   "execution_count": null,
   "metadata": {},
   "outputs": [],
   "source": [
    "FUTURES = ['CLc1', 'LCOc1']\n",
    "\n",
    "VIEW = 2000\n",
    "\n",
    "dfs = load_processed(FUTURES)\n",
    "\n",
    "df = dfs['CLc1']\n",
    "\n",
    "var_config = load_variables()\n",
    "index_sets = {\n",
    "    'S1': var_config['S1'],\n",
    "    'S2': var_config['S2'],\n",
    "    'S3': var_config['S3'],\n",
    "    'S4': var_config['S4']\n",
    "}\n",
    "\n",
    "colors = sns.color_palette('bright', n_colors=5)\n",
    "\n",
    "fig, axs = plt.subplots(2, 2, figsize=(10, 7), dpi=200, sharex=True)\n",
    "axs = axs.flatten()\n",
    "\n",
    "for i, (key, fetaures) in enumerate(index_sets.items()):\n",
    "    ix_df = df[fetaures][-5500:VIEW-5500]\n",
    "    ix_df.plot(ax=axs[i], color=colors, lw=0.8)\n",
    "\n",
    "    axs[i].legend(loc='upper left', ncols=2, fontsize=10)\n",
    "    axs[i].set_ylim(top=1.5 * axs[i].get_ylim()[1])\n",
    "    axs[i].set_ylabel('Sentiment Intensity', fontsize=12)\n",
    "\n",
    "fig.tight_layout(h_pad=-0.16)\n",
    "\n",
    "fig.savefig(f'images/sentiment_indices.png')"
   ]
  }
 ],
 "metadata": {
  "kernelspec": {
   "display_name": "base",
   "language": "python",
   "name": "python3"
  },
  "language_info": {
   "codemirror_mode": {
    "name": "ipython",
    "version": 3
   },
   "file_extension": ".py",
   "mimetype": "text/x-python",
   "name": "python",
   "nbconvert_exporter": "python",
   "pygments_lexer": "ipython3",
   "version": "3.11.4"
  }
 },
 "nbformat": 4,
 "nbformat_minor": 2
}
