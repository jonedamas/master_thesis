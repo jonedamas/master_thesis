{
 "cells": [
  {
   "cell_type": "code",
   "execution_count": 31,
   "metadata": {},
   "outputs": [],
   "source": [
    "from transformers import BertTokenizer, BertForSequenceClassification\n",
    "import numpy as np\n",
    "import yfinance as yf\n",
    "import pandas as pd\n",
    "import datetime as dt\n",
    "import requests\n",
    "from bs4 import BeautifulSoup\n",
    "import nltk\n",
    "from tqdm import tqdm\n",
    "\n",
    "from finBERT_functions import *"
   ]
  },
  {
   "cell_type": "code",
   "execution_count": 37,
   "metadata": {},
   "outputs": [
    {
     "name": "stderr",
     "output_type": "stream",
     "text": [
      " 12%|█▎        | 1/8 [00:03<00:21,  3.08s/it]"
     ]
    },
    {
     "name": "stdout",
     "output_type": "stream",
     "text": [
      "{'date': datetime.datetime(2023, 11, 1, 16, 8, 19), 'title': \"Biden's AI order is massive, but far from enough to address the technology's risks\", 'link': 'https://finance.yahoo.com/news/bidens-ai-order-is-massive-but-far-from-enough-to-address-the-technologys-risks-150819906.html', 0: 0.7619047619047619, 1: 0.14285714285714285, 2: 0.09523809523809523}\n"
     ]
    },
    {
     "name": "stderr",
     "output_type": "stream",
     "text": [
      " 25%|██▌       | 2/8 [00:03<00:08,  1.46s/it]"
     ]
    },
    {
     "name": "stdout",
     "output_type": "stream",
     "text": [
      "{'date': datetime.datetime(2023, 11, 1, 15, 45), 'title': '2 Media Stocks Rivaling Netflix to Buy Hand Over Fist', 'link': 'https://finance.yahoo.com/m/a37b15d3-c29e-3e54-846b-9cf2634045d1/2-media-stocks-rivaling.html', 1: 1.0}\n"
     ]
    },
    {
     "name": "stderr",
     "output_type": "stream",
     "text": [
      " 50%|█████     | 4/8 [00:09<00:11,  2.89s/it]"
     ]
    },
    {
     "name": "stdout",
     "output_type": "stream",
     "text": [
      "{'date': datetime.datetime(2023, 11, 1, 14, 21, 40), 'title': \"The 'Magnificent Seven' stock market leaders went their separate ways in October\", 'link': 'https://finance.yahoo.com/news/the-magnificent-seven-stock-market-leaders-went-their-separate-ways-in-october-132140735.html', 2: 0.5, 1: 0.42857142857142855, 0: 0.07142857142857142}\n"
     ]
    },
    {
     "name": "stderr",
     "output_type": "stream",
     "text": [
      "100%|██████████| 8/8 [00:16<00:00,  2.00s/it]"
     ]
    },
    {
     "name": "stdout",
     "output_type": "stream",
     "text": [
      "{'date': datetime.datetime(2023, 11, 1, 12, 0, 17), 'title': 'Former Google CEO Eric Schmidt Bets AI Will Shake Up\\xa0Scientific Research', 'link': 'https://finance.yahoo.com/news/former-google-ceo-eric-schmidt-110017770.html', 0: 1.0}\n"
     ]
    },
    {
     "name": "stderr",
     "output_type": "stream",
     "text": [
      "\n"
     ]
    },
    {
     "data": {
      "text/html": [
       "<div>\n",
       "<style scoped>\n",
       "    .dataframe tbody tr th:only-of-type {\n",
       "        vertical-align: middle;\n",
       "    }\n",
       "\n",
       "    .dataframe tbody tr th {\n",
       "        vertical-align: top;\n",
       "    }\n",
       "\n",
       "    .dataframe thead th {\n",
       "        text-align: right;\n",
       "    }\n",
       "</style>\n",
       "<table border=\"1\" class=\"dataframe\">\n",
       "  <thead>\n",
       "    <tr style=\"text-align: right;\">\n",
       "      <th></th>\n",
       "      <th>title</th>\n",
       "      <th>link</th>\n",
       "      <th>0</th>\n",
       "      <th>1</th>\n",
       "      <th>2</th>\n",
       "    </tr>\n",
       "  </thead>\n",
       "  <tbody>\n",
       "    <tr>\n",
       "      <th>2023-11-01 16:08:19</th>\n",
       "      <td>Biden's AI order is massive, but far from enou...</td>\n",
       "      <td>https://finance.yahoo.com/news/bidens-ai-order...</td>\n",
       "      <td>0.761905</td>\n",
       "      <td>0.142857</td>\n",
       "      <td>0.095238</td>\n",
       "    </tr>\n",
       "    <tr>\n",
       "      <th>2023-11-01 15:45:00</th>\n",
       "      <td>2 Media Stocks Rivaling Netflix to Buy Hand Ov...</td>\n",
       "      <td>https://finance.yahoo.com/m/a37b15d3-c29e-3e54...</td>\n",
       "      <td>NaN</td>\n",
       "      <td>1.000000</td>\n",
       "      <td>NaN</td>\n",
       "    </tr>\n",
       "    <tr>\n",
       "      <th>2023-11-01 14:21:40</th>\n",
       "      <td>The 'Magnificent Seven' stock market leaders w...</td>\n",
       "      <td>https://finance.yahoo.com/news/the-magnificent...</td>\n",
       "      <td>0.071429</td>\n",
       "      <td>0.428571</td>\n",
       "      <td>0.500000</td>\n",
       "    </tr>\n",
       "    <tr>\n",
       "      <th>2023-11-01 12:00:17</th>\n",
       "      <td>Former Google CEO Eric Schmidt Bets AI Will Sh...</td>\n",
       "      <td>https://finance.yahoo.com/news/former-google-c...</td>\n",
       "      <td>1.000000</td>\n",
       "      <td>NaN</td>\n",
       "      <td>NaN</td>\n",
       "    </tr>\n",
       "  </tbody>\n",
       "</table>\n",
       "</div>"
      ],
      "text/plain": [
       "                                                                 title  \\\n",
       "2023-11-01 16:08:19  Biden's AI order is massive, but far from enou...   \n",
       "2023-11-01 15:45:00  2 Media Stocks Rivaling Netflix to Buy Hand Ov...   \n",
       "2023-11-01 14:21:40  The 'Magnificent Seven' stock market leaders w...   \n",
       "2023-11-01 12:00:17  Former Google CEO Eric Schmidt Bets AI Will Sh...   \n",
       "\n",
       "                                                                  link  \\\n",
       "2023-11-01 16:08:19  https://finance.yahoo.com/news/bidens-ai-order...   \n",
       "2023-11-01 15:45:00  https://finance.yahoo.com/m/a37b15d3-c29e-3e54...   \n",
       "2023-11-01 14:21:40  https://finance.yahoo.com/news/the-magnificent...   \n",
       "2023-11-01 12:00:17  https://finance.yahoo.com/news/former-google-c...   \n",
       "\n",
       "                            0         1         2  \n",
       "2023-11-01 16:08:19  0.761905  0.142857  0.095238  \n",
       "2023-11-01 15:45:00       NaN  1.000000       NaN  \n",
       "2023-11-01 14:21:40  0.071429  0.428571  0.500000  \n",
       "2023-11-01 12:00:17  1.000000       NaN       NaN  "
      ]
     },
     "metadata": {},
     "output_type": "display_data"
    }
   ],
   "source": [
    "ticker_news = yf.Ticker(\"GOOG\").news\n",
    "\n",
    "dict_list = []\n",
    "\n",
    "labels = {0:'neutral', 1:'positive', 2:'negative'}\n",
    "\n",
    "for news in tqdm(ticker_news):\n",
    "    timestamp = news['providerPublishTime']\n",
    "    datetime = dt.datetime.fromtimestamp(timestamp)\n",
    "\n",
    "    url = news['link']\n",
    "    response = requests.get(url)\n",
    "\n",
    "    if response.status_code != 200:\n",
    "        continue\n",
    "\n",
    "    soup = BeautifulSoup(response.text, 'html.parser')\n",
    "    \n",
    "\n",
    "    article = soup.find('div', class_='caas-body').text\n",
    "\n",
    "    # tokenize the article as sentences\n",
    "    sentences = nltk.sent_tokenize(article)\n",
    "\n",
    "    news_dict = {\n",
    "        'date': datetime,\n",
    "        'title': news['title'],\n",
    "        'link': news['link'],\n",
    "    }\n",
    "\n",
    "    news_dict.update(get_sentiment(sentences))\n",
    "\n",
    "    dict_list.append(news_dict)\n",
    "\n",
    "    print(news_dict)\n",
    "\n",
    "df = pd.DataFrame(dict_list, index=[x['date'] for x in dict_list]).drop(columns=['date'])\n",
    "\n",
    "display(df)"
   ]
  }
 ],
 "metadata": {
  "kernelspec": {
   "display_name": "base",
   "language": "python",
   "name": "python3"
  },
  "language_info": {
   "codemirror_mode": {
    "name": "ipython",
    "version": 3
   },
   "file_extension": ".py",
   "mimetype": "text/x-python",
   "name": "python",
   "nbconvert_exporter": "python",
   "pygments_lexer": "ipython3",
   "version": "3.11.4"
  }
 },
 "nbformat": 4,
 "nbformat_minor": 2
}
