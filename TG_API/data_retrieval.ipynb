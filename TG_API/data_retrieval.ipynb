{
 "cells": [
  {
   "cell_type": "code",
   "execution_count": 30,
   "metadata": {},
   "outputs": [],
   "source": [
    "import requests\n",
    "import json\n",
    "import time\n",
    "import pandas as pd\n",
    "\n",
    "from tqdm import tqdm\n",
    "from datetime import datetime\n",
    "\n",
    "def clean_date(date_str: str) -> datetime:\n",
    "    date_time_obj = datetime.strptime(date_str.replace('Z', '+00:00'), \"%Y-%m-%dT%H:%M:%S%z\")\n",
    "    return date_time_obj\n",
    "\n",
    "def query_url(page: int, API_KEY: str) -> str:\n",
    "    URL = f'https://content.guardianapis.com/search?from-date=2003-12-31&to-date=2023-12-31&order-by=newest&page={page}&page-size=200&q=Crude%20AND%20Oil&api-key={API_KEY}'\n",
    "    return URL\n",
    "\n",
    "# retrieve API KEY from file\n",
    "with open('API_KEY.txt', 'r') as file:\n",
    "    API_KEY = file.read()\n"
   ]
  },
  {
   "cell_type": "markdown",
   "metadata": {},
   "source": [
    "## Data retrieval - The Guardian API"
   ]
  },
  {
   "cell_type": "code",
   "execution_count": 35,
   "metadata": {},
   "outputs": [
    {
     "name": "stderr",
     "output_type": "stream",
     "text": [
      "100%|██████████| 35/35 [00:29<00:00,  1.21it/s]\n"
     ]
    }
   ],
   "source": [
    "archive = []\n",
    "\n",
    "first_page = requests.get(query_url(1, API_KEY)).json()\n",
    "pages = first_page['response']['pages']\n",
    "archive.extend(first_page['response']['results'])\n",
    "\n",
    "for page in tqdm(range(2, pages + 1)):\n",
    "    URL = query_url(page, API_KEY)\n",
    "    response = requests.get(URL).json()\n",
    "\n",
    "    if response['response']['status'] != 'ok':\n",
    "        print(f'Error at page {page}')\n",
    "        continue\n",
    "        \n",
    "    article_list = response['response']['results']\n",
    "\n",
    "    archive.extend(article_list)\n",
    "\n",
    "df = pd.DataFrame(archive)\n",
    "\n",
    "# add datetime column\n",
    "df['datetime'] = df['webPublicationDate'].apply(clean_date)\n"
   ]
  },
  {
   "cell_type": "markdown",
   "metadata": {},
   "source": [
    "### Save dataset to folder"
   ]
  },
  {
   "cell_type": "code",
   "execution_count": 36,
   "metadata": {},
   "outputs": [],
   "source": [
    "df.to_csv('data/complete_data.csv', index=False)"
   ]
  }
 ],
 "metadata": {
  "kernelspec": {
   "display_name": "base",
   "language": "python",
   "name": "python3"
  },
  "language_info": {
   "codemirror_mode": {
    "name": "ipython",
    "version": 3
   },
   "file_extension": ".py",
   "mimetype": "text/x-python",
   "name": "python",
   "nbconvert_exporter": "python",
   "pygments_lexer": "ipython3",
   "version": "3.11.4"
  }
 },
 "nbformat": 4,
 "nbformat_minor": 2
}
