{
 "cells": [
  {
   "cell_type": "code",
   "execution_count": 1,
   "metadata": {},
   "outputs": [],
   "source": [
    "import pandas as pd\n",
    "from newspaper import Article\n",
    "from tqdm import tqdm\n",
    "\n",
    "from utils import *"
   ]
  },
  {
   "cell_type": "markdown",
   "metadata": {},
   "source": [
    "#### Google news URL extraction"
   ]
  },
  {
   "cell_type": "code",
   "execution_count": 2,
   "metadata": {},
   "outputs": [
    {
     "name": "stderr",
     "output_type": "stream",
     "text": [
      " 61%|██████▏   | 57/93 [00:48<00:40,  1.13s/it]C:\\Users\\joneh\\AppData\\Roaming\\Python\\Python311\\site-packages\\dateutil\\parser\\_parser.py:1207: UnknownTimezoneWarning: tzname IST identified but not understood.  Pass `tzinfos` argument in order to correctly return a timezone-aware datetime.  In a future version, this will raise an exception.\n",
      "  warnings.warn(\"tzname {tzname} identified but not understood.  \"\n",
      " 74%|███████▍  | 69/93 [00:59<00:14,  1.66it/s]"
     ]
    }
   ],
   "source": [
    "# URL of Google News \"Crude Oil\" search\n",
    "url = 'https://news.google.com/search?q=crude%20oil&hl=no&gl=NO&ceid=NO%3Ano'\n",
    "\n",
    "# Get list of article url's from Google News\n",
    "article_list = get_url_gnews(url)\n",
    "\n",
    "# Get article information from url's\n",
    "df = create_news_df(article_list)\n",
    "\n",
    "pd.set_option('display.max_rows', None)\n",
    "display(df)\n",
    "\n",
    "# save df to .json with indent\n",
    "df.to_json('data.json', indent=1)\n"
   ]
  }
 ],
 "metadata": {
  "kernelspec": {
   "display_name": "base",
   "language": "python",
   "name": "python3"
  },
  "language_info": {
   "codemirror_mode": {
    "name": "ipython",
    "version": 3
   },
   "file_extension": ".py",
   "mimetype": "text/x-python",
   "name": "python",
   "nbconvert_exporter": "python",
   "pygments_lexer": "ipython3",
   "version": "3.11.4"
  }
 },
 "nbformat": 4,
 "nbformat_minor": 2
}
