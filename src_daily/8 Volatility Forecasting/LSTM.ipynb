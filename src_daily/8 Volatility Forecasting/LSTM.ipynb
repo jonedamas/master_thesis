{
 "cells": [
  {
   "cell_type": "code",
   "execution_count": null,
   "metadata": {},
   "outputs": [],
   "source": [
    "import pandas as pd\n",
    "import numpy as np\n",
    "import matplotlib.pyplot as plt\n",
    "\n",
    "from sklearn.preprocessing import MinMaxScaler\n",
    "from sklearn.model_selection import train_test_split\n",
    "from sklearn.metrics import mean_squared_error\n",
    "\n",
    "from tensorflow.keras.models import Sequential\n",
    "from tensorflow.keras.layers import Dense, LSTM, Dropout, GRU, Bidirectional\n",
    "import yfinance as yf\n",
    "\n",
    "import warnings\n",
    "\n",
    "warnings.filterwarnings(\"ignore\")"
   ]
  },
  {
   "cell_type": "markdown",
   "metadata": {},
   "source": [
    "## Importing data"
   ]
  },
  {
   "cell_type": "code",
   "execution_count": null,
   "metadata": {},
   "outputs": [],
   "source": [
    "df = pd.read_csv(r'C:\\Users\\joneh\\master_thesis\\data\\time_series\\CLc1_processed.csv')\n",
    "\n",
    "df"
   ]
  },
  {
   "cell_type": "markdown",
   "metadata": {},
   "source": [
    "## Create model"
   ]
  },
  {
   "cell_type": "code",
   "execution_count": null,
   "metadata": {},
   "outputs": [],
   "source": [
    "scaler = MinMaxScaler(feature_range=(0, 1))\n",
    "scaled_data = scaler.fit_transform(data.values.reshape(-1,1))\n",
    "\n",
    "y = data[['std_one_day', 'std_two_day']].values\n",
    "X = data.drop(['Adj Close', 'Log Returns'], axis=1).values\n",
    "\n",
    "# Convert the x and y to numpy arrays\n",
    "X, y = np.array(X), np.array(y)\n",
    "\n",
    "# Split the data into training and testing sets\n",
    "X_train, X_test, y_train, y_test = train_test_split(X, y, test_size=0.2)\n",
    "\n",
    "# Reshape the data into the shape accepted by the LSTM\n",
    "X_train = np.reshape(X_train, (X_train.shape[0], X_train.shape[1], 1))\n",
    "X_test = np.reshape(X_test, (X_test.shape[0], X_test.shape[1], 1))\n",
    "\n",
    "# Build the LSTM model\n",
    "model = Sequential()\n",
    "model.add(LSTM(50, return_sequences=True, input_shape=(X_train.shape[1], 1)))\n",
    "model.add(LSTM(50, return_sequences=False))\n",
    "model.add(Dense(25))\n",
    "model.add(Dense(1))\n",
    "\n",
    "# Compile the model\n",
    "model.compile(optimizer='adam', loss='mean_squared_error')\n",
    "\n",
    "# Train the model\n",
    "history = model.fit(X_train, y_train, batch_size=1, epochs=20)\n",
    "\n",
    "# Test the model\n",
    "predictions = model.predict(X_test)\n",
    "\n",
    "train_loss = history.history['loss']\n",
    "\n",
    "fig, ax = plt.subplots(figsize=(7, 5))\n",
    "ax.plot(train_loss, label='Training loss')\n",
    "ax.legend(loc='best')\n",
    "ax.set_title('Mean Squared Error Loss')\n",
    "ax.grid(alpha=0.3)\n",
    "plt.show()\n"
   ]
  },
  {
   "cell_type": "code",
   "execution_count": null,
   "metadata": {},
   "outputs": [],
   "source": [
    "# convert y_test to dataframe for plotting\n",
    "display(pd.DataFrame(y_test, columns=['std_one_day', 'std_two_day']))\n",
    "\n",
    "results_one_day = pd.DataFrame({'Actual': y_test[0].flatten(), 'Predictions': predictions[0].flatten()})\n",
    "results_two_day = pd.DataFrame({'Actual': y_test[1].flatten(), 'Predictions': predictions[1].flatten()})\n",
    "\n",
    "display(results_one_day)\n",
    "\n",
    "# Plot predictions and actual values\n",
    "fig, ax = plt.subplots(figsize=(10,6))\n",
    "results_one_day[:50].plot(ax=ax)\n",
    "results_two_day[:50].plot(ax=ax)\n",
    "ax.plot()\n",
    "ax.set_title('Volatility Prediction')\n",
    "ax.set_xlabel('Date')\n",
    "ax.set_ylabel('Stock Price')\n",
    "ax.legend()\n",
    "\n",
    "\n",
    "mse = mean_squared_error(y_test, predictions)\n",
    "print('MSE: ', mse)\n"
   ]
  }
 ],
 "metadata": {
  "kernelspec": {
   "display_name": "base",
   "language": "python",
   "name": "python3"
  },
  "language_info": {
   "codemirror_mode": {
    "name": "ipython",
    "version": 3
   },
   "file_extension": ".py",
   "mimetype": "text/x-python",
   "name": "python",
   "nbconvert_exporter": "python",
   "pygments_lexer": "ipython3",
   "version": "3.11.4"
  }
 },
 "nbformat": 4,
 "nbformat_minor": 2
}
