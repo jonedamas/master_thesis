{
 "cells": [
  {
   "cell_type": "code",
   "execution_count": null,
   "metadata": {},
   "outputs": [],
   "source": [
    "import pandas as pd\n",
    "import numpy as np\n",
    "import seaborn as sns\n",
    "import matplotlib.pyplot as plt\n",
    "from scipy import stats\n",
    "from arch import arch_model\n",
    "import yfinance as yf\n",
    "\n",
    "import sys\n",
    "import warnings\n",
    "\n",
    "warnings.filterwarnings(\"ignore\")\n",
    "\n",
    "# Import main utility functions\n",
    "sys.path.insert(0, r'c:\\Users\\joneh\\master_thesis\\src')\n",
    "\n",
    "from main_utils import *        # main utilities\n",
    "from db_utils import *          # database utilities"
   ]
  },
  {
   "cell_type": "code",
   "execution_count": null,
   "metadata": {},
   "outputs": [],
   "source": [
    "futures_data = pd.read_csv(r'c:\\Users\\joneh\\master_thesis\\data\\time_series\\TSA_data.csv', index_col=0)\n",
    "\n",
    "news_df = news_db_load('news_filtered')\n",
    "news_df.drop(columns=['Unnamed: 0'], inplace=True)\n",
    "\n",
    "vol_dict = {}\n",
    "\n",
    "for time, row in news_df[20:1000].iterrows():\n",
    "    date = time.date()\n",
    "\n",
    "    today_index = futures_data.index.get_loc(str(date))\n",
    "    index_range = futures_data.index[today_index-10:today_index+10]\n",
    "\n",
    "    vol_dict[row['article_id']] = [futures_data['cond_vol'][i] for i in index_range]\n",
    "    \n",
    "\n",
    "res_df = pd.DataFrame(vol_dict, index=range(-10, 10))\n",
    "\n",
    "display(res_df.head)"
   ]
  },
  {
   "cell_type": "code",
   "execution_count": null,
   "metadata": {},
   "outputs": [],
   "source": [
    "# plot\n",
    "fig, ax = plt.subplots(figsize=(7, 4))\n",
    "\n",
    "res_df.plot(ax=ax, lw=0.2, legend=False)\n",
    "res_df.mean(axis=1).plot(ax=ax, lw=2, color='black', label='Mean')\n",
    "ax.axvline(0, color='black', lw=0.5, ls='--')"
   ]
  }
 ],
 "metadata": {
  "kernelspec": {
   "display_name": "base",
   "language": "python",
   "name": "python3"
  },
  "language_info": {
   "codemirror_mode": {
    "name": "ipython",
    "version": 3
   },
   "file_extension": ".py",
   "mimetype": "text/x-python",
   "name": "python",
   "nbconvert_exporter": "python",
   "pygments_lexer": "ipython3",
   "version": "3.11.4"
  }
 },
 "nbformat": 4,
 "nbformat_minor": 2
}
