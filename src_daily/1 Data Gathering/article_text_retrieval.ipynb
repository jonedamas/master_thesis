{
 "cells": [
  {
   "cell_type": "code",
   "execution_count": null,
   "metadata": {},
   "outputs": [],
   "source": [
    "import sys\n",
    "import warnings\n",
    "from newspaper import Article\n",
    "from tqdm import tqdm\n",
    "from textblob import TextBlob\n",
    "\n",
    "from nltk.sentiment.vader import SentimentIntensityAnalyzer\n",
    "\n",
    "from nltk.corpus import stopwords\n",
    "\n",
    "\n",
    "warnings.filterwarnings(\"ignore\")\n",
    "\n",
    "# Import main utility functions\n",
    "sys.path.insert(0, r'c:\\Users\\joneh\\master_thesis\\src')\n",
    "from main_utils import *\n",
    "from db_utils import *"
   ]
  },
  {
   "cell_type": "code",
   "execution_count": null,
   "metadata": {},
   "outputs": [],
   "source": [
    "news_df = news_db_load('news')\n"
   ]
  },
  {
   "cell_type": "code",
   "execution_count": null,
   "metadata": {},
   "outputs": [],
   "source": [
    "text_dict = {}\n",
    "\n",
    "i = 0\n",
    "for index, row in tqdm(news_df.iterrows(), nrows=len(news_df)):\n",
    "    url = row['web_url']\n",
    "    id = row['article_id']\n",
    "    article = Article(url)\n",
    "\n",
    "    # print article text\n",
    "    article.download()\n",
    "    article.parse()\n",
    "    \n",
    "    text_dict[id] = article.text\n",
    "\n",
    "    i += 1\n",
    "\n",
    "    if i > 2000:\n",
    "        break\n"
   ]
  },
  {
   "cell_type": "code",
   "execution_count": null,
   "metadata": {},
   "outputs": [],
   "source": [
    "text_df = pd.DataFrame.from_dict(text_dict, orient='index', columns=['text'])\n",
    "\n",
    "# use textblob to get sentiment\n",
    "text_df[['polarity', 'subjectivity']] = text_df['text'].apply(lambda x: pd.Series(TextBlob(x).sentiment))\n",
    "\n",
    "# use nltk to get sentiment\n",
    "sia = SentimentIntensityAnalyzer()\n",
    "text_df['SIA_sentiment'] = text_df['text'].apply(lambda x: sia.polarity_scores(x)['compound'])"
   ]
  },
  {
   "cell_type": "code",
   "execution_count": null,
   "metadata": {},
   "outputs": [],
   "source": [
    "\n",
    "fig = text_df['polarity'].hist(bins=100)\n",
    "\n",
    "# set x-lim to -1 and 1\n",
    "fig.set_xlim(-1, 1)"
   ]
  },
  {
   "cell_type": "code",
   "execution_count": null,
   "metadata": {},
   "outputs": [],
   "source": [
    "# get the 5 most negative articles\n",
    "print(text_df.sort_values(by='polarity', ascending=False).head(5)['text'].values)"
   ]
  }
 ],
 "metadata": {
  "kernelspec": {
   "display_name": "base",
   "language": "python",
   "name": "python3"
  },
  "language_info": {
   "codemirror_mode": {
    "name": "ipython",
    "version": 3
   },
   "file_extension": ".py",
   "mimetype": "text/x-python",
   "name": "python",
   "nbconvert_exporter": "python",
   "pygments_lexer": "ipython3",
   "version": "3.11.4"
  }
 },
 "nbformat": 4,
 "nbformat_minor": 2
}
