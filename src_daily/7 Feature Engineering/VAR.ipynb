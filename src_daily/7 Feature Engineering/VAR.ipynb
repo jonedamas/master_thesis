{
 "cells": [
  {
   "cell_type": "code",
   "execution_count": null,
   "metadata": {},
   "outputs": [],
   "source": [
    "import numpy as np\n",
    "import pandas as pd\n",
    "import matplotlib.pyplot as plt\n",
    "import yfinance as yf\n",
    "import networkx as nx\n",
    "\n",
    "from statsmodels.tsa.vector_ar.var_model import VAR\n",
    "\n",
    "import warnings\n",
    "warnings.filterwarnings('ignore')"
   ]
  },
  {
   "cell_type": "markdown",
   "metadata": {},
   "source": [
    "# VAR - Vector Autoregression\n",
    "\n",
    "$$\n",
    "\\mathbf{y}_t=\\sum_{p=1}^P\\mathbf{B}_p\\mathbf{y}_{t-p}+\\mathbf{e}_t\n",
    "$$\n",
    "\n",
    "$$\n",
    "\\mathbf{Y}=\\mathbf{X}\\mathbf{B}+\\mathbf{E}\n",
    "$$"
   ]
  },
  {
   "cell_type": "code",
   "execution_count": null,
   "metadata": {},
   "outputs": [],
   "source": [
    "# get some comodity data\n",
    "\n",
    "tickers = ['BZ=F', 'CL=F', 'GC=F']\n",
    "\n",
    "# Download data\n",
    "df = yf.download(tickers, period='7d', interval='1m')['Adj Close']\n",
    "\n",
    "# rename columns\n",
    "df.columns = ['Brent', 'WTI', 'Gold']\n",
    "\n",
    "# forward fill nan values\n",
    "df = df.ffill()\n",
    "\n",
    "# Create log returns\n",
    "rt = np.log(df).diff().dropna()\n",
    "\n",
    "df.plot(linewidth=0.7)\n"
   ]
  },
  {
   "cell_type": "code",
   "execution_count": null,
   "metadata": {},
   "outputs": [],
   "source": [
    "order = 10\n",
    "\n",
    "# Fit VAR model\n",
    "model = VAR(df)\n",
    "results = model.fit(order)\n",
    "display(results.summary())"
   ]
  },
  {
   "cell_type": "markdown",
   "metadata": {},
   "source": [
    "## Impulse Response Analysis\n",
    "\n",
    "Impulse Response Analysis is used to understand how a variable in a multivariate system responds over time to shocks (or impulses) in each variable, including itself.\n",
    "\n",
    "$$\n",
    "\\mathbf{Y}_t=\\mu+\\sum_{i=0}^\\infty\\mathbf{\\Phi}_iu_{t-i}\n",
    "$$\n",
    "\n",
    "Note the plot function is flexible and can plot only variables of interest if so desired:\n",
    "\n",
    "```python\n",
    "irf.plot(impulse='BZ=F')\n",
    "```"
   ]
  },
  {
   "cell_type": "code",
   "execution_count": null,
   "metadata": {},
   "outputs": [],
   "source": [
    "irf = results.irf(20)\n",
    "fig_1 = irf.plot(orth=False)\n",
    "fig_2 =irf.plot_cum_effects(orth=False);\n",
    "\n",
    "fig_1.tight_layout(pad=0.7)\n",
    "fig_2.tight_layout(pad=0.7)\n",
    "\n",
    "# set minutes as xlabel\n",
    "fig_1.axes[2].set_xlabel('Minutes')\n",
    "fig_2.axes[2].set_xlabel('Minutes')\n",
    "fig_1.axes[3].set_xlabel('Minutes')\n",
    "fig_2.axes[3].set_xlabel('Minutes')"
   ]
  },
  {
   "cell_type": "markdown",
   "metadata": {},
   "source": [
    "## Forecast Error Variance Decomposition (FEVD)\n",
    "\n",
    "\n",
    "Forecast Error Variance Decomposition (FEVD) provides an understanding of how much of the forecast error variance of each variable in the multivariate system can be attributed to shocks (or innovations) to each variable in the system. In simpler terms, it helps to decipher the extent to which future values of a variable can be explained by its own shocks versus shocks to other variables in the model.\n",
    "\n",
    "$$\n",
    "\\omega_{jk,i}(H)=\\frac{\\sum_{h=0}^{H-1}(e_j'\\Theta_ie_h)^2}{\\sum_{h=0}^{H-1}e_j'\\Phi_i\\Sigma_u\\Phi_i'e_h}\n",
    "$$\n",
    "\n",
    "\n",
    "**Interpretation:**\n",
    "\n",
    "If a large proportion of the forecast error variance of a variable is attributed to its own shocks, the variable is said to have a strong internal dynamics.\n",
    "Conversely, if a significant portion of the variance is due to shocks to other variables, it suggests that external factors (represented by these other variables) play a major role in influencing the variable.\n",
    "\n",
    "**Usage:**\n",
    "\n",
    "FEVD is particularly useful in policy analysis, economic forecasting, and financial market studies. It helps in understanding the dynamics of economic systems and the interdependencies among different economic variables."
   ]
  },
  {
   "cell_type": "code",
   "execution_count": null,
   "metadata": {},
   "outputs": [],
   "source": [
    "fevd = results.fevd(15)\n",
    "fevd.summary()\n",
    "fig = fevd.plot()\n",
    "fig.tight_layout()\n"
   ]
  },
  {
   "cell_type": "markdown",
   "metadata": {},
   "source": [
    "# Total spillovers\n",
    "\n",
    "The total\n",
    "spillover index measures the contribution of spillovers\n",
    "of volatility shocks across four asset classes to the total\n",
    "forecast error variance.\n",
    "\n",
    "\n",
    "$$\n",
    "S^g(H)=100\\cdot\\frac{1}{N}\\sum_{i,j=1}^N\\omega_{ij,g}(H)\n",
    "$$"
   ]
  },
  {
   "cell_type": "markdown",
   "metadata": {},
   "source": []
  },
  {
   "cell_type": "code",
   "execution_count": null,
   "metadata": {},
   "outputs": [],
   "source": []
  }
 ],
 "metadata": {
  "kernelspec": {
   "display_name": "base",
   "language": "python",
   "name": "python3"
  },
  "language_info": {
   "codemirror_mode": {
    "name": "ipython",
    "version": 3
   },
   "file_extension": ".py",
   "mimetype": "text/x-python",
   "name": "python",
   "nbconvert_exporter": "python",
   "pygments_lexer": "ipython3",
   "version": "3.11.4"
  }
 },
 "nbformat": 4,
 "nbformat_minor": 2
}
