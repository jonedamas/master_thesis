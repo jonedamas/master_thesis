{
 "cells": [
  {
   "cell_type": "code",
   "execution_count": null,
   "metadata": {},
   "outputs": [],
   "source": [
    "import sys\n",
    "import matplotlib.pyplot as plt\n",
    "import warnings\n",
    "warnings.filterwarnings(\"ignore\")\n",
    "\n",
    "from plot_utils import plot_news_frequency\n",
    "\n",
    "# Import main utility functions\n",
    "sys.path.insert(0, r'c:\\Users\\joneh\\master_thesis\\src')\n",
    "from main_utils import *\n",
    "from db_utils import *"
   ]
  },
  {
   "cell_type": "markdown",
   "metadata": {},
   "source": [
    "### News frequency"
   ]
  },
  {
   "cell_type": "code",
   "execution_count": null,
   "metadata": {},
   "outputs": [],
   "source": [
    "df = news_db_load('news_filtered')\n",
    "query_source = (df['source'] + '_' + df['query']).unique()\n",
    "\n",
    "plot_dict = load_json(r'C:\\Users\\joneh\\master_thesis\\src\\plot_dict.json')\n",
    "\n",
    "for i, qs in enumerate(query_source):\n",
    "    tags = qs.split('_')\n",
    "    query_string = 'source == @tags[0] and query == @tags[1]'\n",
    "    info = plot_dict[qs]\n",
    "    fig = plot_news_frequency(\n",
    "        df.query(query_string), \n",
    "        f'{info[\"fullname\"]} news data frequency',\n",
    "        color=info['color'],\n",
    "    )\n",
    "    fig.savefig(f'images/{qs}_news_freq.png', bbox_inches='tight')"
   ]
  },
  {
   "cell_type": "markdown",
   "metadata": {},
   "source": [
    "### Headline analysis"
   ]
  },
  {
   "cell_type": "code",
   "execution_count": null,
   "metadata": {},
   "outputs": [],
   "source": [
    "\n",
    "for i, qs in enumerate(query_source):\n",
    "    tags = qs.split('_')\n",
    "    query_string = 'source == @tags[0] and query == @tags[1]'\n",
    "    info = plot_dict[qs]\n",
    "\n",
    "    df_query = df.query(query_string)\n",
    "\n",
    "    word_counts =df_query['headline'].str.split().str.len()\n",
    "\n",
    "    # remove counts with over 100 words\n",
    "    word_counts = word_counts[word_counts < 75]\n",
    "\n",
    "    fig, ax = plt.subplots()\n",
    "\n",
    "    word_counts.plot(\n",
    "        kind='hist', \n",
    "        bins=28, \n",
    "        color=info['color'],\n",
    "        edgecolor='black',\n",
    "        figsize=(7, 5),\n",
    "        ax=ax,\n",
    "        )\n",
    "    \n",
    "    ax.set_title(f'{info[\"fullname\"]} news data word count distribution', fontsize=14)\n",
    "    ax.set_xlabel('Word count', fontsize=13)\n",
    "    ax.set_ylabel('Frequency', fontsize=13)\n",
    "    ax.grid(alpha=0.3)\n",
    "    ax.set_axisbelow(True)\n",
    "\n",
    "    fig.figure.savefig(f'images/{qs}_news_word_count.png', bbox_inches='tight', dpi=150)\n"
   ]
  }
 ],
 "metadata": {
  "kernelspec": {
   "display_name": "base",
   "language": "python",
   "name": "python3"
  },
  "language_info": {
   "codemirror_mode": {
    "name": "ipython",
    "version": 3
   },
   "file_extension": ".py",
   "mimetype": "text/x-python",
   "name": "python",
   "nbconvert_exporter": "python",
   "pygments_lexer": "ipython3",
   "version": "3.11.4"
  }
 },
 "nbformat": 4,
 "nbformat_minor": 2
}
